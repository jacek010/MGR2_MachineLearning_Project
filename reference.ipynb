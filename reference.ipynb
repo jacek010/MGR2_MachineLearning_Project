{
 "cells": [
  {
   "cell_type": "markdown",
   "metadata": {},
   "source": [
    "# Airline Delay and Cancellation Data, 2018"
   ]
  },
  {
   "cell_type": "markdown",
   "metadata": {},
   "source": [
    "### Setup"
   ]
  },
  {
   "cell_type": "code",
   "execution_count": 75,
   "id": "b8572cdc-7349-4312-b53c-88a26b481f65",
   "metadata": {},
   "outputs": [],
   "source": [
    "# Data\n",
    "import math\n",
    "import nbformat\n",
    "import numpy as np\n",
    "import pandas as pd\n",
    "from tqdm import tqdm\n",
    "\n",
    "# Data Visualization\n",
    "import plotly.express as px\n",
    "import matplotlib.pyplot as plt\n",
    "\n",
    "# Data Processing\n",
    "from sklearn.pipeline import make_pipeline\n",
    "from sklearn.preprocessing import StandardScaler\n",
    "from sklearn.preprocessing import PolynomialFeatures\n",
    "from sklearn.model_selection import train_test_split\n",
    "\n",
    "# Linear Models\n",
    "from rulefit import RuleFit\n",
    "from sklearn.naive_bayes import GaussianNB\n",
    "from sklearn.linear_model import RidgeCV, RidgeClassifierCV\n",
    "from sklearn.tree import DecisionTreeRegressor, DecisionTreeClassifier\n",
    "from sklearn.linear_model import LinearRegression, LogisticRegression\n",
    "from sklearn.neighbors import KNeighborsRegressor, KNeighborsClassifier\n",
    "from sklearn.ensemble import RandomForestRegressor, RandomForestClassifier, GradientBoostingClassifier, GradientBoostingRegressor\n",
    "\n",
    "# Model Metrics\n",
    "from sklearn.metrics import r2_score as R2\n",
    "from sklearn.metrics import mean_squared_error as MSE\n",
    "from sklearn.metrics import precision_score, recall_score, f1_score, roc_auc_score, matthews_corrcoef\n",
    "\n",
    "# Model Interpretations\n",
    "from interpret import show\n",
    "import statsmodels.api as sm\n",
    "from interpret.perf import ROC\n",
    "import matplotlib.pyplot as plt\n",
    "from sklearn.tree import plot_tree, export_text\n",
    "from interpret.glassbox import ExplainableBoostingClassifier\n",
    "\n",
    "# Dimensionality Reduction Methods\n",
    "from sklearn.manifold import TSNE\n",
    "from sklearn.decomposition import PCA"
   ]
  },
  {
   "cell_type": "code",
   "execution_count": 76,
   "metadata": {},
   "outputs": [],
   "source": [
    "# Data file path\n",
    "# file_path = \"./Datasets/FlightDelays.csv\"\n",
    "file_path = \"llm_prepared_datasets/2018_llm_gemma2_3000_new_explains_export.csv\"\n",
    "\n",
    "# Reproducibility\n",
    "SEED = 42\n",
    "np.random.seed(SEED)"
   ]
  },
  {
   "cell_type": "markdown",
   "metadata": {},
   "source": [
    "## Problem at hand\n",
    "\n",
    "Our task is to generate predictions for flights' delays and cancellaction rates based using ML algorithms based on accurate and informative data about those flights."
   ]
  },
  {
   "cell_type": "markdown",
   "metadata": {},
   "source": [
    "### Analyzing flight delays dataset"
   ]
  },
  {
   "cell_type": "code",
   "execution_count": 77,
   "metadata": {},
   "outputs": [
    {
     "data": {
      "text/html": [
       "<div>\n",
       "<style scoped>\n",
       "    .dataframe tbody tr th:only-of-type {\n",
       "        vertical-align: middle;\n",
       "    }\n",
       "\n",
       "    .dataframe tbody tr th {\n",
       "        vertical-align: top;\n",
       "    }\n",
       "\n",
       "    .dataframe thead th {\n",
       "        text-align: right;\n",
       "    }\n",
       "</style>\n",
       "<table border=\"1\" class=\"dataframe\">\n",
       "  <thead>\n",
       "    <tr style=\"text-align: right;\">\n",
       "      <th></th>\n",
       "      <th>FL_DATE</th>\n",
       "      <th>OP_CARRIER</th>\n",
       "      <th>OP_CARRIER_FL_NUM</th>\n",
       "      <th>ORIGIN</th>\n",
       "      <th>DEST</th>\n",
       "      <th>CRS_DEP_TIME</th>\n",
       "      <th>DEP_TIME</th>\n",
       "      <th>DEP_DELAY</th>\n",
       "      <th>TAXI_OUT</th>\n",
       "      <th>WHEELS_OFF</th>\n",
       "      <th>...</th>\n",
       "      <th>ACTUAL_ELAPSED_TIME</th>\n",
       "      <th>AIR_TIME</th>\n",
       "      <th>DISTANCE</th>\n",
       "      <th>CARRIER_DELAY</th>\n",
       "      <th>WEATHER_DELAY</th>\n",
       "      <th>NAS_DELAY</th>\n",
       "      <th>SECURITY_DELAY</th>\n",
       "      <th>LATE_AIRCRAFT_DELAY</th>\n",
       "      <th>llm_delay_minutes</th>\n",
       "      <th>llm_delay_explain</th>\n",
       "    </tr>\n",
       "  </thead>\n",
       "  <tbody>\n",
       "    <tr>\n",
       "      <th>0</th>\n",
       "      <td>2018-04-26</td>\n",
       "      <td>AA</td>\n",
       "      <td>301</td>\n",
       "      <td>DFW</td>\n",
       "      <td>SLC</td>\n",
       "      <td>2225</td>\n",
       "      <td>2217.0</td>\n",
       "      <td>-8.0</td>\n",
       "      <td>19.0</td>\n",
       "      <td>2236.0</td>\n",
       "      <td>...</td>\n",
       "      <td>174.0</td>\n",
       "      <td>148.0</td>\n",
       "      <td>989.0</td>\n",
       "      <td>NaN</td>\n",
       "      <td>NaN</td>\n",
       "      <td>NaN</td>\n",
       "      <td>NaN</td>\n",
       "      <td>NaN</td>\n",
       "      <td>30</td>\n",
       "      <td>Given the late scheduled departure time and th...</td>\n",
       "    </tr>\n",
       "    <tr>\n",
       "      <th>1</th>\n",
       "      <td>2018-11-14</td>\n",
       "      <td>OO</td>\n",
       "      <td>4035</td>\n",
       "      <td>DTW</td>\n",
       "      <td>LAN</td>\n",
       "      <td>1230</td>\n",
       "      <td>1242.0</td>\n",
       "      <td>12.0</td>\n",
       "      <td>17.0</td>\n",
       "      <td>1259.0</td>\n",
       "      <td>...</td>\n",
       "      <td>40.0</td>\n",
       "      <td>20.0</td>\n",
       "      <td>74.0</td>\n",
       "      <td>NaN</td>\n",
       "      <td>NaN</td>\n",
       "      <td>NaN</td>\n",
       "      <td>NaN</td>\n",
       "      <td>NaN</td>\n",
       "      <td>15</td>\n",
       "      <td>The flight originates from Detroit Metropolita...</td>\n",
       "    </tr>\n",
       "    <tr>\n",
       "      <th>2</th>\n",
       "      <td>2018-06-04</td>\n",
       "      <td>DL</td>\n",
       "      <td>1733</td>\n",
       "      <td>ECP</td>\n",
       "      <td>ATL</td>\n",
       "      <td>1205</td>\n",
       "      <td>1213.0</td>\n",
       "      <td>8.0</td>\n",
       "      <td>12.0</td>\n",
       "      <td>1225.0</td>\n",
       "      <td>...</td>\n",
       "      <td>64.0</td>\n",
       "      <td>42.0</td>\n",
       "      <td>240.0</td>\n",
       "      <td>NaN</td>\n",
       "      <td>NaN</td>\n",
       "      <td>NaN</td>\n",
       "      <td>NaN</td>\n",
       "      <td>NaN</td>\n",
       "      <td>60</td>\n",
       "      <td>This flight is a relatively short distance and...</td>\n",
       "    </tr>\n",
       "    <tr>\n",
       "      <th>3</th>\n",
       "      <td>2018-03-03</td>\n",
       "      <td>WN</td>\n",
       "      <td>3634</td>\n",
       "      <td>PHX</td>\n",
       "      <td>DSM</td>\n",
       "      <td>1800</td>\n",
       "      <td>1813.0</td>\n",
       "      <td>13.0</td>\n",
       "      <td>8.0</td>\n",
       "      <td>1821.0</td>\n",
       "      <td>...</td>\n",
       "      <td>142.0</td>\n",
       "      <td>131.0</td>\n",
       "      <td>1150.0</td>\n",
       "      <td>NaN</td>\n",
       "      <td>NaN</td>\n",
       "      <td>NaN</td>\n",
       "      <td>NaN</td>\n",
       "      <td>NaN</td>\n",
       "      <td>30</td>\n",
       "      <td>This flight is a fairly long-haul route within...</td>\n",
       "    </tr>\n",
       "    <tr>\n",
       "      <th>4</th>\n",
       "      <td>2018-10-19</td>\n",
       "      <td>OO</td>\n",
       "      <td>3665</td>\n",
       "      <td>BOS</td>\n",
       "      <td>BNA</td>\n",
       "      <td>835</td>\n",
       "      <td>825.0</td>\n",
       "      <td>-10.0</td>\n",
       "      <td>23.0</td>\n",
       "      <td>848.0</td>\n",
       "      <td>...</td>\n",
       "      <td>182.0</td>\n",
       "      <td>136.0</td>\n",
       "      <td>942.0</td>\n",
       "      <td>NaN</td>\n",
       "      <td>NaN</td>\n",
       "      <td>NaN</td>\n",
       "      <td>NaN</td>\n",
       "      <td>NaN</td>\n",
       "      <td>60</td>\n",
       "      <td>This flight is a relatively long-haul flight w...</td>\n",
       "    </tr>\n",
       "  </tbody>\n",
       "</table>\n",
       "<p>5 rows × 29 columns</p>\n",
       "</div>"
      ],
      "text/plain": [
       "      FL_DATE OP_CARRIER  OP_CARRIER_FL_NUM ORIGIN DEST  CRS_DEP_TIME  \\\n",
       "0  2018-04-26         AA                301    DFW  SLC          2225   \n",
       "1  2018-11-14         OO               4035    DTW  LAN          1230   \n",
       "2  2018-06-04         DL               1733    ECP  ATL          1205   \n",
       "3  2018-03-03         WN               3634    PHX  DSM          1800   \n",
       "4  2018-10-19         OO               3665    BOS  BNA           835   \n",
       "\n",
       "   DEP_TIME  DEP_DELAY  TAXI_OUT  WHEELS_OFF  ...  ACTUAL_ELAPSED_TIME  \\\n",
       "0    2217.0       -8.0      19.0      2236.0  ...                174.0   \n",
       "1    1242.0       12.0      17.0      1259.0  ...                 40.0   \n",
       "2    1213.0        8.0      12.0      1225.0  ...                 64.0   \n",
       "3    1813.0       13.0       8.0      1821.0  ...                142.0   \n",
       "4     825.0      -10.0      23.0       848.0  ...                182.0   \n",
       "\n",
       "   AIR_TIME  DISTANCE  CARRIER_DELAY  WEATHER_DELAY  NAS_DELAY SECURITY_DELAY  \\\n",
       "0     148.0     989.0            NaN            NaN        NaN            NaN   \n",
       "1      20.0      74.0            NaN            NaN        NaN            NaN   \n",
       "2      42.0     240.0            NaN            NaN        NaN            NaN   \n",
       "3     131.0    1150.0            NaN            NaN        NaN            NaN   \n",
       "4     136.0     942.0            NaN            NaN        NaN            NaN   \n",
       "\n",
       "   LATE_AIRCRAFT_DELAY  llm_delay_minutes  \\\n",
       "0                  NaN                 30   \n",
       "1                  NaN                 15   \n",
       "2                  NaN                 60   \n",
       "3                  NaN                 30   \n",
       "4                  NaN                 60   \n",
       "\n",
       "                                   llm_delay_explain  \n",
       "0  Given the late scheduled departure time and th...  \n",
       "1  The flight originates from Detroit Metropolita...  \n",
       "2  This flight is a relatively short distance and...  \n",
       "3  This flight is a fairly long-haul route within...  \n",
       "4  This flight is a relatively long-haul flight w...  \n",
       "\n",
       "[5 rows x 29 columns]"
      ]
     },
     "execution_count": 77,
     "metadata": {},
     "output_type": "execute_result"
    }
   ],
   "source": [
    "# Load data as a data frame\n",
    "df = pd.read_csv(file_path)\n",
    "df.drop(columns=['Unnamed: 27'], inplace=True)\n",
    "\n",
    "# Quick look at the data frame\n",
    "df.head()"
   ]
  },
  {
   "cell_type": "markdown",
   "metadata": {},
   "source": [
    "#### How many samples and features are the in dataset?"
   ]
  },
  {
   "cell_type": "code",
   "execution_count": 78,
   "metadata": {},
   "outputs": [
    {
     "name": "stdout",
     "output_type": "stream",
     "text": [
      "Number of samples: 3000\n",
      "Number of features: 29\n"
     ]
    }
   ],
   "source": [
    "print(f\"Number of samples: {df.shape[0]}\")\n",
    "print(f\"Number of features: {df.shape[1]}\")"
   ]
  },
  {
   "cell_type": "markdown",
   "metadata": {},
   "source": [
    "#### How many are there quantative and qualitive features?"
   ]
  },
  {
   "cell_type": "code",
   "execution_count": 79,
   "metadata": {},
   "outputs": [
    {
     "data": {
      "text/html": [
       "<div>\n",
       "<style scoped>\n",
       "    .dataframe tbody tr th:only-of-type {\n",
       "        vertical-align: middle;\n",
       "    }\n",
       "\n",
       "    .dataframe tbody tr th {\n",
       "        vertical-align: top;\n",
       "    }\n",
       "\n",
       "    .dataframe thead th {\n",
       "        text-align: right;\n",
       "    }\n",
       "</style>\n",
       "<table border=\"1\" class=\"dataframe\">\n",
       "  <thead>\n",
       "    <tr style=\"text-align: right;\">\n",
       "      <th></th>\n",
       "      <th>OP_CARRIER_FL_NUM</th>\n",
       "      <th>CRS_DEP_TIME</th>\n",
       "      <th>DEP_TIME</th>\n",
       "      <th>DEP_DELAY</th>\n",
       "      <th>TAXI_OUT</th>\n",
       "      <th>WHEELS_OFF</th>\n",
       "      <th>WHEELS_ON</th>\n",
       "      <th>TAXI_IN</th>\n",
       "      <th>CRS_ARR_TIME</th>\n",
       "      <th>ARR_TIME</th>\n",
       "      <th>...</th>\n",
       "      <th>DIVERTED</th>\n",
       "      <th>CRS_ELAPSED_TIME</th>\n",
       "      <th>ACTUAL_ELAPSED_TIME</th>\n",
       "      <th>AIR_TIME</th>\n",
       "      <th>DISTANCE</th>\n",
       "      <th>CARRIER_DELAY</th>\n",
       "      <th>WEATHER_DELAY</th>\n",
       "      <th>NAS_DELAY</th>\n",
       "      <th>SECURITY_DELAY</th>\n",
       "      <th>LATE_AIRCRAFT_DELAY</th>\n",
       "    </tr>\n",
       "  </thead>\n",
       "  <tbody>\n",
       "    <tr>\n",
       "      <th>0</th>\n",
       "      <td>301</td>\n",
       "      <td>2225</td>\n",
       "      <td>2217.0</td>\n",
       "      <td>-8.0</td>\n",
       "      <td>19.0</td>\n",
       "      <td>2236.0</td>\n",
       "      <td>4.0</td>\n",
       "      <td>7.0</td>\n",
       "      <td>12</td>\n",
       "      <td>11.0</td>\n",
       "      <td>...</td>\n",
       "      <td>0.0</td>\n",
       "      <td>167.0</td>\n",
       "      <td>174.0</td>\n",
       "      <td>148.0</td>\n",
       "      <td>989.0</td>\n",
       "      <td>NaN</td>\n",
       "      <td>NaN</td>\n",
       "      <td>NaN</td>\n",
       "      <td>NaN</td>\n",
       "      <td>NaN</td>\n",
       "    </tr>\n",
       "    <tr>\n",
       "      <th>1</th>\n",
       "      <td>4035</td>\n",
       "      <td>1230</td>\n",
       "      <td>1242.0</td>\n",
       "      <td>12.0</td>\n",
       "      <td>17.0</td>\n",
       "      <td>1259.0</td>\n",
       "      <td>1319.0</td>\n",
       "      <td>3.0</td>\n",
       "      <td>1322</td>\n",
       "      <td>1322.0</td>\n",
       "      <td>...</td>\n",
       "      <td>0.0</td>\n",
       "      <td>52.0</td>\n",
       "      <td>40.0</td>\n",
       "      <td>20.0</td>\n",
       "      <td>74.0</td>\n",
       "      <td>NaN</td>\n",
       "      <td>NaN</td>\n",
       "      <td>NaN</td>\n",
       "      <td>NaN</td>\n",
       "      <td>NaN</td>\n",
       "    </tr>\n",
       "    <tr>\n",
       "      <th>2</th>\n",
       "      <td>1733</td>\n",
       "      <td>1205</td>\n",
       "      <td>1213.0</td>\n",
       "      <td>8.0</td>\n",
       "      <td>12.0</td>\n",
       "      <td>1225.0</td>\n",
       "      <td>1407.0</td>\n",
       "      <td>10.0</td>\n",
       "      <td>1420</td>\n",
       "      <td>1417.0</td>\n",
       "      <td>...</td>\n",
       "      <td>0.0</td>\n",
       "      <td>75.0</td>\n",
       "      <td>64.0</td>\n",
       "      <td>42.0</td>\n",
       "      <td>240.0</td>\n",
       "      <td>NaN</td>\n",
       "      <td>NaN</td>\n",
       "      <td>NaN</td>\n",
       "      <td>NaN</td>\n",
       "      <td>NaN</td>\n",
       "    </tr>\n",
       "    <tr>\n",
       "      <th>3</th>\n",
       "      <td>3634</td>\n",
       "      <td>1800</td>\n",
       "      <td>1813.0</td>\n",
       "      <td>13.0</td>\n",
       "      <td>8.0</td>\n",
       "      <td>1821.0</td>\n",
       "      <td>2132.0</td>\n",
       "      <td>3.0</td>\n",
       "      <td>2140</td>\n",
       "      <td>2135.0</td>\n",
       "      <td>...</td>\n",
       "      <td>0.0</td>\n",
       "      <td>160.0</td>\n",
       "      <td>142.0</td>\n",
       "      <td>131.0</td>\n",
       "      <td>1150.0</td>\n",
       "      <td>NaN</td>\n",
       "      <td>NaN</td>\n",
       "      <td>NaN</td>\n",
       "      <td>NaN</td>\n",
       "      <td>NaN</td>\n",
       "    </tr>\n",
       "    <tr>\n",
       "      <th>4</th>\n",
       "      <td>3665</td>\n",
       "      <td>835</td>\n",
       "      <td>825.0</td>\n",
       "      <td>-10.0</td>\n",
       "      <td>23.0</td>\n",
       "      <td>848.0</td>\n",
       "      <td>1004.0</td>\n",
       "      <td>23.0</td>\n",
       "      <td>1028</td>\n",
       "      <td>1027.0</td>\n",
       "      <td>...</td>\n",
       "      <td>0.0</td>\n",
       "      <td>173.0</td>\n",
       "      <td>182.0</td>\n",
       "      <td>136.0</td>\n",
       "      <td>942.0</td>\n",
       "      <td>NaN</td>\n",
       "      <td>NaN</td>\n",
       "      <td>NaN</td>\n",
       "      <td>NaN</td>\n",
       "      <td>NaN</td>\n",
       "    </tr>\n",
       "    <tr>\n",
       "      <th>...</th>\n",
       "      <td>...</td>\n",
       "      <td>...</td>\n",
       "      <td>...</td>\n",
       "      <td>...</td>\n",
       "      <td>...</td>\n",
       "      <td>...</td>\n",
       "      <td>...</td>\n",
       "      <td>...</td>\n",
       "      <td>...</td>\n",
       "      <td>...</td>\n",
       "      <td>...</td>\n",
       "      <td>...</td>\n",
       "      <td>...</td>\n",
       "      <td>...</td>\n",
       "      <td>...</td>\n",
       "      <td>...</td>\n",
       "      <td>...</td>\n",
       "      <td>...</td>\n",
       "      <td>...</td>\n",
       "      <td>...</td>\n",
       "      <td>...</td>\n",
       "    </tr>\n",
       "    <tr>\n",
       "      <th>2995</th>\n",
       "      <td>2165</td>\n",
       "      <td>920</td>\n",
       "      <td>918.0</td>\n",
       "      <td>-2.0</td>\n",
       "      <td>11.0</td>\n",
       "      <td>929.0</td>\n",
       "      <td>1026.0</td>\n",
       "      <td>6.0</td>\n",
       "      <td>1055</td>\n",
       "      <td>1032.0</td>\n",
       "      <td>...</td>\n",
       "      <td>0.0</td>\n",
       "      <td>95.0</td>\n",
       "      <td>74.0</td>\n",
       "      <td>57.0</td>\n",
       "      <td>370.0</td>\n",
       "      <td>NaN</td>\n",
       "      <td>NaN</td>\n",
       "      <td>NaN</td>\n",
       "      <td>NaN</td>\n",
       "      <td>NaN</td>\n",
       "    </tr>\n",
       "    <tr>\n",
       "      <th>2996</th>\n",
       "      <td>4001</td>\n",
       "      <td>905</td>\n",
       "      <td>902.0</td>\n",
       "      <td>-3.0</td>\n",
       "      <td>24.0</td>\n",
       "      <td>926.0</td>\n",
       "      <td>1038.0</td>\n",
       "      <td>9.0</td>\n",
       "      <td>1045</td>\n",
       "      <td>1047.0</td>\n",
       "      <td>...</td>\n",
       "      <td>0.0</td>\n",
       "      <td>100.0</td>\n",
       "      <td>105.0</td>\n",
       "      <td>72.0</td>\n",
       "      <td>419.0</td>\n",
       "      <td>NaN</td>\n",
       "      <td>NaN</td>\n",
       "      <td>NaN</td>\n",
       "      <td>NaN</td>\n",
       "      <td>NaN</td>\n",
       "    </tr>\n",
       "    <tr>\n",
       "      <th>2997</th>\n",
       "      <td>350</td>\n",
       "      <td>2122</td>\n",
       "      <td>2331.0</td>\n",
       "      <td>129.0</td>\n",
       "      <td>13.0</td>\n",
       "      <td>2344.0</td>\n",
       "      <td>49.0</td>\n",
       "      <td>4.0</td>\n",
       "      <td>2242</td>\n",
       "      <td>53.0</td>\n",
       "      <td>...</td>\n",
       "      <td>0.0</td>\n",
       "      <td>80.0</td>\n",
       "      <td>82.0</td>\n",
       "      <td>65.0</td>\n",
       "      <td>466.0</td>\n",
       "      <td>1.0</td>\n",
       "      <td>0.0</td>\n",
       "      <td>130.0</td>\n",
       "      <td>0.0</td>\n",
       "      <td>0.0</td>\n",
       "    </tr>\n",
       "    <tr>\n",
       "      <th>2998</th>\n",
       "      <td>377</td>\n",
       "      <td>1600</td>\n",
       "      <td>1600.0</td>\n",
       "      <td>0.0</td>\n",
       "      <td>7.0</td>\n",
       "      <td>1607.0</td>\n",
       "      <td>1656.0</td>\n",
       "      <td>4.0</td>\n",
       "      <td>1705</td>\n",
       "      <td>1700.0</td>\n",
       "      <td>...</td>\n",
       "      <td>0.0</td>\n",
       "      <td>65.0</td>\n",
       "      <td>60.0</td>\n",
       "      <td>49.0</td>\n",
       "      <td>328.0</td>\n",
       "      <td>NaN</td>\n",
       "      <td>NaN</td>\n",
       "      <td>NaN</td>\n",
       "      <td>NaN</td>\n",
       "      <td>NaN</td>\n",
       "    </tr>\n",
       "    <tr>\n",
       "      <th>2999</th>\n",
       "      <td>1633</td>\n",
       "      <td>1924</td>\n",
       "      <td>2058.0</td>\n",
       "      <td>94.0</td>\n",
       "      <td>12.0</td>\n",
       "      <td>2110.0</td>\n",
       "      <td>2323.0</td>\n",
       "      <td>4.0</td>\n",
       "      <td>2147</td>\n",
       "      <td>2327.0</td>\n",
       "      <td>...</td>\n",
       "      <td>0.0</td>\n",
       "      <td>143.0</td>\n",
       "      <td>149.0</td>\n",
       "      <td>133.0</td>\n",
       "      <td>999.0</td>\n",
       "      <td>0.0</td>\n",
       "      <td>0.0</td>\n",
       "      <td>6.0</td>\n",
       "      <td>0.0</td>\n",
       "      <td>94.0</td>\n",
       "    </tr>\n",
       "  </tbody>\n",
       "</table>\n",
       "<p>3000 rows × 22 columns</p>\n",
       "</div>"
      ],
      "text/plain": [
       "      OP_CARRIER_FL_NUM  CRS_DEP_TIME  DEP_TIME  DEP_DELAY  TAXI_OUT  \\\n",
       "0                   301          2225    2217.0       -8.0      19.0   \n",
       "1                  4035          1230    1242.0       12.0      17.0   \n",
       "2                  1733          1205    1213.0        8.0      12.0   \n",
       "3                  3634          1800    1813.0       13.0       8.0   \n",
       "4                  3665           835     825.0      -10.0      23.0   \n",
       "...                 ...           ...       ...        ...       ...   \n",
       "2995               2165           920     918.0       -2.0      11.0   \n",
       "2996               4001           905     902.0       -3.0      24.0   \n",
       "2997                350          2122    2331.0      129.0      13.0   \n",
       "2998                377          1600    1600.0        0.0       7.0   \n",
       "2999               1633          1924    2058.0       94.0      12.0   \n",
       "\n",
       "      WHEELS_OFF  WHEELS_ON  TAXI_IN  CRS_ARR_TIME  ARR_TIME  ...  DIVERTED  \\\n",
       "0         2236.0        4.0      7.0            12      11.0  ...       0.0   \n",
       "1         1259.0     1319.0      3.0          1322    1322.0  ...       0.0   \n",
       "2         1225.0     1407.0     10.0          1420    1417.0  ...       0.0   \n",
       "3         1821.0     2132.0      3.0          2140    2135.0  ...       0.0   \n",
       "4          848.0     1004.0     23.0          1028    1027.0  ...       0.0   \n",
       "...          ...        ...      ...           ...       ...  ...       ...   \n",
       "2995       929.0     1026.0      6.0          1055    1032.0  ...       0.0   \n",
       "2996       926.0     1038.0      9.0          1045    1047.0  ...       0.0   \n",
       "2997      2344.0       49.0      4.0          2242      53.0  ...       0.0   \n",
       "2998      1607.0     1656.0      4.0          1705    1700.0  ...       0.0   \n",
       "2999      2110.0     2323.0      4.0          2147    2327.0  ...       0.0   \n",
       "\n",
       "      CRS_ELAPSED_TIME  ACTUAL_ELAPSED_TIME  AIR_TIME  DISTANCE  \\\n",
       "0                167.0                174.0     148.0     989.0   \n",
       "1                 52.0                 40.0      20.0      74.0   \n",
       "2                 75.0                 64.0      42.0     240.0   \n",
       "3                160.0                142.0     131.0    1150.0   \n",
       "4                173.0                182.0     136.0     942.0   \n",
       "...                ...                  ...       ...       ...   \n",
       "2995              95.0                 74.0      57.0     370.0   \n",
       "2996             100.0                105.0      72.0     419.0   \n",
       "2997              80.0                 82.0      65.0     466.0   \n",
       "2998              65.0                 60.0      49.0     328.0   \n",
       "2999             143.0                149.0     133.0     999.0   \n",
       "\n",
       "      CARRIER_DELAY  WEATHER_DELAY  NAS_DELAY  SECURITY_DELAY  \\\n",
       "0               NaN            NaN        NaN             NaN   \n",
       "1               NaN            NaN        NaN             NaN   \n",
       "2               NaN            NaN        NaN             NaN   \n",
       "3               NaN            NaN        NaN             NaN   \n",
       "4               NaN            NaN        NaN             NaN   \n",
       "...             ...            ...        ...             ...   \n",
       "2995            NaN            NaN        NaN             NaN   \n",
       "2996            NaN            NaN        NaN             NaN   \n",
       "2997            1.0            0.0      130.0             0.0   \n",
       "2998            NaN            NaN        NaN             NaN   \n",
       "2999            0.0            0.0        6.0             0.0   \n",
       "\n",
       "      LATE_AIRCRAFT_DELAY  \n",
       "0                     NaN  \n",
       "1                     NaN  \n",
       "2                     NaN  \n",
       "3                     NaN  \n",
       "4                     NaN  \n",
       "...                   ...  \n",
       "2995                  NaN  \n",
       "2996                  NaN  \n",
       "2997                  0.0  \n",
       "2998                  NaN  \n",
       "2999                 94.0  \n",
       "\n",
       "[3000 rows x 22 columns]"
      ]
     },
     "execution_count": 79,
     "metadata": {},
     "output_type": "execute_result"
    }
   ],
   "source": [
    "df_numeric = df.select_dtypes(include='number')\n",
    "df_numeric"
   ]
  },
  {
   "cell_type": "markdown",
   "metadata": {},
   "source": [
    "#### What features are informative?"
   ]
  },
  {
   "cell_type": "code",
   "execution_count": 80,
   "metadata": {},
   "outputs": [
    {
     "data": {
      "text/plain": [
       "FL_DATE                 364\n",
       "OP_CARRIER               18\n",
       "OP_CARRIER_FL_NUM      2269\n",
       "ORIGIN                  232\n",
       "DEST                    225\n",
       "CRS_DEP_TIME            776\n",
       "DEP_TIME               1030\n",
       "DEP_DELAY               186\n",
       "TAXI_OUT                 70\n",
       "WHEELS_OFF             1029\n",
       "WHEELS_ON              1043\n",
       "TAXI_IN                  49\n",
       "CRS_ARR_TIME            978\n",
       "ARR_TIME               1070\n",
       "ARR_DELAY               208\n",
       "CANCELLED                 2\n",
       "CANCELLATION_CODE         3\n",
       "DIVERTED                  2\n",
       "CRS_ELAPSED_TIME        340\n",
       "ACTUAL_ELAPSED_TIME     337\n",
       "AIR_TIME                328\n",
       "DISTANCE                946\n",
       "CARRIER_DELAY            93\n",
       "WEATHER_DELAY            24\n",
       "NAS_DELAY                78\n",
       "SECURITY_DELAY            1\n",
       "LATE_AIRCRAFT_DELAY     113\n",
       "llm_delay_minutes        79\n",
       "llm_delay_explain      3000\n",
       "dtype: int64"
      ]
     },
     "execution_count": 80,
     "metadata": {},
     "output_type": "execute_result"
    }
   ],
   "source": [
    "df.nunique()"
   ]
  },
  {
   "cell_type": "code",
   "execution_count": 81,
   "metadata": {},
   "outputs": [
    {
     "data": {
      "text/plain": [
       "OP_CARRIER_FL_NUM       0.714233\n",
       "CRS_DEP_TIME            0.360327\n",
       "DEP_TIME                0.367661\n",
       "DEP_DELAY               3.996253\n",
       "TAXI_OUT                0.569287\n",
       "WHEELS_OFF              0.362685\n",
       "WHEELS_ON               0.352316\n",
       "TAXI_IN                 0.814958\n",
       "CRS_ARR_TIME            0.339536\n",
       "ARR_TIME                0.354226\n",
       "ARR_DELAY               8.460665\n",
       "CANCELLED               8.603759\n",
       "DIVERTED               31.612230\n",
       "CRS_ELAPSED_TIME        0.515492\n",
       "ACTUAL_ELAPSED_TIME     0.531855\n",
       "AIR_TIME                0.634007\n",
       "DISTANCE                0.747749\n",
       "CARRIER_DELAY           2.791917\n",
       "WEATHER_DELAY           7.652683\n",
       "NAS_DELAY               2.120712\n",
       "SECURITY_DELAY               NaN\n",
       "LATE_AIRCRAFT_DELAY     1.827592\n",
       "dtype: float64"
      ]
     },
     "execution_count": 81,
     "metadata": {},
     "output_type": "execute_result"
    }
   ],
   "source": [
    "df_cv = df.select_dtypes(include='number').std() / df.select_dtypes(include='number').mean()\n",
    "df_cv"
   ]
  },
  {
   "cell_type": "markdown",
   "metadata": {},
   "source": [
    "#### Data cleaning"
   ]
  },
  {
   "cell_type": "markdown",
   "metadata": {},
   "source": [
    "##### Remove bad features from the dataframe"
   ]
  },
  {
   "cell_type": "code",
   "execution_count": 82,
   "metadata": {},
   "outputs": [
    {
     "data": {
      "text/html": [
       "<div>\n",
       "<style scoped>\n",
       "    .dataframe tbody tr th:only-of-type {\n",
       "        vertical-align: middle;\n",
       "    }\n",
       "\n",
       "    .dataframe tbody tr th {\n",
       "        vertical-align: top;\n",
       "    }\n",
       "\n",
       "    .dataframe thead th {\n",
       "        text-align: right;\n",
       "    }\n",
       "</style>\n",
       "<table border=\"1\" class=\"dataframe\">\n",
       "  <thead>\n",
       "    <tr style=\"text-align: right;\">\n",
       "      <th></th>\n",
       "      <th>FL_DATE</th>\n",
       "      <th>OP_CARRIER</th>\n",
       "      <th>OP_CARRIER_FL_NUM</th>\n",
       "      <th>ORIGIN</th>\n",
       "      <th>DEST</th>\n",
       "      <th>DEP_DELAY</th>\n",
       "      <th>TAXI_OUT</th>\n",
       "      <th>TAXI_IN</th>\n",
       "      <th>ARR_DELAY</th>\n",
       "      <th>CANCELLED</th>\n",
       "      <th>...</th>\n",
       "      <th>CRS_ELAPSED_TIME</th>\n",
       "      <th>ACTUAL_ELAPSED_TIME</th>\n",
       "      <th>AIR_TIME</th>\n",
       "      <th>DISTANCE</th>\n",
       "      <th>CARRIER_DELAY</th>\n",
       "      <th>WEATHER_DELAY</th>\n",
       "      <th>NAS_DELAY</th>\n",
       "      <th>LATE_AIRCRAFT_DELAY</th>\n",
       "      <th>llm_delay_minutes</th>\n",
       "      <th>llm_delay_explain</th>\n",
       "    </tr>\n",
       "  </thead>\n",
       "  <tbody>\n",
       "    <tr>\n",
       "      <th>0</th>\n",
       "      <td>2018-04-26</td>\n",
       "      <td>AA</td>\n",
       "      <td>301</td>\n",
       "      <td>DFW</td>\n",
       "      <td>SLC</td>\n",
       "      <td>-8.0</td>\n",
       "      <td>19.0</td>\n",
       "      <td>7.0</td>\n",
       "      <td>-1.0</td>\n",
       "      <td>0.0</td>\n",
       "      <td>...</td>\n",
       "      <td>167.0</td>\n",
       "      <td>174.0</td>\n",
       "      <td>148.0</td>\n",
       "      <td>989.0</td>\n",
       "      <td>NaN</td>\n",
       "      <td>NaN</td>\n",
       "      <td>NaN</td>\n",
       "      <td>NaN</td>\n",
       "      <td>30</td>\n",
       "      <td>Given the late scheduled departure time and th...</td>\n",
       "    </tr>\n",
       "    <tr>\n",
       "      <th>1</th>\n",
       "      <td>2018-11-14</td>\n",
       "      <td>OO</td>\n",
       "      <td>4035</td>\n",
       "      <td>DTW</td>\n",
       "      <td>LAN</td>\n",
       "      <td>12.0</td>\n",
       "      <td>17.0</td>\n",
       "      <td>3.0</td>\n",
       "      <td>0.0</td>\n",
       "      <td>0.0</td>\n",
       "      <td>...</td>\n",
       "      <td>52.0</td>\n",
       "      <td>40.0</td>\n",
       "      <td>20.0</td>\n",
       "      <td>74.0</td>\n",
       "      <td>NaN</td>\n",
       "      <td>NaN</td>\n",
       "      <td>NaN</td>\n",
       "      <td>NaN</td>\n",
       "      <td>15</td>\n",
       "      <td>The flight originates from Detroit Metropolita...</td>\n",
       "    </tr>\n",
       "    <tr>\n",
       "      <th>2</th>\n",
       "      <td>2018-06-04</td>\n",
       "      <td>DL</td>\n",
       "      <td>1733</td>\n",
       "      <td>ECP</td>\n",
       "      <td>ATL</td>\n",
       "      <td>8.0</td>\n",
       "      <td>12.0</td>\n",
       "      <td>10.0</td>\n",
       "      <td>-3.0</td>\n",
       "      <td>0.0</td>\n",
       "      <td>...</td>\n",
       "      <td>75.0</td>\n",
       "      <td>64.0</td>\n",
       "      <td>42.0</td>\n",
       "      <td>240.0</td>\n",
       "      <td>NaN</td>\n",
       "      <td>NaN</td>\n",
       "      <td>NaN</td>\n",
       "      <td>NaN</td>\n",
       "      <td>60</td>\n",
       "      <td>This flight is a relatively short distance and...</td>\n",
       "    </tr>\n",
       "    <tr>\n",
       "      <th>3</th>\n",
       "      <td>2018-03-03</td>\n",
       "      <td>WN</td>\n",
       "      <td>3634</td>\n",
       "      <td>PHX</td>\n",
       "      <td>DSM</td>\n",
       "      <td>13.0</td>\n",
       "      <td>8.0</td>\n",
       "      <td>3.0</td>\n",
       "      <td>-5.0</td>\n",
       "      <td>0.0</td>\n",
       "      <td>...</td>\n",
       "      <td>160.0</td>\n",
       "      <td>142.0</td>\n",
       "      <td>131.0</td>\n",
       "      <td>1150.0</td>\n",
       "      <td>NaN</td>\n",
       "      <td>NaN</td>\n",
       "      <td>NaN</td>\n",
       "      <td>NaN</td>\n",
       "      <td>30</td>\n",
       "      <td>This flight is a fairly long-haul route within...</td>\n",
       "    </tr>\n",
       "    <tr>\n",
       "      <th>4</th>\n",
       "      <td>2018-10-19</td>\n",
       "      <td>OO</td>\n",
       "      <td>3665</td>\n",
       "      <td>BOS</td>\n",
       "      <td>BNA</td>\n",
       "      <td>-10.0</td>\n",
       "      <td>23.0</td>\n",
       "      <td>23.0</td>\n",
       "      <td>-1.0</td>\n",
       "      <td>0.0</td>\n",
       "      <td>...</td>\n",
       "      <td>173.0</td>\n",
       "      <td>182.0</td>\n",
       "      <td>136.0</td>\n",
       "      <td>942.0</td>\n",
       "      <td>NaN</td>\n",
       "      <td>NaN</td>\n",
       "      <td>NaN</td>\n",
       "      <td>NaN</td>\n",
       "      <td>60</td>\n",
       "      <td>This flight is a relatively long-haul flight w...</td>\n",
       "    </tr>\n",
       "    <tr>\n",
       "      <th>...</th>\n",
       "      <td>...</td>\n",
       "      <td>...</td>\n",
       "      <td>...</td>\n",
       "      <td>...</td>\n",
       "      <td>...</td>\n",
       "      <td>...</td>\n",
       "      <td>...</td>\n",
       "      <td>...</td>\n",
       "      <td>...</td>\n",
       "      <td>...</td>\n",
       "      <td>...</td>\n",
       "      <td>...</td>\n",
       "      <td>...</td>\n",
       "      <td>...</td>\n",
       "      <td>...</td>\n",
       "      <td>...</td>\n",
       "      <td>...</td>\n",
       "      <td>...</td>\n",
       "      <td>...</td>\n",
       "      <td>...</td>\n",
       "      <td>...</td>\n",
       "    </tr>\n",
       "    <tr>\n",
       "      <th>2995</th>\n",
       "      <td>2018-06-03</td>\n",
       "      <td>WN</td>\n",
       "      <td>2165</td>\n",
       "      <td>PHX</td>\n",
       "      <td>LAX</td>\n",
       "      <td>-2.0</td>\n",
       "      <td>11.0</td>\n",
       "      <td>6.0</td>\n",
       "      <td>-23.0</td>\n",
       "      <td>0.0</td>\n",
       "      <td>...</td>\n",
       "      <td>95.0</td>\n",
       "      <td>74.0</td>\n",
       "      <td>57.0</td>\n",
       "      <td>370.0</td>\n",
       "      <td>NaN</td>\n",
       "      <td>NaN</td>\n",
       "      <td>NaN</td>\n",
       "      <td>NaN</td>\n",
       "      <td>60</td>\n",
       "      <td>Southwest Airlines (WN) flights are often dela...</td>\n",
       "    </tr>\n",
       "    <tr>\n",
       "      <th>2996</th>\n",
       "      <td>2018-10-24</td>\n",
       "      <td>EV</td>\n",
       "      <td>4001</td>\n",
       "      <td>CLE</td>\n",
       "      <td>LGA</td>\n",
       "      <td>-3.0</td>\n",
       "      <td>24.0</td>\n",
       "      <td>9.0</td>\n",
       "      <td>2.0</td>\n",
       "      <td>0.0</td>\n",
       "      <td>...</td>\n",
       "      <td>100.0</td>\n",
       "      <td>105.0</td>\n",
       "      <td>72.0</td>\n",
       "      <td>419.0</td>\n",
       "      <td>NaN</td>\n",
       "      <td>NaN</td>\n",
       "      <td>NaN</td>\n",
       "      <td>NaN</td>\n",
       "      <td>30</td>\n",
       "      <td>The flight originates from CLE and is schedule...</td>\n",
       "    </tr>\n",
       "    <tr>\n",
       "      <th>2997</th>\n",
       "      <td>2018-07-22</td>\n",
       "      <td>NK</td>\n",
       "      <td>350</td>\n",
       "      <td>MYR</td>\n",
       "      <td>ACY</td>\n",
       "      <td>129.0</td>\n",
       "      <td>13.0</td>\n",
       "      <td>4.0</td>\n",
       "      <td>131.0</td>\n",
       "      <td>0.0</td>\n",
       "      <td>...</td>\n",
       "      <td>80.0</td>\n",
       "      <td>82.0</td>\n",
       "      <td>65.0</td>\n",
       "      <td>466.0</td>\n",
       "      <td>1.0</td>\n",
       "      <td>0.0</td>\n",
       "      <td>130.0</td>\n",
       "      <td>0.0</td>\n",
       "      <td>30</td>\n",
       "      <td>Flights often experience delays due to air tra...</td>\n",
       "    </tr>\n",
       "    <tr>\n",
       "      <th>2998</th>\n",
       "      <td>2018-11-30</td>\n",
       "      <td>WN</td>\n",
       "      <td>377</td>\n",
       "      <td>PHX</td>\n",
       "      <td>ABQ</td>\n",
       "      <td>0.0</td>\n",
       "      <td>7.0</td>\n",
       "      <td>4.0</td>\n",
       "      <td>-5.0</td>\n",
       "      <td>0.0</td>\n",
       "      <td>...</td>\n",
       "      <td>65.0</td>\n",
       "      <td>60.0</td>\n",
       "      <td>49.0</td>\n",
       "      <td>328.0</td>\n",
       "      <td>NaN</td>\n",
       "      <td>NaN</td>\n",
       "      <td>NaN</td>\n",
       "      <td>NaN</td>\n",
       "      <td>15</td>\n",
       "      <td>Southwest Airlines flights often experience mi...</td>\n",
       "    </tr>\n",
       "    <tr>\n",
       "      <th>2999</th>\n",
       "      <td>2018-07-29</td>\n",
       "      <td>G4</td>\n",
       "      <td>1633</td>\n",
       "      <td>CLE</td>\n",
       "      <td>PGD</td>\n",
       "      <td>94.0</td>\n",
       "      <td>12.0</td>\n",
       "      <td>4.0</td>\n",
       "      <td>100.0</td>\n",
       "      <td>0.0</td>\n",
       "      <td>...</td>\n",
       "      <td>143.0</td>\n",
       "      <td>149.0</td>\n",
       "      <td>133.0</td>\n",
       "      <td>999.0</td>\n",
       "      <td>0.0</td>\n",
       "      <td>0.0</td>\n",
       "      <td>6.0</td>\n",
       "      <td>94.0</td>\n",
       "      <td>30</td>\n",
       "      <td>This flight is traveling a long distance, and ...</td>\n",
       "    </tr>\n",
       "  </tbody>\n",
       "</table>\n",
       "<p>3000 rows × 22 columns</p>\n",
       "</div>"
      ],
      "text/plain": [
       "         FL_DATE OP_CARRIER  OP_CARRIER_FL_NUM ORIGIN DEST  DEP_DELAY  \\\n",
       "0     2018-04-26         AA                301    DFW  SLC       -8.0   \n",
       "1     2018-11-14         OO               4035    DTW  LAN       12.0   \n",
       "2     2018-06-04         DL               1733    ECP  ATL        8.0   \n",
       "3     2018-03-03         WN               3634    PHX  DSM       13.0   \n",
       "4     2018-10-19         OO               3665    BOS  BNA      -10.0   \n",
       "...          ...        ...                ...    ...  ...        ...   \n",
       "2995  2018-06-03         WN               2165    PHX  LAX       -2.0   \n",
       "2996  2018-10-24         EV               4001    CLE  LGA       -3.0   \n",
       "2997  2018-07-22         NK                350    MYR  ACY      129.0   \n",
       "2998  2018-11-30         WN                377    PHX  ABQ        0.0   \n",
       "2999  2018-07-29         G4               1633    CLE  PGD       94.0   \n",
       "\n",
       "      TAXI_OUT  TAXI_IN  ARR_DELAY  CANCELLED  ... CRS_ELAPSED_TIME  \\\n",
       "0         19.0      7.0       -1.0        0.0  ...            167.0   \n",
       "1         17.0      3.0        0.0        0.0  ...             52.0   \n",
       "2         12.0     10.0       -3.0        0.0  ...             75.0   \n",
       "3          8.0      3.0       -5.0        0.0  ...            160.0   \n",
       "4         23.0     23.0       -1.0        0.0  ...            173.0   \n",
       "...        ...      ...        ...        ...  ...              ...   \n",
       "2995      11.0      6.0      -23.0        0.0  ...             95.0   \n",
       "2996      24.0      9.0        2.0        0.0  ...            100.0   \n",
       "2997      13.0      4.0      131.0        0.0  ...             80.0   \n",
       "2998       7.0      4.0       -5.0        0.0  ...             65.0   \n",
       "2999      12.0      4.0      100.0        0.0  ...            143.0   \n",
       "\n",
       "      ACTUAL_ELAPSED_TIME  AIR_TIME  DISTANCE  CARRIER_DELAY  WEATHER_DELAY  \\\n",
       "0                   174.0     148.0     989.0            NaN            NaN   \n",
       "1                    40.0      20.0      74.0            NaN            NaN   \n",
       "2                    64.0      42.0     240.0            NaN            NaN   \n",
       "3                   142.0     131.0    1150.0            NaN            NaN   \n",
       "4                   182.0     136.0     942.0            NaN            NaN   \n",
       "...                   ...       ...       ...            ...            ...   \n",
       "2995                 74.0      57.0     370.0            NaN            NaN   \n",
       "2996                105.0      72.0     419.0            NaN            NaN   \n",
       "2997                 82.0      65.0     466.0            1.0            0.0   \n",
       "2998                 60.0      49.0     328.0            NaN            NaN   \n",
       "2999                149.0     133.0     999.0            0.0            0.0   \n",
       "\n",
       "      NAS_DELAY  LATE_AIRCRAFT_DELAY  llm_delay_minutes  \\\n",
       "0           NaN                  NaN                 30   \n",
       "1           NaN                  NaN                 15   \n",
       "2           NaN                  NaN                 60   \n",
       "3           NaN                  NaN                 30   \n",
       "4           NaN                  NaN                 60   \n",
       "...         ...                  ...                ...   \n",
       "2995        NaN                  NaN                 60   \n",
       "2996        NaN                  NaN                 30   \n",
       "2997      130.0                  0.0                 30   \n",
       "2998        NaN                  NaN                 15   \n",
       "2999        6.0                 94.0                 30   \n",
       "\n",
       "                                      llm_delay_explain  \n",
       "0     Given the late scheduled departure time and th...  \n",
       "1     The flight originates from Detroit Metropolita...  \n",
       "2     This flight is a relatively short distance and...  \n",
       "3     This flight is a fairly long-haul route within...  \n",
       "4     This flight is a relatively long-haul flight w...  \n",
       "...                                                 ...  \n",
       "2995  Southwest Airlines (WN) flights are often dela...  \n",
       "2996  The flight originates from CLE and is schedule...  \n",
       "2997  Flights often experience delays due to air tra...  \n",
       "2998  Southwest Airlines flights often experience mi...  \n",
       "2999  This flight is traveling a long distance, and ...  \n",
       "\n",
       "[3000 rows x 22 columns]"
      ]
     },
     "execution_count": 82,
     "metadata": {},
     "output_type": "execute_result"
    }
   ],
   "source": [
    "df = df.loc[:, [f for f in df.columns if f not in df_cv or df_cv[f] > 0.4]]\n",
    "df"
   ]
  },
  {
   "cell_type": "code",
   "execution_count": 83,
   "metadata": {},
   "outputs": [
    {
     "data": {
      "text/plain": [
       "FL_DATE                   0\n",
       "OP_CARRIER                0\n",
       "OP_CARRIER_FL_NUM         0\n",
       "ORIGIN                    0\n",
       "DEST                      0\n",
       "DEP_DELAY                37\n",
       "TAXI_OUT                 39\n",
       "TAXI_IN                  40\n",
       "ARR_DELAY                44\n",
       "CANCELLED                 0\n",
       "CANCELLATION_CODE      2960\n",
       "DIVERTED                  0\n",
       "CRS_ELAPSED_TIME          0\n",
       "ACTUAL_ELAPSED_TIME      43\n",
       "AIR_TIME                 43\n",
       "DISTANCE                  0\n",
       "CARRIER_DELAY          2417\n",
       "WEATHER_DELAY          2417\n",
       "NAS_DELAY              2417\n",
       "LATE_AIRCRAFT_DELAY    2417\n",
       "llm_delay_minutes         2\n",
       "llm_delay_explain         0\n",
       "dtype: int64"
      ]
     },
     "execution_count": 83,
     "metadata": {},
     "output_type": "execute_result"
    }
   ],
   "source": [
    "null_num = df.isnull().sum()\n",
    "null_num"
   ]
  },
  {
   "cell_type": "code",
   "execution_count": 84,
   "metadata": {},
   "outputs": [
    {
     "data": {
      "text/html": [
       "<div>\n",
       "<style scoped>\n",
       "    .dataframe tbody tr th:only-of-type {\n",
       "        vertical-align: middle;\n",
       "    }\n",
       "\n",
       "    .dataframe tbody tr th {\n",
       "        vertical-align: top;\n",
       "    }\n",
       "\n",
       "    .dataframe thead th {\n",
       "        text-align: right;\n",
       "    }\n",
       "</style>\n",
       "<table border=\"1\" class=\"dataframe\">\n",
       "  <thead>\n",
       "    <tr style=\"text-align: right;\">\n",
       "      <th></th>\n",
       "      <th>FL_DATE</th>\n",
       "      <th>OP_CARRIER</th>\n",
       "      <th>OP_CARRIER_FL_NUM</th>\n",
       "      <th>ORIGIN</th>\n",
       "      <th>DEST</th>\n",
       "      <th>DEP_DELAY</th>\n",
       "      <th>TAXI_OUT</th>\n",
       "      <th>TAXI_IN</th>\n",
       "      <th>ARR_DELAY</th>\n",
       "      <th>CANCELLED</th>\n",
       "      <th>...</th>\n",
       "      <th>CRS_ELAPSED_TIME</th>\n",
       "      <th>ACTUAL_ELAPSED_TIME</th>\n",
       "      <th>AIR_TIME</th>\n",
       "      <th>DISTANCE</th>\n",
       "      <th>CARRIER_DELAY</th>\n",
       "      <th>WEATHER_DELAY</th>\n",
       "      <th>NAS_DELAY</th>\n",
       "      <th>LATE_AIRCRAFT_DELAY</th>\n",
       "      <th>llm_delay_minutes</th>\n",
       "      <th>llm_delay_explain</th>\n",
       "    </tr>\n",
       "  </thead>\n",
       "  <tbody>\n",
       "    <tr>\n",
       "      <th>0</th>\n",
       "      <td>2018-04-26</td>\n",
       "      <td>AA</td>\n",
       "      <td>301</td>\n",
       "      <td>DFW</td>\n",
       "      <td>SLC</td>\n",
       "      <td>-8.0</td>\n",
       "      <td>19.0</td>\n",
       "      <td>7.0</td>\n",
       "      <td>-1.0</td>\n",
       "      <td>0.0</td>\n",
       "      <td>...</td>\n",
       "      <td>167.0</td>\n",
       "      <td>174.0</td>\n",
       "      <td>148.0</td>\n",
       "      <td>989.0</td>\n",
       "      <td>NaN</td>\n",
       "      <td>NaN</td>\n",
       "      <td>NaN</td>\n",
       "      <td>NaN</td>\n",
       "      <td>30</td>\n",
       "      <td>Given the late scheduled departure time and th...</td>\n",
       "    </tr>\n",
       "    <tr>\n",
       "      <th>1</th>\n",
       "      <td>2018-11-14</td>\n",
       "      <td>OO</td>\n",
       "      <td>4035</td>\n",
       "      <td>DTW</td>\n",
       "      <td>LAN</td>\n",
       "      <td>12.0</td>\n",
       "      <td>17.0</td>\n",
       "      <td>3.0</td>\n",
       "      <td>0.0</td>\n",
       "      <td>0.0</td>\n",
       "      <td>...</td>\n",
       "      <td>52.0</td>\n",
       "      <td>40.0</td>\n",
       "      <td>20.0</td>\n",
       "      <td>74.0</td>\n",
       "      <td>NaN</td>\n",
       "      <td>NaN</td>\n",
       "      <td>NaN</td>\n",
       "      <td>NaN</td>\n",
       "      <td>15</td>\n",
       "      <td>The flight originates from Detroit Metropolita...</td>\n",
       "    </tr>\n",
       "    <tr>\n",
       "      <th>2</th>\n",
       "      <td>2018-06-04</td>\n",
       "      <td>DL</td>\n",
       "      <td>1733</td>\n",
       "      <td>ECP</td>\n",
       "      <td>ATL</td>\n",
       "      <td>8.0</td>\n",
       "      <td>12.0</td>\n",
       "      <td>10.0</td>\n",
       "      <td>-3.0</td>\n",
       "      <td>0.0</td>\n",
       "      <td>...</td>\n",
       "      <td>75.0</td>\n",
       "      <td>64.0</td>\n",
       "      <td>42.0</td>\n",
       "      <td>240.0</td>\n",
       "      <td>NaN</td>\n",
       "      <td>NaN</td>\n",
       "      <td>NaN</td>\n",
       "      <td>NaN</td>\n",
       "      <td>60</td>\n",
       "      <td>This flight is a relatively short distance and...</td>\n",
       "    </tr>\n",
       "    <tr>\n",
       "      <th>3</th>\n",
       "      <td>2018-03-03</td>\n",
       "      <td>WN</td>\n",
       "      <td>3634</td>\n",
       "      <td>PHX</td>\n",
       "      <td>DSM</td>\n",
       "      <td>13.0</td>\n",
       "      <td>8.0</td>\n",
       "      <td>3.0</td>\n",
       "      <td>-5.0</td>\n",
       "      <td>0.0</td>\n",
       "      <td>...</td>\n",
       "      <td>160.0</td>\n",
       "      <td>142.0</td>\n",
       "      <td>131.0</td>\n",
       "      <td>1150.0</td>\n",
       "      <td>NaN</td>\n",
       "      <td>NaN</td>\n",
       "      <td>NaN</td>\n",
       "      <td>NaN</td>\n",
       "      <td>30</td>\n",
       "      <td>This flight is a fairly long-haul route within...</td>\n",
       "    </tr>\n",
       "    <tr>\n",
       "      <th>4</th>\n",
       "      <td>2018-10-19</td>\n",
       "      <td>OO</td>\n",
       "      <td>3665</td>\n",
       "      <td>BOS</td>\n",
       "      <td>BNA</td>\n",
       "      <td>-10.0</td>\n",
       "      <td>23.0</td>\n",
       "      <td>23.0</td>\n",
       "      <td>-1.0</td>\n",
       "      <td>0.0</td>\n",
       "      <td>...</td>\n",
       "      <td>173.0</td>\n",
       "      <td>182.0</td>\n",
       "      <td>136.0</td>\n",
       "      <td>942.0</td>\n",
       "      <td>NaN</td>\n",
       "      <td>NaN</td>\n",
       "      <td>NaN</td>\n",
       "      <td>NaN</td>\n",
       "      <td>60</td>\n",
       "      <td>This flight is a relatively long-haul flight w...</td>\n",
       "    </tr>\n",
       "    <tr>\n",
       "      <th>...</th>\n",
       "      <td>...</td>\n",
       "      <td>...</td>\n",
       "      <td>...</td>\n",
       "      <td>...</td>\n",
       "      <td>...</td>\n",
       "      <td>...</td>\n",
       "      <td>...</td>\n",
       "      <td>...</td>\n",
       "      <td>...</td>\n",
       "      <td>...</td>\n",
       "      <td>...</td>\n",
       "      <td>...</td>\n",
       "      <td>...</td>\n",
       "      <td>...</td>\n",
       "      <td>...</td>\n",
       "      <td>...</td>\n",
       "      <td>...</td>\n",
       "      <td>...</td>\n",
       "      <td>...</td>\n",
       "      <td>...</td>\n",
       "      <td>...</td>\n",
       "    </tr>\n",
       "    <tr>\n",
       "      <th>2995</th>\n",
       "      <td>2018-06-03</td>\n",
       "      <td>WN</td>\n",
       "      <td>2165</td>\n",
       "      <td>PHX</td>\n",
       "      <td>LAX</td>\n",
       "      <td>-2.0</td>\n",
       "      <td>11.0</td>\n",
       "      <td>6.0</td>\n",
       "      <td>-23.0</td>\n",
       "      <td>0.0</td>\n",
       "      <td>...</td>\n",
       "      <td>95.0</td>\n",
       "      <td>74.0</td>\n",
       "      <td>57.0</td>\n",
       "      <td>370.0</td>\n",
       "      <td>NaN</td>\n",
       "      <td>NaN</td>\n",
       "      <td>NaN</td>\n",
       "      <td>NaN</td>\n",
       "      <td>60</td>\n",
       "      <td>Southwest Airlines (WN) flights are often dela...</td>\n",
       "    </tr>\n",
       "    <tr>\n",
       "      <th>2996</th>\n",
       "      <td>2018-10-24</td>\n",
       "      <td>EV</td>\n",
       "      <td>4001</td>\n",
       "      <td>CLE</td>\n",
       "      <td>LGA</td>\n",
       "      <td>-3.0</td>\n",
       "      <td>24.0</td>\n",
       "      <td>9.0</td>\n",
       "      <td>2.0</td>\n",
       "      <td>0.0</td>\n",
       "      <td>...</td>\n",
       "      <td>100.0</td>\n",
       "      <td>105.0</td>\n",
       "      <td>72.0</td>\n",
       "      <td>419.0</td>\n",
       "      <td>NaN</td>\n",
       "      <td>NaN</td>\n",
       "      <td>NaN</td>\n",
       "      <td>NaN</td>\n",
       "      <td>30</td>\n",
       "      <td>The flight originates from CLE and is schedule...</td>\n",
       "    </tr>\n",
       "    <tr>\n",
       "      <th>2997</th>\n",
       "      <td>2018-07-22</td>\n",
       "      <td>NK</td>\n",
       "      <td>350</td>\n",
       "      <td>MYR</td>\n",
       "      <td>ACY</td>\n",
       "      <td>129.0</td>\n",
       "      <td>13.0</td>\n",
       "      <td>4.0</td>\n",
       "      <td>131.0</td>\n",
       "      <td>0.0</td>\n",
       "      <td>...</td>\n",
       "      <td>80.0</td>\n",
       "      <td>82.0</td>\n",
       "      <td>65.0</td>\n",
       "      <td>466.0</td>\n",
       "      <td>1.0</td>\n",
       "      <td>0.0</td>\n",
       "      <td>130.0</td>\n",
       "      <td>0.0</td>\n",
       "      <td>30</td>\n",
       "      <td>Flights often experience delays due to air tra...</td>\n",
       "    </tr>\n",
       "    <tr>\n",
       "      <th>2998</th>\n",
       "      <td>2018-11-30</td>\n",
       "      <td>WN</td>\n",
       "      <td>377</td>\n",
       "      <td>PHX</td>\n",
       "      <td>ABQ</td>\n",
       "      <td>0.0</td>\n",
       "      <td>7.0</td>\n",
       "      <td>4.0</td>\n",
       "      <td>-5.0</td>\n",
       "      <td>0.0</td>\n",
       "      <td>...</td>\n",
       "      <td>65.0</td>\n",
       "      <td>60.0</td>\n",
       "      <td>49.0</td>\n",
       "      <td>328.0</td>\n",
       "      <td>NaN</td>\n",
       "      <td>NaN</td>\n",
       "      <td>NaN</td>\n",
       "      <td>NaN</td>\n",
       "      <td>15</td>\n",
       "      <td>Southwest Airlines flights often experience mi...</td>\n",
       "    </tr>\n",
       "    <tr>\n",
       "      <th>2999</th>\n",
       "      <td>2018-07-29</td>\n",
       "      <td>G4</td>\n",
       "      <td>1633</td>\n",
       "      <td>CLE</td>\n",
       "      <td>PGD</td>\n",
       "      <td>94.0</td>\n",
       "      <td>12.0</td>\n",
       "      <td>4.0</td>\n",
       "      <td>100.0</td>\n",
       "      <td>0.0</td>\n",
       "      <td>...</td>\n",
       "      <td>143.0</td>\n",
       "      <td>149.0</td>\n",
       "      <td>133.0</td>\n",
       "      <td>999.0</td>\n",
       "      <td>0.0</td>\n",
       "      <td>0.0</td>\n",
       "      <td>6.0</td>\n",
       "      <td>94.0</td>\n",
       "      <td>30</td>\n",
       "      <td>This flight is traveling a long distance, and ...</td>\n",
       "    </tr>\n",
       "  </tbody>\n",
       "</table>\n",
       "<p>3000 rows × 21 columns</p>\n",
       "</div>"
      ],
      "text/plain": [
       "         FL_DATE OP_CARRIER  OP_CARRIER_FL_NUM ORIGIN DEST  DEP_DELAY  \\\n",
       "0     2018-04-26         AA                301    DFW  SLC       -8.0   \n",
       "1     2018-11-14         OO               4035    DTW  LAN       12.0   \n",
       "2     2018-06-04         DL               1733    ECP  ATL        8.0   \n",
       "3     2018-03-03         WN               3634    PHX  DSM       13.0   \n",
       "4     2018-10-19         OO               3665    BOS  BNA      -10.0   \n",
       "...          ...        ...                ...    ...  ...        ...   \n",
       "2995  2018-06-03         WN               2165    PHX  LAX       -2.0   \n",
       "2996  2018-10-24         EV               4001    CLE  LGA       -3.0   \n",
       "2997  2018-07-22         NK                350    MYR  ACY      129.0   \n",
       "2998  2018-11-30         WN                377    PHX  ABQ        0.0   \n",
       "2999  2018-07-29         G4               1633    CLE  PGD       94.0   \n",
       "\n",
       "      TAXI_OUT  TAXI_IN  ARR_DELAY  CANCELLED  ...  CRS_ELAPSED_TIME  \\\n",
       "0         19.0      7.0       -1.0        0.0  ...             167.0   \n",
       "1         17.0      3.0        0.0        0.0  ...              52.0   \n",
       "2         12.0     10.0       -3.0        0.0  ...              75.0   \n",
       "3          8.0      3.0       -5.0        0.0  ...             160.0   \n",
       "4         23.0     23.0       -1.0        0.0  ...             173.0   \n",
       "...        ...      ...        ...        ...  ...               ...   \n",
       "2995      11.0      6.0      -23.0        0.0  ...              95.0   \n",
       "2996      24.0      9.0        2.0        0.0  ...             100.0   \n",
       "2997      13.0      4.0      131.0        0.0  ...              80.0   \n",
       "2998       7.0      4.0       -5.0        0.0  ...              65.0   \n",
       "2999      12.0      4.0      100.0        0.0  ...             143.0   \n",
       "\n",
       "      ACTUAL_ELAPSED_TIME  AIR_TIME  DISTANCE  CARRIER_DELAY  WEATHER_DELAY  \\\n",
       "0                   174.0     148.0     989.0            NaN            NaN   \n",
       "1                    40.0      20.0      74.0            NaN            NaN   \n",
       "2                    64.0      42.0     240.0            NaN            NaN   \n",
       "3                   142.0     131.0    1150.0            NaN            NaN   \n",
       "4                   182.0     136.0     942.0            NaN            NaN   \n",
       "...                   ...       ...       ...            ...            ...   \n",
       "2995                 74.0      57.0     370.0            NaN            NaN   \n",
       "2996                105.0      72.0     419.0            NaN            NaN   \n",
       "2997                 82.0      65.0     466.0            1.0            0.0   \n",
       "2998                 60.0      49.0     328.0            NaN            NaN   \n",
       "2999                149.0     133.0     999.0            0.0            0.0   \n",
       "\n",
       "      NAS_DELAY  LATE_AIRCRAFT_DELAY  llm_delay_minutes  \\\n",
       "0           NaN                  NaN                 30   \n",
       "1           NaN                  NaN                 15   \n",
       "2           NaN                  NaN                 60   \n",
       "3           NaN                  NaN                 30   \n",
       "4           NaN                  NaN                 60   \n",
       "...         ...                  ...                ...   \n",
       "2995        NaN                  NaN                 60   \n",
       "2996        NaN                  NaN                 30   \n",
       "2997      130.0                  0.0                 30   \n",
       "2998        NaN                  NaN                 15   \n",
       "2999        6.0                 94.0                 30   \n",
       "\n",
       "                                      llm_delay_explain  \n",
       "0     Given the late scheduled departure time and th...  \n",
       "1     The flight originates from Detroit Metropolita...  \n",
       "2     This flight is a relatively short distance and...  \n",
       "3     This flight is a fairly long-haul route within...  \n",
       "4     This flight is a relatively long-haul flight w...  \n",
       "...                                                 ...  \n",
       "2995  Southwest Airlines (WN) flights are often dela...  \n",
       "2996  The flight originates from CLE and is schedule...  \n",
       "2997  Flights often experience delays due to air tra...  \n",
       "2998  Southwest Airlines flights often experience mi...  \n",
       "2999  This flight is traveling a long distance, and ...  \n",
       "\n",
       "[3000 rows x 21 columns]"
      ]
     },
     "execution_count": 84,
     "metadata": {},
     "output_type": "execute_result"
    }
   ],
   "source": [
    "df = df.loc[:, [f for f in df.columns if null_num[f] < df.shape[0] * 0.9]]\n",
    "df"
   ]
  },
  {
   "cell_type": "markdown",
   "metadata": {},
   "source": [
    "##### Remove bad examples (rows) from the dataframe"
   ]
  },
  {
   "cell_type": "code",
   "execution_count": 85,
   "metadata": {},
   "outputs": [
    {
     "data": {
      "text/html": [
       "<div>\n",
       "<style scoped>\n",
       "    .dataframe tbody tr th:only-of-type {\n",
       "        vertical-align: middle;\n",
       "    }\n",
       "\n",
       "    .dataframe tbody tr th {\n",
       "        vertical-align: top;\n",
       "    }\n",
       "\n",
       "    .dataframe thead th {\n",
       "        text-align: right;\n",
       "    }\n",
       "</style>\n",
       "<table border=\"1\" class=\"dataframe\">\n",
       "  <thead>\n",
       "    <tr style=\"text-align: right;\">\n",
       "      <th></th>\n",
       "      <th>index</th>\n",
       "      <th>FL_DATE</th>\n",
       "      <th>OP_CARRIER</th>\n",
       "      <th>OP_CARRIER_FL_NUM</th>\n",
       "      <th>ORIGIN</th>\n",
       "      <th>DEST</th>\n",
       "      <th>DEP_DELAY</th>\n",
       "      <th>TAXI_OUT</th>\n",
       "      <th>TAXI_IN</th>\n",
       "      <th>ARR_DELAY</th>\n",
       "      <th>...</th>\n",
       "      <th>CRS_ELAPSED_TIME</th>\n",
       "      <th>ACTUAL_ELAPSED_TIME</th>\n",
       "      <th>AIR_TIME</th>\n",
       "      <th>DISTANCE</th>\n",
       "      <th>CARRIER_DELAY</th>\n",
       "      <th>WEATHER_DELAY</th>\n",
       "      <th>NAS_DELAY</th>\n",
       "      <th>LATE_AIRCRAFT_DELAY</th>\n",
       "      <th>llm_delay_minutes</th>\n",
       "      <th>llm_delay_explain</th>\n",
       "    </tr>\n",
       "  </thead>\n",
       "  <tbody>\n",
       "    <tr>\n",
       "      <th>0</th>\n",
       "      <td>5</td>\n",
       "      <td>2018-02-01</td>\n",
       "      <td>DL</td>\n",
       "      <td>1437</td>\n",
       "      <td>MIA</td>\n",
       "      <td>LGA</td>\n",
       "      <td>25.0</td>\n",
       "      <td>20.0</td>\n",
       "      <td>9.0</td>\n",
       "      <td>15.0</td>\n",
       "      <td>...</td>\n",
       "      <td>186.0</td>\n",
       "      <td>176.0</td>\n",
       "      <td>147.0</td>\n",
       "      <td>1096.0</td>\n",
       "      <td>9.0</td>\n",
       "      <td>0.0</td>\n",
       "      <td>0.0</td>\n",
       "      <td>6.0</td>\n",
       "      <td>30</td>\n",
       "      <td>This flight is a relatively short-haul operati...</td>\n",
       "    </tr>\n",
       "    <tr>\n",
       "      <th>1</th>\n",
       "      <td>8</td>\n",
       "      <td>2018-03-01</td>\n",
       "      <td>OH</td>\n",
       "      <td>5587</td>\n",
       "      <td>DCA</td>\n",
       "      <td>BTV</td>\n",
       "      <td>81.0</td>\n",
       "      <td>16.0</td>\n",
       "      <td>3.0</td>\n",
       "      <td>73.0</td>\n",
       "      <td>...</td>\n",
       "      <td>96.0</td>\n",
       "      <td>88.0</td>\n",
       "      <td>69.0</td>\n",
       "      <td>437.0</td>\n",
       "      <td>0.0</td>\n",
       "      <td>0.0</td>\n",
       "      <td>0.0</td>\n",
       "      <td>73.0</td>\n",
       "      <td>60</td>\n",
       "      <td>Flights departing from DCA often experience de...</td>\n",
       "    </tr>\n",
       "    <tr>\n",
       "      <th>2</th>\n",
       "      <td>11</td>\n",
       "      <td>2018-07-19</td>\n",
       "      <td>WN</td>\n",
       "      <td>1459</td>\n",
       "      <td>SAN</td>\n",
       "      <td>SJC</td>\n",
       "      <td>70.0</td>\n",
       "      <td>23.0</td>\n",
       "      <td>5.0</td>\n",
       "      <td>71.0</td>\n",
       "      <td>...</td>\n",
       "      <td>85.0</td>\n",
       "      <td>86.0</td>\n",
       "      <td>58.0</td>\n",
       "      <td>417.0</td>\n",
       "      <td>0.0</td>\n",
       "      <td>0.0</td>\n",
       "      <td>12.0</td>\n",
       "      <td>59.0</td>\n",
       "      <td>30</td>\n",
       "      <td>This flight could potentially experience delay...</td>\n",
       "    </tr>\n",
       "    <tr>\n",
       "      <th>3</th>\n",
       "      <td>12</td>\n",
       "      <td>2018-12-29</td>\n",
       "      <td>WN</td>\n",
       "      <td>2012</td>\n",
       "      <td>TUL</td>\n",
       "      <td>HOU</td>\n",
       "      <td>20.0</td>\n",
       "      <td>7.0</td>\n",
       "      <td>4.0</td>\n",
       "      <td>24.0</td>\n",
       "      <td>...</td>\n",
       "      <td>90.0</td>\n",
       "      <td>94.0</td>\n",
       "      <td>83.0</td>\n",
       "      <td>453.0</td>\n",
       "      <td>4.0</td>\n",
       "      <td>0.0</td>\n",
       "      <td>4.0</td>\n",
       "      <td>16.0</td>\n",
       "      <td>15</td>\n",
       "      <td>This flight is scheduled late in the day, whic...</td>\n",
       "    </tr>\n",
       "    <tr>\n",
       "      <th>4</th>\n",
       "      <td>16</td>\n",
       "      <td>2018-02-21</td>\n",
       "      <td>9E</td>\n",
       "      <td>3736</td>\n",
       "      <td>LGA</td>\n",
       "      <td>MKE</td>\n",
       "      <td>67.0</td>\n",
       "      <td>12.0</td>\n",
       "      <td>4.0</td>\n",
       "      <td>35.0</td>\n",
       "      <td>...</td>\n",
       "      <td>163.0</td>\n",
       "      <td>131.0</td>\n",
       "      <td>115.0</td>\n",
       "      <td>738.0</td>\n",
       "      <td>0.0</td>\n",
       "      <td>0.0</td>\n",
       "      <td>0.0</td>\n",
       "      <td>35.0</td>\n",
       "      <td>60</td>\n",
       "      <td>Flights with a short scheduled departure time ...</td>\n",
       "    </tr>\n",
       "    <tr>\n",
       "      <th>...</th>\n",
       "      <td>...</td>\n",
       "      <td>...</td>\n",
       "      <td>...</td>\n",
       "      <td>...</td>\n",
       "      <td>...</td>\n",
       "      <td>...</td>\n",
       "      <td>...</td>\n",
       "      <td>...</td>\n",
       "      <td>...</td>\n",
       "      <td>...</td>\n",
       "      <td>...</td>\n",
       "      <td>...</td>\n",
       "      <td>...</td>\n",
       "      <td>...</td>\n",
       "      <td>...</td>\n",
       "      <td>...</td>\n",
       "      <td>...</td>\n",
       "      <td>...</td>\n",
       "      <td>...</td>\n",
       "      <td>...</td>\n",
       "      <td>...</td>\n",
       "    </tr>\n",
       "    <tr>\n",
       "      <th>578</th>\n",
       "      <td>2964</td>\n",
       "      <td>2018-04-27</td>\n",
       "      <td>G4</td>\n",
       "      <td>848</td>\n",
       "      <td>PIE</td>\n",
       "      <td>RIC</td>\n",
       "      <td>110.0</td>\n",
       "      <td>12.0</td>\n",
       "      <td>6.0</td>\n",
       "      <td>94.0</td>\n",
       "      <td>...</td>\n",
       "      <td>122.0</td>\n",
       "      <td>106.0</td>\n",
       "      <td>88.0</td>\n",
       "      <td>731.0</td>\n",
       "      <td>94.0</td>\n",
       "      <td>0.0</td>\n",
       "      <td>0.0</td>\n",
       "      <td>0.0</td>\n",
       "      <td>0</td>\n",
       "      <td>There is no information provided to suggest a ...</td>\n",
       "    </tr>\n",
       "    <tr>\n",
       "      <th>579</th>\n",
       "      <td>2969</td>\n",
       "      <td>2018-10-19</td>\n",
       "      <td>WN</td>\n",
       "      <td>2245</td>\n",
       "      <td>DEN</td>\n",
       "      <td>BWI</td>\n",
       "      <td>30.0</td>\n",
       "      <td>26.0</td>\n",
       "      <td>2.0</td>\n",
       "      <td>21.0</td>\n",
       "      <td>...</td>\n",
       "      <td>200.0</td>\n",
       "      <td>191.0</td>\n",
       "      <td>163.0</td>\n",
       "      <td>1491.0</td>\n",
       "      <td>21.0</td>\n",
       "      <td>0.0</td>\n",
       "      <td>0.0</td>\n",
       "      <td>0.0</td>\n",
       "      <td>30</td>\n",
       "      <td>This flight is originating from Denver (DEN) a...</td>\n",
       "    </tr>\n",
       "    <tr>\n",
       "      <th>580</th>\n",
       "      <td>2988</td>\n",
       "      <td>2018-11-25</td>\n",
       "      <td>9E</td>\n",
       "      <td>5216</td>\n",
       "      <td>FSM</td>\n",
       "      <td>ATL</td>\n",
       "      <td>30.0</td>\n",
       "      <td>10.0</td>\n",
       "      <td>11.0</td>\n",
       "      <td>20.0</td>\n",
       "      <td>...</td>\n",
       "      <td>103.0</td>\n",
       "      <td>93.0</td>\n",
       "      <td>72.0</td>\n",
       "      <td>579.0</td>\n",
       "      <td>0.0</td>\n",
       "      <td>0.0</td>\n",
       "      <td>0.0</td>\n",
       "      <td>20.0</td>\n",
       "      <td>240</td>\n",
       "      <td>Flights during peak travel seasons often exper...</td>\n",
       "    </tr>\n",
       "    <tr>\n",
       "      <th>581</th>\n",
       "      <td>2997</td>\n",
       "      <td>2018-07-22</td>\n",
       "      <td>NK</td>\n",
       "      <td>350</td>\n",
       "      <td>MYR</td>\n",
       "      <td>ACY</td>\n",
       "      <td>129.0</td>\n",
       "      <td>13.0</td>\n",
       "      <td>4.0</td>\n",
       "      <td>131.0</td>\n",
       "      <td>...</td>\n",
       "      <td>80.0</td>\n",
       "      <td>82.0</td>\n",
       "      <td>65.0</td>\n",
       "      <td>466.0</td>\n",
       "      <td>1.0</td>\n",
       "      <td>0.0</td>\n",
       "      <td>130.0</td>\n",
       "      <td>0.0</td>\n",
       "      <td>30</td>\n",
       "      <td>Flights often experience delays due to air tra...</td>\n",
       "    </tr>\n",
       "    <tr>\n",
       "      <th>582</th>\n",
       "      <td>2999</td>\n",
       "      <td>2018-07-29</td>\n",
       "      <td>G4</td>\n",
       "      <td>1633</td>\n",
       "      <td>CLE</td>\n",
       "      <td>PGD</td>\n",
       "      <td>94.0</td>\n",
       "      <td>12.0</td>\n",
       "      <td>4.0</td>\n",
       "      <td>100.0</td>\n",
       "      <td>...</td>\n",
       "      <td>143.0</td>\n",
       "      <td>149.0</td>\n",
       "      <td>133.0</td>\n",
       "      <td>999.0</td>\n",
       "      <td>0.0</td>\n",
       "      <td>0.0</td>\n",
       "      <td>6.0</td>\n",
       "      <td>94.0</td>\n",
       "      <td>30</td>\n",
       "      <td>This flight is traveling a long distance, and ...</td>\n",
       "    </tr>\n",
       "  </tbody>\n",
       "</table>\n",
       "<p>583 rows × 22 columns</p>\n",
       "</div>"
      ],
      "text/plain": [
       "     index     FL_DATE OP_CARRIER  OP_CARRIER_FL_NUM ORIGIN DEST  DEP_DELAY  \\\n",
       "0        5  2018-02-01         DL               1437    MIA  LGA       25.0   \n",
       "1        8  2018-03-01         OH               5587    DCA  BTV       81.0   \n",
       "2       11  2018-07-19         WN               1459    SAN  SJC       70.0   \n",
       "3       12  2018-12-29         WN               2012    TUL  HOU       20.0   \n",
       "4       16  2018-02-21         9E               3736    LGA  MKE       67.0   \n",
       "..     ...         ...        ...                ...    ...  ...        ...   \n",
       "578   2964  2018-04-27         G4                848    PIE  RIC      110.0   \n",
       "579   2969  2018-10-19         WN               2245    DEN  BWI       30.0   \n",
       "580   2988  2018-11-25         9E               5216    FSM  ATL       30.0   \n",
       "581   2997  2018-07-22         NK                350    MYR  ACY      129.0   \n",
       "582   2999  2018-07-29         G4               1633    CLE  PGD       94.0   \n",
       "\n",
       "     TAXI_OUT  TAXI_IN  ARR_DELAY  ...  CRS_ELAPSED_TIME  ACTUAL_ELAPSED_TIME  \\\n",
       "0        20.0      9.0       15.0  ...             186.0                176.0   \n",
       "1        16.0      3.0       73.0  ...              96.0                 88.0   \n",
       "2        23.0      5.0       71.0  ...              85.0                 86.0   \n",
       "3         7.0      4.0       24.0  ...              90.0                 94.0   \n",
       "4        12.0      4.0       35.0  ...             163.0                131.0   \n",
       "..        ...      ...        ...  ...               ...                  ...   \n",
       "578      12.0      6.0       94.0  ...             122.0                106.0   \n",
       "579      26.0      2.0       21.0  ...             200.0                191.0   \n",
       "580      10.0     11.0       20.0  ...             103.0                 93.0   \n",
       "581      13.0      4.0      131.0  ...              80.0                 82.0   \n",
       "582      12.0      4.0      100.0  ...             143.0                149.0   \n",
       "\n",
       "     AIR_TIME  DISTANCE  CARRIER_DELAY  WEATHER_DELAY  NAS_DELAY  \\\n",
       "0       147.0    1096.0            9.0            0.0        0.0   \n",
       "1        69.0     437.0            0.0            0.0        0.0   \n",
       "2        58.0     417.0            0.0            0.0       12.0   \n",
       "3        83.0     453.0            4.0            0.0        4.0   \n",
       "4       115.0     738.0            0.0            0.0        0.0   \n",
       "..        ...       ...            ...            ...        ...   \n",
       "578      88.0     731.0           94.0            0.0        0.0   \n",
       "579     163.0    1491.0           21.0            0.0        0.0   \n",
       "580      72.0     579.0            0.0            0.0        0.0   \n",
       "581      65.0     466.0            1.0            0.0      130.0   \n",
       "582     133.0     999.0            0.0            0.0        6.0   \n",
       "\n",
       "     LATE_AIRCRAFT_DELAY  llm_delay_minutes  \\\n",
       "0                    6.0                 30   \n",
       "1                   73.0                 60   \n",
       "2                   59.0                 30   \n",
       "3                   16.0                 15   \n",
       "4                   35.0                 60   \n",
       "..                   ...                ...   \n",
       "578                  0.0                  0   \n",
       "579                  0.0                 30   \n",
       "580                 20.0                240   \n",
       "581                  0.0                 30   \n",
       "582                 94.0                 30   \n",
       "\n",
       "                                     llm_delay_explain  \n",
       "0    This flight is a relatively short-haul operati...  \n",
       "1    Flights departing from DCA often experience de...  \n",
       "2    This flight could potentially experience delay...  \n",
       "3    This flight is scheduled late in the day, whic...  \n",
       "4    Flights with a short scheduled departure time ...  \n",
       "..                                                 ...  \n",
       "578  There is no information provided to suggest a ...  \n",
       "579  This flight is originating from Denver (DEN) a...  \n",
       "580  Flights during peak travel seasons often exper...  \n",
       "581  Flights often experience delays due to air tra...  \n",
       "582  This flight is traveling a long distance, and ...  \n",
       "\n",
       "[583 rows x 22 columns]"
      ]
     },
     "execution_count": 85,
     "metadata": {},
     "output_type": "execute_result"
    }
   ],
   "source": [
    "df = df.dropna().reset_index()\n",
    "df"
   ]
  },
  {
   "cell_type": "code",
   "execution_count": 86,
   "metadata": {},
   "outputs": [
    {
     "data": {
      "text/plain": [
       "index                  0\n",
       "FL_DATE                0\n",
       "OP_CARRIER             0\n",
       "OP_CARRIER_FL_NUM      0\n",
       "ORIGIN                 0\n",
       "DEST                   0\n",
       "DEP_DELAY              0\n",
       "TAXI_OUT               0\n",
       "TAXI_IN                0\n",
       "ARR_DELAY              0\n",
       "CANCELLED              0\n",
       "DIVERTED               0\n",
       "CRS_ELAPSED_TIME       0\n",
       "ACTUAL_ELAPSED_TIME    0\n",
       "AIR_TIME               0\n",
       "DISTANCE               0\n",
       "CARRIER_DELAY          0\n",
       "WEATHER_DELAY          0\n",
       "NAS_DELAY              0\n",
       "LATE_AIRCRAFT_DELAY    0\n",
       "llm_delay_minutes      0\n",
       "llm_delay_explain      0\n",
       "dtype: int64"
      ]
     },
     "execution_count": 86,
     "metadata": {},
     "output_type": "execute_result"
    }
   ],
   "source": [
    "df.isnull().sum()"
   ]
  },
  {
   "cell_type": "markdown",
   "metadata": {},
   "source": [
    "#### Data Preparation/Processing"
   ]
  },
  {
   "cell_type": "markdown",
   "metadata": {},
   "source": [
    "##### Focus on the most popular operating carrier"
   ]
  },
  {
   "cell_type": "code",
   "execution_count": 87,
   "metadata": {},
   "outputs": [
    {
     "data": {
      "text/plain": [
       "OP_CARRIER\n",
       "WN    125\n",
       "AA     79\n",
       "DL     58\n",
       "OO     54\n",
       "UA     43\n",
       "B6     33\n",
       "MQ     23\n",
       "YX     22\n",
       "9E     22\n",
       "AS     19\n",
       "OH     19\n",
       "EV     18\n",
       "YV     17\n",
       "NK     17\n",
       "G4     16\n",
       "F9     14\n",
       "VX      2\n",
       "HA      2\n",
       "Name: count, dtype: int64"
      ]
     },
     "execution_count": 87,
     "metadata": {},
     "output_type": "execute_result"
    }
   ],
   "source": [
    "# Display the most common OP_CARRIER\n",
    "df[\"OP_CARRIER\"].value_counts()"
   ]
  },
  {
   "cell_type": "code",
   "execution_count": 88,
   "metadata": {},
   "outputs": [
    {
     "data": {
      "text/html": [
       "<div>\n",
       "<style scoped>\n",
       "    .dataframe tbody tr th:only-of-type {\n",
       "        vertical-align: middle;\n",
       "    }\n",
       "\n",
       "    .dataframe tbody tr th {\n",
       "        vertical-align: top;\n",
       "    }\n",
       "\n",
       "    .dataframe thead th {\n",
       "        text-align: right;\n",
       "    }\n",
       "</style>\n",
       "<table border=\"1\" class=\"dataframe\">\n",
       "  <thead>\n",
       "    <tr style=\"text-align: right;\">\n",
       "      <th></th>\n",
       "      <th>index</th>\n",
       "      <th>FL_DATE</th>\n",
       "      <th>OP_CARRIER_FL_NUM</th>\n",
       "      <th>ORIGIN</th>\n",
       "      <th>DEST</th>\n",
       "      <th>DEP_DELAY</th>\n",
       "      <th>TAXI_OUT</th>\n",
       "      <th>TAXI_IN</th>\n",
       "      <th>ARR_DELAY</th>\n",
       "      <th>CANCELLED</th>\n",
       "      <th>...</th>\n",
       "      <th>CRS_ELAPSED_TIME</th>\n",
       "      <th>ACTUAL_ELAPSED_TIME</th>\n",
       "      <th>AIR_TIME</th>\n",
       "      <th>DISTANCE</th>\n",
       "      <th>CARRIER_DELAY</th>\n",
       "      <th>WEATHER_DELAY</th>\n",
       "      <th>NAS_DELAY</th>\n",
       "      <th>LATE_AIRCRAFT_DELAY</th>\n",
       "      <th>llm_delay_minutes</th>\n",
       "      <th>llm_delay_explain</th>\n",
       "    </tr>\n",
       "  </thead>\n",
       "  <tbody>\n",
       "    <tr>\n",
       "      <th>2</th>\n",
       "      <td>11</td>\n",
       "      <td>2018-07-19</td>\n",
       "      <td>1459</td>\n",
       "      <td>SAN</td>\n",
       "      <td>SJC</td>\n",
       "      <td>70.0</td>\n",
       "      <td>23.0</td>\n",
       "      <td>5.0</td>\n",
       "      <td>71.0</td>\n",
       "      <td>0.0</td>\n",
       "      <td>...</td>\n",
       "      <td>85.0</td>\n",
       "      <td>86.0</td>\n",
       "      <td>58.0</td>\n",
       "      <td>417.0</td>\n",
       "      <td>0.0</td>\n",
       "      <td>0.0</td>\n",
       "      <td>12.0</td>\n",
       "      <td>59.0</td>\n",
       "      <td>30</td>\n",
       "      <td>This flight could potentially experience delay...</td>\n",
       "    </tr>\n",
       "    <tr>\n",
       "      <th>3</th>\n",
       "      <td>12</td>\n",
       "      <td>2018-12-29</td>\n",
       "      <td>2012</td>\n",
       "      <td>TUL</td>\n",
       "      <td>HOU</td>\n",
       "      <td>20.0</td>\n",
       "      <td>7.0</td>\n",
       "      <td>4.0</td>\n",
       "      <td>24.0</td>\n",
       "      <td>0.0</td>\n",
       "      <td>...</td>\n",
       "      <td>90.0</td>\n",
       "      <td>94.0</td>\n",
       "      <td>83.0</td>\n",
       "      <td>453.0</td>\n",
       "      <td>4.0</td>\n",
       "      <td>0.0</td>\n",
       "      <td>4.0</td>\n",
       "      <td>16.0</td>\n",
       "      <td>15</td>\n",
       "      <td>This flight is scheduled late in the day, whic...</td>\n",
       "    </tr>\n",
       "    <tr>\n",
       "      <th>8</th>\n",
       "      <td>32</td>\n",
       "      <td>2018-05-03</td>\n",
       "      <td>603</td>\n",
       "      <td>OAK</td>\n",
       "      <td>SNA</td>\n",
       "      <td>22.0</td>\n",
       "      <td>15.0</td>\n",
       "      <td>3.0</td>\n",
       "      <td>15.0</td>\n",
       "      <td>0.0</td>\n",
       "      <td>...</td>\n",
       "      <td>85.0</td>\n",
       "      <td>78.0</td>\n",
       "      <td>60.0</td>\n",
       "      <td>371.0</td>\n",
       "      <td>0.0</td>\n",
       "      <td>0.0</td>\n",
       "      <td>0.0</td>\n",
       "      <td>15.0</td>\n",
       "      <td>45</td>\n",
       "      <td>This flight appears to typically experience s...</td>\n",
       "    </tr>\n",
       "    <tr>\n",
       "      <th>9</th>\n",
       "      <td>42</td>\n",
       "      <td>2018-05-12</td>\n",
       "      <td>3240</td>\n",
       "      <td>HOU</td>\n",
       "      <td>MCO</td>\n",
       "      <td>56.0</td>\n",
       "      <td>10.0</td>\n",
       "      <td>3.0</td>\n",
       "      <td>48.0</td>\n",
       "      <td>0.0</td>\n",
       "      <td>...</td>\n",
       "      <td>130.0</td>\n",
       "      <td>122.0</td>\n",
       "      <td>109.0</td>\n",
       "      <td>849.0</td>\n",
       "      <td>43.0</td>\n",
       "      <td>0.0</td>\n",
       "      <td>0.0</td>\n",
       "      <td>5.0</td>\n",
       "      <td>30</td>\n",
       "      <td>This flight is a relatively long-haul evening ...</td>\n",
       "    </tr>\n",
       "    <tr>\n",
       "      <th>27</th>\n",
       "      <td>146</td>\n",
       "      <td>2018-09-17</td>\n",
       "      <td>792</td>\n",
       "      <td>MSP</td>\n",
       "      <td>MDW</td>\n",
       "      <td>0.0</td>\n",
       "      <td>29.0</td>\n",
       "      <td>4.0</td>\n",
       "      <td>18.0</td>\n",
       "      <td>0.0</td>\n",
       "      <td>...</td>\n",
       "      <td>85.0</td>\n",
       "      <td>103.0</td>\n",
       "      <td>70.0</td>\n",
       "      <td>349.0</td>\n",
       "      <td>0.0</td>\n",
       "      <td>0.0</td>\n",
       "      <td>18.0</td>\n",
       "      <td>0.0</td>\n",
       "      <td>20</td>\n",
       "      <td>Southwest Airlines (WN) flights often experien...</td>\n",
       "    </tr>\n",
       "    <tr>\n",
       "      <th>...</th>\n",
       "      <td>...</td>\n",
       "      <td>...</td>\n",
       "      <td>...</td>\n",
       "      <td>...</td>\n",
       "      <td>...</td>\n",
       "      <td>...</td>\n",
       "      <td>...</td>\n",
       "      <td>...</td>\n",
       "      <td>...</td>\n",
       "      <td>...</td>\n",
       "      <td>...</td>\n",
       "      <td>...</td>\n",
       "      <td>...</td>\n",
       "      <td>...</td>\n",
       "      <td>...</td>\n",
       "      <td>...</td>\n",
       "      <td>...</td>\n",
       "      <td>...</td>\n",
       "      <td>...</td>\n",
       "      <td>...</td>\n",
       "      <td>...</td>\n",
       "    </tr>\n",
       "    <tr>\n",
       "      <th>566</th>\n",
       "      <td>2921</td>\n",
       "      <td>2018-11-03</td>\n",
       "      <td>3165</td>\n",
       "      <td>PHX</td>\n",
       "      <td>ABQ</td>\n",
       "      <td>25.0</td>\n",
       "      <td>8.0</td>\n",
       "      <td>4.0</td>\n",
       "      <td>21.0</td>\n",
       "      <td>0.0</td>\n",
       "      <td>...</td>\n",
       "      <td>65.0</td>\n",
       "      <td>61.0</td>\n",
       "      <td>49.0</td>\n",
       "      <td>328.0</td>\n",
       "      <td>21.0</td>\n",
       "      <td>0.0</td>\n",
       "      <td>0.0</td>\n",
       "      <td>0.0</td>\n",
       "      <td>60</td>\n",
       "      <td>This flight is operated by Southwest Airlines ...</td>\n",
       "    </tr>\n",
       "    <tr>\n",
       "      <th>567</th>\n",
       "      <td>2925</td>\n",
       "      <td>2018-04-11</td>\n",
       "      <td>670</td>\n",
       "      <td>LAS</td>\n",
       "      <td>STL</td>\n",
       "      <td>65.0</td>\n",
       "      <td>11.0</td>\n",
       "      <td>2.0</td>\n",
       "      <td>47.0</td>\n",
       "      <td>0.0</td>\n",
       "      <td>...</td>\n",
       "      <td>185.0</td>\n",
       "      <td>167.0</td>\n",
       "      <td>154.0</td>\n",
       "      <td>1371.0</td>\n",
       "      <td>0.0</td>\n",
       "      <td>0.0</td>\n",
       "      <td>0.0</td>\n",
       "      <td>47.0</td>\n",
       "      <td>120</td>\n",
       "      <td>This flight departs in the late afternoon and ...</td>\n",
       "    </tr>\n",
       "    <tr>\n",
       "      <th>568</th>\n",
       "      <td>2929</td>\n",
       "      <td>2018-10-19</td>\n",
       "      <td>2146</td>\n",
       "      <td>SJC</td>\n",
       "      <td>LAS</td>\n",
       "      <td>39.0</td>\n",
       "      <td>18.0</td>\n",
       "      <td>7.0</td>\n",
       "      <td>51.0</td>\n",
       "      <td>0.0</td>\n",
       "      <td>...</td>\n",
       "      <td>80.0</td>\n",
       "      <td>92.0</td>\n",
       "      <td>67.0</td>\n",
       "      <td>386.0</td>\n",
       "      <td>6.0</td>\n",
       "      <td>0.0</td>\n",
       "      <td>12.0</td>\n",
       "      <td>33.0</td>\n",
       "      <td>30</td>\n",
       "      <td>This flight operates during a busy travel peri...</td>\n",
       "    </tr>\n",
       "    <tr>\n",
       "      <th>571</th>\n",
       "      <td>2939</td>\n",
       "      <td>2018-09-05</td>\n",
       "      <td>31</td>\n",
       "      <td>DAL</td>\n",
       "      <td>HOU</td>\n",
       "      <td>13.0</td>\n",
       "      <td>20.0</td>\n",
       "      <td>3.0</td>\n",
       "      <td>37.0</td>\n",
       "      <td>0.0</td>\n",
       "      <td>...</td>\n",
       "      <td>65.0</td>\n",
       "      <td>89.0</td>\n",
       "      <td>66.0</td>\n",
       "      <td>239.0</td>\n",
       "      <td>0.0</td>\n",
       "      <td>13.0</td>\n",
       "      <td>24.0</td>\n",
       "      <td>0.0</td>\n",
       "      <td>15</td>\n",
       "      <td>This flight is relatively short and operates b...</td>\n",
       "    </tr>\n",
       "    <tr>\n",
       "      <th>579</th>\n",
       "      <td>2969</td>\n",
       "      <td>2018-10-19</td>\n",
       "      <td>2245</td>\n",
       "      <td>DEN</td>\n",
       "      <td>BWI</td>\n",
       "      <td>30.0</td>\n",
       "      <td>26.0</td>\n",
       "      <td>2.0</td>\n",
       "      <td>21.0</td>\n",
       "      <td>0.0</td>\n",
       "      <td>...</td>\n",
       "      <td>200.0</td>\n",
       "      <td>191.0</td>\n",
       "      <td>163.0</td>\n",
       "      <td>1491.0</td>\n",
       "      <td>21.0</td>\n",
       "      <td>0.0</td>\n",
       "      <td>0.0</td>\n",
       "      <td>0.0</td>\n",
       "      <td>30</td>\n",
       "      <td>This flight is originating from Denver (DEN) a...</td>\n",
       "    </tr>\n",
       "  </tbody>\n",
       "</table>\n",
       "<p>125 rows × 21 columns</p>\n",
       "</div>"
      ],
      "text/plain": [
       "     index     FL_DATE  OP_CARRIER_FL_NUM ORIGIN DEST  DEP_DELAY  TAXI_OUT  \\\n",
       "2       11  2018-07-19               1459    SAN  SJC       70.0      23.0   \n",
       "3       12  2018-12-29               2012    TUL  HOU       20.0       7.0   \n",
       "8       32  2018-05-03                603    OAK  SNA       22.0      15.0   \n",
       "9       42  2018-05-12               3240    HOU  MCO       56.0      10.0   \n",
       "27     146  2018-09-17                792    MSP  MDW        0.0      29.0   \n",
       "..     ...         ...                ...    ...  ...        ...       ...   \n",
       "566   2921  2018-11-03               3165    PHX  ABQ       25.0       8.0   \n",
       "567   2925  2018-04-11                670    LAS  STL       65.0      11.0   \n",
       "568   2929  2018-10-19               2146    SJC  LAS       39.0      18.0   \n",
       "571   2939  2018-09-05                 31    DAL  HOU       13.0      20.0   \n",
       "579   2969  2018-10-19               2245    DEN  BWI       30.0      26.0   \n",
       "\n",
       "     TAXI_IN  ARR_DELAY  CANCELLED  ...  CRS_ELAPSED_TIME  \\\n",
       "2        5.0       71.0        0.0  ...              85.0   \n",
       "3        4.0       24.0        0.0  ...              90.0   \n",
       "8        3.0       15.0        0.0  ...              85.0   \n",
       "9        3.0       48.0        0.0  ...             130.0   \n",
       "27       4.0       18.0        0.0  ...              85.0   \n",
       "..       ...        ...        ...  ...               ...   \n",
       "566      4.0       21.0        0.0  ...              65.0   \n",
       "567      2.0       47.0        0.0  ...             185.0   \n",
       "568      7.0       51.0        0.0  ...              80.0   \n",
       "571      3.0       37.0        0.0  ...              65.0   \n",
       "579      2.0       21.0        0.0  ...             200.0   \n",
       "\n",
       "     ACTUAL_ELAPSED_TIME  AIR_TIME  DISTANCE  CARRIER_DELAY  WEATHER_DELAY  \\\n",
       "2                   86.0      58.0     417.0            0.0            0.0   \n",
       "3                   94.0      83.0     453.0            4.0            0.0   \n",
       "8                   78.0      60.0     371.0            0.0            0.0   \n",
       "9                  122.0     109.0     849.0           43.0            0.0   \n",
       "27                 103.0      70.0     349.0            0.0            0.0   \n",
       "..                   ...       ...       ...            ...            ...   \n",
       "566                 61.0      49.0     328.0           21.0            0.0   \n",
       "567                167.0     154.0    1371.0            0.0            0.0   \n",
       "568                 92.0      67.0     386.0            6.0            0.0   \n",
       "571                 89.0      66.0     239.0            0.0           13.0   \n",
       "579                191.0     163.0    1491.0           21.0            0.0   \n",
       "\n",
       "     NAS_DELAY  LATE_AIRCRAFT_DELAY  llm_delay_minutes  \\\n",
       "2         12.0                 59.0                 30   \n",
       "3          4.0                 16.0                 15   \n",
       "8          0.0                 15.0                 45   \n",
       "9          0.0                  5.0                 30   \n",
       "27        18.0                  0.0                 20   \n",
       "..         ...                  ...                ...   \n",
       "566        0.0                  0.0                 60   \n",
       "567        0.0                 47.0                120   \n",
       "568       12.0                 33.0                 30   \n",
       "571       24.0                  0.0                 15   \n",
       "579        0.0                  0.0                 30   \n",
       "\n",
       "                                     llm_delay_explain  \n",
       "2    This flight could potentially experience delay...  \n",
       "3    This flight is scheduled late in the day, whic...  \n",
       "8     This flight appears to typically experience s...  \n",
       "9    This flight is a relatively long-haul evening ...  \n",
       "27   Southwest Airlines (WN) flights often experien...  \n",
       "..                                                 ...  \n",
       "566  This flight is operated by Southwest Airlines ...  \n",
       "567  This flight departs in the late afternoon and ...  \n",
       "568  This flight operates during a busy travel peri...  \n",
       "571  This flight is relatively short and operates b...  \n",
       "579  This flight is originating from Denver (DEN) a...  \n",
       "\n",
       "[125 rows x 21 columns]"
      ]
     },
     "execution_count": 88,
     "metadata": {},
     "output_type": "execute_result"
    }
   ],
   "source": [
    "# Filter out the most popular OP_CARRIER and drop the OP_CARRIER column\n",
    "df = df[df[\"OP_CARRIER\"] == \"WN\"].drop(columns=[\"OP_CARRIER\"])\n",
    "df"
   ]
  },
  {
   "cell_type": "markdown",
   "metadata": {},
   "source": [
    "##### Break the flight date by month and day of the week"
   ]
  },
  {
   "cell_type": "markdown",
   "metadata": {},
   "source": [
    "Considering the impact of weather and seasonal patterns on flight delays, it's important to capture the month and day of the week in our analysis. Executives have noted that weekends and winters tend to experience higher delays, highlighting the significance of these temporal factors. Hence, we'll create features to represent the month and day of the week in our dataset."
   ]
  },
  {
   "cell_type": "code",
   "execution_count": 89,
   "metadata": {},
   "outputs": [
    {
     "data": {
      "text/plain": [
       "2      2018-07-19\n",
       "3      2018-12-29\n",
       "8      2018-05-03\n",
       "9      2018-05-12\n",
       "27     2018-09-17\n",
       "          ...    \n",
       "566    2018-11-03\n",
       "567    2018-04-11\n",
       "568    2018-10-19\n",
       "571    2018-09-05\n",
       "579    2018-10-19\n",
       "Name: FL_DATE, Length: 125, dtype: object"
      ]
     },
     "execution_count": 89,
     "metadata": {},
     "output_type": "execute_result"
    }
   ],
   "source": [
    "# Flight date\n",
    "df.FL_DATE"
   ]
  },
  {
   "cell_type": "markdown",
   "metadata": {},
   "source": [
    "Convert FL_DATE to datetime\n",
    "\n",
    "Flight date and other date-related features are currently stored as object data types. To ensure proper handling and analysis, we will convert these features into datetime format."
   ]
  },
  {
   "cell_type": "code",
   "execution_count": 90,
   "metadata": {},
   "outputs": [
    {
     "data": {
      "text/plain": [
       "2     2018-07-19\n",
       "3     2018-12-29\n",
       "8     2018-05-03\n",
       "9     2018-05-12\n",
       "27    2018-09-17\n",
       "         ...    \n",
       "566   2018-11-03\n",
       "567   2018-04-11\n",
       "568   2018-10-19\n",
       "571   2018-09-05\n",
       "579   2018-10-19\n",
       "Name: FL_DATE, Length: 125, dtype: datetime64[ns]"
      ]
     },
     "execution_count": 90,
     "metadata": {},
     "output_type": "execute_result"
    }
   ],
   "source": [
    "dt_time = pd.to_datetime(df.FL_DATE)\n",
    "dt_time"
   ]
  },
  {
   "cell_type": "markdown",
   "metadata": {},
   "source": [
    "Make \"FL_MON\" (month) and \"FL_DOW\" (day of the week) columns"
   ]
  },
  {
   "cell_type": "code",
   "execution_count": 91,
   "metadata": {},
   "outputs": [
    {
     "data": {
      "text/html": [
       "<div>\n",
       "<style scoped>\n",
       "    .dataframe tbody tr th:only-of-type {\n",
       "        vertical-align: middle;\n",
       "    }\n",
       "\n",
       "    .dataframe tbody tr th {\n",
       "        vertical-align: top;\n",
       "    }\n",
       "\n",
       "    .dataframe thead th {\n",
       "        text-align: right;\n",
       "    }\n",
       "</style>\n",
       "<table border=\"1\" class=\"dataframe\">\n",
       "  <thead>\n",
       "    <tr style=\"text-align: right;\">\n",
       "      <th></th>\n",
       "      <th>index</th>\n",
       "      <th>OP_CARRIER_FL_NUM</th>\n",
       "      <th>ORIGIN</th>\n",
       "      <th>DEST</th>\n",
       "      <th>DEP_DELAY</th>\n",
       "      <th>TAXI_OUT</th>\n",
       "      <th>TAXI_IN</th>\n",
       "      <th>ARR_DELAY</th>\n",
       "      <th>CANCELLED</th>\n",
       "      <th>DIVERTED</th>\n",
       "      <th>...</th>\n",
       "      <th>AIR_TIME</th>\n",
       "      <th>DISTANCE</th>\n",
       "      <th>CARRIER_DELAY</th>\n",
       "      <th>WEATHER_DELAY</th>\n",
       "      <th>NAS_DELAY</th>\n",
       "      <th>LATE_AIRCRAFT_DELAY</th>\n",
       "      <th>llm_delay_minutes</th>\n",
       "      <th>llm_delay_explain</th>\n",
       "      <th>FL_MON</th>\n",
       "      <th>FL_DOW</th>\n",
       "    </tr>\n",
       "  </thead>\n",
       "  <tbody>\n",
       "    <tr>\n",
       "      <th>2</th>\n",
       "      <td>11</td>\n",
       "      <td>1459</td>\n",
       "      <td>SAN</td>\n",
       "      <td>SJC</td>\n",
       "      <td>70.0</td>\n",
       "      <td>23.0</td>\n",
       "      <td>5.0</td>\n",
       "      <td>71.0</td>\n",
       "      <td>0.0</td>\n",
       "      <td>0.0</td>\n",
       "      <td>...</td>\n",
       "      <td>58.0</td>\n",
       "      <td>417.0</td>\n",
       "      <td>0.0</td>\n",
       "      <td>0.0</td>\n",
       "      <td>12.0</td>\n",
       "      <td>59.0</td>\n",
       "      <td>30</td>\n",
       "      <td>This flight could potentially experience delay...</td>\n",
       "      <td>7</td>\n",
       "      <td>3</td>\n",
       "    </tr>\n",
       "    <tr>\n",
       "      <th>3</th>\n",
       "      <td>12</td>\n",
       "      <td>2012</td>\n",
       "      <td>TUL</td>\n",
       "      <td>HOU</td>\n",
       "      <td>20.0</td>\n",
       "      <td>7.0</td>\n",
       "      <td>4.0</td>\n",
       "      <td>24.0</td>\n",
       "      <td>0.0</td>\n",
       "      <td>0.0</td>\n",
       "      <td>...</td>\n",
       "      <td>83.0</td>\n",
       "      <td>453.0</td>\n",
       "      <td>4.0</td>\n",
       "      <td>0.0</td>\n",
       "      <td>4.0</td>\n",
       "      <td>16.0</td>\n",
       "      <td>15</td>\n",
       "      <td>This flight is scheduled late in the day, whic...</td>\n",
       "      <td>12</td>\n",
       "      <td>5</td>\n",
       "    </tr>\n",
       "    <tr>\n",
       "      <th>8</th>\n",
       "      <td>32</td>\n",
       "      <td>603</td>\n",
       "      <td>OAK</td>\n",
       "      <td>SNA</td>\n",
       "      <td>22.0</td>\n",
       "      <td>15.0</td>\n",
       "      <td>3.0</td>\n",
       "      <td>15.0</td>\n",
       "      <td>0.0</td>\n",
       "      <td>0.0</td>\n",
       "      <td>...</td>\n",
       "      <td>60.0</td>\n",
       "      <td>371.0</td>\n",
       "      <td>0.0</td>\n",
       "      <td>0.0</td>\n",
       "      <td>0.0</td>\n",
       "      <td>15.0</td>\n",
       "      <td>45</td>\n",
       "      <td>This flight appears to typically experience s...</td>\n",
       "      <td>5</td>\n",
       "      <td>3</td>\n",
       "    </tr>\n",
       "    <tr>\n",
       "      <th>9</th>\n",
       "      <td>42</td>\n",
       "      <td>3240</td>\n",
       "      <td>HOU</td>\n",
       "      <td>MCO</td>\n",
       "      <td>56.0</td>\n",
       "      <td>10.0</td>\n",
       "      <td>3.0</td>\n",
       "      <td>48.0</td>\n",
       "      <td>0.0</td>\n",
       "      <td>0.0</td>\n",
       "      <td>...</td>\n",
       "      <td>109.0</td>\n",
       "      <td>849.0</td>\n",
       "      <td>43.0</td>\n",
       "      <td>0.0</td>\n",
       "      <td>0.0</td>\n",
       "      <td>5.0</td>\n",
       "      <td>30</td>\n",
       "      <td>This flight is a relatively long-haul evening ...</td>\n",
       "      <td>5</td>\n",
       "      <td>5</td>\n",
       "    </tr>\n",
       "    <tr>\n",
       "      <th>27</th>\n",
       "      <td>146</td>\n",
       "      <td>792</td>\n",
       "      <td>MSP</td>\n",
       "      <td>MDW</td>\n",
       "      <td>0.0</td>\n",
       "      <td>29.0</td>\n",
       "      <td>4.0</td>\n",
       "      <td>18.0</td>\n",
       "      <td>0.0</td>\n",
       "      <td>0.0</td>\n",
       "      <td>...</td>\n",
       "      <td>70.0</td>\n",
       "      <td>349.0</td>\n",
       "      <td>0.0</td>\n",
       "      <td>0.0</td>\n",
       "      <td>18.0</td>\n",
       "      <td>0.0</td>\n",
       "      <td>20</td>\n",
       "      <td>Southwest Airlines (WN) flights often experien...</td>\n",
       "      <td>9</td>\n",
       "      <td>0</td>\n",
       "    </tr>\n",
       "    <tr>\n",
       "      <th>...</th>\n",
       "      <td>...</td>\n",
       "      <td>...</td>\n",
       "      <td>...</td>\n",
       "      <td>...</td>\n",
       "      <td>...</td>\n",
       "      <td>...</td>\n",
       "      <td>...</td>\n",
       "      <td>...</td>\n",
       "      <td>...</td>\n",
       "      <td>...</td>\n",
       "      <td>...</td>\n",
       "      <td>...</td>\n",
       "      <td>...</td>\n",
       "      <td>...</td>\n",
       "      <td>...</td>\n",
       "      <td>...</td>\n",
       "      <td>...</td>\n",
       "      <td>...</td>\n",
       "      <td>...</td>\n",
       "      <td>...</td>\n",
       "      <td>...</td>\n",
       "    </tr>\n",
       "    <tr>\n",
       "      <th>566</th>\n",
       "      <td>2921</td>\n",
       "      <td>3165</td>\n",
       "      <td>PHX</td>\n",
       "      <td>ABQ</td>\n",
       "      <td>25.0</td>\n",
       "      <td>8.0</td>\n",
       "      <td>4.0</td>\n",
       "      <td>21.0</td>\n",
       "      <td>0.0</td>\n",
       "      <td>0.0</td>\n",
       "      <td>...</td>\n",
       "      <td>49.0</td>\n",
       "      <td>328.0</td>\n",
       "      <td>21.0</td>\n",
       "      <td>0.0</td>\n",
       "      <td>0.0</td>\n",
       "      <td>0.0</td>\n",
       "      <td>60</td>\n",
       "      <td>This flight is operated by Southwest Airlines ...</td>\n",
       "      <td>11</td>\n",
       "      <td>5</td>\n",
       "    </tr>\n",
       "    <tr>\n",
       "      <th>567</th>\n",
       "      <td>2925</td>\n",
       "      <td>670</td>\n",
       "      <td>LAS</td>\n",
       "      <td>STL</td>\n",
       "      <td>65.0</td>\n",
       "      <td>11.0</td>\n",
       "      <td>2.0</td>\n",
       "      <td>47.0</td>\n",
       "      <td>0.0</td>\n",
       "      <td>0.0</td>\n",
       "      <td>...</td>\n",
       "      <td>154.0</td>\n",
       "      <td>1371.0</td>\n",
       "      <td>0.0</td>\n",
       "      <td>0.0</td>\n",
       "      <td>0.0</td>\n",
       "      <td>47.0</td>\n",
       "      <td>120</td>\n",
       "      <td>This flight departs in the late afternoon and ...</td>\n",
       "      <td>4</td>\n",
       "      <td>2</td>\n",
       "    </tr>\n",
       "    <tr>\n",
       "      <th>568</th>\n",
       "      <td>2929</td>\n",
       "      <td>2146</td>\n",
       "      <td>SJC</td>\n",
       "      <td>LAS</td>\n",
       "      <td>39.0</td>\n",
       "      <td>18.0</td>\n",
       "      <td>7.0</td>\n",
       "      <td>51.0</td>\n",
       "      <td>0.0</td>\n",
       "      <td>0.0</td>\n",
       "      <td>...</td>\n",
       "      <td>67.0</td>\n",
       "      <td>386.0</td>\n",
       "      <td>6.0</td>\n",
       "      <td>0.0</td>\n",
       "      <td>12.0</td>\n",
       "      <td>33.0</td>\n",
       "      <td>30</td>\n",
       "      <td>This flight operates during a busy travel peri...</td>\n",
       "      <td>10</td>\n",
       "      <td>4</td>\n",
       "    </tr>\n",
       "    <tr>\n",
       "      <th>571</th>\n",
       "      <td>2939</td>\n",
       "      <td>31</td>\n",
       "      <td>DAL</td>\n",
       "      <td>HOU</td>\n",
       "      <td>13.0</td>\n",
       "      <td>20.0</td>\n",
       "      <td>3.0</td>\n",
       "      <td>37.0</td>\n",
       "      <td>0.0</td>\n",
       "      <td>0.0</td>\n",
       "      <td>...</td>\n",
       "      <td>66.0</td>\n",
       "      <td>239.0</td>\n",
       "      <td>0.0</td>\n",
       "      <td>13.0</td>\n",
       "      <td>24.0</td>\n",
       "      <td>0.0</td>\n",
       "      <td>15</td>\n",
       "      <td>This flight is relatively short and operates b...</td>\n",
       "      <td>9</td>\n",
       "      <td>2</td>\n",
       "    </tr>\n",
       "    <tr>\n",
       "      <th>579</th>\n",
       "      <td>2969</td>\n",
       "      <td>2245</td>\n",
       "      <td>DEN</td>\n",
       "      <td>BWI</td>\n",
       "      <td>30.0</td>\n",
       "      <td>26.0</td>\n",
       "      <td>2.0</td>\n",
       "      <td>21.0</td>\n",
       "      <td>0.0</td>\n",
       "      <td>0.0</td>\n",
       "      <td>...</td>\n",
       "      <td>163.0</td>\n",
       "      <td>1491.0</td>\n",
       "      <td>21.0</td>\n",
       "      <td>0.0</td>\n",
       "      <td>0.0</td>\n",
       "      <td>0.0</td>\n",
       "      <td>30</td>\n",
       "      <td>This flight is originating from Denver (DEN) a...</td>\n",
       "      <td>10</td>\n",
       "      <td>4</td>\n",
       "    </tr>\n",
       "  </tbody>\n",
       "</table>\n",
       "<p>125 rows × 22 columns</p>\n",
       "</div>"
      ],
      "text/plain": [
       "     index  OP_CARRIER_FL_NUM ORIGIN DEST  DEP_DELAY  TAXI_OUT  TAXI_IN  \\\n",
       "2       11               1459    SAN  SJC       70.0      23.0      5.0   \n",
       "3       12               2012    TUL  HOU       20.0       7.0      4.0   \n",
       "8       32                603    OAK  SNA       22.0      15.0      3.0   \n",
       "9       42               3240    HOU  MCO       56.0      10.0      3.0   \n",
       "27     146                792    MSP  MDW        0.0      29.0      4.0   \n",
       "..     ...                ...    ...  ...        ...       ...      ...   \n",
       "566   2921               3165    PHX  ABQ       25.0       8.0      4.0   \n",
       "567   2925                670    LAS  STL       65.0      11.0      2.0   \n",
       "568   2929               2146    SJC  LAS       39.0      18.0      7.0   \n",
       "571   2939                 31    DAL  HOU       13.0      20.0      3.0   \n",
       "579   2969               2245    DEN  BWI       30.0      26.0      2.0   \n",
       "\n",
       "     ARR_DELAY  CANCELLED  DIVERTED  ...  AIR_TIME  DISTANCE  CARRIER_DELAY  \\\n",
       "2         71.0        0.0       0.0  ...      58.0     417.0            0.0   \n",
       "3         24.0        0.0       0.0  ...      83.0     453.0            4.0   \n",
       "8         15.0        0.0       0.0  ...      60.0     371.0            0.0   \n",
       "9         48.0        0.0       0.0  ...     109.0     849.0           43.0   \n",
       "27        18.0        0.0       0.0  ...      70.0     349.0            0.0   \n",
       "..         ...        ...       ...  ...       ...       ...            ...   \n",
       "566       21.0        0.0       0.0  ...      49.0     328.0           21.0   \n",
       "567       47.0        0.0       0.0  ...     154.0    1371.0            0.0   \n",
       "568       51.0        0.0       0.0  ...      67.0     386.0            6.0   \n",
       "571       37.0        0.0       0.0  ...      66.0     239.0            0.0   \n",
       "579       21.0        0.0       0.0  ...     163.0    1491.0           21.0   \n",
       "\n",
       "     WEATHER_DELAY  NAS_DELAY  LATE_AIRCRAFT_DELAY  llm_delay_minutes  \\\n",
       "2              0.0       12.0                 59.0                 30   \n",
       "3              0.0        4.0                 16.0                 15   \n",
       "8              0.0        0.0                 15.0                 45   \n",
       "9              0.0        0.0                  5.0                 30   \n",
       "27             0.0       18.0                  0.0                 20   \n",
       "..             ...        ...                  ...                ...   \n",
       "566            0.0        0.0                  0.0                 60   \n",
       "567            0.0        0.0                 47.0                120   \n",
       "568            0.0       12.0                 33.0                 30   \n",
       "571           13.0       24.0                  0.0                 15   \n",
       "579            0.0        0.0                  0.0                 30   \n",
       "\n",
       "                                     llm_delay_explain FL_MON FL_DOW  \n",
       "2    This flight could potentially experience delay...      7      3  \n",
       "3    This flight is scheduled late in the day, whic...     12      5  \n",
       "8     This flight appears to typically experience s...      5      3  \n",
       "9    This flight is a relatively long-haul evening ...      5      5  \n",
       "27   Southwest Airlines (WN) flights often experien...      9      0  \n",
       "..                                                 ...    ...    ...  \n",
       "566  This flight is operated by Southwest Airlines ...     11      5  \n",
       "567  This flight departs in the late afternoon and ...      4      2  \n",
       "568  This flight operates during a busy travel peri...     10      4  \n",
       "571  This flight is relatively short and operates b...      9      2  \n",
       "579  This flight is originating from Denver (DEN) a...     10      4  \n",
       "\n",
       "[125 rows x 22 columns]"
      ]
     },
     "execution_count": 91,
     "metadata": {},
     "output_type": "execute_result"
    }
   ],
   "source": [
    "df[\"FL_MON\"] = dt_time.apply(lambda x: x.month)\n",
    "df[\"FL_DOW\"] = dt_time.apply(lambda x: x.dayofweek)\n",
    "df = df.drop(columns=[\"FL_DATE\"])\n",
    "df"
   ]
  },
  {
   "cell_type": "markdown",
   "metadata": {},
   "source": [
    "##### Focus on the hub airports\n",
    "\n",
    "It's crucial to identify if the arrival or departure airports are hub airports. Hub airports are responsible for more than 70% of air carrier traffic meaning that these airports are the main source of revenue and expenses.\n",
    "\n",
    "Therefore we can simplify (and clarify) our analysis by encoding these hub airports with IATA codes and removing specific columns like FL_NUM, ORIGIN, and DEST.\n",
    "\n",
    "Find the hub airports"
   ]
  },
  {
   "cell_type": "code",
   "execution_count": 92,
   "metadata": {},
   "outputs": [
    {
     "data": {
      "text/plain": [
       "['DAL',\n",
       " 'PHX',\n",
       " 'LAS',\n",
       " 'MDW',\n",
       " 'BWI',\n",
       " 'HOU',\n",
       " 'SJC',\n",
       " 'LAX',\n",
       " 'MCO',\n",
       " 'SFO',\n",
       " 'DEN',\n",
       " 'OAK']"
      ]
     },
     "execution_count": 92,
     "metadata": {},
     "output_type": "execute_result"
    }
   ],
   "source": [
    "or_dest = (df[\"ORIGIN\"].value_counts() + df[\"DEST\"].value_counts()).sort_values(ascending=False)\n",
    "freq = np.cumsum(or_dest) / or_dest.sum()\n",
    "threshold = np.where(freq > 0.7)[0][0]\n",
    "hub_airports = or_dest.index[:threshold+1].to_list()\n",
    "hub_airports"
   ]
  },
  {
   "cell_type": "markdown",
   "metadata": {},
   "source": [
    "Make 'ORIGIN_HUB' and 'DEST_HUB' bool columns that will indicate that df.ORIGIN and df.DEST in hub_airports"
   ]
  },
  {
   "cell_type": "code",
   "execution_count": 93,
   "metadata": {},
   "outputs": [],
   "source": [
    "df[\"ORIGIN_HUB\"] = df[\"ORIGIN\"].isin(hub_airports).astype(int)\n",
    "df[\"DEST_HUB\"] = df[\"DEST\"].isin(hub_airports).astype(int)\n",
    "df = df.drop(columns=[\"ORIGIN\", \"DEST\", \"OP_CARRIER_FL_NUM\"])"
   ]
  },
  {
   "cell_type": "code",
   "execution_count": 94,
   "metadata": {},
   "outputs": [
    {
     "data": {
      "text/html": [
       "<div>\n",
       "<style scoped>\n",
       "    .dataframe tbody tr th:only-of-type {\n",
       "        vertical-align: middle;\n",
       "    }\n",
       "\n",
       "    .dataframe tbody tr th {\n",
       "        vertical-align: top;\n",
       "    }\n",
       "\n",
       "    .dataframe thead th {\n",
       "        text-align: right;\n",
       "    }\n",
       "</style>\n",
       "<table border=\"1\" class=\"dataframe\">\n",
       "  <thead>\n",
       "    <tr style=\"text-align: right;\">\n",
       "      <th></th>\n",
       "      <th>index</th>\n",
       "      <th>DEP_DELAY</th>\n",
       "      <th>TAXI_OUT</th>\n",
       "      <th>TAXI_IN</th>\n",
       "      <th>ARR_DELAY</th>\n",
       "      <th>CANCELLED</th>\n",
       "      <th>DIVERTED</th>\n",
       "      <th>CRS_ELAPSED_TIME</th>\n",
       "      <th>ACTUAL_ELAPSED_TIME</th>\n",
       "      <th>AIR_TIME</th>\n",
       "      <th>...</th>\n",
       "      <th>CARRIER_DELAY</th>\n",
       "      <th>WEATHER_DELAY</th>\n",
       "      <th>NAS_DELAY</th>\n",
       "      <th>LATE_AIRCRAFT_DELAY</th>\n",
       "      <th>llm_delay_minutes</th>\n",
       "      <th>llm_delay_explain</th>\n",
       "      <th>FL_MON</th>\n",
       "      <th>FL_DOW</th>\n",
       "      <th>ORIGIN_HUB</th>\n",
       "      <th>DEST_HUB</th>\n",
       "    </tr>\n",
       "  </thead>\n",
       "  <tbody>\n",
       "    <tr>\n",
       "      <th>2</th>\n",
       "      <td>11</td>\n",
       "      <td>70.0</td>\n",
       "      <td>23.0</td>\n",
       "      <td>5.0</td>\n",
       "      <td>71.0</td>\n",
       "      <td>0.0</td>\n",
       "      <td>0.0</td>\n",
       "      <td>85.0</td>\n",
       "      <td>86.0</td>\n",
       "      <td>58.0</td>\n",
       "      <td>...</td>\n",
       "      <td>0.0</td>\n",
       "      <td>0.0</td>\n",
       "      <td>12.0</td>\n",
       "      <td>59.0</td>\n",
       "      <td>30</td>\n",
       "      <td>This flight could potentially experience delay...</td>\n",
       "      <td>7</td>\n",
       "      <td>3</td>\n",
       "      <td>0</td>\n",
       "      <td>1</td>\n",
       "    </tr>\n",
       "    <tr>\n",
       "      <th>3</th>\n",
       "      <td>12</td>\n",
       "      <td>20.0</td>\n",
       "      <td>7.0</td>\n",
       "      <td>4.0</td>\n",
       "      <td>24.0</td>\n",
       "      <td>0.0</td>\n",
       "      <td>0.0</td>\n",
       "      <td>90.0</td>\n",
       "      <td>94.0</td>\n",
       "      <td>83.0</td>\n",
       "      <td>...</td>\n",
       "      <td>4.0</td>\n",
       "      <td>0.0</td>\n",
       "      <td>4.0</td>\n",
       "      <td>16.0</td>\n",
       "      <td>15</td>\n",
       "      <td>This flight is scheduled late in the day, whic...</td>\n",
       "      <td>12</td>\n",
       "      <td>5</td>\n",
       "      <td>0</td>\n",
       "      <td>1</td>\n",
       "    </tr>\n",
       "    <tr>\n",
       "      <th>8</th>\n",
       "      <td>32</td>\n",
       "      <td>22.0</td>\n",
       "      <td>15.0</td>\n",
       "      <td>3.0</td>\n",
       "      <td>15.0</td>\n",
       "      <td>0.0</td>\n",
       "      <td>0.0</td>\n",
       "      <td>85.0</td>\n",
       "      <td>78.0</td>\n",
       "      <td>60.0</td>\n",
       "      <td>...</td>\n",
       "      <td>0.0</td>\n",
       "      <td>0.0</td>\n",
       "      <td>0.0</td>\n",
       "      <td>15.0</td>\n",
       "      <td>45</td>\n",
       "      <td>This flight appears to typically experience s...</td>\n",
       "      <td>5</td>\n",
       "      <td>3</td>\n",
       "      <td>1</td>\n",
       "      <td>0</td>\n",
       "    </tr>\n",
       "    <tr>\n",
       "      <th>9</th>\n",
       "      <td>42</td>\n",
       "      <td>56.0</td>\n",
       "      <td>10.0</td>\n",
       "      <td>3.0</td>\n",
       "      <td>48.0</td>\n",
       "      <td>0.0</td>\n",
       "      <td>0.0</td>\n",
       "      <td>130.0</td>\n",
       "      <td>122.0</td>\n",
       "      <td>109.0</td>\n",
       "      <td>...</td>\n",
       "      <td>43.0</td>\n",
       "      <td>0.0</td>\n",
       "      <td>0.0</td>\n",
       "      <td>5.0</td>\n",
       "      <td>30</td>\n",
       "      <td>This flight is a relatively long-haul evening ...</td>\n",
       "      <td>5</td>\n",
       "      <td>5</td>\n",
       "      <td>1</td>\n",
       "      <td>1</td>\n",
       "    </tr>\n",
       "    <tr>\n",
       "      <th>27</th>\n",
       "      <td>146</td>\n",
       "      <td>0.0</td>\n",
       "      <td>29.0</td>\n",
       "      <td>4.0</td>\n",
       "      <td>18.0</td>\n",
       "      <td>0.0</td>\n",
       "      <td>0.0</td>\n",
       "      <td>85.0</td>\n",
       "      <td>103.0</td>\n",
       "      <td>70.0</td>\n",
       "      <td>...</td>\n",
       "      <td>0.0</td>\n",
       "      <td>0.0</td>\n",
       "      <td>18.0</td>\n",
       "      <td>0.0</td>\n",
       "      <td>20</td>\n",
       "      <td>Southwest Airlines (WN) flights often experien...</td>\n",
       "      <td>9</td>\n",
       "      <td>0</td>\n",
       "      <td>0</td>\n",
       "      <td>1</td>\n",
       "    </tr>\n",
       "    <tr>\n",
       "      <th>...</th>\n",
       "      <td>...</td>\n",
       "      <td>...</td>\n",
       "      <td>...</td>\n",
       "      <td>...</td>\n",
       "      <td>...</td>\n",
       "      <td>...</td>\n",
       "      <td>...</td>\n",
       "      <td>...</td>\n",
       "      <td>...</td>\n",
       "      <td>...</td>\n",
       "      <td>...</td>\n",
       "      <td>...</td>\n",
       "      <td>...</td>\n",
       "      <td>...</td>\n",
       "      <td>...</td>\n",
       "      <td>...</td>\n",
       "      <td>...</td>\n",
       "      <td>...</td>\n",
       "      <td>...</td>\n",
       "      <td>...</td>\n",
       "      <td>...</td>\n",
       "    </tr>\n",
       "    <tr>\n",
       "      <th>566</th>\n",
       "      <td>2921</td>\n",
       "      <td>25.0</td>\n",
       "      <td>8.0</td>\n",
       "      <td>4.0</td>\n",
       "      <td>21.0</td>\n",
       "      <td>0.0</td>\n",
       "      <td>0.0</td>\n",
       "      <td>65.0</td>\n",
       "      <td>61.0</td>\n",
       "      <td>49.0</td>\n",
       "      <td>...</td>\n",
       "      <td>21.0</td>\n",
       "      <td>0.0</td>\n",
       "      <td>0.0</td>\n",
       "      <td>0.0</td>\n",
       "      <td>60</td>\n",
       "      <td>This flight is operated by Southwest Airlines ...</td>\n",
       "      <td>11</td>\n",
       "      <td>5</td>\n",
       "      <td>1</td>\n",
       "      <td>0</td>\n",
       "    </tr>\n",
       "    <tr>\n",
       "      <th>567</th>\n",
       "      <td>2925</td>\n",
       "      <td>65.0</td>\n",
       "      <td>11.0</td>\n",
       "      <td>2.0</td>\n",
       "      <td>47.0</td>\n",
       "      <td>0.0</td>\n",
       "      <td>0.0</td>\n",
       "      <td>185.0</td>\n",
       "      <td>167.0</td>\n",
       "      <td>154.0</td>\n",
       "      <td>...</td>\n",
       "      <td>0.0</td>\n",
       "      <td>0.0</td>\n",
       "      <td>0.0</td>\n",
       "      <td>47.0</td>\n",
       "      <td>120</td>\n",
       "      <td>This flight departs in the late afternoon and ...</td>\n",
       "      <td>4</td>\n",
       "      <td>2</td>\n",
       "      <td>1</td>\n",
       "      <td>0</td>\n",
       "    </tr>\n",
       "    <tr>\n",
       "      <th>568</th>\n",
       "      <td>2929</td>\n",
       "      <td>39.0</td>\n",
       "      <td>18.0</td>\n",
       "      <td>7.0</td>\n",
       "      <td>51.0</td>\n",
       "      <td>0.0</td>\n",
       "      <td>0.0</td>\n",
       "      <td>80.0</td>\n",
       "      <td>92.0</td>\n",
       "      <td>67.0</td>\n",
       "      <td>...</td>\n",
       "      <td>6.0</td>\n",
       "      <td>0.0</td>\n",
       "      <td>12.0</td>\n",
       "      <td>33.0</td>\n",
       "      <td>30</td>\n",
       "      <td>This flight operates during a busy travel peri...</td>\n",
       "      <td>10</td>\n",
       "      <td>4</td>\n",
       "      <td>1</td>\n",
       "      <td>1</td>\n",
       "    </tr>\n",
       "    <tr>\n",
       "      <th>571</th>\n",
       "      <td>2939</td>\n",
       "      <td>13.0</td>\n",
       "      <td>20.0</td>\n",
       "      <td>3.0</td>\n",
       "      <td>37.0</td>\n",
       "      <td>0.0</td>\n",
       "      <td>0.0</td>\n",
       "      <td>65.0</td>\n",
       "      <td>89.0</td>\n",
       "      <td>66.0</td>\n",
       "      <td>...</td>\n",
       "      <td>0.0</td>\n",
       "      <td>13.0</td>\n",
       "      <td>24.0</td>\n",
       "      <td>0.0</td>\n",
       "      <td>15</td>\n",
       "      <td>This flight is relatively short and operates b...</td>\n",
       "      <td>9</td>\n",
       "      <td>2</td>\n",
       "      <td>1</td>\n",
       "      <td>1</td>\n",
       "    </tr>\n",
       "    <tr>\n",
       "      <th>579</th>\n",
       "      <td>2969</td>\n",
       "      <td>30.0</td>\n",
       "      <td>26.0</td>\n",
       "      <td>2.0</td>\n",
       "      <td>21.0</td>\n",
       "      <td>0.0</td>\n",
       "      <td>0.0</td>\n",
       "      <td>200.0</td>\n",
       "      <td>191.0</td>\n",
       "      <td>163.0</td>\n",
       "      <td>...</td>\n",
       "      <td>21.0</td>\n",
       "      <td>0.0</td>\n",
       "      <td>0.0</td>\n",
       "      <td>0.0</td>\n",
       "      <td>30</td>\n",
       "      <td>This flight is originating from Denver (DEN) a...</td>\n",
       "      <td>10</td>\n",
       "      <td>4</td>\n",
       "      <td>1</td>\n",
       "      <td>1</td>\n",
       "    </tr>\n",
       "  </tbody>\n",
       "</table>\n",
       "<p>125 rows × 21 columns</p>\n",
       "</div>"
      ],
      "text/plain": [
       "     index  DEP_DELAY  TAXI_OUT  TAXI_IN  ARR_DELAY  CANCELLED  DIVERTED  \\\n",
       "2       11       70.0      23.0      5.0       71.0        0.0       0.0   \n",
       "3       12       20.0       7.0      4.0       24.0        0.0       0.0   \n",
       "8       32       22.0      15.0      3.0       15.0        0.0       0.0   \n",
       "9       42       56.0      10.0      3.0       48.0        0.0       0.0   \n",
       "27     146        0.0      29.0      4.0       18.0        0.0       0.0   \n",
       "..     ...        ...       ...      ...        ...        ...       ...   \n",
       "566   2921       25.0       8.0      4.0       21.0        0.0       0.0   \n",
       "567   2925       65.0      11.0      2.0       47.0        0.0       0.0   \n",
       "568   2929       39.0      18.0      7.0       51.0        0.0       0.0   \n",
       "571   2939       13.0      20.0      3.0       37.0        0.0       0.0   \n",
       "579   2969       30.0      26.0      2.0       21.0        0.0       0.0   \n",
       "\n",
       "     CRS_ELAPSED_TIME  ACTUAL_ELAPSED_TIME  AIR_TIME  ...  CARRIER_DELAY  \\\n",
       "2                85.0                 86.0      58.0  ...            0.0   \n",
       "3                90.0                 94.0      83.0  ...            4.0   \n",
       "8                85.0                 78.0      60.0  ...            0.0   \n",
       "9               130.0                122.0     109.0  ...           43.0   \n",
       "27               85.0                103.0      70.0  ...            0.0   \n",
       "..                ...                  ...       ...  ...            ...   \n",
       "566              65.0                 61.0      49.0  ...           21.0   \n",
       "567             185.0                167.0     154.0  ...            0.0   \n",
       "568              80.0                 92.0      67.0  ...            6.0   \n",
       "571              65.0                 89.0      66.0  ...            0.0   \n",
       "579             200.0                191.0     163.0  ...           21.0   \n",
       "\n",
       "     WEATHER_DELAY  NAS_DELAY  LATE_AIRCRAFT_DELAY  llm_delay_minutes  \\\n",
       "2              0.0       12.0                 59.0                 30   \n",
       "3              0.0        4.0                 16.0                 15   \n",
       "8              0.0        0.0                 15.0                 45   \n",
       "9              0.0        0.0                  5.0                 30   \n",
       "27             0.0       18.0                  0.0                 20   \n",
       "..             ...        ...                  ...                ...   \n",
       "566            0.0        0.0                  0.0                 60   \n",
       "567            0.0        0.0                 47.0                120   \n",
       "568            0.0       12.0                 33.0                 30   \n",
       "571           13.0       24.0                  0.0                 15   \n",
       "579            0.0        0.0                  0.0                 30   \n",
       "\n",
       "                                     llm_delay_explain FL_MON  FL_DOW  \\\n",
       "2    This flight could potentially experience delay...      7       3   \n",
       "3    This flight is scheduled late in the day, whic...     12       5   \n",
       "8     This flight appears to typically experience s...      5       3   \n",
       "9    This flight is a relatively long-haul evening ...      5       5   \n",
       "27   Southwest Airlines (WN) flights often experien...      9       0   \n",
       "..                                                 ...    ...     ...   \n",
       "566  This flight is operated by Southwest Airlines ...     11       5   \n",
       "567  This flight departs in the late afternoon and ...      4       2   \n",
       "568  This flight operates during a busy travel peri...     10       4   \n",
       "571  This flight is relatively short and operates b...      9       2   \n",
       "579  This flight is originating from Denver (DEN) a...     10       4   \n",
       "\n",
       "     ORIGIN_HUB  DEST_HUB  \n",
       "2             0         1  \n",
       "3             0         1  \n",
       "8             1         0  \n",
       "9             1         1  \n",
       "27            0         1  \n",
       "..          ...       ...  \n",
       "566           1         0  \n",
       "567           1         0  \n",
       "568           1         1  \n",
       "571           1         1  \n",
       "579           1         1  \n",
       "\n",
       "[125 rows x 21 columns]"
      ]
     },
     "execution_count": 94,
     "metadata": {},
     "output_type": "execute_result"
    }
   ],
   "source": [
    "df"
   ]
  },
  {
   "cell_type": "markdown",
   "metadata": {},
   "source": [
    "##### Focus on the carrier related delay issues"
   ]
  },
  {
   "cell_type": "code",
   "execution_count": 95,
   "metadata": {},
   "outputs": [
    {
     "data": {
      "text/html": [
       "<div>\n",
       "<style scoped>\n",
       "    .dataframe tbody tr th:only-of-type {\n",
       "        vertical-align: middle;\n",
       "    }\n",
       "\n",
       "    .dataframe tbody tr th {\n",
       "        vertical-align: top;\n",
       "    }\n",
       "\n",
       "    .dataframe thead th {\n",
       "        text-align: right;\n",
       "    }\n",
       "</style>\n",
       "<table border=\"1\" class=\"dataframe\">\n",
       "  <thead>\n",
       "    <tr style=\"text-align: right;\">\n",
       "      <th></th>\n",
       "      <th>index</th>\n",
       "      <th>TAXI_OUT</th>\n",
       "      <th>TAXI_IN</th>\n",
       "      <th>CANCELLED</th>\n",
       "      <th>DIVERTED</th>\n",
       "      <th>CRS_ELAPSED_TIME</th>\n",
       "      <th>ACTUAL_ELAPSED_TIME</th>\n",
       "      <th>AIR_TIME</th>\n",
       "      <th>DISTANCE</th>\n",
       "      <th>CARRIER_DELAY</th>\n",
       "      <th>llm_delay_minutes</th>\n",
       "      <th>llm_delay_explain</th>\n",
       "      <th>FL_MON</th>\n",
       "      <th>FL_DOW</th>\n",
       "      <th>ORIGIN_HUB</th>\n",
       "      <th>DEST_HUB</th>\n",
       "    </tr>\n",
       "  </thead>\n",
       "  <tbody>\n",
       "    <tr>\n",
       "      <th>2</th>\n",
       "      <td>11</td>\n",
       "      <td>23.0</td>\n",
       "      <td>5.0</td>\n",
       "      <td>0.0</td>\n",
       "      <td>0.0</td>\n",
       "      <td>85.0</td>\n",
       "      <td>86.0</td>\n",
       "      <td>58.0</td>\n",
       "      <td>417.0</td>\n",
       "      <td>0.0</td>\n",
       "      <td>30</td>\n",
       "      <td>This flight could potentially experience delay...</td>\n",
       "      <td>7</td>\n",
       "      <td>3</td>\n",
       "      <td>0</td>\n",
       "      <td>1</td>\n",
       "    </tr>\n",
       "    <tr>\n",
       "      <th>3</th>\n",
       "      <td>12</td>\n",
       "      <td>7.0</td>\n",
       "      <td>4.0</td>\n",
       "      <td>0.0</td>\n",
       "      <td>0.0</td>\n",
       "      <td>90.0</td>\n",
       "      <td>94.0</td>\n",
       "      <td>83.0</td>\n",
       "      <td>453.0</td>\n",
       "      <td>4.0</td>\n",
       "      <td>15</td>\n",
       "      <td>This flight is scheduled late in the day, whic...</td>\n",
       "      <td>12</td>\n",
       "      <td>5</td>\n",
       "      <td>0</td>\n",
       "      <td>1</td>\n",
       "    </tr>\n",
       "    <tr>\n",
       "      <th>8</th>\n",
       "      <td>32</td>\n",
       "      <td>15.0</td>\n",
       "      <td>3.0</td>\n",
       "      <td>0.0</td>\n",
       "      <td>0.0</td>\n",
       "      <td>85.0</td>\n",
       "      <td>78.0</td>\n",
       "      <td>60.0</td>\n",
       "      <td>371.0</td>\n",
       "      <td>0.0</td>\n",
       "      <td>45</td>\n",
       "      <td>This flight appears to typically experience s...</td>\n",
       "      <td>5</td>\n",
       "      <td>3</td>\n",
       "      <td>1</td>\n",
       "      <td>0</td>\n",
       "    </tr>\n",
       "    <tr>\n",
       "      <th>9</th>\n",
       "      <td>42</td>\n",
       "      <td>10.0</td>\n",
       "      <td>3.0</td>\n",
       "      <td>0.0</td>\n",
       "      <td>0.0</td>\n",
       "      <td>130.0</td>\n",
       "      <td>122.0</td>\n",
       "      <td>109.0</td>\n",
       "      <td>849.0</td>\n",
       "      <td>43.0</td>\n",
       "      <td>30</td>\n",
       "      <td>This flight is a relatively long-haul evening ...</td>\n",
       "      <td>5</td>\n",
       "      <td>5</td>\n",
       "      <td>1</td>\n",
       "      <td>1</td>\n",
       "    </tr>\n",
       "    <tr>\n",
       "      <th>27</th>\n",
       "      <td>146</td>\n",
       "      <td>29.0</td>\n",
       "      <td>4.0</td>\n",
       "      <td>0.0</td>\n",
       "      <td>0.0</td>\n",
       "      <td>85.0</td>\n",
       "      <td>103.0</td>\n",
       "      <td>70.0</td>\n",
       "      <td>349.0</td>\n",
       "      <td>0.0</td>\n",
       "      <td>20</td>\n",
       "      <td>Southwest Airlines (WN) flights often experien...</td>\n",
       "      <td>9</td>\n",
       "      <td>0</td>\n",
       "      <td>0</td>\n",
       "      <td>1</td>\n",
       "    </tr>\n",
       "    <tr>\n",
       "      <th>...</th>\n",
       "      <td>...</td>\n",
       "      <td>...</td>\n",
       "      <td>...</td>\n",
       "      <td>...</td>\n",
       "      <td>...</td>\n",
       "      <td>...</td>\n",
       "      <td>...</td>\n",
       "      <td>...</td>\n",
       "      <td>...</td>\n",
       "      <td>...</td>\n",
       "      <td>...</td>\n",
       "      <td>...</td>\n",
       "      <td>...</td>\n",
       "      <td>...</td>\n",
       "      <td>...</td>\n",
       "      <td>...</td>\n",
       "    </tr>\n",
       "    <tr>\n",
       "      <th>566</th>\n",
       "      <td>2921</td>\n",
       "      <td>8.0</td>\n",
       "      <td>4.0</td>\n",
       "      <td>0.0</td>\n",
       "      <td>0.0</td>\n",
       "      <td>65.0</td>\n",
       "      <td>61.0</td>\n",
       "      <td>49.0</td>\n",
       "      <td>328.0</td>\n",
       "      <td>21.0</td>\n",
       "      <td>60</td>\n",
       "      <td>This flight is operated by Southwest Airlines ...</td>\n",
       "      <td>11</td>\n",
       "      <td>5</td>\n",
       "      <td>1</td>\n",
       "      <td>0</td>\n",
       "    </tr>\n",
       "    <tr>\n",
       "      <th>567</th>\n",
       "      <td>2925</td>\n",
       "      <td>11.0</td>\n",
       "      <td>2.0</td>\n",
       "      <td>0.0</td>\n",
       "      <td>0.0</td>\n",
       "      <td>185.0</td>\n",
       "      <td>167.0</td>\n",
       "      <td>154.0</td>\n",
       "      <td>1371.0</td>\n",
       "      <td>0.0</td>\n",
       "      <td>120</td>\n",
       "      <td>This flight departs in the late afternoon and ...</td>\n",
       "      <td>4</td>\n",
       "      <td>2</td>\n",
       "      <td>1</td>\n",
       "      <td>0</td>\n",
       "    </tr>\n",
       "    <tr>\n",
       "      <th>568</th>\n",
       "      <td>2929</td>\n",
       "      <td>18.0</td>\n",
       "      <td>7.0</td>\n",
       "      <td>0.0</td>\n",
       "      <td>0.0</td>\n",
       "      <td>80.0</td>\n",
       "      <td>92.0</td>\n",
       "      <td>67.0</td>\n",
       "      <td>386.0</td>\n",
       "      <td>6.0</td>\n",
       "      <td>30</td>\n",
       "      <td>This flight operates during a busy travel peri...</td>\n",
       "      <td>10</td>\n",
       "      <td>4</td>\n",
       "      <td>1</td>\n",
       "      <td>1</td>\n",
       "    </tr>\n",
       "    <tr>\n",
       "      <th>571</th>\n",
       "      <td>2939</td>\n",
       "      <td>20.0</td>\n",
       "      <td>3.0</td>\n",
       "      <td>0.0</td>\n",
       "      <td>0.0</td>\n",
       "      <td>65.0</td>\n",
       "      <td>89.0</td>\n",
       "      <td>66.0</td>\n",
       "      <td>239.0</td>\n",
       "      <td>0.0</td>\n",
       "      <td>15</td>\n",
       "      <td>This flight is relatively short and operates b...</td>\n",
       "      <td>9</td>\n",
       "      <td>2</td>\n",
       "      <td>1</td>\n",
       "      <td>1</td>\n",
       "    </tr>\n",
       "    <tr>\n",
       "      <th>579</th>\n",
       "      <td>2969</td>\n",
       "      <td>26.0</td>\n",
       "      <td>2.0</td>\n",
       "      <td>0.0</td>\n",
       "      <td>0.0</td>\n",
       "      <td>200.0</td>\n",
       "      <td>191.0</td>\n",
       "      <td>163.0</td>\n",
       "      <td>1491.0</td>\n",
       "      <td>21.0</td>\n",
       "      <td>30</td>\n",
       "      <td>This flight is originating from Denver (DEN) a...</td>\n",
       "      <td>10</td>\n",
       "      <td>4</td>\n",
       "      <td>1</td>\n",
       "      <td>1</td>\n",
       "    </tr>\n",
       "  </tbody>\n",
       "</table>\n",
       "<p>125 rows × 16 columns</p>\n",
       "</div>"
      ],
      "text/plain": [
       "     index  TAXI_OUT  TAXI_IN  CANCELLED  DIVERTED  CRS_ELAPSED_TIME  \\\n",
       "2       11      23.0      5.0        0.0       0.0              85.0   \n",
       "3       12       7.0      4.0        0.0       0.0              90.0   \n",
       "8       32      15.0      3.0        0.0       0.0              85.0   \n",
       "9       42      10.0      3.0        0.0       0.0             130.0   \n",
       "27     146      29.0      4.0        0.0       0.0              85.0   \n",
       "..     ...       ...      ...        ...       ...               ...   \n",
       "566   2921       8.0      4.0        0.0       0.0              65.0   \n",
       "567   2925      11.0      2.0        0.0       0.0             185.0   \n",
       "568   2929      18.0      7.0        0.0       0.0              80.0   \n",
       "571   2939      20.0      3.0        0.0       0.0              65.0   \n",
       "579   2969      26.0      2.0        0.0       0.0             200.0   \n",
       "\n",
       "     ACTUAL_ELAPSED_TIME  AIR_TIME  DISTANCE  CARRIER_DELAY llm_delay_minutes  \\\n",
       "2                   86.0      58.0     417.0            0.0                30   \n",
       "3                   94.0      83.0     453.0            4.0                15   \n",
       "8                   78.0      60.0     371.0            0.0                45   \n",
       "9                  122.0     109.0     849.0           43.0                30   \n",
       "27                 103.0      70.0     349.0            0.0                20   \n",
       "..                   ...       ...       ...            ...               ...   \n",
       "566                 61.0      49.0     328.0           21.0                60   \n",
       "567                167.0     154.0    1371.0            0.0               120   \n",
       "568                 92.0      67.0     386.0            6.0                30   \n",
       "571                 89.0      66.0     239.0            0.0                15   \n",
       "579                191.0     163.0    1491.0           21.0                30   \n",
       "\n",
       "                                     llm_delay_explain  FL_MON  FL_DOW  \\\n",
       "2    This flight could potentially experience delay...       7       3   \n",
       "3    This flight is scheduled late in the day, whic...      12       5   \n",
       "8     This flight appears to typically experience s...       5       3   \n",
       "9    This flight is a relatively long-haul evening ...       5       5   \n",
       "27   Southwest Airlines (WN) flights often experien...       9       0   \n",
       "..                                                 ...     ...     ...   \n",
       "566  This flight is operated by Southwest Airlines ...      11       5   \n",
       "567  This flight departs in the late afternoon and ...       4       2   \n",
       "568  This flight operates during a busy travel peri...      10       4   \n",
       "571  This flight is relatively short and operates b...       9       2   \n",
       "579  This flight is originating from Denver (DEN) a...      10       4   \n",
       "\n",
       "     ORIGIN_HUB  DEST_HUB  \n",
       "2             0         1  \n",
       "3             0         1  \n",
       "8             1         0  \n",
       "9             1         1  \n",
       "27            0         1  \n",
       "..          ...       ...  \n",
       "566           1         0  \n",
       "567           1         0  \n",
       "568           1         1  \n",
       "571           1         1  \n",
       "579           1         1  \n",
       "\n",
       "[125 rows x 16 columns]"
      ]
     },
     "execution_count": 95,
     "metadata": {},
     "output_type": "execute_result"
    }
   ],
   "source": [
    "df = df.drop(columns=[\"DEP_DELAY\", \"ARR_DELAY\", \"WEATHER_DELAY\", \"NAS_DELAY\", \"LATE_AIRCRAFT_DELAY\"])\n",
    "df"
   ]
  },
  {
   "cell_type": "markdown",
   "metadata": {},
   "source": [
    "##### Inspect the feature impact of the target value"
   ]
  },
  {
   "cell_type": "code",
   "execution_count": 96,
   "metadata": {},
   "outputs": [
    {
     "data": {
      "image/png": "iVBORw0KGgoAAAANSUhEUgAAC3oAAAxKCAYAAACQoq15AAAAOXRFWHRTb2Z0d2FyZQBNYXRwbG90bGliIHZlcnNpb24zLjkuMiwgaHR0cHM6Ly9tYXRwbG90bGliLm9yZy8hTgPZAAAACXBIWXMAAA9hAAAPYQGoP6dpAAEAAElEQVR4nOzde5SVdd3//9cMKOOBGSQ5jZLgoZSFmt4qkkcSFRVcFlQompSnFCzPfc3STO+8PSd3iVqt2wyQ0jxALbljSUrdmJodzEOWhqXJQSVOKgo4vz/6MTkxIMc9nxkej7X2Wu59Xfu6Ptv5Y7/35rn3rmpoaGgIAAAAAAAAAAAAAADFqG7pBQAAAAAAAAAAAAAA0JTQGwAAAAAAAAAAAACgMEJvAAAAAAAAAAAAAIDCCL0BAAAAAAAAAAAAAAoj9AYAAAAAAAAAAAAAKIzQGwAAAAAAAAAAAACgMEJvAAAAAAAAAAAAAIDCCL0BAAAAAAAAAAAAAAoj9AYAAAAAAAAAAAAAKIzQGwAAAAAAAAAAAACgMEJvAACgWVVVVWt0eeihhxrvc/PNN6eqqir9+vVr9phTp05NVVVVLr/88pW2zZw5M1tuuWWGDRvWeNvIkSOz9dZbr9P6n3766Zx44onZbrvt0qFDh9TX12fEiBF5+umnV9r3a1/7WqqqqvLaa681e6y+ffvm0EMPTZIceuiha/T/5Wtf+9o6rRsAYFVa63x2++23p6qqKr/+9a8bb1sxf3Xr1i1vvvnmSvfp1atXBg8evFbnAQD4dy+88ELOOOOM7LjjjqmpqUltbW0OOOCA3HTTTXnrrbea7Lt8+fLU19enqqoqDzzwQLPHW9cZZsmSJbnxxhvTr1+/1NXVpaamJh/60IcyevTo/OlPf1rp+Ku6zJ49O0ny4osvpqqqKtddd91qH/+azFQjR45c5flqamoa93vooYeabOvQoUO6deuWQw89NN/4xjfy6quvrvY8AMCmacX7Qu+dL+rr63PkkUdmzJgxWbRoUZP93/tvdkuXLs22226bAw88cJXHb2hoSM+ePbP33nsnWXlm+ffLxIkTG+/bq1evJtu22mqr7LfffrnjjjuS/GvmWpPLiy++uM7nrq6uTqdOnbL77rvn9NNPz6OPProh/wRAG9C+pRcAAACU6Qc/+EGT63fccUemTp260u277bZb43+PHz8+vXr1ymOPPZbnn38+O++8c5N9Dz/88Jxwwgm56qqrcvzxx+dDH/pQ47azzjorm222WcaMGbPea7/nnnty/PHHp3PnzjnllFPSu3fvvPjii/ne976Xu+++OxMnTszHP/7xdTr2JZdcklNPPbXx+uOPP54xY8bky1/+cpP/F3vsscd6Pw4AgPdqzfPZqsydOzdjx47N+eefv9HOAQBsmn7605/mk5/8ZDp06JDPfOYz6du3b95555388pe/zIUXXpinn346t912W+P+06ZNy6xZs9KrV6+MHz8+Rx111CqPvTYzzGuvvZZBgwbliSeeyODBg3PCCSdk6623znPPPZeJEyfmtttuyzvvvNPkPmPHjm32w3WdOnVa8/8Ba6FDhw757ne/u9Lt7dq1W+m2L3zhC9l3332zfPnyvPrqq5kxY0Yuu+yy3HDDDfnRj36Uj33sYxtljQBA6/b1r389vXv3ztKlSzN79uw89NBDOeecc3LDDTdk0qRJzf672mabbZZPfvKTufXWW/PXv/41O+yww0r7TJ8+PS+//HLOPffcJrevmFn+Xf/+/Ztc/8hHPtI4082aNSvf/e53c/LJJ+ftt9/OCSecsNL7btdff31efvnl3HjjjU1u79KlS1588cV1PveiRYvy7LPP5q677sp3vvOdnHvuubnhhhtWOgawaRJ6AwAAzTrxxBObXP/Vr36VqVOnrnT7CjNnzsyMGTNyzz335Iwzzsj48eNz2WWXrbTfjTfemAceeCCf//znM23atCTJxIkTM2XKlIwZMyb19fXrte4XXnghJ510UnbcccdMnz49Xbp0adz2xS9+MQcddFBOOumkPPnkk9lxxx3X+viHH354k+s1NTUZM2ZMDj/88MZv/QYA2Bha63y2Oh/5yEdy7bXX5qyzzsoWW2yx0c4DAGxaZs6cmeHDh2eHHXbItGnT0qNHj8Zto0aNyvPPP5+f/vSnTe4zbty47L333jn55JPz5S9/OW+88Ua22mqrZo+/NjPMyJEj89vf/jZ33313hg4d2mTbFVdckUsuuWSl+wwbNizbbrvtmj7c9da+fftVzpT/7qCDDmryiy9J8vvf/z5HHHFEhg4dmmeeeabJ/28AgCQ56qijss8++zRev/jiizNt2rQMHjw4xx57bJ599tlm56oRI0bklltuyZ133pn/9//+30rbJ0yYkOrq6gwfPrzJ7c3NLM3ZbrvtmsxBI0eOzI477pgbb7wxp5122koz0sSJE/OPf/xjtbPTup47Sa6++uqccMIJufHGG7PLLrvkzDPPfN/jAG1fdUsvAAAAaBvGjx+fbbbZJsccc0yGDRuW8ePHN7tf165dc/XVV+fnP/95vv/972f+/Pk599xzs++++2bUqFHrvY5rr702b775Zm677bYmkXeSbLvttrn11lvzxhtv5JprrlnvcwEAlKyU+Wx1Lr300syZMydjx47dqOcBADYt11xzTRYvXpzvfe97zUbHO++8c774xS82Xn/rrbdy7733Zvjw4fnUpz6Vt956K/fff/8qj7+mM8yjjz6an/70pznllFNWiryTf36T9nXXXbcWj6xMe+65Z775zW9m/vz5+da3vtXSywEAWomPfexj+epXv5q//vWvGTduXLP7HHDAAenVq1cmTJiw0ralS5fm7rvvzoABAzbYFxV06dIlu+66a1544YUNcry1tcUWW+QHP/hBOnfunP/8z/9MQ0NDi6wDKIvQGwAA2CDGjx+fT3ziE9l8881z/PHH589//nMef/zxZvc99dRTc8ABB+SCCy7IWWedlVdffTW33nprqqvX/yXK5MmT06tXrxx00EHNbj/44IPTq1evlb61CQCgrSllPludgw46KB/72MdyzTXX5K233tqo5wIANh2TJ0/OjjvumI9+9KNrtP+kSZOyePHiDB8+PN27d8+hhx66yg/JJWs+w0yaNClJctJJJ63V+ufNm5fXXnutyWX+/PlrdYy19e/ne+2117Jw4cI1vv+wYcOyxRZb5Gc/+9lGXCUA0NasmJNWNUNUVVXlhBNOyB/+8Ic8/fTTTbZNmTIl8+bNy4gRI1a636JFi5qdb94vnF62bFlefvnlbLPNNuv4iNb93CtsvfXW+fjHP56///3veeaZZ9Z5HUDbIfQGAADW2xNPPJE//vGPjT+LduCBB2b77bdf5T+IVVVV5dZbb82CBQty55135uyzz85ee+213utYsGBBXnnlley5556r3W+PPfbIyy+/nEWLFq33OQEASlTKfLYmLrvsssyZMye33HJLRc4HALRtCxcuzN///vfsvvvua3yfcePG5aMf/Wh69uyZJBk+fHh+9rOf5dVXX13lfdZkhnn22WeTZK3WkiQf/vCH06VLlyaX/ffff62OsTbeeOONlc7XpUuXfOpTn1rjY2y22Wb50Ic+1GLffgkAtE7bb7996urqVjtDrAi5//19rQkTJqSmpqbZX0753Oc+1+x8M2fOnCb7LV26tDHEfuqpp/K5z30us2fPzrBhw9b5Ma3puVenb9++SWK2ApIk7Vt6AQAAQOs3fvz4dOvWLQMGDEjyz1Do05/+dMaNG5frr78+7dq1W+k+tbW12XzzzbN06dIcccQRG2QdK8Ltjh07rna/FdsXLlz4vvsCALRGpcxna+Lggw/OgAEDcs011+Tzn/98tthii4qdGwBoe1Z8C/Wavufz+uuv53//939z4403Nt42dOjQjBo1Kj/60Y8yatSoZu+3JjPM2q5lhR//+Mepra1tcttWW221VsdYGzU1NZk8efJKt2+77bZrdZytt97aFysAAGvt/WaIPn36ZK+99srEiRPzjW98I8k/P6g2adKkDB48eKW5KUkuvfTSZn/9t3Pnzk2u/+xnP0uXLl2a3PbZz34211577bo8lLU69+psvfXWSWK2ApIIvQEAgPW0fPnyTJw4MQMGDMjMmTMbb+/Xr1+uv/76PPjgg82GQqNHj051dXV22GGHnH/++Rk4cGA222yz9VrLin80e783PdY0CH+vqqqqdV8YAEAFlTSframvfe1rOeSQQ3LLLbfk3HPPrcg5AYC2aUXos6ZRzA9/+MMsXbo0e+21V55//vnG2/v165fx48evMvRO3n+Gee9aOnXqtMaP4eCDD17ryHp9tGvXLgMHDlzv4yxevNiXKgAAa23x4sXp2rXravcZMWJELrjggsyYMSMf/ehHc9999+XNN99s/Lbvf7f77ruv0XzTr1+/XHnllVm+fHmeeuqpXHnllfnHP/6RzTfffJ0ey9qce3UWL16cZO0/MAi0TdUtvQAAAKB1mzZtWmbNmpWJEydml112abys+GnXf/8ZtSS55557MmnSpFxxxRW5+eab8+yzz67XJ+NXqKurS48ePfLkk0+udr8nn3wy2223XeM/ttXU1CRJ3nrrrWb3f/PNNxv3AQAoXUnz2Zo6+OCDc+ihh+aaa65Z5UwGALAmamtrU19fn6eeemqN9l8xGx1wwAFNZqdf/vKXeeSRR/KXv/xllfd9vxlm1113TZL84Q9/WIdH0rosXbo0f/rTn7Lzzju39FIAgFbk5ZdfzoIFC953hjj++ONTXV2dCRMmJEkmTJiQbbbZJkcfffR6nX/bbbfNwIEDc+SRR+b888/PuHHjct999+Wmm25ar+OurxWzrNkKSITeAADAeho/fny6du2au+66a6XL8ccfn3vvvbfJP3QtWrQoX/jCF7L33ntn9OjROfroozN06NBceeWVTb5xcl0NHjw4M2fOzC9/+ctmt//iF7/Iiy++mMGDBzfetsMOOyRJnnvuuZX2f/PNN/PSSy817gMAULrS5rM19bWvfS2zZ8/OrbfeWrFzAgBt0+DBg/PCCy/kkUceWe1+M2fOzIwZMzJ69OiV5qYf/vCH2XzzzRtjolVZ3QwzZMiQJMm4cePW/cG0EnfffXfeeuutHHnkkS29FACgFfnBD36QJO87Q9TX12fAgAG56667MmfOnEydOjXDhg1br2/ebs4xxxyTQw45JN/4xjfyxhtvbNBjr6nFixfn3nvvTc+ePbPbbru1yBqAsgi9AQCAdfbWW2/lnnvuyeDBgzNs2LCVLqNHj86iRYsyadKkxvt85StfyaxZs3LrrbemXbt2SZKbbrop7dq1y+jRo9d7TRdeeGG22GKLnHHGGXn99debbJs3b14+//nPZ8stt8yFF17YePthhx2WzTffPGPHjs27777b5D633XZbli1blqOOOmq91wYAsLGVOJ+tqUMOOSSHHnporr766ixZsqRi5wUA2p6LLrooW221VU499dTMmTNnpe0vvPBCbrrppsZv877oootWmps+9alP5ZBDDmn211Dea3UzTP/+/TNo0KB897vfzX333bfSfd95551ccMEF6/5AC/H73/8+55xzTrbZZpuMGjWqpZcDALQS06ZNyxVXXJHevXtnxIgR77v/iBEjMnfu3JxxxhlZunTpGt1nXXzpS1/K66+/nu985zsb5fir89Zbb+Wkk07KvHnzcskll6SqqqriawDK076lFwAAALRekyZNyqJFi3Lsscc2u33//fdPly5dMn78+Hz605/OE088kW9/+9sZNWpU9tlnn8b9tttuu3z961/Peeedlx//+McZOnToOq9pl112yfe///2MGDEiu+++e0455ZT07t07L774Yr73ve/ltddey5133pmddtqp8T5du3bNpZdemq985Ss5+OCDc+yxx2bLLbfMjBkzcuedd+aII45o/AYmAICSlTifrY3LLrssAwYMqMi5AIC2a6eddsqECRPy6U9/Orvttls+85nPpG/fvnnnnXcyY8aM3HXXXRk5cmSmT5+ej3zkI+nZs2ezxzn22GNz9tln5ze/+U323nvvVZ5vdTPMHXfckSOOOCKf+MQnMmTIkBx22GHZaqut8uc//zkTJ07MrFmzct111zW5z913352tt956pWMdfvjh6datW+P1Bx98sNkPyB133HHp27dvkuT555/PlVdeudI+e+21V4455pgkybJly1b5reMf//jHs9VWWzVe/8UvfpElS5Zk+fLlef311/N///d/mTRpUurq6nLvvfeme/fuzR4HANi0PfDAA/njH/+YZcuWZc6cOZk2bVqmTp2aHXbYIZMmTUpNTc37HmPo0KE566yzcv/996dnz545+OCDV7nvipnl3+2xxx7ZY489Vnueo446Kn379s0NN9yQUaNGZbPNNnv/B7gO5/773//eOIMtXrw4zzzzTO66667Mnj07559/fs4444y1Oi/Qdgm9AQCAdTZ+/PjU1NTk8MMPb3Z7dXV1jjnmmIwfPz6vv/56Tj/99HTr1q3Zf1z6whe+kDvuuCPnnHNOjjzyyGb/MWtNffKTn8yuu+6aq666qjHu/sAHPpABAwbky1/+cuM/dL3XJZdckl69euVb3/pWvv71r2fZsmXp3bt3Lr/88nzpS19KdbUfRAIAylfqfLamDj300BxyyCF5+OGHN/q5AIC27dhjj82TTz6Za6+9Nvfff3/Gjh2bDh06ZI899sj111+ffffdN7fddlu++tWvrvIYQ4YMydlnn51x48atNvRe3QzTpUuXzJgxIzfffHN++MMf5pJLLsk777yTHXbYIccee2y++MUvrnSfM888s9nz/PznP28Sek+ZMiVTpkxZab9evXo1vv/13HPPNfsYTznllMbQ++23385JJ53U7DlnzpzZJPQeM2ZMkmSzzTZLp06dsttuu+Xyyy/Paaedli5dujR7DACASy+9NEmy+eabp3Pnztl9993zzW9+M5/97GfTsWPHNTpGbW1thgwZkrvuuivHH3/8ar/tesXM8u8uu+yy9w29k+SCCy7IyJEjM378+IwcOXKN1re25/7d736Xk046KVVVVenYsWN69uyZIUOG5NRTT81+++23VucE2raqhoaGhpZeBAAAAAAAAAAAAAAA/+Ir6QAAAAAAAAAAAAAACtO+pRcAAACwJhYvXpzFixevdp8uXbqkXbt2FVoRAMCmzXwGAAAAAAAbl9AbAABoFa677rpcfvnlq91n5syZ6dWrV2UWBACwiTOfAQAAAADAxlXV0NDQ0NKLAAAAeD9/+ctf8pe//GW1+xx44IGpqamp0IoAADZt5jMAAAAAANi4hN4AAAAAAAAAAAAAAIWpbukFAAAAAAAAAAAAAADQVPuWXgAAwIby7rvv5pVXXknHjh1TVVXV0ssBADaQhoaGLFq0KPX19amu9pn1Epi7AKDtMnuVx+wFAG2Tuas85i4AaLta8+wl9AYA2oxXXnklPXv2bOllAAAbyUsvvZTtt9++pZdBzF0AsCkwe5XD7AUAbZu5qxzmLgBo+1rj7CX0BgDajI4dOyb551BWW1vbwqsBADaUhQsXpmfPno3P9bQ8cxcAtF1mr/KYvQCgbTJ3lcfcBQBtV2uevYTeAECbseIn1Gpra735AgBtkJ9LLYe5CwDaPrNXOcxeANC2mbvKYe4CgLavNc5e1S29AAAAAAAAAAAAAAAAmhJ6AwAAAAAAAAAAAAAURugNAAAAAAAAAAAAAFAYoTcAAAAAAAAAAAAAQGGE3gAAAAAAAAAAAAAAhRF6AwAAAAAAAAAAAAAURugNAAAAAAAAAAAAAFAYoTcAAAAAAAAAAAAAQGGE3gAAAAAAAAAAAAAAhRF6AwAAAAAAAAAAAAAURugNAAAAAAAAAAAAAFAYoTcAAAAAAAAAAAAAQGGE3gAAAAAAAAAAAAAAhRF6AwAAAAAAAAAAAAAURugNAAAAAAAAAAAAAFAYoTcAAAAAAAAAAAAAQGGE3gAAAAAAAAAAAAAAhRF6AwAAAAAAAAAAAAAURugNAAAAAAAAAAAAAFAYoTcAAAAAAAAAAAAAQGGE3gAAAAAAAAAAAAAAhRF6AwAAAAAAAAAAAAAURugNAAAAAAAAAAAAAFAYoTcAAAAAAAAAAAAAQGGE3gAAAAAAAAAAAAAAhRF6AwAAAAAAAAAAAAAURugNAAAAAAAAAAAAAFAYoTcAAAAAAAAAAAAAQGGE3gAAAAAAAAAAAAAAhRF6AwAAAAAAAAAAAAAURugNAAAAAAAAAAAAAFAYoTcAAAAAAAAAAAAAQGGE3gAAAAAAAAAAAAAAhWnf0gsAAOCflr/bkMdmzsvcRUvStWNN9uvdOe2qq1p6WQAAmzQzGgAAUAleewAAVI7ZC2hNhN4AAAWY8tSsXD75mcxasKTxth51NblsSJ8M6tujBVcGALDpMqMBAACV4LUHAEDlmL2A1qa6pRcAALCpm/LUrJw57jdNXkgmyewFS3LmuN9kylOzWmhlAACbLjMaAABQCV57AABUjtkLaI2E3gAALWj5uw25fPIzaWhm24rbLp/8TJa/29weAABsDGY0AACgErz2AACoHLMX0FoJvQEAWtBjM+et9Gnh92pIMmvBkjw2c17lFgUAsIkzowEAAJXgtQcAQOWYvYDWSugNANCC5i5a9QvJddkPAID1Z0YDAAAqwWsPAIDKMXsBrZXQGwCgBXXtWLNB9wMAYP2Z0QAAgErw2gMAoHLMXkBrJfQGAGhB+/XunB51NalaxfaqJD3qarJf786VXBYAwCbNjAYAAFSC1x4AAJVj9gJaK6E3AEALalddlcuG9EmSlV5Qrrh+2ZA+aVe9qpebAABsaGY0AACgErz2AACoHLMX0FoJvQEAWtigvj0y9sS9072u6U9Ada+rydgT986gvj1aaGUAAJsuMxoAAFAJXnsAAFSO2Qtojdq39AIAAPjnC8rD+3TPYzPnZe6iJena8Z8/CeXTwgAALceMBgAAVILXHgAAlWP2AloboTcAQCHaVVel/04faOllAADwHmY0AACgErz2AACoHLMX0JpUt/QCAAAAAAAAAAAAAABoSugNAAAAAAAAAAAAAFAYoTcAAAAAAAAAAAAAQGGE3gAAAAAAAAAAAAAAhRF6AwAAAAAAAAAAAAAURugNAAAAAAAAAAAAAFAYoTcAAAAAAAAAAAAAQGGE3gAAAAAAAAAAAAAAhRF6AwAAAAAAAAAAAAAURugNAAAAAAAAAAAAAFAYoTcAAAAAAAAAAAAAQGGE3gAAAAAAAAAAAAAAhRF6AwAAAAAAAAAAAAAURugNAAAAAAAAAAAAAFAYoTcAAAAAAAAAAAAAQGGE3gAAAAAAAAAAAAAAhRF6AwAAAAAAAAAAAAAURugNAAAAAAAAAAAAAFAYoTcAAAAAAAAAAAAAQGGE3gAAAAAAAAAAAAAAhRF6AwAAAAAAAAAAAAAURugNAAAAAAAAAAAAAFAYoTcAAAAAAAAAAAAAQGGE3gAAAAAAAAAAAAAAhRF6AwAAAAAAAAAAAAAURugNAAAAAAAAAAAAAFAYoTcAAAAAAAAAAAAAQGGE3gAAAAAAAAAAAAAAhRF6AwAAAAAAAAAAAAAURugNAAAAAAAAAAAAAFAYoTcAAAAAAAAAAAAAQGGE3gAAAAAAAAAAAAAAhRF6AwAAAAAAAAAAAAAURugNAAAAAAAAAAAAAFAYoTcAAAAAAAAAAAAAQGGE3gAAAAAAAAAAAAAAhRF6AwAAAAAAAAAAAAAURugNAAAAAAAAAAAAAFAYoTcAAAAAAAAAAAAAQGGE3gAAAAAAAAAAAAAAhRF6AwAAAAAAAAAAAAAURugNAAAAAAAAAAAAAFAYoTcAAAAAAAAAAAAAQGGE3gAAAAAAAAAAAAAAhRF6AwAAAAAAAAAAAAAURugNAAAAAAAAAAAAAFAYoTcAAAAAAAAAAAAAQGGE3gAAAAAAAAAAAAAAhRF6AwAAAAAAAAAAAAAURugNAAAAAAAAAAAAAFAYoTcAAAAAAAAAAAAAQGGE3gAAAAAAAAAAAAAAhRF6AwAAAAAAAAAAAAAURugNAAAAAAAAAAAAAFAYoTcAAAAAAAAAAAAAQGGE3gAAAAAAAAAAAAAAhRF6AwAAAAAAAAAAAAAURugNAKy3q666Kvvuu286duyYrl275rjjjstzzz3XZJ8lS5Zk1KhR+cAHPpCtt946Q4cOzZw5c5rs87e//S3HHHNMttxyy3Tt2jUXXnhhli1bVsmHAgBQNHMXAEDlmL0AACrD3AUAsGpCbwBgvT388MMZNWpUfvWrX2Xq1KlZunRpjjjiiLzxxhuN+5x77rmZPHly7rrrrjz88MN55ZVX8olPfKJx+/Lly3PMMcfknXfeyYwZM/L9738/t99+ey699NKWeEgAAEUydwEAVI7ZCwCgMsxdAACrVtXQ0NDQ0osAANqWV199NV27ds3DDz+cgw8+OAsWLEiXLl0yYcKEDBs2LEnyxz/+MbvttlseeeSR7L///nnggQcyePDgvPLKK+nWrVuS5JZbbsmXvvSlvPrqq9l8883f97wLFy5MXV1dFixYkNra2o36GAGAyvEcv2rmLgBgQ/M8v2pmLwBgQ/Icv2rmLgBgQ2vNz/O+0RsA2OAWLFiQJOncuXOS5IknnsjSpUszcODAxn123XXXfPCDH8wjjzySJHnkkUey++67N77xkiRHHnlkFi5cmKeffrrZ87z99ttZuHBhkwsAwKbE3AUAUDlmLwCAyjB3AQD8i9AbANig3n333Zxzzjk54IAD0rdv3yTJ7Nmzs/nmm6dTp05N9u3WrVtmz57duM9733hZsX3FtuZcddVVqaura7z07NlzAz8aAIBymbsAACrH7AUAUBnmLgCApoTeAMAGNWrUqDz11FOZOHHiRj/XxRdfnAULFjReXnrppY1+TgCAUpi7AAAqx+wFAFAZ5i4AgKbat/QCAIC2Y/To0fnJT36S6dOnZ/vtt2+8vXv37nnnnXcyf/78Jp+0nzNnTrp37964z2OPPdbkeHPmzGnc1pwOHTqkQ4cOG/hRAACUz9wFAFA5Zi8AgMowdwEArMw3egMA662hoSGjR4/Ovffem2nTpqV3795Ntv/Hf/xHNttsszz44IONtz333HP529/+lv79+ydJ+vfvnz/84Q+ZO3du4z5Tp05NbW1t+vTpU5kHAgBQOHMXAEDlmL0AACrD3AUAsGq+0RsAWG+jRo3KhAkTcv/996djx46ZPXt2kqSuri5bbLFF6urqcsopp+S8885L586dU1tbm7PPPjv9+/fP/vvvnyQ54ogj0qdPn5x00km55pprMnv27HzlK1/JqFGjfJIeAOD/Z+4CAKgcsxcAQGWYuwAAVq2qoaGhoaUXAQC0blVVVc3e/j//8z8ZOXJkkmTJkiU5//zzc+edd+btt9/OkUcemZtvvrnJT6X99a9/zZlnnpmHHnooW221VU4++eT813/9V9q3X7PPpi1cuDB1dXVZsGBBamtr1/txAQBl8Bz/L+YuAGBj8zz/L2YvAGBj8hz/L+YuAGBja83P80JvAKDNaM1DGQCwap7jy+NvAgBtl+f58vibAEDb5Dm+PP4mANB2tebn+eqWXgAAAAAAAAAAAAAAAE0JvQEAAAAAAAAAAAAACiP0BgAAAAAAAAAAAAAojNAbAAAAAAAAAAAAAKAwQm8AAAAAAAAAAAAAgMIIvQEAAAAAAAAAAAAACiP0BgAAAAAAAAAAAAAojNAbAAAAAAAAAAAAAKAwQm8AAAAAAAAAAAAAgMIIvQEAAAAAAAAAAAAACiP0BgAAAAAAAAAAAAAojNAbAAAAAAAAAAAAAKAwQm8AAAAAAAAAAAAAgMIIvQEAAAAAAAAAAAAACiP0BgAAAAAAAAAAAAAojNAbAAAAAAAAAAAAAKAwQm8AAAAAAAAAAAAAgMIIvQEAAAAAAAAAAAAACiP0BgAAAAAAAAAAAAAojNAbAAAAAAAAAAAAAKAwQm8AAAAAAAAAAAAAgMIIvQEAAAAAAAAAAAAACiP0BgAAAAAAAAAAAAAojNAbAAAAAAAAAAAAAKAwQm8AAAAAAAAAAAAAgMIIvQEAAAAAAAAAAAAACiP0BgAAAAAAAAAAAAAojNAbAAAAAAAAAAAAAKAwQm8AAAAAAAAAAAAAgMIIvQEAAAAAAAAAAAAACiP0BgAAAAAAAAAAAAAojNAbAAAAAAAAAAAAAKAwQm8AAAAAAAAAAAAAgMIIvQEAAAAAAAAAAAAACiP0BgAAAAAAAAAAAAAojNAbAAAAAAAAAAAAAKAwQm8AAAAAAAAAAAAAgMIIvQEAAAAAAAAAAAAACiP0BgAAAAAAAAAAAAAojNAbAAAAAAAAAAAAAKAwQm8AAAAAAAAAAAAAgMIIvQEAAAAAAAAAAAAACiP0BgAAAAAAAAAAAAAojNAbAAAAAAAAAAAAAKAwQm8AAAAAAAAAAAAAgMIIvQEAAAAAAAAAAAAACiP0BgAAAAAAAAAAAAAojNAbAAAAAAAAAAAAAKAwQm8AAAAAAAAAAAAAgMIIvQEAAAAAAAAAAAAACiP0BgAAAAAAAAAAAAAojNAbAAAAAAAAAAAAAKAwQm8AAAAAAAAAAAAAgMIIvQEAAAAAAAAAAAAACiP0BgAAAAAAAAAAAAAojNAbAAAAAAAAAAAAAKAwQm8AAAAAAAAAAAAAgMIIvQEAAAAAAAAAAAAACiP0BgAAAAAAAAAAAAAojNAbAAAAAAAAAAAAAKAwQm8AAAAAAAAAAAAAgMIIvQEAAAAAAAAAAAAACiP0BgAAAAAAAAAAAAAojNAbAAAAAAAAAAAAAKAwQm8AAAAAAAAAAAAAgMIIvQEAAAAAAAAAAAAACiP0BgAAAAAAAAAAAAAojNAbAAAAAAAAAAAAAKAwQm8AAAAAAAAAAAAAgMIIvQEAAAAAAAAAAAAACiP0BgAAAAAAAAAAAAAojNAbAAAAAAAAAAAAAKAwQm8AAAAAAAAAAAAAgMIIvQEAAAAAAAAAAAAACiP0BgAAAAAAAAAAAAAojNAbAAAAAAAAAAAAAKAwQm8AAAAAAAAAAAAAgMIIvQEAAAAAAAAAAAAACiP0BgAAAAAAAAAAAAAojNAbAAAAAAAAAAAAAKAwQm8AAAAAAAAAAAAAgMIIvQEAAAAAAAAAAAAACiP0BgAAAAAAAAAAAAAojNAbAAAAAAAAAAAAAKAwQm8AAAAAAAAAAAAAgMIIvQEAAAAAAAAAAAAACiP0BgAAAAAAAAAAAAAojNAbAAAAAAAAAAAAAKAwQm8AAAAAAAAAAAAAgMIIvQEAAAAAAAAAAAAACiP0BgAAAAAAAAAAAAAojNAbAAAAAAAAAAAAAKAwQm8AAAAAAAAAAAAAgMIIvQEAAAAAAAAAAAAACiP0BgAAAAAAAAAAAAAojNAbAAAAAAAAAAAAAKAwQm8AAAAAAAAAAAAAgMIIvQEAAAAAAAAAAAAACiP0BgAAAAAAAAAAAAAojNAbAAAAAAAAAAAAAKAwQm8AAAAAAAAAAAAAgMIIvQEAAAAAAAAAAAAACiP0BgAAAAAAAAAAAAAojNAbAAAAAAAAAAAAAKAwQm8AAAAAAAAAAAAAgMIIvQEAAAAAAAAAAAAACiP0BgAAAAAAAAAAAAAojNAbAAAAAAAAAAAAAKAwQm8AAAAAAAAAAAAAgMIIvQEAAAAAAAAAAAAACiP0BgAAAAAAAAAAAAAojNAbAAAAAAAAAAAAAKAwQm8AAAAAAAAAAAAAgMIIvQEAAAAAAAAAAAAACiP0BgAAAAAAAAAAAAAojNAbAAAAAAAAAAAAAKAwQm8AAAAAAAAAAAAAgMIIvQEAAAAAAAAAAAAACiP0BgAAAAAAAAAAAAAojNAbAAAAAAAAAAAAAKAwQm8AAAAAAAAAAAAAgMIIvQEAAAAAAAAAAAAACiP0BgAAAAAAAAAAAAAojNAbAAAAAAAAAAAAAKAwQm8AAAAAAAAAAAAAgMIIvQEAAAAAAAAAAAAACiP0BgAAAAAAAAAAAAAojNAbAAAAAAAAAAAAAKAwQm8AAAAAAAAAAAAAgMIIvQEAAAAAAAAAAAAACiP0BgAAAAAAAAAAAAAojNAbAAAAAAAAAAAAAKAwQm8AAAAAAAAAAAAAgMIIvQEAAAAAAAAAAAAACiP0BgAAAAAAAAAAAAAojNAbAAAAAAAAAAAAAKAwQm8AAAAAAAAAAAAAgMIIvQEAAAAAAAAAAAAACiP0BgAAAAAAAAAAAAAojNAbAAAAAAAAAAAAAKAwQm8AAAAAAAAAAAAAgMIIvQEAAAAAAAAAAAAACiP0BgAAAAAAAAAAAAAojNAbAAAAAAAAAAAAAKAwQm8AAAAAAAAAAAAAgMIIvQEAAAAAAAAAAAAACiP0BgAAAAAAAAAAAAAojNAbAAAAAAAAAAAAAKAwQm8AAAAAAAAAAAAAgMIIvQEAAAAAAAAAAAAACiP0BgAAAAAAAAAAAAAojNAbAAAAAAAAAAAAAKAwQm8AAAAAAAAAAAAAgMIIvQEAAAAAAAAAAAAACiP0BgAAAAAAAAAAAAAojNAbAAAAAAAAAAAAAKAwQm8AAAAAAAAAAAAAgMIIvQEAAAAAAAAAAAAACiP0BgAAAAAAAAAAAAAojNAbAAAAAAAAAAAAAKAwQm8AAAAAAAAAAAAAgMIIvQEAAAAAAAAAAAAACiP0BgAAAAAAAAAAAAAojNAbAAAAAAAAAAAAAKAwQm8AAAAAAAAAAAAAgMIIvQEAAAAAAAAAAAAACiP0BgAAAAAAAAAAAAAojNAbAAAAAAAAAAAAAKAwQm8AAAAAAAAAAAAAgMIIvQEAAAAAAAAAAAAACiP0BgAAAAAAAAAAAAAojNAbAAAAAAAAAAAAAKAwQm8AAAAAAAAAAAAAgMIIvQEAAAAAAAAAAAAACiP0BgAAAAAAAAAAAAAojNAbAAAAAAAAAAAAAKAwQm8AAAAAAAAAAAAAgMIIvQEAAAAAAAAAAAAACiP0BgDW2/Tp0zNkyJDU19enqqoq9913X5PtI0eOTFVVVZPLoEGDmuwzb968jBgxIrW1tenUqVNOOeWULF68uIKPAgCgdTB7AQBUhrkLAKByzF4AAM0TegMA6+2NN97InnvumW9/+9ur3GfQoEGZNWtW4+XOO+9ssn3EiBF5+umnM3Xq1PzkJz/J9OnTc/rpp2/spQMAtDpmLwCAyjB3AQBUjtkLAKB57Vt6AQBA63fUUUflqKOOWu0+HTp0SPfu3Zvd9uyzz2bKlCl5/PHHs88++yRJ/vu//ztHH310rrvuutTX12/wNQMAtFZmLwCAyjB3AQBUjtkLAKB5vtEbAKiIhx56KF27ds2HP/zhnHnmmXn99dcbtz3yyCPp1KlT45suSTJw4MBUV1fn0UcfXeUx33777SxcuLDJBQCADT97mbsAAJrnPS8AgMrxnhcAsCkSegMAG92gQYNyxx135MEHH8zVV1+dhx9+OEcddVSWL1+eJJk9e3a6du3a5D7t27dP586dM3v27FUe96qrrkpdXV3jpWfPnhv1cQAAtAYbY/YydwEArMx7XgAAleM9LwBgU9W+pRcAALR9w4cPb/zv3XffPXvssUd22mmnPPTQQznssMPW+bgXX3xxzjvvvMbrCxcu9AYMALDJ2xizl7kLAGBl3vMCAKgc73kBAJsq3+gNAFTcjjvumG233TbPP/98kqR79+6ZO3duk32WLVuWefPmpXv37qs8TocOHVJbW9vkAgBAUxti9jJ3AQC8P+95AQBUjve8AIBNhdAbAKi4l19+Oa+//np69OiRJOnfv3/mz5+fJ554onGfadOm5d13302/fv1aapkAAG2C2QsAoDLMXQAAlWP2AgA2Fe1begEAQOu3ePHixk/LJ8nMmTPzu9/9Lp07d07nzp1z+eWXZ+jQoenevXteeOGFXHTRRdl5551z5JFHJkl22223DBo0KKeddlpuueWWLF26NKNHj87w4cNTX1/fUg8LAKBIZi8AgMowdwEAVI7ZCwCgeVUNDQ0NLb0IAKB1e+ihhzJgwICVbj/55JMzduzYHHfccfntb3+b+fPnp76+PkcccUSuuOKKdOvWrXHfefPmZfTo0Zk8eXKqq6szdOjQjBkzJltvvfUar2PhwoWpq6vLggUL/LQaALQhnuObKmH28jcBgLbL8/y/lDB3Jf4mANBWeY5vqoTZy98EANqu1vw8L/QGANqM1jyUAQCr5jm+PP4mANB2eZ4vj78JALRNnuPL428CAG1Xa36er27pBQAAAAAAAAAAAAAA0JTQGwAAAAAAAAAAAACgMEJvAAAAAAAAAAAAAIDCCL0BAAAAAAAAAAAAAAoj9AYAAAAAAAAAAAAAKIzQGwAAAAAAAAAAAACgMEJvAAAAAAAAAAAAAIDCCL0BAAAAAAAAAAAAAAoj9AYAAAAAAAAAAAAAKIzQGwAAAAAAAAAAAACgMEJvAAAAAAAAAAAAAIDCCL0BAAAAAAAAAAAAAAoj9AYAAAAAAAAAAAAAKIzQGwAAAAAAAAAAAACgMEJvAAAAAAAAAAAAAIDCCL0BAAAAAAAAAAAAAAoj9AYAAAAAAAAAAAAAKIzQGwAAAAAAAAAAAACgMEJvAAAAAAAAAAAAAIDCCL0BAAAAAAAAAAAAAAoj9AYAAAAAAAAAAAAAKIzQGwAAAAAAAAAAAACgMEJvAAAAAAAAAAAAAIDCCL0BAAAAAAAAAAAAAAoj9AYAAAAAAAAAAAAAKIzQGwAAAAAAAAAAAACgMEJvAAAAAAAAAAAAAIDCCL0BAAAAAAAAAAAAAAoj9AYAAAAAAAAAAAAAKIzQGwAAAAAAAAAAAACgMEJvAAAAAAAAAAAAAIDCCL0BAAAAAAAAAAAAAAoj9AYAAAAAAAAAAAAAKIzQGwAAAAAAAAAAAACgMEJvAAAAAAAAAAAAAIDCCL0BAAAAAAAAAAAAAAoj9AYAAAAAAAAAAAAAKIzQGwAAAAAAAAAAAACgMEJvAAAAAAAAAAAAAIDCCL0BAAAAAAAAAAAAAAoj9AYAAAAAAAAAAAAAKIzQGwAAAAAAAAAAAACgMEJvAAAAAAAAAAAAAIDCCL0BAAAAAAAAAAAAAAoj9AYAAAAAAAAAAAAAKIzQGwAAAAAAAAAAAACgMEJvAAAAAAAAAAAAAIDCCL0BAAAAAAAAAAAAAAoj9AYAAAAAAAAAAAAAKIzQGwAAAAAAAAAAAACgMEJvAAAAAAAAAAAAAIDCCL0BAAAAAAAAAAAAAAoj9AYAAAAAAAAAAAAAKIzQGwAAAAAAAAAAAACgMEJvAAAAAAAAAAAAAIDCCL0BAAAAAAAAAAAAAAoj9AYAAAAAAAAAAAAAKIzQGwAAAAAAAAAAAACgMEJvAAAAAAAAAAAAAIDCCL0BAAAAAAAAAAAAAAoj9AYAAAAAAAAAAAAAKIzQGwAAAAAAAAAAAACgMEJvAAAAAAAAAAAAAIDCCL0BAAAAAAAAAAAAAAoj9AYAAAAAAAAAAAAAKIzQGwAAAAAAAAAAAACgMEJvAAAAAAAAAAAAAIDCCL0BAAAAAAAAAAAAAAoj9AYAAAAAAAAAAAAAKIzQGwAAAAAAAAAAAACgMEJvAAAAAAAAAAAAAIDCCL0BAAAAAAAAAAAAAAoj9AYAAAAAAAAAAAAAKIzQGwAAAAAAAAAAAACgMEJvAAAAAAAAAAAAAIDCCL0BAAAAAAAAAAAAAAoj9AYAAAAAAAAAAAAAKIzQGwAAAAAAAAAAAACgMEJvAAAAAAAAAAAAAIDCCL0BAAAAAAAAAAAAAAoj9AYAAAAAAAAAAAAAKIzQGwAAAAAAAAAAAACgMEJvAAAAAAAAAAAAAIDCCL0BAAAAAAAAAAAAAAoj9AYAAAAAAAAAAAAAKIzQGwAAAAAAAAAAAACgMEJvAAAAAAAAAAAAAIDCCL0BAAAAAAAAAAAAAAoj9AYAAAAAAAAAAAAAKIzQGwAAAAAAAAAAAACgMEJvAAAAAAAAAAAAAIDCCL0BAAAAAAAAAAAAAAoj9AYAAAAAAAAAAAAAKIzQGwAAAAAAAAAAAACgMEJvAAAAAAAAAAAAAIDCCL0BAAAAAAAAAAAAAAoj9AYAAAAAAAAAAAAAKIzQGwAAAAAAAAAAAACgMEJvAAAAAAAAAAAAAIDCCL0BAAAAAAAAAAAAAAoj9AYAAAAAAAAAAAAAKIzQGwAAAAAAAAAAAACgMEJvAAAAAAAAAAAAAIDCCL0BAAAAAAAAAAAAAAoj9AYAAAAAAAAAAAAAKIzQGwAAAAAAAAAAAACgMEJvAAAAAAAAAAAAAIDCCL0BAAAAAAAAAAAAAAoj9AYAAAAAAAAAAAAAKIzQGwAAAAAAAAAAAACgMEJvAAAAAAAAAAAAAIDCCL0BAAAAAAAAAAAAAAoj9AYAAAAAAAAAAAAAKIzQGwAAAAAAAAAAAACgMEJvAAAAAAAAAAAAAIDCCL0BAAAAAAAAAAAAAAoj9AYAAAAAAAAAAAAAKIzQGwAAAAAAAAAAAACgMEJvAAAAAAAAAAAAAIDCCL0BAAAAAAAAAAAAAAoj9AYAAAAAAAAAAAAAKIzQGwAAAAAAAAAAAACgMEJvAAAAAAAAAAAAAIDCCL0BAAAAAAAAAAAAAAoj9AYAAAAAAAAAAAAAKIzQGwAAAAAAAAAAAACgMEJvAAAAAAAAAAAAAIDCCL0BAAAAAAAAAAAAAAoj9AYAAAAAAAAAAAAAKIzQGwAAAAAAAAAAAACgMEJvAAAAAAAAAAAAAIDCCL0BAAAAAAAAAAAAAAoj9AYAAAAAAAAAAAAAKIzQGwAAAAAAAAAAAACgMEJvAAAAAAAAAAAAAIDCCL0BAAAAAAAAAAAAAAoj9AYAAAAAAAAAAAAAKIzQGwAAAAAAAAAAAACgMEJvAAAAAAAAAAAAAIDCCL0BAAAAAAAAAAAAAAoj9AYAAAAAAAAAAAAAKIzQGwAAAAAAAAAAAACgMEJvAAAAAAAAAAAAAIDCCL0BAAAAAAAAAAAAAAoj9AYAAAAAAAAAAAAAKIzQGwAAAAAAAAAAAACgMEJvAAAAAAAAAAAAAIDCCL0BAAAAAAAAAAAAAAoj9AYAAAAAAAAAAAAAKIzQGwAAAAAAAAAAAACgMEJvAAAAAAAAAAAAAIDCCL0BAAAAAAAAAAAAAAoj9AYAAAAAAAAAAAAAKIzQGwAAAAAAAAAAAACgMEJvAAAAAAAAAAAAAIDCCL0BAAAAAAAAAAAAAAoj9AYAAAAAAAAAAAAAKIzQGwAAAAAAAAAAAACgMEJvAAAAAAAAAAAAAIDCCL0BAAAAAAAAAAAAAAoj9AYAAAAAAAAAAAAAKIzQGwAAAAAAAAAAAACgMEJvAAAAAAAAAAAAAIDCCL0BAAAAAAAAAAAAAAoj9AYAAAAAAAAAAAAAKIzQGwAAAAAAAAAAAACgMO1begEAAJuC5e825LGZ8zJ30ZJ07ViT/Xp3TrvqqpZeFgAAbDBmXgAAWHfmaQCAyjF7Aa2J0BsAYCOb8tSsXD75mcxasKTxth51NblsSJ8M6tujBVcGAAAbhpkXAADWnXkaAKByzF5Aa1Pd0gsAAGjLpjw1K2eO+02TF4lJMnvBkpw57jeZ8tSsFloZAABsGGZeAABYd+ZpAIDKMXsBrZHQGwBgI1n+bkMun/xMGprZtuK2yyc/k+XvNrcHAACUz8wLAADrzjwNAFA5Zi+gtRJ6AwBsJI/NnLfSJ4HfqyHJrAVL8tjMeZVbFAAAbEBmXgAAWHfmaQCAyjF7Aa2V0BsAYCOZu2jVLxLXZT8AACiNmRcAANadeRoAoHLMXkBrJfQGANhIunas2aD7AQBAacy8AACw7szTAACVY/YCWiuhNwDARrJf787pUVeTqlVsr0rSo64m+/XuXMllAQDABmPmBQCAdWeeBgCoHLMX0FoJvQEANpJ21VW5bEifJFnpxeKK65cN6ZN21at6KQkAAGUz8wIAwLozTwMAVI7ZC2ithN4AABvRoL49MvbEvdO9runPO3Wvq8nYE/fOoL49WmhlAACwYZh5AQBg3ZmnAQAqx+wFtEbtW3oBAABt3aC+PXJ4n+55bOa8zF20JF07/vPnnnwSGACAtsLMCwAA6848DQBQOWYvoLURegMAVEC76qr03+kDLb0MAADYaMy8AACw7szTAACVY/YCWpPqll4AAND6TZ8+PUOGDEl9fX2qqqpy3333Ndne0NCQSy+9ND169MgWW2yRgQMH5s9//nOTfebNm5cRI0aktrY2nTp1yimnnJLFixdX8FEAALQOZi8AgMowdwEAVI7ZCwCgeUJvAGC9vfHGG9lzzz3z7W9/u9nt11xzTcaMGZNbbrkljz76aLbaaqsceeSRWbJkSeM+I0aMyNNPP52pU6fmJz/5SaZPn57TTz+9Ug8BAKDVMHsBAFSGuQsAoHLMXgAAzatqaGhoaOlFAABtR1VVVe69994cd9xxSf756fr6+vqcf/75ueCCC5IkCxYsSLdu3XL77bdn+PDhefbZZ9OnT588/vjj2WeffZIkU6ZMydFHH52XX3459fX1a3TuhQsXpq6uLgsWLEhtbe1GeXwAQOV5jl+1lpq9/E0AoO3yPN8873kBABua5/hV854XALChtebned/oDQBsVDNnzszs2bMzcODAxtvq6urSr1+/PPLII0mSRx55JJ06dWp80yVJBg4cmOrq6jz66KOrPPbbb7+dhQsXNrkAAGzKNtbsZe4CAGjKe14AAJXjPS8AYFMm9AYANqrZs2cnSbp169bk9m7dujVumz17drp27dpke/v27dO5c+fGfZpz1VVXpa6urvHSs2fPDbx6AIDWZWPNXuYuAICmvOcFAFA53vMCADZlQm8AoNW6+OKLs2DBgsbLSy+91NJLAgBok8xdAACVY/YCAKgMcxcA0BoIvQGAjap79+5Jkjlz5jS5fc6cOY3bunfvnrlz5zbZvmzZssybN69xn+Z06NAhtbW1TS4AAJuyjTV7mbsAAJrynhcAQOV4zwsA2JQJvQGAjap3797p3r17HnzwwcbbFi5cmEcffTT9+/dPkvTv3z/z58/PE0880bjPtGnT8u6776Zfv34VXzMAQGtl9gIAqAxzFwBA5Zi9AIBNWfuWXgAA0PotXrw4zz//fOP1mTNn5ne/+106d+6cD37wgznnnHNy5ZVXZpdddknv3r3z1a9+NfX19TnuuOOSJLvttlsGDRqU0047LbfcckuWLl2a0aNHZ/jw4amvr2+hRwUAUCazFwBAZZi7AAAqx+wFANA8oTcAsN5+/etfZ8CAAY3XzzvvvCTJySefnNtvvz0XXXRR3njjjZx++umZP39+DjzwwEyZMiU1NTWN9xk/fnxGjx6dww47LNXV1Rk6dGjGjBlT8ccCAFA6sxcAQGWYuwAAKsfsBQDQvKqGhoaGll4EAMCGsHDhwtTV1WXBggWpra1t6eUAABuI5/jy+JsAQNvleb48/iYA0DZ5ji+PvwkAtF2t+Xm+uqUXAAAAAAAAAAAAAABAU0JvAAAAAAAAAAAAAIDCCL0BAAAAAAAAAAAAAAoj9AYAAAAAAAAAAAAAKIzQGwAAAAAAAAAAAACgMEJvAAAAAAAAAAAAAIDCCL0BAAAAAAAAAAAAAAoj9AYAAAAAAAAAAAAAKIzQGwAAAAAAAAAAAACgMEJvAAAAAAAAAAAAAIDCCL0BAAAAAAAAAAAAAAoj9AYAAAAAAAAAAAAAKIzQGwAAAAAAAAAAAACgMEJvAAAAAAAAAAAAAIDCCL0BAAAAAAAAAAAAAAoj9AYAAAAAAAAAAAAAKIzQGwAAAAAAAAAAAACgMEJvAAAAAAAAAAAAAIDCtG/pBQAAUJ7l7zbksZnzMnfRknTtWJP9endOu+qqll4WAACsFXMtAACthdkVAKByzF5AayL0BgCgiSlPzcrlk5/JrAVLGm/rUVeTy4b0yaC+PVpwZQAAsObMtQAAtBZmVwCAyjF7Aa1NdUsvAACAckx5albOHPebJi9qk2T2giU5c9xvMuWpWS20MgAAWHPmWgAAWguzKwBA5Zi9gNZI6A0AQJJ//jzV5ZOfSUMz21bcdvnkZ7L83eb2AACAMphrAQBoLcyuAACVY/YCWiuhNwAASZLHZs5b6ZPL79WQZNaCJXls5rzKLQoAANaSuRYAgNbC7AoAUDlmL6C1EnoDAJAkmbto1S9q12U/AABoCeZaAABaC7MrAEDlmL2A1kroDQBAkqRrx5oNuh8AALQEcy0AAK2F2RUAoHLMXkBrJfQGACBJsl/vzulRV5OqVWyvStKjrib79e5cyWUBAMBaMdcCANBamF0BACrH7AW0VkJvAACSJO2qq3LZkD5JstKL2xXXLxvSJ+2qV/XSFwAAWp65FgCA1sLsCgBQOWYvoLUSegMA0GhQ3x4Ze+Le6V7X9OeoutfVZOyJe2dQ3x4ttDIAAFhz5loAAFoLsysAQOWYvYDWqH1LLwAAgLIM6tsjh/fpnsdmzsvcRUvSteM/f57KJ5cBAGhNzLUAALQWZlcAgMoxewGtjdAbAICVtKuuSv+dPtDSywAAgPVirgUAoLUwuwIAVI7ZC2hNqlt6AQAAAAAAAAAAAAAANCX0BgAAAAAAAAAAAAAojNAbAAAAAAAAAAAAAKAwQm8AAAAAAAAAAAAAgMIIvQEAAAAAAAAAAAAACiP0BgAAAAAAAAAAAAAojNAbAAAAAAAAAAAAAKAwQm8AAAAAAAAAAAAAgMIIvQEAAAAAAAAAAAAACiP0BgDg/2Pvj6Mju+/68Pszo8167ESrWJsoGifxWtkfjZkoTlgTGR2ypgRvIkyFU3hKa7ImpX5MWNISCOWk5neKovIEE/IUAgU2YQmleCGk6SE1gkW/4yQP8QZkFCzcVMhN0428ThwpIitbq9iR19bM84esZbXSSCNpdOfe0et1zp5Ec79z7+feGc19f+XP3AsAAAAAAAAAAKSMRm8AAAAAAAAAAAAAgJTR6A0AAAAAAAAAAAAAkDIavQEAAAAAAAAAAAAAUkajNwAAAAAAAAAAAABAymj0BgAAAAAAAAAAAABIGY3eAAAAAAAAAAAAAAApo9EbAAAAAAAAAAAAACBlNHoDAAAAAAAAAAAAAKSMRm8AAAAAAAAAAAAAgJTR6A0AAAAAAAAAAAAAkDIavQEAAAAAAAAAAAAAUkajNwAAAAAAAAAAAABAymj0BgAAAAAAAAAAAABIGY3eAAAAAAAAAAAAAAApo9EbAAAAAAAAAAAAACBlNHoDAAAAAAAAAAAAAKSMRm8AAAAAAAAAAAAAgJTR6A0AAAAAAAAAAAAAkDIavQEAAAAAAAAAAAAAUkajNwAAAAAAAAAAAABAymj0BgAAAAAAAAAAAABIGY3eAAAAAAAAAAAAAAApo9EbAAAAAAAAAAAAACBlNHoDAAAAAAAAAAAAAKSMRm8AAAAAAAAAAAAAgJTR6A0AAAAAAAAAAAAAkDIavQEAAAAAAAAAAAAAUkajNwAAAAAAAAAAAABAymj0BgAAAAAAAAAAAABIGY3eAAAAAAAAAAAAAAApo9EbAAAAAAAAAAAAACBlNHoDAAAAAAAAAAAAAKSMRm8AAAAAAAAAAAAAgJTR6A0AAAAAAAAAAAAAkDIavQEAAAAAAAAAAAAAUkajNwAAAAAAAAAAAABAymj0BgAAAAAAAAAAAABIGY3eAAAAAAAAAAAAAAApo9EbAAAAAAAAAAAAACBlNHoDAAAAAAAAAAAAAKSMRm8AAAAAAAAAAAAAgJTR6A0AAAAAAAAAAAAAkDIavQEAAAAAAAAAAAAAUkajNwAAAAAAAAAAAABAymj0BgAAAAAAAAAAAABIGY3eAAAAAAAAAAAAAAApo9EbAAAAAAAAAAAAACBlNHoDAAAAAAAAAAAAAKSMRm8AAAAAAAAAAAAAgJTR6A0AAAAAAAAAAAAAkDIavQEAAAAAAAAAAAAAUkajNwAAAAAAAAAAAABAymj0BgAAAAAAAAAAAABIGY3eAAAAAAAAAAAAAAApo9EbAAAAAAAAAAAAACBlNHoDAAAAAAAAAAAAAKSMRm8AAAAAAAAAAAAAgJTR6A0AAAAAAAAAAAAAkDIavQEAAAAAAAAAAAAAUkajNwAAAAAAAAAAAABAymj0BgAAAAAAAAAAAABIGY3eAAAAAAAAAAAAAAApo9EbAAAAAAAAAAAAACBlNHoDAAAAAAAAAAAAAKSMRm8AAAAAAAAAAAAAgJTR6A0AAAAAAAAAAAAAkDIavQEAAAAAAAAAAAAAUkajNwAAAAAAAAAAAABAymj0BgAAAAAAAAAAAABIGY3eAAAAAAAAAAAAAAApo9EbAAAAAAAAAAAAACBlNHoDAAAAAAAAAAAAAKSMRm8AAAAAAAAAAAAAgJTZ0+gCAAB2g8VyJUYnZ2NmfiE6WgvR09UeLflco8sCACAFZEUAAMC8AAAgObIXkCUavQEAdtjw+FQMDk3E1NzCxceKbYUY6C9FX3exgZUBANBosiIAAGBeAACQHNkLyJp8owsAAGhmw+NTcezk2IpJYkTE9NxCHDs5FsPjUw2qDACARpMVAQAA8wIAgOTIXkAWafQGANghi+VKDA5NRGWNZcuPDQ5NxGJ5rREAADQzWREAADAvAABIjuwFZJVGbwCAHTI6Obvqm8CXqkTE1NxCjE7OJlcUAACpICsCAADmBQAAyZG9gKzS6A0AsENm5qtPErcyDgCA5iErAgAA5gUAAMmRvYCs0ugNALBDOloLdR0HAEDzkBUBAADzAgCA5MheQFZp9AYA2CE9Xe1RbCtErsryXEQU2wrR09WeZFkAAKSArAgAAJgXAAAkR/YCskqjNwDADmnJ52KgvxQRsWqyuPzzQH8pWvLVppIAADQrWREAADAvAABIjuwFZJVGbwCAHdTXXYzjRw9FZ9vK2zt1thXi+NFD0dddbFBlAAA0mqwIAACYFwAAJEf2ArJoT6MLAABodn3dxThS6ozRydmYmV+Ijtal2z35JjAAALIiAABgXgAAkBzZC8gajd4AAAloyeei9+D+RpcBAEAKyYoAAIB5AQBAcmQvIEvyjS4AAAAAAAAAAAAAAICVNHoDAAAAAAAAAAAAAKSMRm8AAAAAAAAAAAAAgJTR6A0AAAAAAAAAAAAAkDIavQEAAAAAAAAAAAAAUkajNwAAAAAAAAAAAABAymj0BgAAAAAAAAAAAABImT2NLgAAgGxaLFdidHI2ZuYXoqO1ED1d7dGSzzW6LACAzJGrAAAA8wIAgOTIXkCWaPQGAGDThsenYnBoIqbmFi4+VmwrxEB/Kfq6iw2sDAAgW+QqAADAvAAAIDmyF5A1+UYXAABAtgyPT8Wxk2MrJr4REdNzC3Hs5FgMj081qDIAgGyRqwAAAPMCAIDkyF5AFmn0BgCgZovlSgwOTURljWXLjw0OTcRiea0RAAAsk6sAAADzAgCA5MheQFZp9AYAoGajk7Orvt18qUpETM0txOjkbHJFAQBkkFwFAACYFwAAJEf2ArJKozcAADWbma8+8d3KOACA3UquAgAAzAsAAJIjewFZpdEbAICadbQW6joOAGC3kqsAAADzAgCA5MheQFZp9AYASInFciVGzpyL+x5+PEbOnIvFcqXRJa3S09UexbZC5Kosz0VEsa0QPV3tSZYFAJAqteQ6uQoAADAvAABIjuwFZNWeRhcAAEDE8PhUDA5NxNTcP9wGqthWiIH+UvR1FxtY2Uot+VwM9Jfi2MmxyEXEpS1LyxPigf5StOSrTY8BAJpbrblOrgIAAJbnBT9+cmzN5ZUwLwAAqBfZC8gqV/QGAGiw4fGpOHZybEUzUETE9NxCHDs5FsPjUw2qbG193cU4fvRQdLatvGVVZ1shjh89lKrGdACAJG0218lVAAAAAAAArMcVvQEAGmixXInBoYkVV3BcVomlqzkODk3EkVJnqr453NddjCOlzhidnI2Z+YXoaF26hVWaagQASNJWc51cBQAAu9fyPKKatP59GAAgi2QvIKs0egMANNDo5OyqKz5eqhIRU3MLMTo5G70H9ydXWA1a8rnU1QQA0CjbyXVyFQAA7E5Z/vswAEDWyF5AVuUbXQAAwG42M199IrmVcQAANIZcBwAAbJZ5BABAcmQvIKs0egMANFBHa6Gu4wAAaAy5DgAA2CzzCACA5MheQFZp9AYAaKCervYothUiV2V5LiKKbYXo6WpPsiwAADZJrgMAADbLPAIAIDmyF5BVGr0BABqoJZ+Lgf5SRMSqCeXyzwP9pWjJV5tuAgCQBnIdAACwWeYRAADJkb2ArNLoDQDQYH3dxTh+9FB0tq28BVRnWyGOHz0Ufd3FBlUGAMBmyHUAAMBmmUcAACRH9gKyaE+jCwAAYGlCeaTUGaOTszEzvxAdrUu3hPJtYQCAbJHrAACAzTKPAABIjuwFZI1GbwCAlGjJ56L34P5GlwEAwDbJdQAAwGaZRwAAJEf2ArJEozcAAA21WK74tjQAkBjZAwAASCNzFQCA5MheQJZo9AYAoGGGx6dicGgipuYWLj5WbCvEQH8p+rqLDawMAGhGsgcAAJBG5ioAAMmRvYCsyTe6AAAAdqfh8ak4dnJsxQQ6ImJ6biGOnRyL4fGpBlUGADQj2QMAAEgjcxUAgOTIXkAWafQGANiFFsuVGDlzLu57+PEYOXMuFsuVxLc/ODQRa211+bHBoYnE6wIAmpPs0TwanWMBAKCezFUAAJIjewFZtafRBQAAkKw03IpqdHJ21bekL1WJiKm5hRidnI3eg/sTqQkAaF6yR3NIQ44FAIB6MlcBAEiO7AVklSt6AwDsImm5FdXMfPUJ9FbGAQCsR/bIvrTkWAAAqCdzFQCA5MheQFZp9AYA2CXSdCuqjtZCXccBAKxH9si2NOVYAACop5e86Iq6jgMAoDrZC8gqjd4AALvEZm5FtdN6utqj2FaIXJXluYgothWip6t9x2sBAJqf7JFtacqxAABQV7V+V9F3GgEAtk/2AjJKozcAwC6RpltRteRzMdBfiohY1XC1/PNAfyla8tXasQAAaid7ZFuaciwAANTT1596pq7jAACoTvYCskqjNwDALtHRWqjruO3q6y7G8aOHorNt5fY62wpx/Oih6OsuJlIHALA7yB7ZlbYcCwAA9SLrAgAkR/YCsmpPowsAACAZPV3tUWwrxPTcwpp3m8rFUqNTT1d7YjX1dRfjSKkzRidnY2Z+ITpal7bvapoAwE6QPbIpjTkWAADqQdYFAEiO7AVklSt6AwDsEi35XAz0lyJiaZJ6qeWfB/pLiTc6teRz0Xtwf9z2+pdH78H9Gq0AgB0le2RPWnMsAABsl6wLAJAc2QvIKo3eAAC7SF93MY4fPRSdbStvN9XZVojjRw9FX3exQZUBAEB1ciwAAM1K1gUASI7sBWTRnkYXAABAsvq6i3Gk1Bmjk7MxM78QHa1Lt5/yzWQAANJMjgUAoFnJugAAyZG9gKzR6A0AsAu15HPRe3B/o8sAAIBNkWMBAGhWsi4AQHJkLyBL8o0uAAAAAAAAAAAAAACAlTR6AwAAAAAAAAAAAACkjEZvAAAAAAAAAAAAAICU0egNAAAAAAAAAAAAAJAyGr0BAAAAAAAAAAAAAFJGozcAAAAAAAAAAAAAQMpo9AYAAAAAAAAAAAAASBmN3gAAAAAAAAAAAAAAKaPRGwAAAAAAAAAAAAAgZTR6AwAAAAAAAAAAAACkjEZvAAAAAAAAAAAAAICU0egNAAAAAAAAAAAAAJAyGr0BgB333ve+N3K53Ip/119//cXlCwsL8c53vjP2798fL3rRi+IHf/AH42tf+1oDKwYAyC7ZCwAgObIXAEAy5C4AYLfS6A0AJOI1r3lNTE1NXfz32c9+9uKyn/7pn46hoaH4+Mc/Hp/5zGfiq1/9avzAD/xAA6sFAMg22QsAIDmyFwBAMuQuAGA32tPoAgCA3WHPnj3R2dm56vG5ubn4yEc+En/4h38Yb3rTmyIi4j//5/8c3/qt3xoPPvhgfMd3fEfSpQIAZJ7sBQCQHNkLACAZchcAsBu5ojcAkIgvfvGLcc0118SrXvWqeNvb3haPPfZYREQ89NBD8eyzz8Ytt9xycez1118f1157bYyMjKy7zmeeeSbOnz+/4h/psliuxMiZc3Hfw4/HyJlzsViuNLokANgV6p29kspdsgMAkEVZzV5AupgPAWxM7gLqRfYCssQVvQGAHXfTTTfF7/3e78WrX/3qmJqaisHBwTh8+HCMj4/H9PR07N27N1784heveM7LXvaymJ6eXne999xzTwwODu5g5WzH8PhUDA5NxNTcwsXHim2FGOgvRV93sYGVAUBz24nslUTukh0AgCzKavYC0sV8CGBjchdQL7IXkDW5SqXi6ygAQKKefPLJOHDgQPzKr/xKXHnllfGjP/qj8cwzz6wY09PTE9/93d8d73//+6uu55lnnlnxvPPnz8crX/nKmJubi3379u1Y/WxseHwqjp0ci8uDZu75/z1+9JBJMgA1O3/+fLS1tTnHb1E9stdO5y7ZAQDSQ/banixkLyBdzIdg95K7tkfuArZC9oLdK8vZK9/oAgCA3efFL35x/KN/9I/i//yf/xOdnZ1x4cKFePLJJ1eM+drXvhadnZ3rrueKK66Iffv2rfhH4y2WKzE4NLFqchwRFx8bHJpw+ysASEg9stdO5i7ZAQBoJmnPXkC6mA8BbJ3cBWyW7AVklUZvACBx3/jGN+LMmTNRLBbjxhtvjBe84AXxqU996uLyL3zhC/HYY49Fb29vA6tkq0YnZ1fc5upylYiYmluI0cnZ5IoCgF0s7dlLdgAAmknasxeQLuZDAFsndwGbJXsBWbWn0QUAAM3v3/7bfxv9/f1x4MCB+OpXvxoDAwPR0tISt99+e7S1tcWdd94Z7373u6O9vT327dsX/+bf/Jvo7e2N7/iO72h06WzBzHz1yfFWxgEAm5O17CU7AABZlrXsBaSL+RBA7eQuYLtkLyCrNHoDADvuK1/5Stx+++1x7ty5eOlLXxpvfOMb48EHH4yXvvSlERHxq7/6q5HP5+MHf/AH45lnnom3vOUt8Vu/9VsNrpqt6mgt1HUcALA5WctesgMAkGVZy15AupgPAdRO7gK2S/YCsipXqVQqjS4CAKAezp8/H21tbTE3Nxf79u1rdDm71mK5Em98/6djem4h1gqauYjobCvEZ9/zpmjJ55IuD4AMco5Pn3q+JrIDAKSL7JU+XhNoXuZDsLs5x6eP1wSam+wFu1uWz/P5RhcAAEBzacnnYqC/FBFLk+FLLf880F8yOQYAIkJ2AAAAdi/zIQCA5MheQFZp9AYAoO76uotx/Oih6GxbeVurzrZCHD96KPq6iw2qDABII9kBAADYrcyHAACSI3sBWbSn0QUAANCc+rqLcaTUGaOTszEzvxAdrYXo6Wr3DWgAYE2yAwAAsFuZDwEAJEf2ArJGozcAADumJZ+L3oP7G10GAJARsgMAALBbmQ8BACRH9gKyJN/oAgAAAAAAAAAAAAAAWEmjNwAAAAAAAAAAAABAymj0BgAAAAAAAAAAAABImT2NLgAAgGxaLFdidHI2ZuYXoqO1ED1d7dGSzzW6LACAdckwAABAGpmrAAAkR/YCskSjNwAAmzY8PhWDQxMxNbdw8bFiWyEG+kvR111sYGUAANXJMAAAQBqZqwAAJEf2ArIm3+gCAADIluHxqTh2cmzFxDciYnpuIY6dHIvh8akGVQYAUJ0MAwAApJG5CgBAcmQvIIs0egMAULPFciUGhyaissay5ccGhyZisbzWCACAxpBhAACANDJXAQBIjuwFZJVGbwCADFksV2LkzLm47+HHY+TMucQnmaOTs6u+3XypSkRMzS3E6ORsckUBAE1jp7KODAMAAKSRuQoAQHJkLyCr9jS6AAAAajM8PhWDQxMrJp/FtkIM9Jeir7uYSA0z89UnvlsZBwCwbCezjgwDAACkkbkKAEByZC8gq1zRGwAgA4bHp+LYybFV3zCenluIYyfHYnh8KpE6OloLdR0HABCx81lHhgEAANLIXAUAIDmyF5BVGr0BAFJusVyJwaGJqKyxbPmxwaGJWCyvNaK+errao9hWiFyV5blYuvJmT1f7jtcCADSHJLKODAMAAKTRjQeujny1icrz8rmlcQAAbI/sBWSVRm8AgJQbnZxddXXLS1UiYmpuIUYnZ3e8lpZ8Lgb6SxERqxqlln8e6C9Fy0YzZACA52036yyWKzFy5lzc9/DjMXLm3JoN4TIMAACQRg+dfSI2+k5rubI0DgCA7ZG9gKza0+gCAABY38x89canrYzbrr7uYhw/eigGhyZWNGV1thVioL8Ufd3FROoAAJrDdrLO8PjUqkxSrJJJZBgAACBt0va3XwCAZiZ7AVml0RsAIOU6Wgt1HVcPfd3FOFLqjNHJ2ZiZX4iO1kL0dLW7CiYAsGlbzTrD41Nx7ORYXH4Blum5hTh2ciyOHz20ZrO3DAMAAKRFGv/2CwDQrGQvIKs0egMApNyNB66OfC7WvY1UPrc0Lkkt+Vz0Htyf6DYBgObT09UexbZCTM8trGrajojIxdJVt3u62i8+tliuxODQxJrjK88/Z3BoIo6UOlc1ccswAABAWqT1b78AAM1I9gKyKt/oAgAAWN9DZ59Yd7IZsTQZfejsE8kUBABQRy35XAz0lyJiqUH7Uss/D/SXVjRsj07OxtRc9dtnViJiam4hRidn61ssAABAHfnbLwBAcmQvIKs0egMApNzMfPUmpq2MAwBIm77uYhw/eig621beErOzrRDHjx6Kvu7iisflIwAAoBmY2wAAJEf2ArJqT6MLAABgfR2thY0HbWIcAEAa9XUX40ipM0YnZ2NmfiE6WgvR09W+4krey+QjAACgGZjbAAAkR/YCskqjNwBAyvV0tUexrRDTcwux1p2kcrF0tcuervakSwMAqKuWfC56D+7fcJx8BAAANANzGwCA5MheQFblG10AAADra8nnYqC/FBFLk8tLLf880F9a82qXAADNSD4CAACagbkNAEByZC8gqzR6AwBkQF93MY4fPRSdbStvE9XZVojjRw9FX3exQZUBADSGfAQAADQDcxsAgOTIXkAW7Wl0AQAA1KavuxhHSp0xOjkbM/ML0dG6dNso3ygGAHYr+QgAAGgG5jYAAMmRvYCs0egNAJAhLflc9B7c3+gyAABSQz4CAACagbkNAEByZC8gS/KNLgAAAAAAAAAAAAAAgJU0egMAAAAAAAAAAAAApIxGbwAAAAAAAAAAAACAlNnT6AIAAICds1iuxOjkbMzML0RHayF6utqjJZ9rdFkAkBnOpQAAQBLMPQAAkiN7AVmi0RsAAJrU8PhUDA5NxNTcwsXHim2FGOgvRV93sYGVAUA2OJcCAABJMPcAAEiO7AVkTb7RBQAAAPU3PD4Vx06OrfgDRUTE9NxCHDs5FsPjUw2qDACywbkUAABIgrkHAEByZC8gizR6AwBkyGK5EiNnzsV9Dz8eI2fOxWK50uiSSKHFciUGhyZirXfH8mODQxPePwA0hZ3IR86lAABAEsw9AACSI3sBWbWn0QUAAFAbt5CiVqOTs6u+hX6pSkRMzS3E6ORs9B7cn1xhAFBnO5WPnEsBAIAkmHsAACRH9gKyyhW9AQAywC2k2IyZ+ep/oNjKOABIo53MR86lAABAEsw9AACSI3sBWaXRGwAg5dxCis3qaC3UdRwApM1O5yPnUgAAIAkvedEVdR0HAEB1sheQVRq9AQBSbjO3kIKIiJ6u9ii2FSJXZXkuIopthejpak+yLACom53OR86lAABAImr9bqprfAAAbJ/sBWSURm8AgJRzCyk2qyWfi4H+UkTEqga15Z8H+kvRkq/WvgYA6bbT+ci5FAAASMLXn3qmruMAAKhO9gKySqM3AEDKdbQW6jqO3aGvuxjHjx6KzraV74vOtkIcP3oo+rqLDaoMALYviXzkXAoAAOw0f/sFAEiO7AVk1Z5GFwAAwPp6utqj2FaI6bmFNe8SlYulhqOervakSyPl+rqLcaTUGaOTszEzvxAdrUvvE1cfBSDrkspHzqUAAMBO8rdfAIDkyF5AVrmiNwBAyrXkczHQX4qIpcnlpZZ/HugvaThiTS35XPQe3B+3vf7l0Xtwv/cJAE0hyXzkXAoAAOwUf/sFAEiO7AVklUZvAIAM6OsuxvGjh6KzbeVtojrbCnH86KHo6y42qDIAgMaQjwAAgGZgbgMAkBzZC8iiPY0uAACA2vR1F+NIqTNGJ2djZn4hOlqXbhvlG8UAwG4lHwEAAM3A3AYAIDmyF5A1Gr0BADKkJZ+L3oP7G10GAEBqyEcAAEAzMLcBAEiO7AVkiUZvAIAMWSxXfLMYAGAb5CkAACCNzFUAAJIjewFZotEbACAjhsenYnBoIqbmFi4+VmwrxEB/Kfq6iw2sDAAgG+QpAAAgjcxVAACSI3sBWZNvdAEAAGxseHwqjp0cWzHZjIiYnluIYyfHYnh8qkGVAQBkgzwFAACkkbkKAEByZC8gizR6AwCk3GK5EoNDE1FZY9nyY4NDE7FYXmsEAADyFAAAkEbmKgAAyZG9gKzS6A0AkHKjk7OrvlF8qUpETM0txOjkbHJFAQBkiDwFAACkkbkKAEByZC8gqzR6AwCk3Mx89cnmVsYBAOw28hQAAJBG5ioAAMmRvYCs0ugNAJByHa2Fuo4DANht5CkAACCNzFUAAJIjewFZpdEbACDlerrao9hWiFyV5bmIKLYVoqerPcmyAAAyQ54CAADSyFwFACA5sheQVRq9AQBSriWfi4H+UkTEqknn8s8D/aVoyVebkgIA7G7yFAAAkEbmKgAAyZG9gKzS6A0AkAF93cU4fvRQdLatvE1UZ1shjh89FH3dxQZVBgCQDfIUAACQRuYqAADJkb2ALNrT6AIAAKhNX3cxjpQ6Y3RyNmbmF6Kjdem2Ub5RDABQG3kKAABII3MVAIDkyF5A1mj0BgDIkJZ8LnoP7l93zGK5YlIKAGRSEjmmljwFAAAAAAAAaaDRGwCgiQyPT8Xg0ERMzS1cfKzYVoiB/pLbTAEAqSbHAAAAu5X5EABAcmQvIGvyjS4AAID6GB6fimMnx1ZMSCMipucW4tjJsRgen2pQZQAA65NjAACA3cp8CAAgObIXkEUavQEAmsBiuRKDQxNRWWPZ8mODQxOxWF5rBABA48gxAADAbmU+BACQHNkLyCqN3gAATWB0cnbVt44vVYmIqbmFGJ2cTa4oAIAayDEAAMBuZT4EAJAc2QvIKo3eAABNYGa++oR0K+MAAJIixwAAALuV+RAAQHJkLyCrNHoDADSBjtZCXccBACRFjgEAAHYr8yEAgOTIXkBWafQGAGgCPV3tUWwrRK7K8lxEFNsK0dPVnmRZAAAbkmMAAIDdynwIACA5sheQVRq9AQCaQEs+FwP9pYiIVRPT5Z8H+kvRkq82bQUAaAw5BgAA2K3MhwAAkiN7AVml0RsAoEn0dRfj+NFD0dm28lZSnW2FOH70UPR1FxtUGQDA+uQYAABgtzIfAgBIjuwFZNGeRhcAAED99HUX40ipM0YnZ2NmfiE6WpduLeVbxwBA2skxAADAbmU+BACQHNkLyBqN3gAA27RYrqRqEtiSz0Xvwf0N2z4AwFbJMemRtowLAAAAAACwG2n0BgDYhuHxqRgcmoipuYWLjxXbCjHQX3JbJwAAMknGBQCAZMngAADJkb2ArMk3ugAAgKwaHp+KYyfHVkwAIyKm5xbi2MmxGB6falBlAACwNTIuAAAkSwYHAEiO7AVkkUZvAIAtWCxXYnBoIiprLFt+bHBoIhbLa40AAID0kXEBACBZMjgAQHJkLyCrNHoDAGzB6OTsqm/5XqoSEVNzCzE6OZtcUZuwWK7EyJlzcd/Dj8fImXMmqwAAZD7jZoUsDgDAMhkcACA5sheQVXsaXQAAQBbNzFefAG5lXJKGx6dicGhixSS22FaIgf5S9HUXG1gZAACNlOWMmxWyOAAAl5LBAQCSI3sBWeWK3gAAW9DRWqjruKQMj0/FsZNjq76pPD23EMdOjsXw+FSDKgMAoNGymnGzQhYHAOByMjgAQHJkLyCrNHoDAGxBT1d7FNsKkauyPBdLV+br6WpPsqx1LZYrMTg0EWvdGH75scGhCbeOBwDYpbKYcbNCFgcAYC03Hrg68tUC+PPyuaVxAABsj+wFZJVGbwCALWjJ52KgvxQRsaoRZvnngf5StGw0U0zQ6OTsqqsHXqoSEVNzCzE6OVu3bS6WKzFy5lzc9/DjMXLmnMYVAKDu5I36yWLGzYpGZHEAANLvobNPxEZTmHJlaRwAANsjewFZtafRBQAAZFVfdzGOHz0Ug0MTK5o2OtsKMdBfir7uYgOrW21mvnpjyVbGbWR4fGrVsSmm9NgAANkkb9Rf1jJuViSdxQEAyAY5EQAgObIXkFUavQEAtqGvuxhHSp0xOjkbM/ML0dG6dCv7NF7lsKO1UNdx6xken4pjJ8dW3Zp+em4hjp0ci+NHD2kSAgC2Rd7YOVnKuFmRZBYHACA75EQAgOTIXkBWafQGANimlnwueg/ub3QZG+rpao9iWyGm5xZWNURFRORi6UqNPV3t29rOYrkSg0MTa26j8vx2Bocm4kipU7MQALAl8sbOy0rGzYqksjgAANly44GrI5+LKK8VEp+Xzy2NAwBge2QvIKvyjS4AAIBktORzMdBfioilRpJLLf880F/adjPU6ORsTM1Vv51VJSKm5hZidHJ2W9sBAHYveYOsSSqLAwCQLQ+dfWLdRqOIpUakh84+kUxBAABNTPYCskqjNwDALtLXXYzjRw9FZ9vK2011thXi+NFD0ddd3PY2ZuarN11tZRwAwOXkDbIoiSwOAEC2mNsAACRH9gKyak+jCwAAIFl93cU4UuqM0cnZmJlfiI7WpVvE1+vqgR2thY0HbWIcAMDl5A2yaqezOAAA2WJuAwCQHNkLyCqN3gAAu1BLPhe9B/fvyLp7utqj2FaI6bmFWOvOV7lYumphT1f7jmwfAGh+8gZZtpNZHACAbDG3AQBIjuwFZFW+0QUAALBksVyJkTPn4r6HH4+RM+disbzW9LI+LjxXjo+c/lL8/H3j8ZHTX4oLz5Xrtu6WfC4G+ksRsTQZvtTyzwP9JVctJBOS/L0EoPbP3e3kjc1+tm/lXOD8AQAA1OLSuU01/pYKAFAfsheQVa7oDQCQAsPjUzE4NBFTcwsXHyu2FWKgvxR93cW6buueUxNx4vRkXNpv9L5Tj8Rdh7vi7lvXn9jWqq+7GMePHlq1T507tE+wE5L8vQRg85+7W8kbm93GVs4Fzh8AAMBm9HUX49r9V8bZc99cteza/VeaRwAA1JHsBWRRrlKpuKQQANAUzp8/H21tbTE3Nxf79u1rdDk1Gx6fimMnx1bdHmr5e8LHjx6q24TynlMT8eEHJqsuf8fN9Wv2jli6muXo5GzMzC9ER+vSba58A5osSPL3EthYVs/xzazer8l2PndrzRub3cZWanL+AKAZyF7p4zWB5vb9v3E6Pv+V81WX3/CKffEn//pwghUBSXGOTx+vCTQ/2Qt2ryyf5/ONLgAAYDdbLFdicGhiVTNQRFx8bHBoIhbL2/9u3oXnynHidPUm74iIE6cn48Jz5W1va1lLPhe9B/fHba9/efQe3K/Jm0xI8vcSgO1/7taSNza7ja3U5PwBAABs1jcWnlu30Sgi4vNfOR/fWHguoYoAAJqX7AVklUZvAIAGGp2cjam5harLKxExNbcQo5Oz297WvSOPxkZ9ReXK0jjYzZL8vQQgmc/dzW5jKzU5fwAAAJv10x/727qOAwCgOtkLyCqN3gAADTQzX70ZaCvj1nN29um6joNmleTvJQDJfO5udhtbqcn5AwAA2KzHnvhmXccBAFCd7AVklUZvAIAG6mgt1HXceg60X1XXcdCskvy9BCCZz93NbmMrNTl/AAAAm3Xt1VfWdRwAANXJXkBWafQGAGignq72KLYVIldleS4iim2F6Olq3/a27ui9LvLVNvS8fG5pHOxmSf5e7naL5UqMnDkX9z38eIycOReL5UqjSwIaIInP3c1uYys1OX8AAACb9av//NvqOg4AgOpkLyCrNHoDADRQSz4XA/2liIhVTUHLPw/0l6Jlow7tGuzdk4+7DnetO+auw12xd4+IyO6W5O/lbjY8PhVvfP+n4/YTD8a7/ujhuP3Eg/HG9386hsenGl0akLDlz91qX/WoxPY/dzf72b6Vc4HzBwAAsFkvKuyJG16xb90xN7xiX7yosCehigAAmpfsBWSVLh4AgAbr6y7G8aOHorOtsOLxzrZCHD96KPq6i3Xb1t23luIdN3eturJ3Phfxjpu74u5bS3XbFmRZkr+Xu9Hw+FQcOzkWU3MLKx6fnluIYyfHNHsDO2Kzn+1bORc4fwAAAJv1E//4/9rWcgAAaid7AVmUq1Qq7o0NADSF8+fPR1tbW8zNzcW+fet/EzeNFsuVGJ2cjZn5hehoLURPV/uOXfHxwnPluHfk0Tg7+3QcaL8q7ui9zpW8YQ1J/l7uFovlSrzx/Z9e1eS9LBdLDZGffc+bHGsuyvo5vhnV8zVJ+nNhs5/tWzkXOH8AkGWyV/p4TaB5+TsJ7G7O8enjNYHmJnvB7pbl87z7DAAA7EJ79+TjzsOvanQZkHot+Vz0Htzf6DKayujkbNU/oEVEVCJiam4hRidnHXvYJdL+ubCVc4HzBwAAUIu0z4cAAJqJ7AVklUZvAIAUGB6fisGhiRUTy2JbIQb6S9HXXWxgZQD1NTNf/Q9oWxkHZF+SnwsyFwAAkCb+TgIAkBzZC8iqfKMLAADY7YbHp+LYybFV3x6enluIYyfHYnh8qkGVAdRfR2uhruOA7Evqc0HmAgAA0sbfSQAAkiN7AVml0RsAoIEWy5UYHJqIyhrLlh8bHJqIxfJaIwCyp6erPYpthchVWZ6Lpavr9nS1J1kW0EBJfC7IXAAAQBrdeODqyFebDD0vn1saBwDA9sheQFZp9AYASMCF58rxkdNfip+/bzw+cvpLceG5ckREjE7Orrqq5KUqETE1txCjk7M1b2uxXImRM+fivocfj5Ez5zQs7XLeD6RNSz4XA/2liIhVTZ3LPw/0l6Jlo7+0AU3j0s+Fatb7XKjlXLcTmQsAAGC7Hjr7RGz057pyZWkcAADbI3sBWbWn0QUAADS7e05NxInTkysmje879UjcdbgrSte01bSOmfnqjUmXGh6fisGhiRWNTMW2Qgz0l6Kvu7ipusk+7wfSqq+7GMePHlr1/uz0/oRdq6+7GLeUOuL+iZlVy24pdVT9XKj1XFdrlqp1HAAAQD2YqwAAJEf2ArJKozcAwA6659REfPiByVWPlysRH35gMv7JDbU1M3a0FjYcMzw+FcdOjsXlX0KenluIYyfH4vjRQ5ondxHvB9Kur7sYR0qdMTo5GzPzC9HRWoiernZX8oZd6p5TE2s2eUdE3D8xE/ecmoi7b1151e/NnOtqyVKbGQcAAFAP5ioAAMmRvYCsyje6AACAZnXhuXKcOL26yftSp/7nVLysdW9Ua2vMxdJVKXu62tddz2K5EoNDE6sanSLi4mODQxOxuNG9qOpssVyJkTPn4r6HH4+RM+cS3/5uldb3A1yuJZ+L3oP747bXvzx6D+7X5A27VC2Z6cTpybjwXPniz5s919144OrY6CMmn1saBwAAkJRScV9dxwEAUJ3sBWSVRm8AgB1y78ijsVEfbbkScfhbXhoRsarZe/nngf7Shs2Po5OzMTVX/RZSlYiYmluI0cnZ9Quqo+HxqXjj+z8dt594MN71Rw/H7ScejDe+/9MxPD6VWA27VRrfDwBQTa2Z6d6RRy/+vNlz3UNnn6hpGw+dfaLGqgEAALbv33784bqOAwCgOtkLyCqN3gAAO+Ts7NM1jbvqij1x/Oih6GxbeQuozrZCHD96KPq6ixuuY2a+eqPTVsZt1/D4VBw7ObaqAWt6biGOnRzT7L3D0vZ+AID11JqZLh232XOdcyMAAJBGjz3xzbqOAwCgOtkLyKo9jS4AAKBZHWi/quZxfd3FOFLqjNHJ2ZiZX4iO1kL0dLVveCXvZR2thY0HbWLcdiyWKzE4NBFrXTSzEktXKh8cmogjpc6a94/NSdP7AQA28sqra8tMl47b7LnOuREAAEijV159ZXxher6mcQAAbI/sBWSVK3oDAOyQO3qvi436mPO5pXERES35XPQe3B+3vf7l0Xtw/6aaoHu62qPYVohqz8hFRLFtqXl8p41Ozq66kvelKhExNbcQo5OzO17LbpWm9wMAbOT6l7Vuetxmz3XOjQAAQBq97duvres4AACqk72ArNLoDQCwQ/buycddh7vWHXPX4a7Yu2f7kawln4uB/tKaV9GOWGquHugvJXIF7Zn56k3eWxnH5i2/HyJiVUPb8s9JvR8AYCOz37yw6XGbPdelKSsBAAAsO//sc3UdBwBAdbIXkFUavQEAdtDdt5biHTd3rbqydz4X8Y6bu+LuW0uNKWwHdbQW6jqOrenrLsbxo4eis23lce5sK8Txo4eir7vYoMoAYKWtZgfnOgAAIOv8LRUAIDmyF5BVexpdAABAs7v71lL8zJuvj3tHHo2zs0/Hgfar4o7e6+pyJe9li+VKDA5NVF2ei4jBoYk4Uurc8StV9nS1R7GtENNzC2teNTMXSw1YPV3tO1oHSw1wR0qdMTo5GzPzC9HRunTcXa0UgDTZTnao9VyXpqwEAACw7MYDV0c+F1GudvuhWLpoyI0Hrk6uKACAJiV7AVml0RsAIAF79+TjzsOv2vZ6FsuVNRuZRidnY2puoerzKhExNbcQo5Oz0Xtw/7brWE9LPhcD/aU4dnIscs9ve9ly29RAf0kTVUJa8rkdf80BYDu2mx1qOdclnZWqZTYAAIBLPXT2iXUbjSKWGpEeOvuEv/EBAGyT7AVklUZvAICMGB6fisGhiRVNSsW2Qgz0l+KZ58o1rWNmvnqDUz31dRfj+NFDq+rtfL7evu5iInUAANmw09mh1gxUj6y0XmaTgQAAgEslOVcBANjtZC8gqzR6AwBkwPD4VBw7ORaXf8F4em4hjp0ci5+65VtqWk9Ha6H+xVXR112MI6VOV7MEAGqyk9mh1gy03ay0UWY7fvSQZm8AAOCipOYqAADIXkB2afQGAEi5xXIlBocmVjUMRURUIiIXER8dfSw69xXia+cX1hyXi6UrYvZ0te9orZdryefc1goAqNlOZYeervYothViem7nslItmW1waCKOlDp98Q0AAIiIiBsPXB35XER5rYnE8/K5pXEAAGyP7AVkVb7RBQAAsL7RydmYmqt+e6hKREyffyZu77k2IpaaiC61/PNAf0lTEQCwK7XkczHQX4qInctKtWS2qbmFGJ2c3fI2AACA5vLQ2SfWbTSKWGpEeujsE8kUBADQxGQvIKs0egMApNzMfPWGoUtd95Kr4vjRQ9HZtvJWUp1thTh+9FD0dRd3ojwAgEzo6y7uaFaqNbPVOg4AAGh+5hEAAMmRvYCs2tPoAgAAWF9Ha2HjQc+P6z24P46UOmN0cjZm5heio7UQPV3truQNABBLzd47lZU2k9kAAAAizCMAAJIkewFZpdEbACDlerrao9hWiOm5hVjrTlK5WLoSZU9Xe0REtORz0Xtwf6I1AgBkxU5lpc1mNgAAAPMIAIDkyF5AVuUbXQAAQNotlisxcuZc3Pfw4zFy5lwsltea9u2clnwuBvpLEbE0ubzU8s8D/aXEr9rd6OMCABCx85mk1vWnNbMBAADpdek8ohrzCACA+pC9gKxyRW8AgHUMj0/F4NBETM0tXHys2FaIgf5S9HUXE6ujr7sYx48eWlVLZwNqiUjPcQEAdredziSbXX/aMhsAAJB+fd3FuKXUEfdPzKxadkupwzwCAKCOZC8gi3KVSsWlFwGApnD+/Ploa2uLubm52Ldv37bXNzw+FcdOjq26bdPy93ePHz2U+ERvsVyJ0cnZmJlfiI7WpdtGJf2N4jQeFwCaW73P8WxfGl6Tnc4k21l/GjIbAGxVGs7zrOQ1geZ2z6mJ+PADk1WXv+Pmrrj71vWvPAlkk3N8+nhNoPnJXrB7Zfk8n290AQAAabRYrsTg0MSqxp6IuPjY4NBELJaT/c5cSz4XvQf3x22vf3n0HtyfeMNQWo9LxFJtI2fOxX0PPx4jZ841pAYAIBnbySS1ZIbtZp5GZzYAACAbLjxXjhOnqzcaRUScOD0ZF54rJ1QRAEDzkr2ArNrT6AIAANJodHI2puYWqi6vRMTU3EKMTs5G78H9yRXWYGk9LsPjUzE4NLGitmJbIQb6S64uDgBNaKuZpNbMkNbMAwAANJd7Rx6Nja5XUa4sjbvz8KuSKQoAoEnJXkBWuaI3AMAaZuarN/ZsZVyzSONxGR6fimMnx1Y1Y03PLcSxk2MxPD6VWC0AQDK2kkk2kxnSmHkAAIDmc3b26bqOAwCgOtkLyCqN3gAAa+hoLdR1XLNI23FZLFdicGgi1vri9fJjg0MTsbjRV7MBgEzZbCbZbGZIW+YBAACa0yuvvrKu4wAAqE72ArJKozcAwBp6utqj2FaIXJXluYgothWip6s9ybIaLm3HZXRydtVVOS9ViYipuYUYnZxNpB4AIBmbzSSbzQxpyzwAAEBzur5zX13HAQBQnewFZJVGbwCANbTkczHQX4qIWNXgs/zzQH8pWvLV2n+aU9qOy8x89YatrYwDALJhs5lks5khbZkHAABoTrNPX6jrOAAAqpO9gKzS6A0AUEVfdzGOHz0UnW2FFY93thXi+NFD0dddbFBljZWm49LRWth40CbGAQDZsZlMspXMkKbMAwAANCd/3wQASI7sBWTVnkYXAACQZn3dxThS6ozRydmYmV+IjtZC9HS17/qrN6bluPR0tUexrRDTcwtRWWN5LpaasXq62hOtCwBIRq2ZZKuZIS2ZBwAAaE7+vgkAkBzZC8gqjd4AABtoyeei9+D+RpdRVxeeK8e9I4/G2dmn40D7VXFH73Wxd8/mbvaShuPSks/FQH8pjp0cqzpmoL+kGQsAMmKxXNl0U3UtmWQ7mSENmQcAAGhO/r4JAJAc2QvIKo3eAAC7zD2nJuLE6ckoX/I15fedeiTuOtwVd99aalxhW9TXXYwfu7lr1T7lcxF3He6Kvu5i44oDAGo2PD4Vg0MTMTW3cPGxYlshBvpLdTmf93UX45ZSR9w/MbNq2S2lDpkBAABoiL7uYrz2Ffvi8185v2rZa1+xz1wFAKCOZC8gizZ32UYAADLtnlMT8eEHVjZER0SUKxEffmAy7jk10ZjCtmF4fCp+e419qlQifvuByRgen2pMYQBAzYbHp+LYybEVTd4REdNzC3Hs5Fhdzuf3nJpYs8k7IuL+iZlM5iAAACD77vr9z63ZaBQR8fmvnI+7fv9zCVcEANC8ZC8gizR6AwDsEheeK8eJ05PrjjlxejIuPFdOqKLtWyxXYnBoIiprLFt+bHBoIhYv7wIHAFIjifN5M+YgAAAg+755YbHqF1KX3T8xE9+8sJhQRQAAzUv2ArJKozcAwC5x78ijq656fblyZWncYrkSI2fOxX0PPx4jZ86ltlF6dHJ21ZU/L1WJiKm5hRidnM3MPpEc7wmAdNjM+XwttXyebyYH1cOF58rxkdNfip+/bzw+cvpLGsgBAIA1/WKNdxaqdRwAANXJXkBW7Wl0AQAAJOPs7NM1jTv9xb+P3/ns5IqGq2JbIQb6S9HXXdyp8rZkZr56U9ilPjkxHe/+rw9nYp9IxvD4VAwOTXhPAKRArefztcbV+nleaw6qddx67jk1ESdOT65oLH/fqUfirsNdcfetpW2vHwAAaB6PnqttDlLrOAAAqpO9gKxyRW8AgF3iQPtVNY37i//99VVX1ZyeW4hjJ8dieHxqJ0rbso7WQk3jPvKXj2Zmn9h5w+NTcezkmPcEQErUej6/fNxmPs9rzUG1jqvmnlMT8eEHJlddPbxcifjwA5NxjyvBAAAAl7huf21zkFrHAQBQnewFZJVGbwCADSyWKzFy5lzc9/DjMXLmXCxe1rmz0fK0uKP3usjntvbc5T0aHJpI1f71dLVHsa0Q1XYrF1F1n7e6T1l5vVnbYrkSg0MTsdarltb3OUCzq+V8XmwrRE9X+8XHNvt5XksOyueWxl3uwnPl+MjpL8XP3zceHzn9pbjwXHnN5194rhwnTk+uu40TpyerPh8AANh9fvqWV9d1HAAA1cleQFbtaXQBAABpNjw+FYNDEyuuFFlsK8RAfyn6uosbLk+TvXvycdfhrvjwA+s3IFVTiYipuYUYnZyN3oP761vcFrXkczHQX4pjJ8ciF7Gi2Wv558o6/bqb3acsvd6sbXRydtWVXy+Vxvc5QLPb6HweETHQX4qWSzq1N/t5XksOuutwV+zds/KaCPecmogTp1deoft9px6Juw53xd23llaMvXfk0VVX8r5cubI07s7Dr1p/IAAAsCv86ie/UPO4X3jra3e4GgCA5iZ7AVnlit4AAFUMj0/FsZNjq5qIpucW4tjJsbjn1MS6y4fHp5IstyZ331qKd9zcteqKlvlcxJuuf2lN65iZr95U1Qh93cU4fvRQdLYVVjze2VaIf/Wd19W0jlr2aaP3Qxpfb1ar9f2btvc5QLNb73x+/OihVV+o2srn+Xo56B03r27cvufURHz4gclVzdvlSsSHH5iMe05NrHj87OzTNdVU6zgAAKD5PXqutvlBreMAAKhO9gKyyhW9AQDWsFiuxODQRKx1Ucblx06cnqy6PBcRg0MTcaTUueLqk2lw962l+Jk3Xx/3jjwaZ2efjgPtV8UdvdfFQ2efiE//r7/f8PkdrYUNxyStr7sYR0qdMTo5GzPzC9HRWoiervYYnZyN3/3LRzd8/kb7tNH7Ic2vNyvV+v5N4/scoNlVO5+vdW59yQuvqGmdl4+rloMuv5L3hefKceL0+ndBOXF6Mn7mzddffO6B9qtqqqnWcQAAQPN7+Ytr+xtUreMAAKhO9gKySqM3AMAaRidnV125+XKXX93xUpWImJpbiNHJ2eg9uL9udV14rrxhY1It9u7Jx52HX7XisZ6u9ii2FWJ6bmHNhuZcLF1Vs6erfWvF77CWfG7Vsa7XPm30ftip15v6y/r7HKDZrXU+X1Ot36taY9xaOehy9448um7Wi1jKgveOPHpxXXf0XhfvO/XIus/L55bG1cNiuVJTUzwAAJBeuRonN7WOAwCgOtkLyCqN3gAAa5iZX7/JO+n1RETcc2oiTpyeXNE89L5Tj8Rdh7vi7ltL215/Sz4XA/2lOHZyLHIRK5pgl6eyA/2lTDUQ1Wufan0d6/l6szOa8X0OsBt9/RvP1HXc5c7O1nZrzkvH7d2Tj7sOd8WHH6h+JfC7Dndt6Ut6lxsen4rBoYkVX0QrthVioL8Ufd3Fba8fAABIxlee/GZdxwEAUJ3sBWTV9v/LEgBAE+porc/tmOq1nntOTcSHH5hcdYXIciXiww9Mxj2nJuqynb7uYhw/eig621bW3dlWiONHD2Wycage+1Tr61iv15ud1Yzvc4DdZqfPzQfar9rSuLtvLcU7bu6Ky78vlM9FvOPm+nw5b3h8Ko6dHFt1t5HpuYU4dnIshsentr0NAAAgGdftr23uUes4AACqk72ArHJFbwCANfR0tUexrRDTcwtRqTImn4uoVGLN5blYahrt6Wrfdi0XnivHidPVrwwZEXHi9GT8zJuvr8sVIvu6i3Gk1Bmjk7MxM78QHa1L+5HlKxxvd582ej/U8/UmGc34PgfYTXb63PzDNx2IX/izR2oad7m7by3Fz7z5+rh35NE4O/t0HGi/Ku7ova4uOW2xXInBoYk197kSS/s9ODQRR0qdzmkAAJAB//bN18e9Dz5W0zgAALZH9gKyyhW9AQDW0JLPxUD/0hUXL2+RyT3/767DXVWXR0QM9Jfq0mBz78ijq67kfblyZWkc1bXkc9F7cH/c9vqXR+/B/Zt6bTZ6P0TU7/UmOdt5TwDQWDt9bn74y09ua9zePfm48/Cr4j/c1h13Hn5VXZq8IyJGJ2dXXcn7UpWImJpbiNHJ2VXLFsuVGDlzLu57+PEYOXMuFjcKmAAAwI77bw99ua7jAACoTvYCssoVvQEAqujrLsbxo4dicGhiRUNNZ1shBvpL0dddjG+79up1l9fD2dmn6zpuI8PjU6v2qVjnfcqiWt4PAEBydvLcPDNfvZl6K+PqZat1yXcAAJBOSf/tFwBgN5O9gKzS6A0AsI6+7mIcKXXG6ORszMwvREdrIXq62i9eHXKj5fVwoP2quo5bz/D4VBw7ORaXX99xem4hjp0ci+NHD+3qZqAkXm8AoHY7dW7uaC3UdVy9bKUu+Q4AANIryb/9AgDsdrIXkFX1uW8sAEATa8nnovfg/rjt9S+P3oP7VzUObbR8u+7ovS42WmU+tzRuOxbLlRgcmljVBBQRFx8bHJqIxfJaI3aPnX69AYDN2Ylzc09XexTbClFtTblYuiJ2T1f7tre1GZutS74DAIB0++GbDtR1HAAA1cleQFZp9AYASLm9e/Jx1+Gudcfcdbgr9u5ZinaL5UqMnDkX9z38eIycOVdz487o5GxMzS1UXV6JiKm5hRidnK259ma01eMLAGxsK+fZnTg3t+RzMdBfiohY1VS9/PNAfynxL3xtti75DgAA0u3hLz9Z13EAAFQnewFZtafRBQAAsLG7b11q6DlxejIu7V3K55aavJeXD49PxeDQxIqGnmJbIQb6S9HXXVx3GzPz1ZuAtjKuGW3n+AIA69vKeXYnz8193cU4fvTQqvV3Nvjcv5m65DsAAEg3mR0AIDmyF5BVGr0BADLi7ltL8TNvvj7uHXk0zs4+HQfar4o7eq+7eCXv4fGpOHZyLC6/huX03EIcOzkWx48eWrchqaO1UFMdtY5rNts9vgBAdVs5zyZxbu7rLsaRUmeMTs7GzPxCdLQWoqerPfEreW+1LvkOAADSTWYHAEiO7AVklUZvAIAM2bsnH3ceftWqxxfLlRgcmljV6BQRUYmIXEQMDk3EkVJn1caknq72KLYVYnpuYc315GLpSpE9Xe3b2INsqsfxBQDWtpXzbJLn5pZ8LnoP7t/WOnZCLXXJdwAAkG6vf+WL6zoOAIDqZC8gq/KNLgAAgO0bnZyNqbnqt5CqRMTU3EKMTs5GxFJz1MiZc3Hfw4/HyJlzsViuREs+FwP9pYhYavq51PLPA/2lXdnIvNnjCwDUbivn2STPzWvlpqyQ7wAAIN3+8K/P1nUcAADVyV5AVrmiNwBAE5iZr97odPm44fGpGByaWNEcVWwrxEB/Kfq6i3H86KFVyzsvWb4bbeb4AgCbs5XzbFLn5o1yUxbIdwAAkF5nZ5+u6zgAAKqTvYCs0ugNANAEOloLNY179OtPxwc/+b/j8utQTs8txLGTY3H86KHo6y7GkVJnjE7Oxsz8QnS0FqKnq31XX+mx1uNb6zgA4B9s5TybxLl5eHwqjp0c2zA3ZYF8BwAA6XSg/aq6jgMAoDrZC8gqjd4AABmyWK6s2aDT09UexbZCTM8trGpGiojIRcTL9l0RHx19bM3llefHDA5NxJFSZ7Tkc9F7cP+WammUnaynluPb2ba0TQBgc7Zynt3pc/NiuRKDQxM156btuvBcOe4deTTOzj4dB9qvijt6r4u9e/LbXu+lasl3AABAsn74pgPxC3/2SE3jAADYHtkLyCqN3gAAGTE8PhWDQxMxNbdw8bFiWyEG+kvR112Mgf5S/PjJsTWfW4mI23uujV/95Berrr8SEVNzCzE6ObthE9BGtSRtp+tpyedioL8Ux06ORS5iRdPXcmvXQH/JVTEBYAuWz7Pr5ZjLz7Nbec5mjE7OrsgVa62/1ty0kXtOTcSJ05NRviRgvO/UI3HX4a64+9bSttYNAACk28NffrLmcb64CQCwPbIXkFX1vTQQAAA7Ynh8Ko6dHFvVcDQ9txDHTo7F8PjUhus4/81na9rWzHz1pqZ61VJPSdXT112M40cPRWdbYcXjnW2FOH70UEMa3AGAnbFRHtrsuGruOTURH35gZZN3RES5EvHhBybjnlMT21o/AACQbknNPQAAkL2A7HJFbwCAlFssV2JwaCIqayyrxNIVpQeHJqJSWWvEklxEfOLhx2vaXkdroeqyWms5UupM5OrWSdfT112MI6XOGJ2cjZn5hehoLURPV7sreQPANiyfz6tZ63y+ledsxnp5aCvj1nLhuXKcOD257pgTpyfjZ958fezd41oNAADQjPbtre0/19c6DgCA6mQvIKv8VyIAgAQslisxcuZc3Pfw4zFy5lwsXn7ZxnXGjE7Orrpa9aUqETE1txDT559Zd8zsU89G+wv3RrVWp1xEFNuWGperqbWW0cnZqmPqqRH1tORz0Xtwf9z2+pdH78H9mrwBYJu2cj7fTgaoJZf1dLVHsa2wrdy0kXtHHl11Je/LlStL4wAAgOb0B587W9dxAABUJ3sBWeXrJwAAO2x4fCoGhyZWNCMV2wox0F+Kvu7ihmOeea5ct1re+vpr4j//5aORi1hxFezlJqaB/tK6jctpu51V2uoBADZvK+fzrWaAWnJZxNIXuwb6S/HjJ8fWXG8lNs5NGzk7+3RdxwEAANnz5Sdqm9vUOg4AgOpkLyCrXNEbAGAHDY9PxbGTY6uuODk9txDHTo7F8PjUhmMe/fpTdavnSKkzjh89FJ1thRWPd7YV4vjRQysanNbS0VpYd/lmx21X2uoBADZvK+fzrTynllyWpAPtV9V1HAAAkD3XXn1lXccBAFCd7AVklSt6AwDskMVyJQaHJlZcOXtZJZauoj04NBGVSmXdMR8dfSw69xXia+cX1hyXi6VG7UqlEl87/8y6Y3q62qMln4sjpc4YnZyNmfmF6Gj9h8c3cuOBqyOfiyivtZHn5XNL45LQ09UexbZCTM+tf2x6utoTqQcA2LytnM83m0lqzWVHSp3Rks9dHF/N5eO34o7e6+J9px7ZcB/u6L1uS+sHAADS7xf/6Q1x/yOfrGkcAADbI3sBWeWK3gAA23ThuXJ85PSX4ufvG4+PnP5SXHiuHBERo5Ozq64YealKREzNLcT0+WfWHTN9/pm4vefaiFhqKrrU8s8D/aV47/e/ZsMxW21EWvbQ2SfWbUaKWGq4eujsExGx1FQ1cuZc3Pfw4zFy5lwsbvTkTWrJ52KgvxQRO7vfAMDO2cr5fLOZpNZcNjo5u6XxW7F3Tz7uOty17pi7DnfF3j3+fAcAAM3q1z/9v+s6DgCA6mQvIKtc0RsAYBvuOTURJ05Prmg0et+pR+Kuw11Ruqatbtu57iVXxY/d3BUnTk9G5ZJt5XJLDUB93cWIiDh+9FAMDk2saEzqbCvEQH/p4pjh8alVY4qXjalmZr56w9Pl47aznc3o6y7WtN8AQHr1dRdryjrLNpNJkhi/VXffWoovff2puH9iZtWyI6WOuPvW0rbWDwAApNuj556u6zgAAKqTvYCs0ugNALBF95yaiA8/MLnq8XIl4sMPTEb/DZ1129ajX386fvuBybj8wpXlSsRvPzAZ33bt1dHXXYy+7mIcKXXG6ORszMwvREdrIXq62i9eAXN4fCqOnRxbtZ7puYU4dnIsjh89tG5jdEdrocZ6n4oPfvKLW97OZm203wBAug2PT9WUdZbVmkmWx+30+K0aHp+KT67R5B0R8cmJmRgen/KlNQAAaGLX7b8qTn+xtnEAAGyP7AVklXu/AgBswYXnynHi9Oom70v96eeno3NfIaq1Guci4mWte2va3h88+OiqxqdLDQ5NxOLzlxVvyeei9+D+uO31L4/eg/svNjsvlisxODSx5noqa6xnLT1d7VFsW3+fim2F+OjoY9vazlZU228AIN3WyyjLLs8ONx64OjY61edzS+MiIl778trutLI8brPr34qt7DcAANBc7nrjwbqOAwCgOtkLyCqN3gAAW3DvyKOxUc9NJSLe+H/tj4hY1Ri9/PPhb3lpTdub+caFdbczNbcQo5Oz665jdHI2puYWalrPYrkSI2fOxX0PPx4jZ86taCIf6C+t2Idlyz//izdcG9Pnn9l2vZtVrWYAIN02k1GWPXT2iQ2zWLmyNC4i4v3Dj9RUy/K4za7/crXkkq3sNwAA0Fx++HdG6joOAIDqZC8gq/Y0ugAAgCw6O/t0TeOuumJPHD96KAaHJlY08nS2FWKgvxR/deZc3Wqama/eKFTL8mWfnJiOd//Xh1fUW3y+3r7uYvR1F9fdp2eeK9el3s0YHp9aVc+lNQMA6VVrJrh03Gaf8+i52rLb8rit1LSs1lyynW0AAADNYfapZ+s6DgCA6mQvIKs0egMAbMGB9qtqHtfXXYwjpc4YnZyNmfmF6GgtRE9Xe7Tkc/H4E9+sW00drYVtLV/2kb98dNVj03MLcezkWBw/euhis3e1fRqpsXm91no2Mjw+FcdOjsXl18m8vGYAIJ1qzQSXjtvsc67bf1Wc/uLG46/bf9WWa4rYXC7Z6jYAAIDm0f7CF8TTTy7WNA4AgO2RvYCsyje6AACALLqj97rI59Yfk88tjYuIaMnnovfg/rjt9S+P3oP7o+X5J//wTQfqUk8+F3HjgavXHdPT1R7FtkJUKzv3/HrWstysNDg0EYvly1uXNr+dYttSY3hExGK5EiNnzsV9Dz8eI2fObbj+Sy2WKzE4NLGqmWqzNQMAjXPjgatrylWXZp3Xv/LFNa17edzP3VqqafzyuM3mmYjN55KtbONS28lQAABAOtz7r76jruMAAKhO9gKySqM3AMAW7N2Tj7sOd6075q7DXbF3z/px6+EvP1mXesqViIfOPrHumJZ8Lgb6l5qXLm8oysVSA9J6/UGViJiaW4jRydkYHp+KN77/03H7iQfjXX/0cNx+4sF44/s/HcPjUxtuJyJioL8ULfncuuupxejkbEzNLdRUMwCQTg+dfWLdDBKxOuv84V+frWndy+Ou3NsSR0od6449UuqIK/e2RMTGuSniH/LMss3mkq1sY9l2MxQAAJAOv/jnE3UdBwBAdbIXkFUavQEAtuhLX39qW8sjImbmqzcDbVYt6+rrLsbxo4eis62w4vHOtkL8q++8rqbt3D8xHcdOjq1qZJqeW4hjJ8dieHxq3e0cP3oo+rqLMTw+teF6NlLr8avncQYA6msr5/Ozs0/X9JxLx73qJS9cd+zly2vJM9XqW8+l4za7jYioS4YCAADS4bEnvlnXcQAAVCd7AVm1p9EFAABk0TcvLMb9EzPrjrl/Yia+eWHx4pUh1/KSF15Rt5pqXVdfdzGOlDpjdHI2ZuYXoqO1ED1d7TE6ORu/+5ePbvj8//7wV2Oti25WYunqk4NDE3Gk1Fl1Oy35XCyWKzE4NFHTeta6iuWyjtZC1WVbGQcAJK/9yr2bHveKtitres7yuAvPlePE6cl1x544PRk/8+brV9yRZb08c7mt5pLNbKNeGQoAAEiHl71wT3yhxnEAAGyP7AVklU8lAIAt+MVTNd7W6dRE/MJbX1t9QD37b55f12K5smGjUEs+F70H9694rKerPYpthZieW1izeSgXEVe/8AUx+9SFqiVUImJqbiFGJ2ej9+D+NbcTETE6ObvqKpTrraeaWmrubFs6BgBAOv2vr83XPO7wq18aERGVGjPU8rh7Rx6N8lph4RLlytK4Ow+/asXj1fLM5baTS2rdRr0yFAAAkA7/5+9ru1tRreMAAKhO9gKyKr/xEAAALvfoudomdxuN+/o3nqlHORfXNTw+FW98/6fj9hMPxrv+6OG4/cSD8cb3fzqGx6c2fH5LPhcD/aWIWN1/vvzzP339y2uqZWa+egNSLctrHbdcc7W+rUpEDPSXXNESAFLsy0/UlqsuHff4k7XdOnN53NnZ2rZR67i11JKltptL6pWhAACAdHjym8/VdRwAANXJXkBWafQGANiC6/ZfVZdxHa2FepQTERGPfv3pOHZybNVVHqfnFuLYybGamr37uotx/Oih6GxbWVdnWyGOHz0Ut5Q6a6plo/2qdb/reXwAgHQ60F5brrp03Gafs5VtbMVGWaqvu7it9ctQAADQXNpf+IK6jgMAoDrZC8iqPY0uAAAgi37u1lLc++BjNY1bz40Hro58LqJc7ZLUEZHPRbz0RVfEzPwza165OhcRL9t3RXx09LE1l1eeHzM4NBFHSp0bXkWyr7sYR0qdMTo5GzPzC9HRWoiervZoyedisVyJYlshpucWqtbS2bY0fj09Xe11Wc9iuRKDQxNVl29mvwGAxvjhmw7EL/zZIzWNW3ZH73XxvlOPbJih7ui9LiIi/vkbrq1pG//8DdduOGYj62Wp7apXhgIAANLhD//fvXHz//f/V9M4AAC2R/YCskqjNwDABi48V457Rx6Ns7NPx4H2q+KO3uviyr0tcaTUEfdPzFR93pFSR1y5tyUiIr55YTF+8dREPHru6bhu/1Xxc7eW4sq9LfHQ2SfWbVCKWGoC/+Gbro0PfvKLVcfc3nNt/Oo6yysRMTW3EKOTs9F7cH8slivrNh9988Ji/O5nvxSPPfHNuPbqK+O1L2+LFxX2REs+FwP9pTh2cqzqtgb6SxfXVW079VrP6OTsqiuYV9vvGw9cvep13Ltn5Q1u1nqtLx+z0bGrVS3rqce2ktpOPddTD2mqZbdqxtegGfepXhwbtuPhLz9Z87jeg/sjImLvnnzcdbgrPvzAZNXxdx3uunge/9jnNv6C3vK4Ow+/asVjf3/+mfinv/XZmH3q2Wh/4QviEz/xxnjpvivWXc9iuRITX527mCluPHD1ur8TtWSQiFiRoXIRK5q9l9d+aYbajq38Xm/2ObXu93a24fOpdo5VenifsxGvOUDzOPHZMzWP+4W3vnaHqwEAaG6yF5BVGr0BgFT5zd/8zfjABz4Q09PT8brXvS7+03/6T9HT09Oweu45NREnTk+uaMZ+36lH4q7DXXHiR94Qb/j/3B9//40Lq5730hftjRM/8oaIiLjr9z+3oiH89Bcj7n3wsThS6oh/csM1NdVx3UteGC9oycWFxdVd4S9oycV1L3lhTeuZmV+I4fGpGByaWNEgXWwrxEB/Kfq6i/H9v3E6Pv+V8xeXfWF6Prrf+//EDa/YF3/yrw9HX3cxbqnS5H5LqSP6uosRERtupx7reea5ck37/Tunz8Tbfufv13wd737+quvrvdbLYzbap1rVsp56bCup7dRzPfWQplp2q2Z8DZpxn+rFscm2NGSvmfnqX9pab9zdt5bWbfS++5I7q5ydfbqmbVw+7ob3/j9xfuG5iz8//eRivOEXPxn7Cnvi8+99y5rrqCVTbGd8X3cxfuzmrjhxejIqlzwnl1tqbq/H791Wfq83+5zN7vdWtuHzqXaOVXp4n7MRr3l2pSF3Aenz6Lna5iq1jgNgiewFrEX2ArIqV6lUNriGJABAMj72sY/Fj/zIj8SHPvShuOmmm+KDH/xgfPzjH48vfOEL0dHRseHzz58/H21tbTE3Nxf79u3bdj33nJpYt3nowP4r4+y5b1ZdfqS0VPN6V/2+8cCL46GzT25Yy94qTd61Ll/207f8o/jgJ/93XD5y+bpf126wTze8Yl/0vmr/usflHTd3xbdde3UcOzlWdTvHjx6Kv33siW2v56du+ZZ1r2Rei3fc3BURUZd9quU/qg+PT224nojY9raS2k6t20qq4SBNtexWzfgaNOM+1UtSx6be53iWbCd71fM1GTlzLm4/8eCG4z5613dcvKJ3RMSr7v6zde+Mks9FfOme74uIiI+c/lL8wp89suE2/v33fevFK3pf3uR9ubWavTfKj++4eWUT82bHR1T/vYtY+t3b7u/dVn6vN/uceu53tW347K6dY5Ue3udsRPbKrrT9zQtIj3//3/9n3PvgxncguuM7rnVVSWhCzvE7Iy1/8wLSR/aC3S3L5/n174UKAJCgX/mVX4m77rorfvRHfzRKpVJ86EMfiquuuip+93d/N/FaLjxXjhOnqzefRMS6DdERSw3e6zV5R0Q8dPbJ6Nx3RVS7wXIuIl76ohds2MRdS5N3RMQf/PWjazYFVZ7/t9E+ff4r59dtyomIOHF6MgbuG6+6nYiIgfvGNzy+tazno6OPxXbvTv3bD0zWWMvfrVvL4NBELK7XbRZLt9ceHJpYdz3v/ZO/i/f+yfpjNtpWLdsZHJqI9/5JMvtUy3rqIU217FbN+Bo04z7Vi2OTfWnJXl37a7szyaXjJmeeWrfJOyKiXFkaFxHR95ramt6Wx/39+WfWbfKOiDi/8Fz8/flnLv5cS348cXoyLjx/R5LNjo9Y//du2XZ+77bye73Z59R7v9fahs+n2jlW6eF9zka85tmWltwFpE/rnmfrOg4A2QuoTvYCskqjNwCQChcuXIiHHnoobrnllouP5fP5uOWWW2JkZGTN5zzzzDNx/vz5Ff/q5d6RRzdsHqqXV3e2RkSsavZe/nnh2XLUy8z8hbqtq5pyJeJr62ynEkvLa2nO2mg90+ef2fbrVHl+WxvX8kzV5ZWImJpbiNHJ2XXXMzo5u+L22mutZ/r8MzF9fv0xG22rlu1MzS3E9Plk9qmW9dRDmmrZrZrxNWjGfaoXxybbNpu9djJ3/b8+9JebHtf3a5+p6TnL4/75b/9VTeOXx/3T3/psTeMvHVdLfixXlsZtZXzEzv/ebWX9m31OEvvt86l2jlV6eJ+zEa95dqXtb15AuvzWZ6fqOg5gt0vT37yA9JG9gKzS6A0ApMLXv/71WFxcjJe97GUrHn/Zy14W09PTaz7nnnvuiba2tov/XvnKV9atnrOzT9dtXRspV5Zur9zZVljxeGdbIY4fPRTPPFe/Rm921sx89f/oXsvyem0rqe1sZlv1rGm720iilt2qGV+DZtynenFssm2z2Wsnc9fsU7VdHeXScc/UeDeT5XGb3cZWaqo1Py6P2+z4iJ3/vdvK+jf7nCT22+dT7Ryr9PA+ZyNe8+xK29+8AACaWZr+5gUAUC8avQGAzLr77rtjbm7u4r8vf/nLdVv3gfar6raujVy3/6ro6y7GZ9/zpvjoXd8Rv/YvXh8fves74rPveVP0dRdjX2FPYrWwPR2thW0tr9e2ktrOZrZVz5q2u40katmtmvE1aMZ9qhfHZnfZydzV/sIXbHrcFS2X3wtlbcvjNruNrdRUa35cHrfZ8RE7/3u3lfVv9jlJ7LfPp9o5Vunhfc5GvOa7y05mLwAA/oHcBQBkgUZvACAVXvKSl0RLS0t87WtfW/H41772tejs7FzzOVdccUXs27dvxb96uaP3usjX1j+0bT93aykiIlryueg9uD9ue/3Lo/fg/mh5voA//Tc3121bHa17Y6d3K5+LeNk628nF0vKNjm8t6ym2FaJz3xXb2qfc89vauJbq21mupaerfd319HS1R7GtsO56OvddEZ371h+z0bZq2c5Gx66e+1TLeuohTbXsVs34GjTjPtWLY5Ntm81eO5m7PvETb9z0uOF3fVdNz1ket9ltbKWmWvJjPrc0bivjI3b+924r69/sc5LYb59PtXOs0sP7nI14zbMrbX/zAtLlp77rFXUdB7DbpelvXkD6yF5AVmn0BgBSYe/evXHjjTfGpz71qYuPlcvl+NSnPhW9vb3J17MnH3cd7lp3zIH9V667/EipI46UOjYcc+XelnXHdL64EFe+YP3YduUL8hvWc2D/lfEfbuuOiFj1H4Zzz//baB03vGJfvOPm9Y/LXYe7YnCd7UREDN7WveHxrWU9A/2leO/3v6bqmFzEhq/Bj93cVWMt1bezXEvLBl1LLflcDPSX1l3Pe7//NfHe719/zEbbqmU7Gx27WrazmW1ttJ56SFMtu1UzvgbNuE/14thkW5qy10v3XbHhHUz2FfbES/ddcfHnro4X1tQs3NXxwi1tYys11ZIf7zrcFXv35Lc0PmLnf++2sv7NPieJ/fb5VDvHKj28z9mI1zy70pS7gPT5qe99XV3HAex2shewHtkLyCqN3gBAarz73e+OEydOxH/5L/8lHnnkkTh27Fg89dRT8aM/+qMNqefuW0vxjpu7VjUR5XMR77i5Kz7zs2+q2kR8pNQRJ37kDXHiR96w4ZhaPPIL31u12fvKF+TjkV/43vjMz76paqP2gf1Xxmd+9k3R112M40cPRWfbyls5d7YV4vjRQ/GZn31T3PCKta9WcMMr9sWf/OvDGx6Xu28tbbidvu5i3daz0ZgTP/KGDbdTr1pqUY99qmVbSW2n1m0lJU217FbN+Bo04z7Vi2OTbWnKXp9/71uqNlbvK+yJz7/3Lase/9I931e12TufW1q+nW1spaZaMsV2xkfs/O/dVta/2ecksd8+n2rnWKWH9zkb8ZpnV5pyF5A+j/7S921rOQAryV7AemQvIItylUql0ugiAACW/cZv/EZ84AMfiOnp6Xj9618fv/7rvx433XRTTc89f/58tLW1xdzcXF1vrXbhuXLcO/JonJ19Og60XxV39F634gqD37ywGL94aiIePfd0XLf/qvi5W0urrtJdy5haTD+5EP/kPz0Q5xeei32FPfGn/+bm6Hzxyv/AO/f0s/Gvfm80vjq3ENe0FeJ3/2VPtF31ghVjFsuVGJ2cjZn5hehoXbq186VX/frGwnPx0x/723jsiW/GtVdfGb/6z78tXnRZo9NGx6WW7dRzPRuNqWU79aqlFvXYpzRtp57rqYc01bJbNeNr0Iz7VC87fWx26hzP1rPXTr0mf3/+mfinv/XZmH3q2Wh/4QviEz/xxhVXzV7L5MxT0fdrn4lnFitxRUsuht/1XRev5F2PbWylployxXbGR+z8791W1r/Z5ySx3z67a+dYpYf3ORuRvbIpjX/zAtLlg3/+P+KDn/nKxZ9/6rte4WqS0OSc43dO2v7mBaSP7AW7T5bP8xq9AYCmkeVQBgBU5xyfPl4TAGhezvPp4zUBgObkHJ8+XhMAaF5ZPs+vf4kcAAAAAAAAAAAAAAASp9EbAAAAAAAAAAAAACBlNHoDAAAAAAAAAAAAAKSMRm8AAAAAAAAAAAAAgJTR6A0AAAAAAAAAAAAAkDIavQEAAAAAAAAAAAAAUkajNwAAAAAAAAAAAABAymj0BgAAAAAAAAAAAABIGY3eAAAAAAAAAAAAAAApo9EbAAAAAAAAAAAAACBlNHoDAAAAAAAAAAAAAKSMRm8AAAAAAAAAAAAAgJTR6A0AAAAAAAAAAAAAkDIavQEAAAAAAAAAAAAAUkajNwAAAAAAAAAAAABAymj0BgAAAAAAAAAAAABIGY3eAAAAAAAAAAAAAAApo9EbAAAAAAAAAAAAACBlNHoDAAAAAAAAAAAAAKSMRm8AAAAAAAAAAAAAgJTR6A0AAAAAAAAAAAAAkDIavQEAAAAAAAAAAAAAUkajNwAAAAAAAAAAAABAymj0BgAAAAAAAAAAAABIGY3eAAAAAAAAAAAAAAApo9EbAAAAAAAAAAAAACBlNHoDAAAAAAAAAAAAAKSMRm8AAAAAAAAAAAAAgJTR6A0AAAAAAAAAAAAAkDIavQEAAAAAAAAAAAAAUkajNwAAAAAAAAAAAABAymj0BgAAAAAAAAAAAABIGY3eAAAAAAAAAAAAAAAps6fRBQAA1EulUomIiPPnzze4EgCgnpbP7cvnehpP7gKA5iV7pY/sBQDNSe5KH7kLAJpXlrOXRm8AoGnMz89HRMQrX/nKBlcCAOyE+fn5aGtra3QZhNwFALuB7JUeshcANDe5Kz3kLgBoflnMXrlKFtvTAQDWUC6X46tf/Wq0trZGLpdrdDk75vz58/HKV74yvvzlL8e+ffsaXU7TcXx3nmO8sxzfneX47ry1jnGlUon5+fm45pprIp/PN7hCInZP7lq2W3/3d+t+R+zefbff9ns3sN8b77fslT67LXvVYrf+LjeCY50sxztZjneyHO/V5K70kbtW87ubLMc7WY53shzvZDneq2U5e7miNwDQNPL5fLziFa9odBmJ2bdvn0C+gxzfnecY7yzHd2c5vjvv8mOctW/WN7vdlruW7dbf/d263xG7d9/t9+5iv3eXWvdb9kqX3Zq9arFbf5cbwbFOluOdLMc7WY73SnJXushd1fndTZbjnSzHO1mOd7Ic75Wymr2y1ZYOAAAAAAAAAAAAALALaPQGAAAAAAAAAAAAAEgZjd4AABlzxRVXxMDAQFxxxRWNLqUpOb47zzHeWY7vznJ8d55jTBrt1vflbt3viN277/bbfu8G9nt37TfNy3s6OY51shzvZDneyXK8IZv87ibL8U6W450sxztZjndzyVUqlUqjiwAAAAAAAAAAAAAA4B+4ojcAAAAAAAAAAAAAQMpo9AYAAAAAAAAAAAAASBmN3gAAAAAAAAAAAAAAKaPRGwAAAAAAAAAAAAAgZTR6AwCk1AMPPBD9/f1xzTXXRC6Xi//+3//7iuWVSiV+/ud/PorFYlx55ZVxyy23xBe/+MXGFJtB99xzT7zhDW+I1tbW6OjoiLe+9a3xhS98YcWYhYWFeOc73xn79++PF73oRfGDP/iD8bWvfa1BFWfL8ePH44Ybboh9+/bFvn37ore3N/78z//84nLHtr5+6Zd+KXK5XPzUT/3Uxccc4+1573vfG7lcbsW/66+//uJyx3f7Hn/88Th69Gjs378/rrzyynjta18bf/M3f3NxufMcabDRZ0Gz2K25c6P9/pf/8l+uev37+voaU2wd7dYcXMt+/+N//I9XveY//uM/3qCK62O35vKN9rsZX+u1mCeQZbOzs/G2t70t9u3bFy9+8YvjzjvvjG984xvrPmcz7+9z587FK17xisjlcvHkk0/uwB5ky04c7//xP/5H3H777fHKV74yrrzyyvjWb/3W+LVf+7Wd3pVU+s3f/M247rrrolAoxE033RSjo6Prjv/4xz8e119/fRQKhXjta18bp06dWrG8WfN5vdTzeD/77LPxnve8J1772tfGC1/4wrjmmmviR37kR+KrX/3qTu9GZtT7/X2pH//xH49cLhcf/OAH61w1cCm5K1ly186Su5IldyVL7trdNHoDAKTUU089Fa973eviN3/zN9dc/su//Mvx67/+6/GhD30o/vqv/zpe+MIXxlve8pZYWFhIuNJs+sxnPhPvfOc748EHH4z7778/nn322Xjzm98cTz311MUxP/3TPx1DQ0Px8Y9/PD7zmc/EV7/61fiBH/iBBladHa94xSvil37pl+Khhx6Kv/mbv4k3velNcdttt8Xf/d3fRYRjW0+f+9zn4sMf/nDccMMNKx53jLfvNa95TUxNTV3899nPfvbiMsd3e5544on4zu/8znjBC14Qf/7nfx4TExPxH//jf4yrr7764hjnOdJivc+CZrFbc+dG+x0R0dfXt+L1/+hHP5pghTtjt+bgWvY7IuKuu+5a8Zr/8i//coMqro/dmss32u+I5nutL2eeQNa97W1vi7/7u7+L+++/P/70T/80HnjggfixH/uxdZ+zmff3nXfeuer3YzfbieP90EMPRUdHR5w8eTL+7u/+Lv7v//v/jrvvvjt+4zd+Y6d3J1U+9rGPxbvf/e4YGBiIsbGxeN3rXhdvectbYmZmZs3xf/VXfxW333573HnnnfG3f/u38da3vjXe+ta3xvj4+MUxzZrP66Hex/vpp5+OsbGx+Pf//t/H2NhY/PEf/3F84QtfiO///u9PcrdSayfe38s+8YlPxIMPPhjXXHPNTu8G7HpyV7Lkrp0jdyVL7kqW3EVUAABIvYiofOITn7j4c7lcrnR2dlY+8IEPXHzsySefrFxxxRWVj370ow2oMPtmZmYqEVH5zGc+U6lUlo7nC17wgsrHP/7xi2MeeeSRSkRURkZGGlVmpl199dWV3/md33Fs62h+fr7yLd/yLZX777+/8l3f9V2Vd73rXZVKxfu3HgYGBiqve93r1lzm+G7fe97znsob3/jGqsud50iL9T4LmtVuzZ2X73elUqm8/e1vr9x2220NqSdJuzUHX77flUplRZ5qZrs1ly/vd6XS/K+1eQJZNzExUYmIyuc+97mLj/35n/95JZfLVR5//PE1n7OZ9/dv/dZvVb7ru76r8qlPfaoSEZUnnnhiR/YjK3b6eF/qJ37iJyrf/d3fXb/iM6Cnp6fyzne+8+LPi4uLlWuuuaZyzz33rDn+h37ohyrf933ft+Kxm266qfKOd7yjUqnsnny+VfU+3msZHR2tRETl7Nmz9Sk6w3bqeH/lK1+pvPzlL6+Mj49XDhw4UPnVX/3VutcOLJG7kiV37Sy5K1lyV7LkLlzRGwAggyYnJ2N6ejpuueWWi4+1tbXFTTfdFCMjIw2sLLvm5uYiIqK9vT0ilr79/uyzz644xtdff31ce+21jvEmLS4uxh/90R/FU089Fb29vY5tHb3zne+M7/u+71txLCO8f+vli1/8YlxzzTXxqle9Kt72trfFY489FhGObz38yZ/8SXz7t397/LN/9s+io6Mjvu3bvi1OnDhxcbnzHGlS7bNgt9jtv49/8Rd/ER0dHfHqV786jh07FufOnWt0SXW3W3Pw5fu97A/+4A/iJS95SXR3d8fdd98dTz/9dCPK2xG7NZdfvt/Lmvm1Nk8g60ZGRuLFL35xfPu3f/vFx2655ZbI5/Px13/912s+p9b398TERPyH//Af4vd///cjn/efSSN29nhfbm5ubtW5t5lduHAhHnrooRXHKZ/Pxy233FL1OI2MjKz6/H7LW95ycfxuz+fr2YnjvZa5ubnI5XLx4he/uC51Z9VOHe9yuRx33HFH/OzP/my85jWv2ZnigYvkrmTJXTtH7kqW3JUsuYuIiD2NLgAAgM2bnp6OiIiXvexlKx5/2ctednEZtSuXy/FTP/VT8Z3f+Z3R3d0dEUvHeO/evasmjo5x7f7n//yf0dvbGwsLC/GiF70oPvGJT0SpVIqHH37Ysa2DP/qjP4qxsbH43Oc+t2qZ9+/23XTTTfF7v/d78epXvzqmpqZicHAwDh8+HOPj445vHXzpS1+K48ePx7vf/e74uZ/7ufjc5z4XP/mTPxl79+6Nt7/97c5zpMZ6nwWtra2NLi8Ru/n3sa+vL37gB34gurq64syZM/FzP/dz8b3f+70xMjISLS0tjS6vLnZrDl5rvyMifviHfzgOHDgQ11xzTXz+85+P97znPfGFL3wh/viP/7iB1W7fbs3l1fY7onlf6wjzBJrD9PR0dHR0rHhsz5490d7eXvW9Wsv7+5lnnonbb789PvCBD8S1114bX/rSl3ak/qzZqeN9ub/6q7+Kj33sY/Fnf/Zndak7C77+9a/H4uLimln6f/2v/7Xmc6anp9fN3rs5n29kJ4735RYWFuI973lP3H777bFv3776FJ5RO3W83//+98eePXviJ3/yJ+tfNLCK3JUsuWvnyF3JkruSJXcRodEbAADine98Z4yPj8dnP/vZRpfSVF796lfHww8/HHNzc/Hf/tt/i7e//e3xmc98ptFlNYUvf/nL8a53vSvuv//+KBQKjS6nKX3v937vxf9/ww03xE033RQHDhyI//pf/2tceeWVDaysOZTL5fj2b//2+MVf/MWIiPi2b/u2GB8fjw996EPx9re/vcHVwT9Y77PgzjvvbGBlJOFf/It/cfH/v/a1r40bbrghDh48GH/xF38R3/M939PAyupnt+bgavv9Yz/2Yxf//2tf+9ooFovxPd/zPXHmzJk4ePBg0mXWzW7N5dX2u1QqNe1rbZ5A2v27f/fv4v3vf/+6Yx555JEd2/7dd98d3/qt3xpHjx7dsW2kSaOP96XGx8fjtttui4GBgXjzm9+cyDah3p599tn4oR/6oahUKnH8+PFGl9OUHnroofi1X/u1GBsbi9z/n707D9OyLvvHf86wDCAMi4ADomymIGAibmiJuIKKmSvgApZSPvhNEy1NC83M3QfpG1pWbgzwxDdR0ahMhMzHEFE010BxZ5EdYhWu3x/+mBxnBmZglg/D63Uc93HAtZ6f+x7mOvnc7/u6c3JquhzYqdV0H6DvKknfBeWn76p6+q6dj+/GAADYCRUUFERExMKFC4stX7hwYdE6yufSSy+NJ554Ip555plo165d0fKCgoLYsGFDLF++vNj2nuPyq1+/fuyzzz7Rq1evuPnmm+OrX/1q3H333Z7bSjBr1qxYtGhRHHTQQVG3bt2oW7duTJ8+PUaPHh1169aNPfbYw3NcyZo1axb77rtvzJ07189wJWjTpk3RHTW36Nq1a3zwwQcR4TpHur74u2BX4d/jf3Tq1ClatmxZa17/XbUPLmvcpTnssMMiInb613xX7cvLGndpastr7f8JpG7EiBHx5ptvbvXRqVOnKCgoiEWLFhXb97PPPoulS5eW+bNant9pU6dOjYkTJxb9+9jywa2WLVvGyJEjK3/ANaymn+8t3njjjTj22GNj2LBhcd1111XqGFPXsmXLqFOnToV66YKCgq1urz8vW1U831tsCRu9//778dRTT+3yd5WMqJrn+9lnn41FixbF3nvvXfS7+v33348RI0ZEhw4dqmQcUFvVdB+g79J3VTd9V/XSd1UvfRcRgt4AADuljh07RkFBQTz99NNFy1auXBkzZsyI3r1712BlO48sy+LSSy+NSZMmxdSpU6Njx47F1vfq1Svq1atX7Dl+++2344MPPvAcb6fNmzfH+vXrPbeV4Nhjj41//vOfMXv27KLHwQcfHOeee27Rnz3HlWv16tXxzjvvRJs2bfwMV4Ijjzwy3n777WLL/vWvf0X79u0jwnWOdH3xd8Guwr/H//joo49iyZIlO/3rv6v2wdsad2lmz54dEbHTv+Zftqv25VvGXZra8lr7fwKpa9WqVXTp0mWrj/r160fv3r1j+fLlMWvWrKJ9p06dGps3by76YMaXled32h/+8Id45ZVXiv59/OY3v4mIz9/gHj58eBWOvGbU9PMdEfH6669H3759Y8iQIXHTTTdV3WATVb9+/ejVq1ex52nz5s3x9NNPl/l7t3fv3sW2j4h46qmnirbXn5etKp7viP+EjebMmRN//etfY/fdd6+aAexkquL5Pv/88+PVV18t1su0bds2rrrqqvjzn/9cdYOBWqim+wB9l76ruum7qpe+q3rpu4iIiAwAgCStWrUqe/nll7OXX345i4jsrrvuyl5++eXs/fffz7Isy2655ZasWbNm2WOPPZa9+uqr2Te+8Y2sY8eO2dq1a2u48p3DJZdckjVt2jSbNm1aNn/+/KLHmjVrirb57ne/m+29997Z1KlTsxdffDHr3bt31rt37xqseudx9dVXZ9OnT8/mzZuXvfrqq9nVV1+d5eTkZH/5y1+yLPPcVoU+ffpkl112WdHfPcc7ZsSIEdm0adOyefPmZc8991x23HHHZS1btswWLVqUZZnnd0e98MILWd26dbObbropmzNnTlZYWJg1atQoGzt2bNE2rnOkYFu/C2qLXbXv3Nq4V61alV155ZXZ888/n82bNy/761//mh100EHZV77ylWzdunU1XfoO2VX74G2Ne+7cudlPf/rT7MUXX8zmzZuXPfbYY1mnTp2yo446qoYr3zG7al++tXHX1te6LP6fwM6qX79+Wc+ePbMZM2Zkf//737OvfOUr2aBBg4rWf/TRR9l+++2XzZgxo2hZRX++n3nmmSwismXLllXlUHYKVfF8//Of/8xatWqVnXfeecWuvbWtl96WCRMmZHl5edkDDzyQvfHGG9mwYcOyZs2aZQsWLMiyLMvOP//87Oqrry7a/rnnnsvq1q2b3XHHHdmbb76ZjRw5MqtXr172z3/+s2ib2tqfV4bKfr43bNiQnXrqqVm7du2y2bNnF/tZXr9+fY2MMSVV8fP9Ze3bt8/++7//u6qHArs0fVf10ndVHX1X9dJ3VS99F4LeAACJ2jLp8eXHkCFDsizLss2bN2c//vGPsz322CPLy8vLjj322Oztt9+u2aJ3IqU9txGR3X///UXbrF27Nvuv//qvrHnz5lmjRo2yb37zm9n8+fNrruidyLe+9a2sffv2Wf369bNWrVplxx57bFGYJMs8t1XhywEOz/GOOeecc7I2bdpk9evXz/bcc8/snHPOyebOnVu03vO74yZPnpx17949y8vLy7p06ZL9+te/LrbedY4UbOt3QW2xq/adWxv3mjVrshNOOCFr1apVVq9evax9+/bZxRdfXDRxvjPbVfvgbY37gw8+yI466qisRYsWWV5eXrbPPvtkV111VbZixYqaLXwH7ap9+dbGXVtf67L4fwI7qyVLlmSDBg3KGjdunOXn52cXXnhhtmrVqqL18+bNyyIie+aZZ4qWVfTnW+DoP6ri+R45cmSp19727dtX48jS8Itf/CLbe++9s/r162eHHnpo9o9//KNoXZ8+fYr67i1+//vfZ/vuu29Wv379rFu3btmTTz5ZbH1t7c8rS2U+31t+9kt7fPHfw66ssn++v0zgCKqevqt66buqlr6reum7qpe+a9eWk2VZtqN3BQcAAAAAAAAAAAAAoPLk1nQBAAAAAAAAAAAAAAAUJ+gNAAAAAAAAAAAAAJAYQW8AAAAAAAAAAAAAgMQIegMAAAAAAAAAAAAAJEbQGwAAAAAAAAAAAAAgMYLeAAAAAAAAAAAAAACJEfQGAAAAAAAAAAAAAEiMoDcAAAAAAAAAAAAAQGIEvQEAAAAAAAAAAAAAEiPoDQAAAAAAAAAAAACQGEFvAAAAAAAAAAAAAIDECHoDAAAAAAAAAAAAACRG0BsAAAAAAAAAAAAAIDGC3gAAAAAAAAAAAAAAiRH0BgAAAAAAAAAAAABIjKA3AAAAAAAAAAAAAEBiBL0BAAAAAAAAAAAAABIj6A0AAAAAAAAAAAAAkBhBbwAAAAAAAAAAAACAxAh6AwAAAAAAAAAAAAAkRtAbAAAAAAAAAAAAACAxgt4AAAAAAAAAAAAAAIkR9AYAAAAAAAAAAAAASIygNwAAAAAAAAAAAABAYgS9AQAAAAAAAAAAAAASI+gNAAAAAAAAAAAAAJAYQW8AAAAAAAAAAAAAgMQIegMAAAAAAAAAAAAAJEbQGwAAAAAAAAAAAAAgMYLeAAAAAAAAAAAAAACJEfQGAAAAAAAAAAAAAEiMoDcAAAAAAAAAAAAAQGIEvQEAAAAAAAAAAAAAEiPoDQAAAAAAAAAAAACQGEFvAAAAAAAAAAAAAIDECHoDAAAAAAAAAAAAACRG0BsAAAAAAAAAAAAAIDGC3gAAAAAAAAAAAAAAiRH0BgAAAAAAAAAAAABIjKA3AAAAAAAAAAAAAEBiBL0BAAAAAAAAAAAAABIj6A0AAAAAAAAAAAAAkBhBbwAAAAAAAAAAAACAxAh6AwAAAAAAAAAAAAAkRtAbAAAAAAAAAAAAACAxgt4AAAAAAAAAAAAAAIkR9AYAAAAAAAAAAAAASIygNwAAAAAAAAAAAABAYgS9AQAAAAAAAAAAAAASI+gNAAAAAAAAAAAAAJAYQW8AAAAAAAAAAAAAgMQIegMAAAAAAAAAAAAAJEbQGwAAAAAAAAAAAAAgMYLeAAAAAAAAAAAAAACJEfQGAAAAAAAAAAAAAEiMoDcAAAAAAAAAAAAAQGIEvQEAAAAAAAAAAAAAEiPoDQAAAAAAAAAAAACQGEFvAAAAAAAAAAAAAIDECHoDAAAAAAAAAAAAACRG0BsAAAAAAAAAAAAAIDGC3gAAAAAAAAAAAAAAiRH0BgAAAAAAAAAAAABIjKA3AAAAAAAAAAAAAEBiBL0BAAAAAAAAAAAAABIj6A0AAAAAAAAAAAAAkBhBbwAAAAAAAAAAAACAxAh6AwAAAAAAAAAAAAAkRtAbAAAAAAAAAAAAACAxgt4AAAAAAAAAAAAAAIkR9AYAAAAAAAAAAAAASIygNwAAAAAAAAAAAABAYgS9AQAAAAAAAAAAAAASI+gNAAAAAAAAAAAAAJAYQW8AAAAAAAAAAAAAgMQIegMAAAAAAAAAAAAAJEbQGwAAAAAAAAAAAAAgMYLeAAAAAAAAAAAAAACJEfQGAAAAAAAAAAAAAEiMoDcAAAAAAAAAAAAAQGIEvQEAAAAAAAAAAAAAEiPoDQAAAAAAAAAAAACQGEFvAAAAAAAAAAAAAIDECHoDAAAAAAAAAAAAACRG0BsAAAAAAAAAAAAAIDGC3gAAAAAAAAAAAAAAiRH0BgAAAAAAAAAAAABIjKA3AAAAAAAAAAAAAEBiBL0BAAAAAAAAAAAAABIj6A0AAAAAAAAAAAAAkBhBbwAAAAAAAAAAAACAxAh6AwAAAAAAAAAAAAAkRtAbAAAAAAAAAAAAACAxgt4AAAAAAAAAAAAAAIkR9AYAAAAAAAAAAAAASIygNwAAAAAAAAAAAABAYgS9AQAAAAAAAAAAAAASI+gNAAAAAAAAAAAAAJAYQW8AAAAAAAAAAAAAgMQIegMAAAAAAAAAAAAAJEbQGwAAAAAAAAAAAAAgMYLeAAAAAAAAAAAAAACJEfQGAAAAAAAAAAAAAEiMoDcAAAAAAAAAAAAAQGIEvQEAAAAAAAAAAAAAEiPoDQAAAAAAAAAAAACQGEFvAAAAAAAAAAAAAIDECHoDAAAAAAAAAAAAACRG0BsAAAAAAAAAAAAAIDGC3gAAAAAAAAAAAAAAiRH0BgAAAAAAAAAAAABIjKA3AAAAAAAAAAAAAEBiBL0BAAAAAAAAAAAAABIj6A0AAAAAAAAAAAAAkBhBbwAAAAAAAAAAAACAxAh6AwAAAAAAAAAAAAAkRtAbAAAAAAAAAAAAACAxgt4AAAAAAAAAAAAAAIkR9AYAAAAAAAAAAAAASIygNwAAAAAAAAAAAABAYgS9AQAAAAAAAAAAAAASI+gNAAAAAAAAAAAAAJAYQW8AAAAAAAAAAAAAgMQIegMAAAAAAAAAAAAAJEbQGwAAAAAAAAAAAAAgMYLeAAAAAAAAAAAAAACJEfQGAAAAAAAAAAAAAEiMoDcAAAAAAAAAAAAAQGIEvQEAAAAAAAAAAAAAEiPoDQAAAAAAAAAAAACQGEFvAAAAAAAAAAAAAIDECHoDAAAAAAAAAAAAACRG0BsAAAAAAAAAAAAAIDGC3gAAAAAAAAAAAAAAiRH0BgAAAAAAAAAAAABIjKA3AAAAAAAAAAAAAEBiBL0BAAAAAAAAAAAAABIj6A0AAAAAAAAAAAAAkBhBbwAAqEHvvPNOfOc734lOnTpFgwYNIj8/P4488si4++67Y+3atRER0aFDh8jJySl67LbbbnHooYfGQw89VOox33vvvbjwwgujc+fO0aBBgygoKIijjjoqRo4cWaHaHnjggWLn/fLjH//4R9G2OTk5cemll5b72GPGjImcnJw47LDDytzmi+fKzc2Ntm3bxgknnBDTpk0rtt2GDRvi7rvvjp49e0Z+fn40a9YsunXrFsOGDYu33npru8ez5VG3bt1o0aJF9OrVKy677LJ44403yj3O8px3y6NDhw4REXH99ddHTk5OLF68uOgYQ4cOjZycnMjPzy/6ufiiOXPmFB3njjvuKFo+bdq0rZ5zwoQJFRoLANS08vQQCxcujCuvvDK6dOkSjRo1it122y169eoVP/vZz2L58uUVvjYPHTo0GjduXOb5GjduHEOHDi113R//+MfIycmJtm3bxubNm0vdpkOHDnHKKaeU+zkoTUWu+RU9X3nH8MXztW7dOr7+9a/HpEmTim23efPmeOihh+Kwww6LFi1aRJMmTWLfffeNCy64oFgvVtHxfLFnbNasWfTo0SOGDRsWM2bMKPc4y3PeLz4i/tPnvfjii0XH2NLL5ebmxocffljiHCtXroyGDRuW6J/fe++9rZ7vlltuqdBYAICK21avua3rd25ubrRo0SL69+8fzz//fIXOffTRR5erB7n++usjovSebss2F110UannuPbaa4u2KW3eqbRHgwYNKjQOAIAv+/JcXIMGDaJt27Zx4oknxujRo2PVqlXFti/tfbKIiMmTJ0efPn2idevW0ahRo+jUqVOcffbZ8ac//SkiKt5PRUS8+eabRTUtX7681Pq3HHfAgAEl1m3pB7/43twW25qj/PLxS3t06dKlnM8yUNvVrekCAABgV/Xkk0/GWWedFXl5eXHBBRdE9+7dY8OGDfH3v/89rrrqqnj99dfj17/+dUREHHjggTFixIiIiJg/f3785je/iSFDhsT69evj4osvLjrm3Llz45BDDomGDRvGt771rejQoUPMnz8/Xnrppbj11lvjhhtuqHCdP/3pT6Njx44llu+zzz7bOfKIwsLC6NChQ7zwwgsxd+7cMo91/PHHxwUXXBBZlsW8efNizJgxccwxx8STTz4Z/fv3j4iIM844I6ZMmRKDBg2Kiy++ODZu3BhvvfVWPPHEE3HEEUeUmAQp73i+eO4VK1bEK6+8Eg8++GCMGTMmbr311rjiiivKNdajjjoqHn744WLLLrroojj00ENj2LBhRcu2FiCLiKhbt26sWbMmJk+eHGeffXaxdYWFhdGgQYNYt25dqft+73vfi0MOOaTE8t69e5drDACQim31EDNnzoyTTjopVq9eHeedd1706tUrIiJefPHFuOWWW+Jvf/tb3HvvvZVyba5Ive+9915MnTo1jjvuuB0+5tZUxTW/vGP4Yr/6ySefxK9+9as4/fTT45577onvfve7RfX98pe/jG984xtx7rnnRt26dePtt9+OKVOmRKdOneLwww/frvF88dyrVq2KN998MyZOnBj33XdffP/734+77rqrXGPt2rVriZ+Na665Jho3bhzXXnttuY6xRV5eXowfPz5+8IMfFFv+yCOPbHW/QYMGxUknnVRiec+ePSt0fgCg4so7X/VlW67fmzZtin/9618xZsyY6Nu3b8ycOTN69OhRrmNce+21xQLaM2fOjNGjR8ePfvSj6Nq1a9HyAw44YKvHadCgQfzhD3+IMWPGRP369YutGz9+fJnzR3l5efGb3/ymxPI6deqUq34AgG3Z8v7cxo0bY8GCBTFt2rS4/PLL46677orHH398q33OHXfcEVdddVX06dMnrrnmmmjUqFHMnTs3/vrXv8aECROiX79+29VPjR07NgoKCmLZsmXx//7f/yvzA3MREU888UTMmjWraL5xa8ozR/mXv/ylaPt27drFzTffXOI4TZs23ea5gF1EBgAAVLt33303a9y4cdalS5fsk08+KbF+zpw52ahRo7Isy7L27dtnJ598crH1ixYtyho3bpx17dq12PL/+q//yurWrZu99957JY65cOHCCtV4//33ZxGRzZw5c5vbRkQ2fPjwch333XffzSIie+SRR7JWrVpl119/fbmP+eqrr2YRkZ1wwglZlmXZCy+8kEVEdtNNN5XY/7PPPssWL15cqeNZvHhx1rt37ywisieffHKbxynLbrvtlg0ZMqTUdSNHjswiIvv000+Llg0ZMiTbbbfdshNOOCE77bTTSuzzla98JTvjjDOyiMhuv/32ouXPPPNMFhHZxIkTt7tWAEjFtnqIZcuWZXvuuWe2xx57ZG+++WaJ/RcsWJDdeOONpR57a9fmLdfhspS17+rVq7PddtstGz16dNazZ89s6NChpe5fWq9XURW55lfkfDsyhvnz52e77bZbtu+++2ZZ9vnzn5OTk1188cUl9t+8eXOxXrUyxrNmzZrstNNOyyIiGzNmzDaPU5Zu3bplffr0KXVdaf3lll7u9NNPzw488MAS+xx//PFFfdsX+8158+aV6OUAgOpTnvmq8l6/p0yZkkVEdskll2x3PRMnTswiInvmmWdKXV9aDxQR2WmnnZbl5uZmjz76aLF1zz33XBYRRX1IafNOAABVYWvvzz399NNZw4YNs/bt22dr1qzJsqzk+2QbN27M8vPzs+OPP77U45f1/ue2+qnNmzdnHTp0yK644orsm9/8Znb00UeXul2fPn2yvffeO2vevHk2YMCAYutK6wcrOkfZp0+frFu3bqWeG2CL3KqPkgMAAF922223xerVq+O3v/1ttGnTpsT6ffbZJy677LIy92/VqlV06dIl3nnnnWLL33nnnWjXrl20b9++xD6tW7fe8cIrQWFhYTRv3jxOPvnkOPPMM6OwsLDc+/bo0SNatmwZ8+bNi4goGv+RRx5ZYts6derE7rvvXjlF//923333mDBhQtStWzduuummSj12eQwePDimTJlS7CvdZs6cGXPmzInBgwdXez0AUJ221UP86le/io8//jjuuuuuUr/WdI899ojrrruuusqNSZMmxdq1a+Oss86KgQMHxiOPPFLmt2+kakfGUFBQEF27di3q2+bNmxdZlpXat+Xk5FR6r9qwYcN4+OGHo0WLFnHTTTdFlmWVevxtGTx4cMyePTveeuutomULFiyIqVOn6tsAIEE7Ml/1ZV//+tcjIkrM21WHPffcM4466qgYN25cseWFhYXRo0eP6N69e7XXBABQlmOOOSZ+/OMfx/vvvx9jx44tdZvFixfHypUrS51Titj+9z+fe+65eO+992LgwIExcODA+Nvf/hYfffRRqds2adIkvv/978fkyZPjpZde2upxU5ujBGoHQW8AAKgBkydPjk6dOsURRxyxXft/9tln8dFHH0Xz5s2LLW/fvn18+OGHMXXq1MooMyIiVqxYEYsXLy72WLJkyXYfr7CwME4//fSoX79+DBo0KObMmRMzZ84s177Lli2LZcuWFQW4twTaCwsL47PPPivXMXZ0PHvvvXf06dMn/vGPf8TKlSvLvV9lOP300yMnJyceeeSRomXjxo2LLl26xEEHHVTmfqtWrSox5sWLF1d74AkAdsS2eojHH388GjZsGGeeeWYNVvkfhYWF0bdv3ygoKIiBAwfGqlWrYvLkyVV6zsq+5u/IGDZu3Bgffvhhib5t4sSJsWbNmmoZT+PGjeOb3/xmfPzxx/HGG2+Ua5/KctRRR0W7du2Khaz+53/+Jxo3bhwnn3xymfutWbOm1DGXt9cFALbPjsxXfdl7770XEVFi3q66DB48OCZPnhyrV6+OiM/nESdOnLjND5uV1oNU99wXALDrOf/88yMi4i9/+Uup61u3bh0NGzaMyZMnx9KlSyvtvIWFhdG5c+c45JBDYsCAAdGoUaMYP358mdtfdtll0bx587j++uu3etztmaPctGlTqb3Yv//973IfA6jdBL0BAKCarVy5Mj7++OPo0aNHuffZuHFj0X/qX3vttfjWt74VCxYsKDFJ8L3vfS/q168fxx57bPTs2TMuv/zyeOyxx8odpinNcccdF61atSr22HPPPbfrWLNmzYq33norBg4cGBERX/va16Jdu3Zl3iVp3bp1sXjx4vj000/jhRdeiLPOOis2bdoUZ511VkREHH744dGnT5+47777ol27djF48OAYM2ZMfPDBB1U6nu7du8fmzZuL3rirLk2aNIlTTjmlKDC0efPmmDBhQgwaNGir+33rW98qMeZWrVrFwoULq6NsANhh5ekh3nzzzdh3332jfv36NVVmkUWLFsVf//rXonr33nvv6N279w7dGbI8KvOaX9ExfLFfffXVV+OCCy6IhQsXFvVtbdq0iQsuuCCefPLJaNeuXZx++ulx5513FrvjdVWMZ8tdK6v7jpo5OTkxcODAYm8QbgmQ5eXllbnfyJEjSx3ziy++WB1lA8AuqaLzVV+25YNaCxcujL///e9x4YUXRkTU2AcQzzzzzNi0aVM8+uijEfF5aGrx4sVbnT/697//XWoPcvbZZ1dT1QDArqpdu3bRtGnTMuducnNz46qrropZs2bF3nvvHSeddFL8/Oc/3+adtbdm48aNMXHixKL+r2HDhnHqqadutf/Lz8+Pyy+/fJt39d6eOcq33nqr1F5sxIgR5R8UUKvVrekCAABgV7PlTjhNmjQp9z5/+ctfolWrVsWWXXjhhXH77bcXW9atW7eYPXt23HjjjfHEE0/E7Nmz4+67747GjRvHXXfdFRdffHGF6/3lL38Z++67b7FlderUqfBxIj4Pt+yxxx7Rt2/fiPg8AHPOOefE2LFj48477yxx3N/+9rfx29/+tujvDRo0iCuuuCIuv/zyov3//Oc/xx133BFjx46N8ePHx/jx42P48OFx9tlnx69+9ato1qxZpY+ncePGEfH5XSar2+DBg+Oss86KBQsWxGuvvRYLFizY5h2ZfvKTnxR9bfAXtWjRoqrKBIBKVZ4eYuXKlRXqr6rShAkTIjc3N84444yiZYMGDYoRI0bEsmXLquzujpV5za/oGL7cr9apUyfOP//8uPXWW4uW3X///XHooYfG7373u5g0aVJMmjQprrzyyjjmmGPioYceKvHhu8oYT033bXfccUfMnDkzmjdvHjNnzoyf//znW91n2LBhReH4L9p///2rqkwA2OVVdL7qy0aOHBkjR44s+nvjxo3jzjvvrLGgd/PmzaNfv34xfvz4OO+882LcuHFxxBFHFH3DSmkaNGhQ6je3tGzZsipLBQCIiM/7p63N3dxwww3RpUuXGDNmTPz5z3+OKVOmxLXXXhs9e/aMwsLC6Nq1a4XON2XKlFiyZEmxD8INGjQoBgwYEK+//np069at1P0uu+yyGDVqVNxwww3x2GOPlbrN9sxRdujQIe67774Sy9u1a1eh4wC1l6A3AABUs/z8/IioWNjksMMOi5/97GexadOmeO211+JnP/tZLFu2rNRPg++7777x8MMPx6ZNm+KNN96IJ554Im677bYYNmxYdOzYMY477rgK1XvooYfGwQcfXKF9SrNp06aYMGFC9O3bN+bNm1dsbHfeeWc8/fTTccIJJxTb5xvf+EZceumlkZOTE02aNIlu3brFbrvtVmybvLy8uPbaa+Paa6+N+fPnx/Tp0+Puu++O3//+91GvXr0YO3ZspY9ny1ff1kSY7KSTToomTZrE//zP/8Ts2bPjkEMOiX322Werdxfv0aNHhV93AEhFeXuI/Pz8GgnzRnweBvqisWPHxqGHHhpLliyJJUuWREREz549Y8OGDTFx4sQYNmxYldRRmdf8io5hS7+ak5MTjRo1iq5du5b4wF1ubm4MHz48hg8fHkuWLInnnnsu7r333pgyZUoMHDgwnn322UofT032bT179owuXbrEuHHjolmzZlFQUBDHHHPMVvf5yle+om8DgGq0PfNVX7blg1rr1q2LqVOnxujRo2PTpk1VXfpWDR48OM4///z44IMP4tFHH43bbrttq9vXqVNHDwIA1JjVq1dH69att7rNoEGDYtCgQbFy5cqYMWNGPPDAAzFu3LgYMGBAvPbaa9GgQYNyn2/s2LHRsWPHyMvLi7lz50ZEROfOnaNRo0ZRWFhY5gf1mzZtGpdffnmMHDkyXn755VJv5rA9c5S77babXgzYKkFvAACoZvn5+dG2bdt47bXXyr1Py5Yti/6Df+KJJ0aXLl3ilFNOibvvvjuuuOKKUvepU6dO9OjRI3r06BG9e/eOvn37RmFhYY1NFEydOjXmz58fEyZMiAkTJpRYX1hYWOKNs3bt2lWo3jZt2sTAgQPjjDPOiG7dusXvf//7eOCBB6Ju3cr9r89rr70WderUiY4dO1bqccsjLy8vTj/99HjwwQfj3Xffjeuvv77aawCA6lTeHqJLly4xe/bs2LBhQ4W+GnVbGjRoEOvXr48sy0oEurMsi3Xr1hV7I2nOnDkxc+bMiPg8tFtavVUV9K4s2zOGL/ar5bH77rvHqaeeGqeeemocffTRMX369Hj//fe3eqfJ7bGl595nn30q9bjlNXjw4LjnnnuiSZMmcc4550Rubm6N1AEAlG575qu+7Isf1DrllFOiTp06cfXVV0ffvn0r5eYJ2+PUU0+NvLy8GDJkSKxfvz7OPvvsGqkDAGBbPvroo1ixYkW5527y8/Pj+OOPj+OPPz7q1asXDz74YMyYMSP69OlTrv1XrlwZkydPjnXr1pU67zVu3Li46aabSswDbnHZZZfFf//3f8cNN9wQo0aNKrG+quYogV2boDcAANSAU045JX7961/H888/H717967w/ieffHL06dMnfv7zn8d3vvOdEne5/rItbyrNnz9/u+qtDIWFhdG6dev45S9/WWLdI488EpMmTYp77703GjZsuMPnqlevXhxwwAExZ86cWLx4cRQUFOzwMbf44IMPYvr06dG7d+8auTNkxOeBod/97neRm5sbAwcOrJEaAKC6lLeHGDBgQDz//PPxhz/8odjXru6o9u3bx2effRbvvPNOiTec5s6dG5s2bSoWTi4sLIx69erFww8/HHXq1Cm2/d///vcYPXp0fPDBB7H33ntXWo2VrbrHcPDBB8f06dNj/vz5lRr0Xr16dUyaNCn22muvCn+Fb2UZPHhw/OQnP4n58+fHww8/XCM1AABlq4r5qmuvvTbuu+++uO666+JPf/pTZZZbbg0bNozTTjstxo4dG/3794+WLVvWSB0AANuyZb7kxBNPrPC+Bx98cDz44IMVev/zkUceiXXr1sU999xTokd6++2347rrrovnnnsuvva1r5W6/5a7el9//fUxZMiQEuurao4S2LUJegMAQA34wQ9+EIWFhXHRRRfF1KlTY4899ii2/p133oknnngiLrvssjKP8cMf/jBOOumkuO++++Lyyy+PiIhnn302Dj/88KhXr16xbf/4xz9GRMR+++1XuQMpp7Vr18YjjzwSZ511Vpx55pkl1rdt2zbGjx8fjz/+eJxzzjnlPu6cOXMiLy+vRMho+fLl8fzzz0fz5s2jVatWO1z/FkuXLo1BgwbFpk2b4tprr62041ZU375948Ybb4zdd9+9UkPsAJCaivQQ3/3ud+MXv/hFjBgxInr16hX77rtvsW0XLVoUv/71r+O6666rUA39+/ePH/3oR/F//+//LXGXni2BoP79+xctKywsjK9//eul9jS9e/eO0aNHx/jx4+OHP/xhheqoTlUxhgULFsTSpUtj//33L7Z8w4YN8fTTT0dubm6l3nV77dq1cf7558fSpUvj5z//eZl3YapqnTt3jlGjRsXatWvj0EMPrZEaAIDSVdV8VbNmzeI73/lO3HbbbTF79uw48MADK7Hq8rvyyiujc+fO2xWaAgCoDlOnTo0bb7wxOnbsGOeee26p26xZsyZeeeWVUm+cNWXKlIio2PufY8eOjU6dOsV3v/vdEuvWr18ft9xySxQWFpYZ9I6IuPzyy2PUqFHx05/+tMS6qpqjBHZtgt4AAFADOnfuHOPGjYtzzjknunbtGhdccEF07949NmzYEP/7v/8bEydOjKFDh271GP3794/u3bvHXXfdFcOHD4969erFrbfeGrNmzYrTTz89DjjggIiIeOmll+Khhx6KFi1aFAXCK2LKlCnx1ltvlVh+xBFHRKdOnYr+/uKLL8bPfvazEtsdffTR8fHHH8eqVavi1FNPLfUchx9+eLRq1SoKCwsr9MbZK6+8EoMHD47+/fvH17/+9WjRokV8/PHH8eCDD8Ynn3wSo0aNKnEXyvKO51//+leMHTs2siyLlStXxiuvvBITJ06M1atXx1133RX9+vUrd52VLTc3t0ITQM8++2ysW7euxPIDDjig6OcEAFL0+OOPV6iHmDRpUpx00klx4IEHxnnnnRe9evWKiM/7ofHjx2/XN6kceOCBcdFFF8Xdd98dc+bMieOPPz4iIp566qn44x//GBdddFF89atfjYiIGTNmxNy5c+PSSy8t9Vh77rlnHHTQQVFYWFgsJD137txS+6iePXvGySefXO5ay3vN39r5WrZsuV1j2JaPPvooDj300DjmmGPi2GOPjYKCgli0aFGMHz8+Xnnllbj88stL3EWpvOP5+OOPY+zYsRHx+V2833jjjZg4cWIsWLAgRowYEd/5znfKXWdV2NqHN7/spZdeKhrLF3Xu3Hm7fn4BgLJVtNesiMsuuyxGjRoVt9xyS0yYMKEyyq2wr371q0V96rZ89tlnpfYgERHf/OY3t/ltggAA27Ll/bnPPvssFi5cGFOnTo2nnnoq2rdvH48//ng0aNCg1P3WrFkTRxxxRBx++OHRr1+/2GuvvWL58uXx6KOPxrPPPhunnXZa9OzZs1w1fPLJJ/HMM8/E9773vVLX5+XlxYknnhgTJ06M0aNHl7ix1hZNmzaNyy67LG644YYS65o3b17hOcoVK1aU2Yudd9555RobULsJegMAQA059dRT49VXX43bb789HnvssbjnnnsiLy8vDjjggLjzzjvj4osv3uYxrrzyyhg6dGgUFhbG0KFD40c/+lGMGzcupk+fHoWFhbFmzZpo06ZNDBw4MH784x9Hx44dK1znT37yk1KX33///cWC0TNmzIgZM2aU2O7GG2+MF154IRo0aFAUjPqy3NzcOPnkk6OwsDCWLFkSu+++e7lqO+qoo+LGG2+MKVOmxF133RWffvppNGnSJHr27Bm33nprnHHGGds9nqeeeiqeeuqpyM3Njfz8/OjYsWMMGTIkhg0bVuJOlKkbPXp0qctHjhwp6A1A0goLCyvUQxx22GHx2muvxe233x5PPvlkPPzww5Gbmxtdu3aNq6++uszw8rb86le/ih49esTvfve7uOaaayLi8zsFjR49OoYPH16s3ojPv6K1LAMGDIjrr78+Xn311aLr8Ntvvx0//vGPS2z77W9/u0JB7/Je87d2vkaNGm3XGLZlv/32i1GjRsUf//jHGDNmTCxcuDAaNGgQ3bt3j/vuuy++/e1vb/d4Zs+eHeeff37k5OREkyZNYq+99ooBAwbERRddtNPdRXv8+PExfvz4EsuHDBki6A0AlayivWZFtG3bNgYPHhwPP/xwvPPOO9G5c+fKKLnKrF+/Ps4///xS182bN0/QGwDYYVven6tfv360aNEievToEaNGjYoLL7wwmjRpUuZ+zZo1i/vuuy+efPLJuP/++2PBggVRp06d2G+//eL2228vM7RdmgkTJsTmzZu3Oe/1hz/8IaZMmVLmBwIj/nNX7xUrVpRYV9E5yo8++qjMXkzQG4iIyMmyLKvpIgAAAAAAAAAAAAAA+I/cmi4AAAAAAAAAAAAAAIDi6tZ0AQAAQPVavXp1rF69eqvbtGrVKurUqVNNFe3cPv3009i0aVOZ67d8BR0AQEWtXbu21K9//aIWLVpE/fr1q6mindvSpUtjw4YNZa6vU6dOtGrVqhorAgB2BRs2bIilS5dudZumTZtGw4YNq6kiAAAAdiY5WZZlNV0EAABQfa6//vq44YYbtrrNvHnzokOHDtVT0E6uQ4cO8f7775e5vk+fPjFt2rTqKwgAqDUeeOCBuPDCC7e6zTPPPBNHH3109RS0kzv66KNj+vTpZa5v3759vPfee9VXEACwS5g2bVr07dt3q9vcf//9MXTo0OopCAAAgJ2KoDcAAOxi3n333Xj33Xe3us3Xvva1aNCgQTVVtHN77rnnYu3atWWub968efTq1asaKwIAaov58+fH66+/vtVtevXqFc2bN6+minZus2bNimXLlpW5vmHDhnHkkUdWY0UAwK5g2bJlMWvWrK1u061bt2jTpk01VQQAAMDORNAbAAAAAAAAAAAAACAxuTVdAAAAAAAAAAAAAAAAxdWt6QIAACrL5s2b45NPPokmTZpETk5OTZcDAFSSLMti1apV0bZt28jN9Zn1FOi7AKD20nulR+8FALWTvis9+i4AqL125t5L0BsAqDU++eST2GuvvWq6DACginz44YfRrl27mi6D0HcBwK5A75UOvRcA1G76rnTouwCg9tsZey9BbwCg1mjSpElEfN6U5efn13A1AEBlWblyZey1115F13pqnr4LAGovvVd69F4AUDvpu9Kj7wKA2mtn7r0EvQGAWmPLV6jl5+ebfAGAWsjXpaZD3wUAtZ/eKx16LwCo3fRd6dB3AUDttzP2Xrk1XQAAAAAAAAAAAAAAAMUJegMAAAAAAAAAAAAAJEbQGwAAAAAAAAAAAAAgMYLeAAAAAAAAAAAAAACJEfQGAAAAAAAAAAAAAEiMoDcAAAAAAAAAAAAAQGIEvQEAAAAAAAAAAAAAEiPoDQAAAAAAAAAAAACQGEFvAAAAAAAAAAAAAIDECHoDAAAAAAAAAAAAACRG0BsAAAAAAAAAAAAAIDGC3gAAAAAAAAAAAAAAiRH0BgAAAAAAAAAAAABIjKA3AAAAAAAAAAAAAEBiBL0BAAAAAAAAAAAAABIj6A0AAAAAAAAAAAAAkBhBbwAAAAAAAAAAAACAxAh6AwAAAAAAAAAAAAAkRtAbAAAAAAAAAAAAACAxgt4AAAAAAAAAAAAAAIkR9AYAAAAAAAAAAAAASIygNwAAAAAAAAAAAABAYgS9AQAAAAAAAAAAAAASI+gNAAAAAAAAAAAAAJAYQW8AAAAAAAAAAAAAgMQIegMAAAAAAAAAAAAAJEbQGwAAAAAAAAAAAAAgMYLeAAAAAAAAAAAAAACJEfQGAAAAAAAAAAAAAEiMoDcAAAAAAAAAAAAAQGIEvQEAAAAAAAAAAAAAEiPoDQAAAAAAAAAAAACQGEFvAAAAAAAAAAAAAIDECHoDAAAAAAAAAAAAACSmbk0XAAAAVK5Nm7N4Yd7SWLRqXbRu0iAO7dgi6uTm1HRZAADJ0TcBAFQ9PRcAwK5JHwhQOQS9AQCgFvnTa/PjhslvxPwV64qWtWnaIEYO2D/6dW9Tg5UBAKRF3wQAUPX0XAAAuyZ9IEDlya3pAgAAgMrxp9fmxyVjXyo2YRIRsWDFurhk7Evxp9fm11BlAABp0TcBAFQ9PRcAwK5JHwhQuQS9AQCgFti0OYsbJr8RWSnrtiy7YfIbsWlzaVsAAOw69E0AAFVPzwUAsGvSBwJUPkFvAACoBV6Yt7TEp+K/KIuI+SvWxQvzllZfUQAACdI3AQBUPT0XAMCuSR8IUPkEvQEAoBZYtKrsCZPt2Q4AoLbSNwEAVD09FwDArkkfCFD5BL0BAKAWaN2kQaVuBwBQW+mbAACqnp4LAGDXpA8EqHyC3gAAUAsc2rFFtGnaIHLKWJ8TEW2aNohDO7aozrIAAJKjbwIAqHp6LgCAXZM+EKDyCXoDAEAtUCc3J0YO2D8iosTEyZa/jxywf9TJLWtaBQBg16BvAgCoenouAIBdkz4QoPIJegMAQC3Rr3ubuOe8g6KgafGvOito2iDuOe+g6Ne9TQ1VBgCQFn0TAEDV03MBAOya9IEAlatuTRcAAABUnn7d28Tx+xfEC/OWxqJV66J1k8+/+syn4gEAitM3AQBUPT0XAMCuSR8IUHkEvQEAoJapk5sTvTvvXtNlAAAkT98EAFD19FwAALsmfSBA5cit6QIAAAAAAAAAAAAAAChO0BsAAAAAAAAAAAAAIDGC3gAAAAAAAAAAAAAAiRH0BgAAAAAAAAAAAABIjKA3AAAAAAAAAAAAAEBiBL0BAAAAAAAAAAAAABIj6A0AAAAAAAAAAAAAkBhBbwAAAAAAAAAAAACAxAh6AwAAAAAAAAAAAAAkRtAbAAAAAAAAAAAAACAxgt4AAAAAAAAAAAAAAIkR9AYAAAAAAAAAAAAASIygNwAAAAAAAAAAAABAYgS9AQAAAAAAAAAAAAASI+gNAAAAAAAAAAAAAJAYQW8AAAAAAAAAAAAAgMQIegMAAAAAAAAAAAAAJEbQGwAAAAAAAAAAAAAgMYLeAAAAAAAAAAAAAACJEfQGAAAAAAAAAAAAAEiMoDcAAAAAAAAAAAAAQGIEvQEAAAAAAAAAAAAAEiPoDQAAAAAAAAAAAACQGEFvAAAAAAAAAAAAAIDECHoDAAAAAAAAAAAAACRG0BsAAAAAAAAAAAAAIDGC3gAAAAAAAAAAAAAAiRH0BgAAAAAAAAAAAABIjKA3AAAAAAAAAAAAAEBiBL0BAAAAAAAAAAAAABIj6A0AAAAAAAAAAAAAkBhBbwAAAAAAAAAAAACAxAh6AwAAAAAAAAAAAAAkRtAbAAAAAAAAAAAAACAxgt4AAAAAAAAAAAAAAIkR9AYAAAAAAAAAAAAASIygNwAAAAAAAAAAAABAYgS9AQAAAAAAAAAAAAASI+gNAAAAAAAAAAAAAJAYQW8AAAAAAAAAAAAAgMQIegMAAAAAAAAAAAAAJEbQGwAAAAAAAAAAAAAgMYLeAAAAAAAAAAAAAACJEfQGAAAAAAAAAAAAAEiMoDcAAAAAAAAAAAAAQGIEvQEAAAAAAAAAAAAAEiPoDQAAAAAAAAAAAACQGEFvAAAAAAAAAAAAAIDECHoDAAAAAAAAAAAAACRG0BsAAAAAAAAAAAAAIDGC3gAAAAAAAAAAAAAAiRH0BgAAAAAAAAAAAABIjKA3AAAAAAAAAAAAAEBiBL0BAAAAAAAAAAAAABIj6A0AAAAAAAAAAAAAkBhBbwAAAAAAAAAAAACAxAh6AwA77Oabb45DDjkkmjRpEq1bt47TTjst3n777WLbrFu3LoYPHx677757NG7cOM4444xYuHBhsW0++OCDOPnkk6NRo0bRunXruOqqq+Kzzz6rzqEAACRN3wUAUH30XgAA1UPfBQBQNkFvAGCHTZ8+PYYPHx7/+Mc/4qmnnoqNGzfGCSecEP/+97+Ltvn+978fkydPjokTJ8b06dPjk08+idNPP71o/aZNm+Lkk0+ODRs2xP/+7//Ggw8+GA888ED85Cc/qYkhAQAkSd8FAFB99F4AANVD3wUAULacLMuymi4CAKhdPv3002jdunVMnz49jjrqqFixYkW0atUqxo0bF2eeeWZERLz11lvRtWvXeP755+Pwww+PKVOmxCmnnBKffPJJ7LHHHhERce+998YPf/jD+PTTT6N+/frbPO/KlSujadOmsWLFisjPz6/SMQIA1cc1vmz6LgCgsrnOl03vBQBUJtf4sum7AIDKtjNf593RGwCodCtWrIiIiBYtWkRExKxZs2Ljxo1x3HHHFW3TpUuX2HvvveP555+PiIjnn38+evToUTTxEhFx4oknxsqVK+P111+vxuoBAHYe+i4AgOqj9wIAqB76LgCA/6hb0wUAALXL5s2b4/LLL48jjzwyunfvHhERCxYsiPr160ezZs2KbbvHHnvEggULirb54sTLlvVb1pVm/fr1sX79+qK/r1y5srKGAQCQPH0XAED10XsBAFQPfRcAQHHu6A0AVKrhw4fHa6+9FhMmTKjyc918883RtGnTosdee+1V5ecEAEiFvgsAoProvQAAqoe+CwCgOEFvAKDSXHrppfHEE0/EM888E+3atStaXlBQEBs2bIjly5cX237hwoVRUFBQtM3ChQtLrN+yrjTXXHNNrFixoujx4YcfVuJoAADSpe8CAKg+ei8AgOqh7wIAKEnQGwDYYVmWxaWXXhqTJk2KqVOnRseOHYut79WrV9SrVy+efvrpomVvv/12fPDBB9G7d++IiOjdu3f885//jEWLFhVt89RTT0V+fn7sv//+pZ43Ly8v8vPziz0AAGozfRcAQPXRewEAVA99FwBA2erWdAEAwM5v+PDhMW7cuHjssceiSZMmsWDBgoiIaNq0aTRs2DCaNm0a3/72t+OKK66IFi1aRH5+fvyf//N/onfv3nH44YdHRMQJJ5wQ+++/f5x//vlx2223xYIFC+K6666L4cOHR15eXk0ODwAgGfouAIDqo/cCAKge+i4AgLLlZFmW1XQRAMDOLScnp9Tl999/fwwdOjQiItatWxcjRoyI8ePHx/r16+PEE0+MMWPGFPuqtPfffz8uueSSmDZtWuy2224xZMiQuOWWW6Ju3fJ9Nm3lypXRtGnTWLFihU/cA0At4hr/H/ouAKCquc7/h94LAKhKrvH/oe8CAKraznydF/QGAGqNnbkpAwDK5hqfHq8JANRervPp8ZoAQO3kGp8erwkA1F4783U+t6YLAAAAAAAAAAAAAACgOEFvAAAAAAAAAAAAAIDECHoDAAAAAAAAAAAAACRG0BsAAAAAAAAAAAAAIDGC3gAAAAAAAAAAAAAAiRH0BgAAAAAAAAAAAABIjKA3AAAAAAAAAAAAAEBiBL0BAAAAAAAAAAAAABIj6A0AAAAAAAAAAAAAkBhBbwAAAAAAAAAAAACAxAh6AwAAAAAAAAAAAAAkRtAbAAAAAAAAAAAAACAxgt4AAAAAAAAAAAAAAIkR9AYAAAAAAAAAAAAASIygNwAAAAAAAAAAAABAYgS9AQAAAAAAAAAAAAASI+gNAAAAAAAAAAAAAJAYQW8AAAAAAAAAAAAAgMQIegMAAAAAAAAAAAAAJEbQGwAAAAAAAAAAAAAgMYLeAAAAAAAAAAAAAACJEfQGAAAAAAAAAAAAAEiMoDcAAAAAAAAAAAAAQGIEvQEAAAAAAAAAAAAAEiPoDQAAAAAAAAAAAACQGEFvAAAAAAAAAAAAAIDECHoDAAAAAAAAAAAAACRG0BsAAAAAAAAAAAAAIDGC3gAAAAAAAAAAAAAAiRH0BgAAAAAAAAAAAABIjKA3AAAAAAAAAAAAAEBiBL0BAAAAAAAAAAAAABIj6A0AAAAAAAAAAAAAkBhBbwAAAAAAAAAAAACAxAh6AwAAAAAAAAAAAAAkRtAbAAAAAAAAAAAAACAxgt4AAAAAAAAAAAAAAIkR9AYAAAAAAAAAAAAASIygNwAAAAAAAAAAAABAYgS9AQAAAAAAAAAAAAASI+gNAAAAAAAAAAAAAJAYQW8AAAAAAAAAAAAAgMQIegMAAAAAAAAAAAAAJEbQGwAAAAAAAAAAAAAgMYLeAAAAAAAAAAAAAACJEfQGAAAAAAAAAAAAAEiMoDcAAAAAAAAAAAAAQGIEvQEAAAAAAAAAAAAAEiPoDQAAAAAAAAAAAACQGEFvAAAAAAAAAAAAAIDECHoDAAAAAAAAAAAAACRG0BsAAAAAAAAAAAAAIDGC3gAAAAAAAAAAAAAAiRH0BgAAAAAAAAAAAABIjKA3AAAAAAAAAAAAAEBiBL0BAAAAAAAAAAAAABIj6A0AAAAAAAAAAAAAkBhBbwAAAAAAAAAAAACAxAh6AwAAAAAAAAAAAAAkRtAbAAAAAAAAAAAAACAxgt4AAAAAAAAAAAAAAIkR9AYAAAAAAAAAAAAASIygNwAAAAAAAAAAAABAYgS9AQAAAAAAAAAAAAASI+gNAAAAAAAAAAAAAJAYQW8AAAAAAAAAAAAAgMQIegMAAAAAAAAAAAAAJEbQGwAAAAAAAAAAAAAgMYLeAAAAAAAAAAAAAACJEfQGAAAAAAAAAAAAAEiMoDcAAAAAAAAAAAAAQGIEvQEAAAAAAAAAAAAAEiPoDQAAAAAAAAAAAACQGEFvAAAAAAAAAAAAAIDECHoDAAAAAAAAAAAAACRG0BsAAAAAAAAAAAAAIDGC3gAAAAAAAAAAAAAAiRH0BgAAAAAAAAAAAABIjKA3AAAAAAAAAAAAAEBiBL0BAAAAAAAAAAAAABIj6A0AAAAAAAAAAAAAkBhBbwAAAAAAAAAAAACAxAh6AwAAAAAAAAAAAAAkRtAbAAAAAAAAAAAAACAxgt4AAAAAAAAAAAAAAIkR9AYAAAAAAAAAAAAASIygNwAAAAAAAAAAAABAYgS9AQAAAAAAAAAAAAASI+gNAAAAAAAAAAAAAJAYQW8AAAAAAAAAAAAAgMQIegMAAAAAAAAAAAAAJEbQGwAAAAAAAAAAAAAgMYLeAAAAAAAAAAAAAACJEfQGAAAAAAAAAAAAAEiMoDcAAAAAAAAAAAAAQGIEvQEAAAAAAAAAAAAAEiPoDQAAAAAAAAAAAACQGEFvAAAAAAAAAAAAAIDECHoDAAAAAAAAAAAAACRG0BsAAAAAAAAAAAAAIDGC3gAAAAAAAAAAAAAAiRH0BgAAAAAAAAAAAABIjKA3AAAAAAAAAAAAAEBiBL0BAAAAAAAAAAAAABIj6A0AAAAAAAAAAAAAkBhBbwAAAAAAAAAAAACAxAh6AwAAAAAAAAAAAAAkRtAbAAAAAAAAAAAAACAxgt4AAAAAAAAAAAAAAIkR9AYAAAAAAAAAAAAASIygNwAAAAAAAAAAAABAYgS9AQAAAAAAAAAAAAASI+gNAAAAAAAAAAAAAJAYQW8AAAAAAAAAAAAAgMQIegMAAAAAAAAAAAAAJEbQGwAAAAAAAAAAAAAgMYLeAAAAAAAAAAAAAACJEfQGAAAAAAAAAAAAAEiMoDcAAAAAAAAAAAAAQGIEvQEAAAAAAAAAAAAAEiPoDQAAAAAAAAAAAACQGEFvAAAAAAAAAAAAAIDECHoDAAAAAAAAAAAAACRG0BsAAAAAAAAAAAAAIDGC3gAAAAAAAAAAAAAAiRH0BgAAAAAAAAAAAABIjKA3AAAAAAAAAAAAAEBiBL0BAAAAAAAAAAAAABIj6A0AAAAAAAAAAAAAkBhBbwAAAAAAAAAAAACAxAh6AwAAAAAAAAAAAAAkRtAbAAAAAAAAAAAAACAxgt4AAAAAAAAAAAAAAIkR9AYAAAAAAAAAAAAASIygNwAAAAAAAAAAAABAYgS9AQAAAAAAAAAAAAASI+gNAAAAAAAAAAAAAJAYQW8AAAAAAAAAAAAAgMQIegMAAAAAAAAAAAAAJEbQGwAAAAAAAAAAAAAgMYLeAAAAAAAAAAAAAACJEfQGAAAAAAAAAAAAAEiMoDcAAAAAAAAAAAAAQGIEvQEAAAAAAAAAAAAAEiPoDQAAAAAAAAAAAACQGEFvAAAAAAAAAAAAAIDECHoDAAAAAAAAAAAAACRG0BsAAAAAAAAAAAAAIDGC3gAAAAAAAAAAAAAAiRH0BgAAAAAAAAAAAABIjKA3AAAAAAAAAAAAAEBiBL0BAAAAAAAAAAAAABIj6A0AAAAAAAAAAAAAkBhBbwAAAAAAAAAAAACAxAh6AwAAAAAAAAAAAAAkRtAbAAAAAAAAAAAAACAxgt4AAAAAAAAAAAAAAIkR9AYAAAAAAAAAAAAASIygNwAAAAAAAAAAAABAYgS9AQAAAAAAAAAAAAASI+gNAAAAAAAAAAAAAJAYQW8AAAAAAAAAAAAAgMQIegMAAAAAAAAAAAAAJEbQGwAAAAAAAAAAAAAgMYLeAAAAAAAAAAAAAACJEfQGAAAAAAAAAAAAAEiMoDcAAAAAAAAAAAAAQGIEvQEAAAAAAAAAAAAAEiPoDQAAAAAAAAAAAACQGEFvAAAAAAAAAAAAAIDECHoDAAAAAAAAAAAAACRG0BsAAAAAAAAAAAAAIDGC3gAAAAAAAAAAAAAAiRH0BgAAAAAAAAAAAABIjKA3AAAAAAAAAAAAAEBiBL0BAAAAAAAAAAAAABIj6A0AAAAAAAAAAAAAkBhBbwAAAAAAAAAAAACAxAh6AwA77G9/+1sMGDAg2rZtGzk5OfHoo48WWz906NDIyckp9ujXr1+xbZYuXRrnnntu5OfnR7NmzeLb3/52rF69uhpHAQCwc9B7AQBUD30XAED10XsBAJRO0BsA2GH//ve/46tf/Wr88pe/LHObfv36xfz584se48ePL7b+3HPPjddffz2eeuqpeOKJJ+Jvf/tbDBs2rKpLBwDY6ei9AACqh74LAKD66L0AAEpXt6YLAAB2fv3794/+/ftvdZu8vLwoKCgodd2bb74Zf/rTn2LmzJlx8MEHR0TEL37xizjppJPijjvuiLZt21Z6zQAAOyu9FwBA9dB3AQBUH70XAEDp3NEbAKgW06ZNi9atW8d+++0Xl1xySSxZsqRo3fPPPx/NmjUrmnSJiDjuuOMiNzc3ZsyYUeYx169fHytXriz2AACg8nsvfRcAQOnMeQEAVB9zXgDArkjQGwCocv369YuHHnoonn766bj11ltj+vTp0b9//9i0aVNERCxYsCBat25dbJ+6detGixYtYsGCBWUe9+abb46mTZsWPfbaa68qHQcAwM6gKnovfRcAQEnmvAAAqo85LwBgV1W3pgsAAGq/gQMHFv25R48eccABB0Tnzp1j2rRpceyxx273ca+55pq44ooriv6+cuVKEzAAwC6vKnovfRcAQEnmvAAAqo85LwBgV+WO3gBAtevUqVO0bNky5s6dGxERBQUFsWjRomLbfPbZZ7F06dIoKCgo8zh5eXmRn59f7AEAQHGV0XvpuwAAts2cFwBA9THnBQDsKgS9AYBq99FHH8WSJUuiTZs2ERHRu3fvWL58ecyaNatom6lTp8bmzZvjsMMOq6kyAQBqBb0XAED10HcBAFQfvRcAsKuoW9MFAAA7v9WrVxd9Wj4iYt68eTF79uxo0aJFtGjRIm644YY444wzoqCgIN555534wQ9+EPvss0+ceOKJERHRtWvX6NevX1x88cVx7733xsaNG+PSSy+NgQMHRtu2bWtqWAAASdJ7AQBUD30XAED10XsBAJQuJ8uyrKaLAAB2btOmTYu+ffuWWD5kyJC455574rTTTouXX345li9fHm3bto0TTjghbrzxxthjjz2Ktl26dGlceumlMXny5MjNzY0zzjgjRo8eHY0bNy53HStXroymTZvGihUrfLUaANQirvHFpdB7eU0AoPZynf+PFPquCK8JANRWrvHFpdB7eU0AoPbama/zgt4AQK2xMzdlAEDZXOPT4zUBgNrLdT49XhMAqJ1c49PjNQGA2mtnvs7n1nQBAAAAAAAAAAAAAAAUJ+gNAAAAAAAAAAAAAJAYQW8AAAAAAAAAAAAAgMQIegMAAAAAAAAAAAAAJEbQGwAAAAAAAAAAAAAgMYLeAAAAAAAAAAAAAACJEfQGAAAAAAAAAAAAAEiMoDcAAAAAAAAAAAAAQGIEvQEAAAAAAAAAAAAAEiPoDQAAAAAAAAAAAACQGEFvAAAAAAAAAAAAAIDECHoDAAAAAAAAAAAAACRG0BsAAAAAAAAAAAAAIDGC3gAAAAAAAAAAAAAAiRH0BgAAAAAAAAAAAABIjKA3AAAAAAAAAAAAAEBiBL0BAAAAAAAAAAAAABIj6A0AAAAAAAAAAAAAkBhBbwAAAAAAAAAAAACAxAh6AwAAAAAAAAAAAAAkRtAbAAAAAAAAAAAAACAxgt4AAAAAAAAAAAAAAIkR9AYAAAAAAAAAAAAASIygNwAAAAAAAAAAAABAYgS9AQAAAAAAAAAAAAASI+gNAAAAAAAAAAAAAJAYQW8AAAAAAAAAAAAAgMQIegMAAAAAAAAAAAAAJEbQGwAAAAAAAAAAAAAgMYLeAAAAAAAAAAAAAACJEfQGAAAAAAAAAAAAAEiMoDcAAAAAAAAAAAAAQGIEvQEAAAAAAAAAAAAAEiPoDQAAAAAAAAAAAACQGEFvAAAAAAAAAAAAAIDECHoDAAAAAAAAAAAAACRG0BsAAAAAAAAAAAAAIDGC3gAAAAAAAAAAAAAAiRH0BgAAAAAAAAAAAABIjKA3AAAAAAAAAAAAAEBiBL0BAAAAAAAAAAAAABIj6A0AAAAAAAAAAAAAkBhBbwAAAAAAAAAAAACAxAh6AwAAAAAAAAAAAAAkRtAbAAAAAAAAAAAAACAxgt4AAAAAAAAAAAAAAIkR9AYAAAAAAAAAAAAASIygNwAAAAAAAAAAAABAYgS9AQDg/2Pv/oMjT+/6wH+6NV7LhpleNDBWL2UbMQUxHeXghkT2FGuuAE9QnFOg4n/Y8qSoxGUfKkgRfuQHqQKhIqmNc3dxHQUZk42D66IAV6k7sihxlMJsDhvfrEWs2lyEHGIPsh1My3MeZXvGNlqvpb4/hGZGI7XU3fp2f5/vt1+vqi1b3d/pfr4/+nne/fSn+wEAAAAAAAAAgMQo9AYAAAAAAAAAAAAASIxCbwAAAAAAAAAAAACAxCj0BgAAAAAAAAAAAABIjEJvAAAAAAAAAAAAAIDEKPQGAAAAAAAAAAAAAEiMQm8AAAAAAAAAAAAAgMQo9AYAAAAAAAAAAAAASIxCbwAAAAAAAAAAAACAxCj0BgAAAAAAAAAAAABIjEJvAAAAAAAAAAAAAIDEKPQGAAAAAAAAAAAAAEiMQm8AAAAAAAAAAAAAgMQo9AYAAAAAAAAAAAAASIxCbwAAAAAAAAAAAACAxCj0BgAAAAAAAAAAAABIjEJvAAAAAAAAAAAAAIDEKPQGAAAAAAAAAAAAAEiMQm8AAAAAAAAAAAAAgMQo9AYAAAAAAAAAAAAASIxCbwAAAAAAAAAAAACAxCj0BgAAAAAAAAAAAABIjEJvAAAAAAAAAAAAAIDEKPQGAAAAAAAAAAAAAEiMQm8AAAAAAAAAAAAAgMQo9AYAAAAAAAAAAAAASIxCbwAAAAAAAAAAAACAxCj0BgAAAAAAAAAAAABIjEJvAAAAAAAAAAAAAIDEKPQGAAAAAAAAAAAAAEiMQm8AAAAAAAAAAAAAgMQo9AYAAAAAAAAAAAAASIxCbwAAAAAAAAAAAACAxCj0BgAAAAAAAAAAAABIjEJvAAAAAAAAAAAAAIDEKPQGAAAAAAAAAAAAAEiMQm8AAAAAAAAAAAAAgMQo9AYAAAAAAAAAAAAASIxCbwAAAAAAAAAAAACAxCj0BgAAAAAAAAAAAABIjEJvAAAAAAAAAAAAAIDEKPQGAAAAAAAAAAAAAEiMQm8AAAAAAAAAAAAAgMQo9AYAAAAAAAAAAAAASIxCbwAAAAAAAAAAAACAxCj0BgAAAAAAAAAAAABIjEJvAAAAAAAAAAAAAIDEKPQGAAAAAAAAAAAAAEiMQm8AAAAAAAAAAAAAgMQo9AYAAAAAAAAAAAAASIxCbwAAAAAAAAAAAACAxCj0BgAAAAAAAAAAAABIjEJvAAAAAAAAAAAAAIDEKPQGAAAAAAAAAAAAAEiMQm8AAAAAAAAAAAAAgMQo9AYAAAAAAAAAAAAASIxCbwAAAAAAAAAAAACAxCj0BgAAAAAAAAAAAABIjEJvAAAAAAAAAAAAAIDEKPQGAAAAAAAAAAAAAEiMQm8AAAAAAAAAAAAAgMQo9AYAAAAAAAAAAAAASIxCbwAAAAAAAAAAAACAxCj0BgAAAAAAAAAAAABIjEJvAAAAAAAAAAAAAIDEKPQGAAAAAAAAAAAAAEiMQm8AAAAAAAAAAAAAgMQo9AYAAAAAAAAAAAAASIxCbwAAAAAAAAAAAACAxCj0BgAAAAAAAAAAAABIjEJvAAAAAAAAAAAAAIDEKPQGAAAAAAAAAAAAAEiMQm8AAAAAAAAAAAAAgMQo9AYAAAAAAAAAAAAASIxCbwAAAAAAAAAAAACAxCj0BgAAAAAAAAAAAABIjEJvAAAAAAAAAAAAAIDEKPQGAAAAAAAAAAAAAEiMQm8AAAAAAAAAAAAAgMQo9AYAAAAAAAAAAAAASIxCbwAAAAAAAAAAAACAxCj0BgAAAAAAAAAAAABIjEJvAAAAAAAAAAAAAIDEKPQGAAAAAAAAAAAAAEiMQm8AAAAAAAAAAAAAgMQo9AYAAAAAAAAAAAAASIxCbwAAAAAAAAAAAACAxCj0BgAAAAAAAAAAAABIjEJvAAAAAAAAAAAAAIDEKPQGAAAAAAAAAAAAAEiMQm8AAAAAAAAAAAAAgMQo9AYAAAAAAAAAAAAASIxCbwAAAAAAAAAAAACAxCj0BgAAAAAAAAAAAABIjEJvAAAAAAAAAAAAAIDEKPQGAAAAAAAAAAAAAEiMQm8AAAAAAAAAAAAAgMQo9AYAAAAAAAAAAAAASIxCbwAAAAAAAAAAAACAxCj0BgAAAAAAAAAAAABIjEJvAAAAAAAAAAAAAIDEKPQGAAAAAAAAAAAAAEiMQm8AJI0rfAABAABJREFUAAAAAAAAAAAAgMQo9AYAAAAAAAAAAAAASIxCbwAAAAAAAAAAAACAxCj0BgAAAAAAAAAAAABIjEJvAAAAAAAAAAAAAIDEKPQGAAAAAAAAAAAAAEiMQm8AAAAAAAAAAAAAgMQo9AYAAAAAAAAAAAAASIxCbwAAAAAAAAAAAACAxCj0BgAAAAAAAAAAAABIjEJvAAAAAAAAAAAAAIDEKPQGAAAAAAAAAAAAAEiMQm8AAAAAAAAAAAAAgMQo9AYAAAAAAAAAAAAASIxCbwAAAAAAAAAAAACAxCj0BgAAAAAAAAAAAABIzLm8GwAAACnY3WvH6uZ23L63E5fOj8fM1ESMVSt5NwsAYOTIZQAA/ZOlAAAGS94CYNgUegMAMPJW1puxuLwRzdbO/dvqtfFYmGvE7HQ9x5YBAIwWuQwAoH+yFADAYMlbAOShmncDAAAgTyvrzZhfWjs0IRMRsdXaifmltVhZb+bUMgCA0SKXAQD0T5YCABgseQuAvCj0BgBgZO3utWNxeSPax9x3cNvi8kbs7h23BQAAWZHLAAD6J0sBAAyWvAVAnhR6AwAwslY3t4986/5h7YhotnZidXN7eI0CABhBchkAQP9kKQCAwZK3AMiTQm8AAEbW7XudJ2T62Q4AgP7IZQAA/ZOlAAAGS94CIE8KvQEAGFmXzo9nuh0AAP2RywAA+idLAQAMlrwFQJ4UegMAMLJmpiaiXhuPSof7KxFRr43HzNTEMJsFADBy5DIAgP7JUgAAgyVvAZAnhd4AAIyssWolFuYaERFHJmYO/l6Ya8RYtdO0DQAAWZDLAAD6J0sBAAyWvAVAnhR6AwAw0man63Hj+pWYrB1eSm2yNh43rl+J2el6Ti0DABgtchkAQP9kKQCAwZK3AMjLubwbAAAAeZudrse1xmSsbm7H7Xs7cen8/tJqvnUPADBcchkAQP9kKQCAwZK3AMiDQm8AAIj9JdeuXr6YdzMAAEaeXAYA0D9ZCgBgsOQtAIatmncDAIDi+9CHPhRzc3PxxBNPRKVSiX/1r/7Vofvb7Xb8zM/8TNTr9XjVq14Vb3nLW+ITn/jEoW22t7fj7W9/e1y4cCEef/zxeMc73hFf+MIXhrgXAADFIHsBAAyH3AUAMDyyFwDA8RR6AwBn9sUvfjG+9Vu/NX7xF3/x2Pv/4T/8h/HzP//z8d73vjc++tGPxld91VfF937v98bOzs79bd7+9rfH7/3e78Vv/uZvxr/+1/86PvShD8W73vWuYe0CAEBhyF4AAMMhdwEADI/sBQBwvEq73W7n3QgAoDwqlUr8+q//enz/939/ROx/u/6JJ56In/iJn4if/MmfjIiIVqsVr3nNa+L9739//MAP/EB8/OMfj0ajEb/7u78bf/bP/tmIiFhZWYm3vvWt8Yd/+IfxxBNPdPXcd+/ejVqtFq1WKy5cuDCQ/QMAhs8Y31le2cs5AYDyMs4fz5wXAJA1Y3xn5rwAgKwVeZz3i94AwEBtbm7G1tZWvOUtb7l/W61Wize+8Y1x8+bNiIi4efNmPP744/cnXSIi3vKWt0S1Wo2PfvSjHR/7pZdeirt37x76DwBglA0qe8ldAACHmfMCABgec14AwChT6A0ADNTW1lZERLzmNa85dPtrXvOa+/dtbW3FpUuXDt1/7ty5mJiYuL/NcZ5++umo1Wr3/3vta1+bcesBAIplUNlL7gIAOMycFwDA8JjzAgBGmUJvAKCwfuqnfipardb9//7rf/2veTcJAKCU5C4AgOGRvQAAhkPuAgCKQKE3ADBQk5OTERHxuc997tDtn/vc5+7fNzk5Gbdv3z50/1e+8pXY3t6+v81xXvnKV8aFCxcO/QcAMMoGlb3kLgCAw8x5AQAMjzkvAGCUKfQGAAZqamoqJicn47d+67fu33b37t346Ec/GlevXo2IiKtXr8aLL74YH/vYx+5v89xzz8Xe3l688Y1vHHqbAQCKSvYCABgOuQsAYHhkLwBglJ3LuwEAQPF94QtfiE9+8pP3/97c3IwXXnghJiYm4nWve138jb/xN+Lv/b2/F9/0Td8UU1NT8dM//dPxxBNPxPd///dHRMS3fMu3xOzsbLzzne+M9773vfHyyy/Hj/zIj8QP/MAPxBNPPJHTXgEApEn2AgAYDrkLAGB4ZC8AgOMp9AYAzuw//If/EN/1Xd91/+8f//Efj4iIH/zBH4z3v//98bf+1t+KL37xi/Gud70rXnzxxXjyySdjZWUlxsfH7/+bf/Ev/kX8yI/8SHzP93xPVKvVeNvb3hY///M/P/R9AQBInewFADAcchcAwPDIXgAAx6u02+123o0AAMjC3bt3o1arRavVigsXLuTdHAAgI8b49DgnAFBexvn0OCcAUE7G+PQ4JwBQXkUe56t5NwAAAAAAAAAAAAAAgMMUegMAAAAAAAAAAAAAJEahNwAAAAAAAAAAAABAYhR6AwAAAAAAAAAAAAAkRqE3AAAAAAAAAAAAAEBiFHoDAAAAAAAAAAAAACRGoTcAAAAAAAAAAAAAQGIUegMAAAAAAAAAAAAAJEahNwAAAAAAAAAAAABAYhR6AwAAAAAAAAAAAAAkRqE3AAAAAAAAAAAAAEBiFHoDAAAAAAAAAAAAACRGoTcAAAAAAAAAAAAAQGIUegMAAAAAAAAAAAAAJEahNwAAAAAAAAAAAABAYhR6AwAAAAAAAAAAAAAkRqE3AAAAAAAAAAAAAEBiFHoDAAAAAAAAAAAAACTmXN4NAAAAANK0u9eO1c3tuH1vJy6dH4+ZqYkYq1bybhYAQHLkJgCAB2QjAGCQZA1GjUJvAAAA4IiV9WYsLm9Es7Vz/7Z6bTwW5hoxO13PsWUAAGmRmwAAHpCNAIBBkjUYRdW8GwAAAACkZWW9GfNLa4cmySIitlo7Mb+0FivrzZxaBgCQFrkJAOAB2QgAGCRZg1Gl0BsAAAC4b3evHYvLG9E+5r6D2xaXN2J377gtAABGh9wEAPCAbAQADJKswShT6A0AAADct7q5feSXEB7WjohmaydWN7eH1ygAgATJTQAAD8hGAMAgyRqMMoXeAAAAwH2373WeJOtnOwCAspKbAAAekI0AgEGSNRhlCr0BAACA+y6dH890OwCAspKbAAAekI0AgEGSNRhlCr0BAACA+2amJqJeG49Kh/srEVGvjcfM1MQwmwUAkBy5CQDgAdkIABgkWYNRptAbAAAAuG+sWomFuUZExJHJsoO/F+YaMVbtNJUGADAa5CYAgAdkIwBgkGQNRplCbwAAAOCQ2el63Lh+JSZrh5e3m6yNx43rV2J2up5TywAA0iI3AQA8IBsBAIMkazCqzuXdAAAAACA9s9P1uNaYjNXN7bh9bycund9f7s4vIQAAHCY3AQA8IBsBAIMkazCKFHoDAAAAxxqrVuLq5Yt5NwMAIHlyEwDAA7IRADBIsgajppp3AwAAAAAAAAAAAAAAOEyhNwAAAAAAAAAAAABAYhR6AwAAAAAAAAAAAAAkRqE3AAAAAAAAAAAAAEBiFHoDAAAAAAAAAAAAACRGoTcAAAAAAAAAAAAAQGIUegMAAAAAAAAAAAAAJEahNwAAAAAAAAAAAABAYhR6AwAAAAAAAAAAAAAkRqE3AAAAAAAAAAAAAEBiFHoDAAAAAAAAAAAAACRGoTcAAAAAAAAAAAAAQGIUegMAAAAAAAAAAAAAJEahNwAAAAAAAAAAAABAYhR6AwAAAAAAAAAAAAAkRqE3AAAAAAAAAAAAAEBiFHoDAAAAAAAAAAAAACRGoTcAAAAAAAAAAAAAQGIUegMAAAAAAAAAAAAAJEahNwAAAAAAAAAAAABAYhR6AwAAAAAAAAAAAAAkRqE3AAAAAAAAAAAAAEBiFHoDAAAAAAAAAAAAACRGoTcAAAAAAAAAAAAAQGIUegMAAAAAAAAAAAAAJEahNwAAAAAAAAAAAABAYhR6AwAAAAAAAAAAAAAkRqE3AAAAAAAAAAAAAEBiFHoDAAAAAAAAAAAAACRGoTcAAAAAAAAAAAAAQGIUegMAAAAAAAAAAAAAJEahNwAAAAAAAAAAAABAYhR6AwAAAAAAAAAAAAAkRqE3AAAAAAAAAAAAAEBiFHoDAAAAAAAAAAAAACRGoTcAAAAAAAAAAAAAQGIUegMAAAAAAAAAAAAAJEahNwAAAAAAAAAAAABAYhR6AwAAAAAAAAAAAAAkRqE3AAAAAAAAAAAAAEBiFHoDAAAAAAAAAAAAACRGoTcAAAAAAAAAAAAAQGIUegMAAAAAAAAAAAAAJEahNwAAAAAAAAAAAABAYhR6AwAAAAAAAAAAAAAkRqE3AAAAAAAAAAAAAEBiFHoDAAAAAAAAAAAAACRGoTcAAAAAAAAAAAAAQGIUegMAAAAAAAAAAAAAJEahNwAAAAAAAAAAAABAYhR6AwAAAAAAAAAAAAAkRqE3AAAAAAAAAAAAAEBiFHoDAAAAAAAAAAAAACRGoTcAAAAAAAAAAAAAQGIUegMAAAAAAAAAAAAAJEahNwAAAAAAAAAAAABAYhR6AwAAAAAAAAAAAAAkRqE3AAAAAAAAAAAAAEBiFHoDAAAAAAAAAAAAACRGoTcAAAAAAAAAAAAAQGIUegMAAAAAAAAAAAAAJEahNwAAAAAAAAAAAABAYhR6AwAAAAAAAAAAAAAkRqE3AAAAAAAAAAAAAEBiFHoDAAAAAAAAAAAAACRGoTcAAAAAAAAAAAAAQGIUegMAAAAAAAAAAAAAJEahNwAAAAAAAAAAAABAYhR6AwAAAAAAAAAAAAAkRqE3AAAAAAAAAAAAAEBiFHoDAAAAAAAAAAAAACRGoTcAAAAAAAAAAAAAQGIUegMAAAAAAAAAAAAAJEahNwAAAAAAAAAAAABAYhR6AwAAAAAAAAAAAAAkRqE3AAAAAAAAAAAAAEBiFHoDAAAAAAAAAAAAACRGoTcAAAAAAAAAAAAAQGIUegMAAAAAAAAAAAAAJEahNwAAAAAAAAAAAABAYhR6AwAAAAAAAAAAAAAkRqE3AAAAAAAAAAAAAEBiFHoDAAAAAAAAAAAAACTmXN4NAABgeHb32rG6uR237+3EpfPjMTM1EWPVSt7NAgAoFJkKACB7MhYAQD7kMABIm0JvAIARsbLejMXljWi2du7fVq+Nx8JcI2an6zm2DACgOGQqAIDsyVgAAPmQwwAgfdW8GwAAwOCtrDdjfmnt0CRNRMRWayfml9ZiZb2ZU8sAAIpDpgIAyJ6MBQCQDzkMAIpBoTcAQMnt7rVjcXkj2sfcd3Db4vJG7O4dtwUAABEyFQDAIMhYAAD5kMMAoDgUegMAlNzq5vaRb+I/rB0RzdZOrG5uD69RAAAFI1MBAGRPxgIAyIccBgDFodAbAKDkbt/rPEnTz3YAAKNIpgIAyJ6MBQCQDzkMAIpDoTcAQMldOj+e6XYAAKNIpgIAyJ6MBQCQDzkMAIpDoTcAQMnNTE1EvTYelQ73VyKiXhuPmamJYTYLAKBQZCoAgOzJWAAA+ZDDAKA4FHoDAJTcWLUSC3ONiIgjkzUHfy/MNWKs2mkqBwAAmQoAIHsyFgBAPuQwACgOhd4AACNgdroeN65ficna4eXVJmvjceP6lZidrufUMgCA4pCpAACyJ2MBAORDDgOAYjiXdwMAABiO2el6XGtMxurmdty+txOXzu8vt+ab+AAA3ZOpAACyJ2MBAORDDgOA9Cn0BgAYIWPVSly9fDHvZgAAFJpMBQCQPRkLACAfchgApK2adwMAAAAAAAAAAAAAADhMoTcAAAAAAAAAAAAAQGIUegMAAAAAAAAAAAAAJEahNwAAAAAAAAAAAABAYhR6AwAAAAAAAAAAAAAkRqE3AAAAAAAAAAAAAEBiFHoDAAAAAAAAAAAAACTmXN4NAADgbHb32rG6uR237+3EpfPjMTM1EWPVSt7NAgAYGfIYAEB35CYAgHTIZgBQDAq9AQAKbGW9GYvLG9Fs7dy/rV4bj4W5RsxO13NsGQDAaJDHAAC6IzcBAKRDNgOA4qjm3QAAAPqzst6M+aW1QxMwERFbrZ2YX1qLlfVmTi0DABgN8hgAQHfkJgCAdMhmAFAsCr0BAApod68di8sb0T7mvoPbFpc3YnfvuC0AADgreQwAoDtyEwBAOmQzACgehd4AAAW0url95Fv2D2tHRLO1E6ub28NrFADACJHHAAC6IzcBAKRDNgOA4lHoDQBQQLfvdZ6A6Wc7AAB6I48BAHRHbgIASIdsBgDFo9AbAKCALp0fz3Q7AAB6I48BAHRHbgIASIdsBgDFcy7vBgAA0LuZqYmo18Zjq7UT7WPur0TEZG08ZqYmht00AEbQ7l47Vje34/a9nbh0fn/8GatW8m4WDJQ8BkBeZC+KRm4CoKjkLspINgNgWGSp7Cj0BgAooLFqJRbmGjG/tBaViEMTMQexeGGuISQDMHAr681YXN6IZuvBUp712ngszDVidrqeY8tgsOQxAPIge1FEchMARSR3UVayGQDDIEtlq5p3AwAA6M/sdD1uXL8Sk7XDS6dN1sbjxvUrwjEAA7ey3oz5pbVDkzQREVutnZhfWouV9WZOLYPhkMcAGCbZiyKTmwAoErmLspPNABgkWSp7ftEbAKDAZqfrca0xabkbAIZud68di8sbxy7v2Y79X39ZXN6Ia41J4xKlJo8BMAyyF2UgNwFQBHIXo0I2A2AQZKnBUOgNAFBwY9VKXL18Me9mADBiVje3j3wT/2HtiGi2dmJ1c9s4RenJYwAMmuxFWchNAKRO7mKUyGYAZE2WGoxq3g0AAAAAiuf2vc6TNP1sBwBAZ7IXAMBwyF0AAP2TpQZDoTcAAADQs0vnxzPdDgCAzmQvAIDhkLsAAPonSw2GQm8AAACgZzNTE1GvjUelw/2ViKjXxmNmamKYzQIAKCXZCwBgOOQuAID+yVKDodAbAAAA6NlYtRILc42IiCOTNQd/L8w1YqzaaSoHAIBuyV4AAMMhdwEA9E+WGgyF3gAAAEBfZqfrceP6lZisHV5ebbI2HjeuX4nZ6XpOLQMAKB/ZCwBgOOQuAID+yVLZO5d3AwAAAIDimp2ux7XGZKxubsfteztx6fz+cmu+iQ8AkD3ZCwBgOOQuAID+yVLZUugNAAAAnMlYtRJXL1/MuxkAACNB9gIAGA65CwCgf7JUdhR6AwAAQA5299q+xQ4A8AgZCQDgbOQpAADOSqZMi0JvAAAAGLKV9WYsLm9Es7Vz/7Z6bTwW5hoxO13PsWUAAPmRkQAAzkaeAgDgrGTK9FTzbgAAAACMkpX1ZswvrR2aHImI2GrtxPzSWqysN3NqGQBAfmQkAICzkacAADgrmTJNCr0BAAAond29dty8dSeefeGzcfPWndjda+fdpIjYb9fi8kYc15qD2xaXN5JpLwDAMAw7I6WaFQEA+pVVnpKTAIBBkDGKweeY6TqXdwMAAAAgSykvJ7a6uX3kG/APa0dEs7UTq5vbcfXyxeE1DAAgR8PMSClnRQCAfmWRp+QkAGAQZIzi8DlmuvyiNwAAAKWR+nJit+91nhzpZzsAgDIYVkZKPSsCAPTrrHlKTgIABkHGKBafY6ZLoTcAAAClUITlxC6dH890OwCAMhhGRipCVgQA6NdZ8pScBAAMgoxRPD7HTJdCbwAAAEqhl+XE8jIzNRH12nhUOtxfif3l6mamJobZLACAXA0jIxUhKwIA9OsseUpOAgAGQcYoHp9jpkuhNwAAAKVQhOXExqqVWJhrREQcmSQ5+HthrhFj1U5TKAAA5TOMjFSErAgA0K+z5Ck5CQAYBBmjeHyOmS6F3gAAAJRCUZYTm52ux43rV2Kydrgdk7XxuHH9SsxO13NqGQBAfgadkYqSFQEA+tVvnpKTAIBBkDGKyeeYaTqXdwMAAAAgCwfLiW21dqJ9zP2V2J+ESGE5sdnpelxrTMbq5nbcvrcTl87vt8s34AGAUTbIjFSkrAgA0K9+8pScBAAMgoxRXD7HTI9CbwAAAErhYDmx+aW1qEQcmjRKcTmxsWolrl6+mHczAACSMqiMVLSsCADQr17zlJwEAAyCjFFsPsdMSzXvBgAAAEBWLCcGAEAnsiIAwPHkJABgEGQMyIZf9AYAAKBULCcGAEAnsiIAwPHkJABgEGQMODuF3gAAAJSO5cQAAOhEVgQAOJ6cBAAMgowBZ1PNuwEAAAAAAAAAAAAAABym0BsAAAAAAAAAAAAAIDEKvQEAAAAAAAAAAAAAEqPQGwAAAAAAAAAAAAAgMQq9AQAAAAAAAAAAAAASo9AbAAAAAAAAAAAAACAxCr0BAAAAAAAAAAAAABKj0BsAAAAAAAAAAAAAIDEKvQEAAAAAAAAAAAAAEqPQGwAAAAAAAAAAAAAgMQq9AQAAAAAAAAAAAAASo9AbAAAAAAAAAAAAACAxCr0BgIH72Z/92ahUKof+e8Mb3nD//p2dnfjhH/7huHjxYnz1V391vO1tb4vPfe5zObYYAKC4ZC8AgOGRvQAAhkPuAgBGlUJvAGAo/vSf/tPRbDbv//c7v/M79+/7sR/7sVheXo5/+S//Zfz2b/92/NEf/VH85b/8l3NsLQBAscleAADDI3sBAAyH3AUAjKJzeTcAABgN586di8nJySO3t1qteN/73he/8iu/Et/93d8dERG//Mu/HN/yLd8Szz//fLzpTW8adlMBAApP9gIAGB7ZCwBgOOQuAGAU+UVvAGAoPvGJT8QTTzwR3/iN3xhvf/vb4zOf+UxERHzsYx+Ll19+Od7ylrfc3/YNb3hDvO51r4ubN2+e+JgvvfRS3L1799B/AKNkd68dN2/diWdf+GzcvHUndvfaeTcJSETW2UvuAopCPgLyIHsBZSZfASmRuwDyJx/C8PlFbwBg4N74xjfG+9///vhTf+pPRbPZjMXFxXjzm98c6+vrsbW1FY899lg8/vjjh/7Na17zmtja2jrxcZ9++ulYXFwcYMsB0rWy3ozF5Y1otnbu31avjcfCXCNmp+s5tgzI2yCyl9wFFIF8BORB9gLKTL4CUiJ3AeRPPoR8VNrttq9UAABD9eKLL8brX//6+Ef/6B/Fq171qvirf/WvxksvvXRom5mZmfiu7/quePe7393xcV566aVD/+7u3bvx2te+NlqtVly4cGFg7QfI28p6M+aX1uLRN3OVP/nfG9evmEyhVO7evRu1Ws0Y36csspfcBaROPoLsyF5nI3sBZSFfweDJXWcjdwEMl3xI0RU5e1XzbgAAMHoef/zx+OZv/ub45Cc/GZOTk/HlL385XnzxxUPbfO5zn4vJyckTH+eVr3xlXLhw4dB/AGW3u9eOxeWNI5MoEXH/tsXlDcukAfdlkb3kLiBl8hGQEtkLKAP5CigCuQtgeORDyJdCbwBg6L7whS/ErVu3ol6vx7d/+7fHK17xivit3/qt+/f//u//fnzmM5+Jq1ev5thKgDStbm4fWg7tUe2IaLZ2YnVze3iNApImewFlJx8BKZG9gDKQr4AikLsAhkc+hHydy7sBAED5/eRP/mTMzc3F61//+vijP/qjWFhYiLGxsXjqqaeiVqvFO97xjvjxH//xmJiYiAsXLsRf/+t/Pa5evRpvetOb8m46QHJu3+s8idLPdkD5yF7AqJGPgDzJXkAZyVdAiuQugPzIh5Avhd4AwMD94R/+YTz11FNx586d+Lqv+7p48skn4/nnn4+v+7qvi4iI97znPVGtVuNtb3tbvPTSS/G93/u98Y//8T/OudUAabp0fjzT7YDykb2AUSMfAXmSvYAykq+AFMldAPmRDyFflXa73c67EQAAWbh7927UarVotVpx4cKFvJsDMBC7e+148t3PxVZrJ457M1eJiMnaePzO3/7uGKtWht08GAhjfHqcEyAl8hFkyzifHucEGDb5CobDGJ8e5wTgePIhZVDkcb6adwMAAADo3li1EgtzjYjYnzR52MHfC3MNkygAwMiQjwAAsiVfAQDwMPkQ8qXQGwAAoGBmp+tx4/qVmKwdXv5ssjYeN65fidnpek4tAwDIh3wEAJAt+QoAgIfJh5Cfc3k3AAAAgN7NTtfjWmMyVje34/a9nbh0fjxmpiZ8Ux4AGFnyEQBAtuQrAAAeJh9CPhR6AwAAFNRYtRJXL1/MuxkAAMmQjwAAsiVfAQDwMPkQhq+adwMAAAAAAAAAAAAAADhMoTcAAAAAAAAAAAAAQGIUegMAAAAAAAAAAAAAJOZc3g0AAACAbu3utWN1cztu39uJS+fHY2ZqIsaqlbybBQBQCrIWAEC25CsAAJkIzkqhNwAAAIWwst6MxeWNaLZ27t9Wr43HwlwjZqfrObYMAKD4ZC0AgGzJVwAAMhFkoZp3AwAAAOA0K+vNmF9aOzQJFBGx1dqJ+aW1WFlv5tQyAIDik7UAALIlXwEAyESQFYXeAAAAJG13rx2LyxvRPua+g9sWlzdid++4LQAAOImsBQCQLfkKAEAmgiwp9AYAKLjdvXbcvHUnnn3hs3Hz1h1vhIDSWd3cPvJN/4e1I6LZ2onVze3hNQooHZkKGFWyFpAH2QsoM/kKKBrZDBgEmQiycy7vBgAA0L+V9WYsLm8ceoNUr43HwlwjZqfrObYMIDu373WeBOpnO4BHyVTAKJO1gGGTvYCyk6+AIpHNgEGRiSA7ftEbAKCgVtabMb+0duRbsFutnZhfWouV9WZOLQPI1qXz45luB/AwmQoYdbIWMEyyFzAK5CugKGQzYJBkIsiOQm8AgALa3WvH4vJGHLdw2sFti8sbllYDSmFmaiLqtfGodLi/Evu/MDIzNTHMZgElIFMByFrA8MhewKiQr4AikM2AQZOJIDsKvQEACmh1c/vIt+sf1o6IZmsnVje3h9co+ra7146bt+7Esy98Nm7eumPSDB4xVq3EwlwjIuLIZNDB3wtzjRirdpoqAjieTFV+chacTtYChkX2Kj/ZC/bJV0ARyGajSV5jmGQiyM65vBsAAEDvbt/rPPHSz3bkZ2W9GYvLG4cm0+q18ViYa8TsdD3HlkFaZqfrceP6lSOvl0mvF+AMZKpyk7Oge7IWMAyyV7nJXnCYfAWkTjYbPfIaeZCJIBsKvQEACujS+fFMtyMfK+vNmF9aO7Is3lZrJ+aX1uLG9Sve3MJDZqfrca0xGaub23H73k5cOr+/nJtv+gP9kqnKS86C3slawKDJXuUle8Hx5CsgZbLZaJHXyJNMBGen0BsAoIBmpiaiXhuPrdbOkTfkEftLHU3W9t8gkabdvXYsLm8ce/7asX8OF5c34lpj0ptceMhYtRJXL1/MuxlASchU5SRnQf9kLWCQZK9ykr3gZPIVkCrZbHTIa6RAJoKzqebdAAAAejdWrcTCXCMi9t98P+zg74W5hjfjCVvd3D60PNWj2hHRbO3E6ub28BoFACNGpionOQsA0iR7lZPsBQDFJJuNDnkNoPgUegMAFNTsdD1uXL8Sk7XDS6ZN1sYtr1UAt+91nlDpZzsAoD8yVfnIWQCQLtmrfGQvACgu2Ww0yGsAxXcu7wYAANC/2el6XGtMxurmdty+txOXzu8voebb9em7dH789I162A4A6J9MVS5yFgCkTfYqF9kLAIpNNis/eQ2g+BR6AwAU3Fi1ElcvX8y7GfRoZmoi6rXx2GrtRPuY+yux/4sJM1MTw24aAIwkmao85CwASJ/sVR6yFwAUn2xWbvIaQPFV824AAACMorFqJRbmGhGxP4HysIO/F+YafjEBAKBHchYAwPDIXgAAaZPXAIpPoTcAAORkdroeN65ficna4aXQJmvjceP6lZidrufUMgCAYpOzAACGR/YCAEibvAZQbOfybgAAAIyy2el6XGtMxurmdty+txOXzu8vjeZb8wAAZyNnAQAMj+wFAJA2eQ2guBR6AwBAzsaqlbh6+WLezQAAKB05CwBgeGQvAIC0yWsAxVTNuwEAAAAAAAAAAAAAABym0BsAAAAAAAAAAAAAIDEKvQEAAAAAAAAAAAAAEnMu7wYAAEAKdvfasbq5Hbfv7cSl8+MxMzURY9VK3s0CAKDg5EwAoOzkHQCAfXIRAIOg0BsAgJG3st6MxeWNaLZ27t9Wr43HwlwjZqfrObYMAIAikzMBgLKTdwAA9slFAAxKNe8GAABAnlbWmzG/tHZo0iUiYqu1E/NLa7Gy3sypZQAAFJmcCQCUnbwDALBPLgJgkBR6AwCMkN29dty8dSeefeGzcfPWndjda+fdpFzt7rVjcXkjjjsKB7ctLm+M/HECALInl5WbnAkA6ZC7BkPeAYDRI1cdTy4CYNDO5d0AAACGw3JhR61ubh/5Zv3D2hHRbO3E6uZ2XL18cXgNAwBKTS4rPzkTANIgdw2OvAMAo0Wu6kwuAmDQ/KI3AMAIsFzY8W7f6zzp0s92AACnkctGg5wJAPmTuwZL3gGA0SFXnUwuAmDQFHoDAJSc5cI6u3R+PNPtAABOIpeNDjkTAPIldw2evAMAo0GuOp1cBMCgKfQGACi5XpYLGzUzUxNRr41HpcP9ldhfdm5mamKYzQIASkouGx1yJgDkS+4aPHkHAEaDXHU6uQiAQVPoDQBQcpYL62ysWomFuUZExJHJl4O/F+YaMVbtNDUDANA9uWx0yJkAkC+5a/DkHQAYDXLV6eQiAAZNoTcAQMlZLuxks9P1uHH9SkzWDu//ZG08bly/ErPT9ZxaBgCUjVw2WuRMAMiP3DUc8g4AlJ9c1R25CIBBOpd3AwAAGKyD5cK2WjvRPub+SuxPMozycmGz0/W41piM1c3tuH1vJy6d3z8evlkPAGRJLhs9ciYA5EPuGh55BwDKTa7qnlwEwKAo9AYAKLmD5cLml9aiEnFoEsZyYQ+MVStx9fLFvJsBAJSYXDaa5EwAGD65a7jkHQAoL7mqN3IRAINQzbsBAAAMnuXCAADSIJcBAAyH3AUAkA25CgDy5Re9AQBGhOXCAADSIJcBAAyH3AUAkA25CgDyo9AbAGCEWC4MACANchkAwHDIXQAA2ZCrACAfCr0BAABKbnev7Vc2AIBMyBUAAIMncwEAkBXZEopPoTcAAECJraw3Y3F5I5qtnfu31WvjsTDXiNnpeo4tAwCKRq4AABg8mQsAgKzIllAO1bwbAAAAwGCsrDdjfmnt0ORNRMRWayfml9ZiZb2ZU8sAgKKRKwAABk/mAgAgK7IllIdCbwAAgBLa3WvH4vJGtI+57+C2xeWN2N07bgsAgAfkCgCAwZO5AADIimwJ5aLQGwAAoIRWN7ePfEP/Ye2IaLZ2YnVze3iNAgAKSa4AABg8mQsAgKzIllAuCr0BAABK6Pa9zpM3/WwHAIwuuQIAYPBkLgAAsiJbQrko9AYAACihS+fHM90OABhdcgUAwODJXAAAZEW2hHJR6A0AAFBCM1MTUa+NR6XD/ZWIqNfGY2ZqYpjNAgAKSK4AABg8mQsAgKzIllAuCr0BAABKaKxaiYW5RkTEkUmcg78X5hoxVu00xQMAsE+uAAAYPJkLAICsyJZQLgq9AQAASmp2uh43rl+JydrhZdcma+Nx4/qVmJ2u59QyAKBo5AoAgMGTuQAAyIpsCeVxLu8GAAAAMDiz0/W41piM1c3tuH1vJy6d31+GzTf0AYBeyRUAAIMncwEAkBXZEspBoTcAwJDt7rW9kQKGaqxaiauXL+bdDICkyWjQHbkCgLOQuaA7MhcAp5GrgG7JllB8Cr0BAIZoZb0Zi8sb0Wzt3L+tXhuPhbmGpZEAAHIiowEADJ7MBQCQDbkKAEZLNe8GAACMipX1ZswvrR2adImI2GrtxPzSWqysN3NqGQDA6JLRAAAGT+YCAMiGXAUAo0ehNwDAEOzutWNxeSPax9x3cNvi8kbs7h23BQAAgyCjAQAMnswFAJANuQoARpNCbwCAIVjd3D7yzfqHtSOi2dqJ1c3t4TUKAGDEyWgAAIMncwEAZEOuAoDRpNAbAGAIbt/rPOnSz3YAAJydjAYAMHgyFwBANuQqABhNCr0BAIbg0vnxTLcDAODsZDQAgMGTuQAAsiFXAcBoUugNADAEM1MTUa+NR6XD/ZWIqNfGY2ZqYpjNAgAYaTIaAMDgyVwAANmQqwBgNCn0BgAYgrFqJRbmGhERRyZfDv5emGvEWLXT1AwAAFmT0QAABk/mAgDIhlwFAKNJoTcAwJDMTtfjxvUrMVk7vFzaZG08bly/ErPT9ZxaBgAwumQ0AIDBk7kAALIhVwHA6DmXdwMAAEbJ7HQ9rjUmY3VzO27f24lL5/eXT/PNegCA/MhoAACDJ3MBAGRDrgKA0aLQGwBgyMaqlbh6+WLezRiq3b22ySYAIGlFzWhyFgBQJKlmLpkKACiaVHNVhGwFAFlT6A0AwECtrDdjcXkjmq2d+7fVa+OxMNewfBwAwBnIWQAAZydTAQBkR7YCgOxV824AAADltbLejPmltUOTORERW62dmF9ai5X1Zk4tAwAoNjkLAODsZCoAgOzIVgAwGAq9AQAYiN29diwub0T7mPsObltc3ojdveO2AACgEzkLAODsZCoAgOzIVgAwOAq9AQAYiNXN7SPf2H9YOyKarZ1Y3dweXqMAHrG7146bt+7Esy98Nm7eumOSGSgEOQvImwwFlIFMBfRDDgI4nmwFjBq5kGE6l3cDAAAop9v3Ok/m9LMdQNZW1puxuLxxaPK5XhuPhblGzE7Xc2wZwMnkLCBPMhRQFjIV0Cs5CKAz2QoYJXIhw+YXvQEAGIhL58cz3Q4gSyvrzZhfWjvyCyNbrZ2YX1qLlfVmTi0DOJ2cBeRFhgLKRKYCeiEHAZxMtgJGhVxIHhR6AwAwEDNTE1GvjUelw/2V2P9W68zUxDCbBRC7e+1YXN6I4xZQO7htcXnDEmtAsuQsIA8yFFA2MhXQLTkI4HSyFTAK5ELyotAbAICBGKtWYmGuERFxZFLn4O+FuUaMVR/cu7vXjpu37sSzL3w2bt664w0QMBCrm9tHvmX/sHZENFs7sbq5PbxGAfSgn5yVFXkNRpcMBZSNTAV0Sw4COF2e2aob8heQBbmQvJzLuwEAAJTX7HQ9bly/EovLG4fe8EzWxmNhrhGz0/X7t62sN49sVz9mO4Czun2v8wRMP9sB5KGXnJUVeQ1GmwwFlJFMBXRDDgLoTh7ZqhvyF5AVuZC8KPQGAGCgZqfrca0xGaub23H73k5cOr+/LNvD39hfWW/G/NLakSWOtlo7Mb+0FjeuXzHRAmTm0vnxTLcDyEs3OSsr8hogQwFlJVMBp5GDALo3zGzVDfkLyJJcSF4UegMAMHBj1UpcvXzx2Pt299qxuLxxZIIlYn9po0pELC5vxLXGZG6TQEC5zExNRL02HlutnWP7nkrs/8LIzNTEsJsG0LOTclZW5DUgQoYCyk2mAk4iBwH0ZhjZqhvyF5A1uZC8VPNuAAAAo211c/vQUmmPakdEs7UTq5vbw2sUUGpj1UoszDUiYn/C5WEHfy/MNUzsAvwJeQ2IkKEAzkqmguKSgwCKSf4CsiYXkheF3gAA5Or2vc4TLP1sB9CN2el63Lh+JSZrh5dOm6yNW6oR4BHyGnBAhgLon0wFxSYHARSP/AUMglxIHs7l3QAAAEbbpfPjp2/Uw3YA3Zqdrse1xmSsbm7H7Xs7cen8/lJqvmUPcJi8BjxMhgLoj0wFxScHARSL/AUMilzIsCn0BgAgVzNTE1GvjcdWayfax9xfif1vv85MTQy7acAIGKtW4urli3k3AyBp8hrwKBkKoHcyFZSDHARQHPIXMEhyIcOk0BsAoOB299qZf1N0EI/ZyVi1EgtzjZhfWotKxKGJloNnXJhrlPrbr8M83gC90D9RBkW7jlNsb9HyWorHEBhd+iTKrgjXeCptLFqmOk4qxxLIntc3FE+ZX7dZ7VsZ8ldWyny9MHpcz4wihd4AAAW2st6MxeWNaLZ27t9Wr43HwlwjZqfryTzmaWan63Hj+pUjzzs54OdNQR7HG6Ab+ifKoGjXccrtLUpeS/kYAqNHn0TZFeEaT62NRclUx0ntWALZ8fqG4inz6zbrfSty/spKma8XRo/rmVFVabfbx61OAQBQOHfv3o1arRatVisuXLiQd3MGbmW9GfNLa0eWGjv4ruqN61d6fjMziMfsxah9+zbv4w3QSWr906iN8UVQhHOS2nV8mqK0N+W8VpRjCIyGIvdJRRjnR02K56QI13jKbUw5Ux0n5WMJnI3Xd75SHONHXRHOSZlft4Pct6Llr6yU+Xph9LieOasijPOdVPNuAAAAvdvda8fi8saRNzERD5YdW1zeiN297r/TN4jH7NVYtRJXL1+M7/u2r4+rly+WeoIlheMNcBz9E2VQtOu4SO1NNa8V6RgC5adPouyKcI2n3sZUM9VxUj+WQP+8vqF4yvy6HfS+FSl/ZaXM1wujx/XMqFPoDQBQQKub24eWI3pUOyKarZ1Y3dzO9THpzPEGUqV/ogyKdh0Xrb0pcgyBlOiTKLsiXONFaGNROJZQXl7fUDxlft2Wed/y4phSJq5nRp1CbwCAArp9r/ObmH62G9Rj0pnjDaRK/0QZFO06Llp7U+QYAinRJ1F2RbjGi9DGonAsoby8vqF4yvy6LfO+5cUxpUxcz4w6hd4AAAV06fx4ptsN6jHpzPEGUqV/ogyKdh0Xrb0pcgyBlOiTKLsiXONFaGNROJZQXl7fUDxlft2Wed/y4phSJq5nRp1CbwCAIdvda8fNW3fi2Rc+Gzdv3YndvXbPjzEzNRH12nhUOtxfiYh6bTxmpiZyfUw6c7yBVOmfKIOiXceDam8WubMoinbOgXLTJ1F2RbjGi9DGonAsoby8vqF4ZqYmYvJC5yLGIr9u9UnZc0wpE9czo06hNwDAEK2sN+PJdz8XTz3zfPzor70QTz3zfDz57udiZb3Z0+OMVSuxMNeIiDjyZubg74W5RoxVO73VGc5j0pnjDaRK/0QZFO06HkR7s8qdRVG0cw6Umz6Jsju4xjt9hawd+V/jXofZcSyhvLy+oXh+c2Mrdr6ye+x9RX/d6pOy55hSJq5nRp1CbwCAIVlZb8b80lo0WzuHbt9q7cT80lrPRTez0/W4cf1KTNYOf3N/sjYeN65fidnpes9tHMRj0pnjDaRK/0QZFO06zrK9WefOoijaOQfKTZ8E+fM6zI5jCeXl9Q3FcTDf8+KXXj72/sdf/YrCv271SdlzTCkT1zOjrNJut8u7ZisAMFLu3r0btVotWq1WXLhwIe/mHLK7144n3/3ckWKbA5XYfwPyO3/7u3v+lunuXjtWN7fj9r2duHR+fzmis35TdRCPSWeON5CqVPqnlMf4UVWkc5LKddyts7Z3kLmzKIp2zoFyK2KfVKRxflSkdk6KljeK+DpMlWMJ5eX1nY/UxnjSPSen5a+IiMkLr4yP/J3vKcVrV5+UPceUMnE9069Ux/lunMu7AQAAo2B1c/vEyZd2RDRbO7G6uR1XL1/s6bHHqpWe/00ej0lnjjeQhUFMbOmfKIOiXcdnbe8gc2dRFO2cA+XWTZ/kA0qKpmh5QzbIjmMJ5TWqr285jKI4LX9FRGzdfSmZ/HVWo9onDZJjSpkM43qWEUiNQm8AgCG4fe/kyZdetwOAh62sN2NxeePQZH+9Nh4Lcw1L1cGIkTsBikWOo4jkDQDKQA6jSOQvgOGREUhRNe8GAACMgkvnxzPdDgAOrKw3Y35p7cgvumy1dmJ+aS1W1ps5tQzIg9wJUBxyHEUlbwBQdHIYRSN/AQyHjECqFHoDAAzBzNRE1Gvj0Wkxn0rsfwt0ZmpimM0CoOB299qxuLwR7WPuO7htcXkjdveO2wIoI7kToBjkOIpM3gCgyOQwikj+Ahg8GYGUKfQGABiCsWolFuYaJ26zMNeIseqDKZrdvXbcvHUnnn3hs3Hz1h1vGIAjitBPFKGNRba6uX3kVwUe1o6IZmsnVje3h9coKLhu+q2U+7aHc+ejH/4d/P1o7oRRksXrN+U+gOKQ4yiyLPPGSX2q/hayV5bXVVn2g3zIYRTRIOd7dvfa8ZFPfD7+l3/3n+N/+Xe/Hx/55Of1q0Bfip7RZARSdi7vBgAAjIrZ6Xq86zun4pkPb8bD72mqlYh3vnkqZqfr929bWW/G4vLGoTcS9dp4LMw1Dm0HjK4i9BNFaGPR3b7XecKpn+1g1HXTbxWhb5udrseN61eOtHMysXbCsGXx+i1CH0AxyHEUXRZ546Q+NSL0t5CxsuSYsuwH+ZHDKKpBzPesrDfj7/xf/yle/NLL92/7hX//yXj81a+If/CX/4x+FehaGTKajEDKKu12u1hfnQAA6ODu3btRq9Wi1WrFhQsX8m7OESvrzZhfWjuy1M/Bd+tvXL8Ss9P1rrcDRlcR+okitLEMbt66E0898/yp2/3qO98UVy9fHEKLBiP1MX4UlfGcdNNvRUSh+rbdvXasbm7H7Xs7cen8/vK9fsmbUZVFNpFvyFLKOa6M43zRpXxO+s0bJ/WpnT641N9C/8qSY8qyH+QrpRyW8hg/qopwTrKa71lZb8YPLa2duM179atAF8qS0f63D34i3vPB/3LqdkX/zG2UFWGc76SadwMAAEbB7l47Fpc3jv2g6uC2xeWN+PJX9rrarmjLHAHZ6bY/ybOfKEIby2JmaiLqtfEjy3UeqMT+LybMTE0Ms1lQOKf1W+3Y77d+9jd+r1B921i1ElcvX4zv+7avj6uXLyryZmRlkU3kG7Imx1EWp+WN45bu7qZPPY7+FvpTlhxTlv0gf3IYRXdc/jouc51kd68dP/sbv3fqc+lXgdOUJaPt7rXjV1c/c+p2kxdeKSOQC4XeAABDsLq5fWiZoke1I6LZ2ol/fvNTXW23urmdfSOBQui2P8mznyhCG8tirFq5v6z5ox9OHfy9MNdQ3AmnOK3fitjvt7buvtTxfn0bpCuLbCLfkDU5jlGwst6MJ9/9XDz1zPPxo7/2Qjz1zPPx5Lufi1947hOnZq9O9LfQu7LkmLLsB/mTwyibTplrZb3Z8d+sbm6fOM91QL8KnKYsGW2/Xzz9fepTM6+TEciFQm8AgCG4fa+7D68+vf2lTB8PKJ9uX/959hNFaGOZzE7X48b1KzFZGz90+2RtvDDL4UHesuyP9G2QniyyiXzDIMhxlNnB0t2PfuC/1dqJ93zwE2d+fP0tdK8sOaYs+0Ea5DDK4qTMNb+01rHYu5e+Ur8KnKQsGa3b9n3D137VgFsCxzuXdwMAAEbB1371K7va7rVf8+qutrt0fvz0jYBS6vb1n2c/UYQ2ls3sdD2uNSZjdXM7bt/biUvn95eX9asC0J0s+yN9G6Qni2wi3zAochxl1M3S3Welv4XulSXHlGU/SIccRtGdlrkqEbG4vBHXGpNHrute+kr9KnCSsmS0suwH5aXQGwBgGLr8FOsNrzkf9dp4bLV2jv0nldj/RYmZqYksW1dqu3ttE7WUyszURPL9RBHaWEZj1UpcvXwx72ZAIR30WyctMXmaUenbZCuKKItsIt8wSHIcZXPa0t1nUeb+Vs5iUMqSY8qyH6RFDqPITstc7YhotnZidXP7yHU+MzURkxdeGVt3XzrxOeol7VflLshOWTJaWfaD8qrm3QAAgFHw+S+ePFFyYPuPvxwLc42I2H+z8LCDvxfmGiYburSy3own3/1cPPXM8/Gjv/ZCPPXM8/Hku5/ruFQdFMFYtZJ8P1GENgI87OF+qx+j0rfJVhRVFtlEvgHoXi9LcnfqU0+6r4z9rZzFIJUlx5RlPwCy0m3mOm67sWolfvYv/elT/20Z+1W5C7JVloxWlv2gvBR6AwAMQS9L/cxO1+PG9SsxWTv8byZr43Hj+pWYna4Poomls7LejPmltSO/ZrDV2on5pTUTNhRaEfqJIrQR4GGz0/X4sbd8c1fbTnzVY4f+HoW+Tbai6LLIJvINQHe6nQf7sbd887F96nuvX4n3jlB/K2cxDGXJMWXZD4As9PLZ43Fmp+vx3utX4vFXv+LIfV/z6lfEe0vYr8pdMBhlyWhl2Q/KqdJut4/7tXkAgMK5e/du1Gq1aLVaceHChbybc8juXjuefPdzpy718zt/+7vvfwvUsmH9OzjenZasO+54QxEVoZ8oQhtJX8pj/Kgq6znZ3WvHd/yD3+q4bO1Bhvjtv/ld8bFP/7eR6dtkK8oki2wi31B2ZR3ni6xo56SXebCI6NinjkJ/K2cxbGV5XZVlP6BoY/woKNI56eezx06P8/ytO3HzDz4fEZW4evlivOkbL5auX5W7YPDKktHKsh8cVaRx/lHn8m4AAMAoOFjqZ35pLSoRhyZcOi31M1bdn0wpg2G/GVrd3O44UROxf/ybrZ1Y3dwuzTFmNBWhnyhCGwEOHCxbO7+0FhGdM9tj56qF6NuyymCyFWWSRTaRbwBO1us8WKc+NcX+Nus5LjmLYUvxddWPsuwHwFn089ljp8f5jm/62viOb/raQTV1qDrlNbkLBq8sGa0s+0G5KPQGABiSg6V+Fpc3Dk0kTNbGY2GuUdqlflbWm0f2uT7gfb59r/NETT/bAQCjoyyZLcsMJlsBAL0qS6Z62CDmuOQsAOAsypi5zuKkvPbSV/a6egy5C4AUKfQGABii2el6XGtMjsxSPyvrzZhfWjuyZNxWayfml9bixvUrA5lkunR+PNPtAIDRUvTMlnUGk60AgH4UPVM9bFBzXHIWAHBWZcpcZ3FaXvsbb/mmrh5H7gIgRQq9AQCGbFSW+tnda8fi8saRCZWI/eXPKhGxuLwR1xqTmU82zUxNRL02HlutnWOfvxL7v2YwMzWR6fMCAOVR1Mw2iAwmWwEA/SpqpnrYIOe45CwAIAtlyFxn0U1e+9XVz8TkhfH43F25C4DiqebdAAAAyml1c/vQ0miPakdEs7UTq5vbmT/3WLUSC3ONiNifmHnYwd8Lc42R+zUDAKD8BpHBZCsAYJQNco5LzgIAOLtu8trW3ZfiqZnXRYTcBUDxKPQGAGAgbt/rPKHSz3a9mp2ux43rV2KydniJtcnaeN/L6QIApG5QGUy2AgBG1aDnuOQsAICz6TaHfcPXvlruAqCQzuXdAAAAyunS+fHTN+phu37MTtfjWmMyVje34/a9nbh0fn/JNd/GBwDKapAZTLYCAEbRMOa45CwAgP71kteuXr4odwFQOAq9AQAYiJmpiajXxmOrtRPtY+6vxP435GemJgbajrFqJa5evjjQ5wAASMWgM5hsBQCMmmHNcclZAAD96TWvyV0AFE017wYAAFBOY9VKLMw1ImJ/AuVhB38vzDV8Qz4idvfacfPWnXj2hc/GzVt3YnfvuGkogOHTP0HxyGC90c8Bw6TPgWKSr4ZDHwn0Sr8BHJDX8qMvBrKkT+nML3oDADAws9P1uHH9Siwub0SztXP/9snaeCzMNWJ2up5j69Kwst48cnzqjg+QAP0TFJcM1h39HDBM+hwoNvlqsPSRQK/0G8Cj5LXh0xcDWdKnnKzSbreVvQMApXD37t2o1WrRarXiwoULeTeHh+zutWN1cztu39uJS+f3l0bzrfn9NyvzS2tHlpE7ODI3rl/xpgXIRWr9kzE+Pc5JMchgnaXWzwHlVrQ+xzifHuckHfJV9orWRwL5K1O/YYxPj3NSfPLacJSpLwbyN6w+pcjjvF/0BgBg4Maqlbh6+WLezUjK7l47Fpc3jrxZiYhox/6blsXljbjWmBzpCSgTcjB8+icoDxnseKPQz8lQkI5R6HNglMhX2Uqhj5SboFhS6DeAtMlrg3daXxwR8Xd//T/FH7+8F5MX5CvgZPJddxR6AwBADlY3tw8tO/SodkQ0Wzuxurk9shNSlmeCfOifgLIrez8nQ0Fayt7nAJxF3n2k3ATFk3e/AcDpfXFExPYXX44f+z9eiAj5CjiZfNedat4NAACAUXT73skTIL1uVzYHyzM9+qZuq7UT80trsbLezKllUH76J6DsytzPyVCQnjL3OQBnlWcfKTdBMclWAPnrtY+Vr4CTyHfdUegNAAA5uHR+PNPtyqSbJd8Wlzdid++4LYCz0j8BZVfWfk6GgjSVtc8ByEJefaTcBMUlWwHkr9c+Vr4CTiLfdUehNwAA5GBmaiLqtfGodLi/EvtLmc1MTQyzWUnoZXkmIHv6J6DsytrPyVCQprL2OQBZyKuPlJuguGQrgPyd1hcfR74COpHvuqPQGwAAcjBWrcTCXCMi4sibloO/F+YaMVbtZZqkHCzPBPnSPwFlV9Z+ToaCNJW1zwHIQl59pNwExSVbAeTvpL74NPIV8Cj5rjsKvQEAICez0/W4cf1KTNYOLzM0WRuPG9evxOx0PaeW5cvyTJA//RNQdmXs52QoSFcZ+xyArOTRR8pNUGyyFUD+OvXFp5GvgOPId6c7l3cDAABglM1O1+NaYzJWN7fj9r2duHR+f9mhUf5G6sHyTFutnWgfc38l9t/UjfryTDBo+ieg7MrWz8lQkLay9TkAWRp2Hyk3QfHJVgD5e7gv3mr9cfzcv/l4/Lcvflm+Avoi351MoTcAAH3b3WsL2hkYq1bi6uWLeTfjRFmf65Me72B5pvmltahEHJoQsjwTDFcR+iege7LbUXn2c72cj262laEgfbIVpE9eys+g+shO51RuguKTrSBdMlW6sj43D/fFr3psbOj5yrUG5SLfdabQGwCAvqysN2NxeSOarZ37t9Vr47Ew17B0Tslkfa67ebyD5Zke3W7SNQYAfZHd0tLL+ehlWxkKAPonL5XPaef0Xd85Fc98eDPaD1UiVSoR73zzlHMOAH2SqdI16HMz7Hkp1xowSirtdvu4FRMAAArn7t27UavVotVqxYULF/JuTqmtrDdjfmntyNJbB9+PvnH9ijfQJZH1ue718XwTH4gwxqfIOSkW2S0tvZyPfs+dDAWchXE+Pc7J4MlL5XPaOX3Xd07FP/nQ5pH7D7ZxzoFhMManxzk5G5kqXcM8N8OYl3KtAf0o8jhfzbsBAAAUy+5eOxaXN479EOTgtsXljdjd833Cosv6XPfzeAfLM33ft319XL18UYESAPRIdktLL+fjLOdOhgKA7slL5dPNOX3mw8cXeR9wzgGgNzJVuoZ9bgY9L+VaA0bRubwbAABQFll/OznVX+Fb3dw+tATWo9oR0WztxOrmdly9fHF4DSNzWZ9r1w4ARdNrHksxvw1r/E1x31PUy/mIP/n/3WwrOwGQmk7ZII/McNpzmq8on27O6UlrXjvnAJTNw3noa7/6lRHtiM9/8aVM85hMla6ynZuy7Q9ANxR6AwBkYGW9GYvLG4feVNZr47Ew1+hrWaisHy9Lt+91fuPcz3akK+tz7doBoEh6zWOp5rdhjL+p7nuKBnE+ZCcAUtMpG/ylb63Hb/zH5lAzQzc5xXxF+WR1rpxzAMrguDz0sKzy2Ac3trrazvg6fGXLu2XbH4BuVPNuAABA0a2sN2N+ae3IBMlWayfml9ZiZb2Z6+Nl7dL58Uy3I11Zn2vXDgBF0WseSzm/DXr8TXnfU9TL+ZCdACiiTtmg2dqJX/rQ5lAzQ7c5xZhbPlmdK+ccgKLrlIcelkUeW1lvxvs+8qmutjW+Dl/Z8m7Z9gegGwq9AQDOYHevHYvLG3HcSp8Hty0ub8Tu3oMtvvyVvXjfh/8gfubZ9Xjfh/8gvvyVvTM93rB9++u/Jk5bwa1a2d+OYpuZmoh6bTw6ne5K7P/Sw8zURC6PBwDd2N1rx81bd+LZFz4bN2/dOZKjHr3/y1/Z6ymPnZbf2hHxd/7P/xQf+eTnc8lwgxx/i5BdU9PL+ZCdACia3b12/Oxv/N6x2aCTg7yUdWboJacYc8unm3N60vymcw5AUZw07/Xlr+zF3/31/3RqNjvrHM5B7jqN8TU/Zcu7ZdsfgG4o9AYAOIPVze0TvwXfjv1fLFrd3I6IiKc/sBFv+Ol/Gz/3bz4e//vNT8fP/ZuPxxt++t/G0x/Y6Ovx8vCxT/+3OG2eZ6+9vx3FNlatxMJcIyLiyGTJwd8Lc40YO63yf0CPBwCnWVlvxpPvfi6eeub5+NFfeyGeeub5ePLdz93/haLj7n/T0x/sKY+dlt8iIl7845fj7f/0o4eee1gGOf4WIbumppfzITsBUDS/8NwnY+vuS33922ZrJ37huU9k1pZecooxt3y6OafvfPNUVE643zkHIHUnzXutrDfjTU//Vmx/8eWuHussczjdzI0dPIfxNR9ly7tl2x+Abij0BgA4g9v3Tp+4ONju6Q9sxC99aPNIkfReO+KXPrQZT39go6fHy0sR2kh2ZqfrceP6lZisHV7ebLI2HjeuX4nZ6XqujwcAnXRamvZgOdqnP7Bx7P3dfgB2kHV6yTxZLIXbj0GNv3Jhf3o5H7ITAEWxst6M93zwv5zpMd7zwU9klpN6zSnG3PI57Zz+1FsbzjkAhXXSvNcPLa3FDy2txfYXv9zz4/Yzh9Ptv/lr3/ENxtcclS3vlm1/AE5zLu8GAAAU2aXz46dvFBETr3osnvnw5onbPPPhzfjlH/xzXT3e1371K7vabhC63edutyN9s9P1uNaYjNXN7bh9bycund9f7qzfb8Jn/XgA8KiDJWOPW4SkHfu/7PLMhzdPXbr2JAdZp5fMc/Dci8sbca0xOdSxbxDjr1zYv17Oh+wEQOoOslcWsspJ/eQUY275nHZOnXMAiui0ea+z6GcOp9t/c60x2fNjk62yZZ+y7Q/ASRR6AwCcwczURNRr47HV2jl28qQS+98c/s+fu3fkl7wftdeO+M2Pf667J+5zpmZ3r33mN7vd7vPM1ER/jSyRLI53Ksaqlbh6+WKyjwcADzttydh2RLT7zFOPZp3TstFxz32wFO6wx8Ksx98i5sKU8lkv50N2AiBlp2WvXpyUk3oZx/vNKcbc7qSUqU5z2jl1zgEomiyz18MuftVj8e2v/5q4eetOT2N8EeeHhim13FS27FO2/QHoRKE3AMAZjFUrsTDXiPmltajE4frrg7foC3ON+H9u3enq8T69/aWutvv8F1/qqZ0R+8u4LS5vHJr8qdfGY2Gu0dPyVd3uc6of7gxLVscbAOhdP8vMduO4rHNSNjrJoNo4TEXLhfIZAAxG1rnmuMfrdRwvWk4pEpkKAPI1qDmlb31tLf6H//nf9zzGy12dyU0AZKWadwMAAIpudroeN65ficna4aXJJmvjceP6lZidrsfrJ17d1WN9w8Xutut16bSV9WbML60d+Yb/Vmsn5pfWYmW92dPjdbPPoyzr4w0A9KafZWaPM/FVjx36u1PWOchGtVe/YuhtzFtRcqF8BgCDk3WuefTx+h3Hi5JTikSmAoD8DWpO6bn//P/1PcbLXUfJTQBkyS96AwBkYHa6Htcakx2X3vorV78h/v4HPh57J/zEY7US8Xff2ogPfvx2psub7e61Y3F549jHa//JYy4ub8S1xmRP36Y/bZ9H1aCONwDQvW6WjK1UomM2O8hcv/03vys+9un/1lXWudaYjJ/9jd87tW1lXK429VwonwHAYJ2WvSL2571Omhc7UH8kJ511HE89pxSJTAUAaegme/WqU1brZYyXux6QmwDIml/0BgDIyFi1ElcvX4zv+7avj6uXLx56Y/7YuWq8881TJ/77d755Kl712FgszDUi4sFyZgf6Xd5sdXP7yLfFH9aOiGZrJ1Y3t7t+zAMn7fOoGuTx3t1rx81bd+LZFz4bN2/did1uPiEFgBF0sGRsROdM9c43T+0XfHe4f2GuEY+dq3addVY3t2Pr7kuntq0d5VyuNuVcOMh8dhyZDYBRc1r2qsSD7HWSShzNSVmM4ynnlCIZRKaSmwCgd93Mex1333EOtjlpCO5ljJe79g17LmoY5DaAfPlFbwCAIfmpt+5Pujzz4c1DEybVyv6HXQf3Hyxvtri8cWgSYLI2HgtzjZ6XN7t9r/NEQj/bcbJBHe+V9eaRa6Le5zUBAKOgm0z137/ua4aeuf7ad3yDsXvIhpmHZTYARlW/2etAp/HSvFY6sj4XchMA9O+07BURR+77mle/ItoR8eKXXj60/VunJ+N9H/nUqc8pb3WvbBlWbgPIn0JvAIAh+qm3NuIn/vwb4p/f/FR8evtL8fqJV8dfufoN8di5wwutZLm82aXz45lux8kGcbxX1psxv7R2ZIm3rdZOzC+txY3rV0ykAMAxTstUeWSua43Jnh+bsxlWHpbZABh1vWSvrbs7sf2Fl2Liqx6LydqrOmYw81rpyPJcyE0AcHanZa/j7ouII7etbm53Vegtb3WvTBlWbgNIg0JvAIAhe+xcNd7x5m88dbuD5c3OamZqIuq18dhq7Rx5Ex6xvyzbZO3BBA9nk/Xx3t1rx+LyxrGP1f6Tx1tc3ohrjcmRXQIPAE5yWqaSucpvGOdGZgOAfVlnLxkrHVmdC7kJALJzUrbqdN+jt8lb2SvLMZXbANJRPX0TAIDRtrvXjpu37sSzL3w2bt66E7t7x72dTddYtXJ/mbZH32If/L0w1zj0Brzo+5ynfo73SVY3t49d0vhAOyKarZ1Y3dzuvbEAQGa5J+sMMAijmvGGcW5kNgA4Wb85ZBjj+KhmpF5ldS7kJgDozaCzykljfMT+2PwDf+61mT5n2RVhnrAbchtAOvyiNwDACVbWm7G4vHHoTWy9Nh4Lc41CLUM1O12PG9evHNmXyWP2pSz7nKdejvdpbt/rPIHSz3YAwANZ554sM0DWRj3jDfrcyGwA0NlZc8ggx/FRz0i9yuJcyE0A0L1hZZVOY/yB93zwE/Frv/tfZaQepDxP2C25DSAdlXa77WvpAEAp3L17N2q1WrRarbhw4cKZH29lvRnzS2tHlqM6+G71jetXCvEm/GG7e+1Y3dyO2/d24tL5/SXBHv62eBn3OU+nHe9u3Lx1J5565vlTt/vVd76pp6WPAYok6zGesyvDORlk7skiA2RJxntgUOdGZgPKpAzjfNkU+ZxkmUOyHsdlpP6d5VzITQAPFHmML6uUzkkeWWV3rx2/8Nwn4z0f/C9H7pOR+pPaPGEv5DagbFIa53vlF70BAI6xu9eOxeWNI5MnEfvLUFUiYnF5I641JgvzZjxif6mwTm+0y7rPeTrpeHdrZmoi6rXx2GrtHHtuKrH/7f+ZqYkzPQ8AjJJB554sMkBWZLzDBnVuZDYAOCrrHJLlOC4jnc1ZzoXcBACnyzOr/NrvfubY22Wk/qQ0T9gruQ0gHdW8GwAAkKLVze1jlyY70I6IZmsnVje3h9eoARvFfe7H7l47bt66E8++8Nm4eetO7O4NdoGcsWolFuYaEfHg1xIOHPy9MNcwoQYAPRil3FOkfR12zsqSzAYAR6WcQ1JuW1ZSzVZyEwCcLq+sMgoZqR+p5qpBk9sA0uEXvQEAjnH7XudJjH62K4JR3Oderaw3Y3F549AkV702HgtzjYEuUzc7XY8b168cee7JITw3AJTRKOWeouxrXjkrSzIbAByWcg5JuW1ZSD1byU0AcLK8skrZM1I/Us9Vgya3AaRBoTcAwDEunR/PdLsiGMV97sXKejPml9aOLE221dqJ+aW1uHH9ysCLva81JmN1cztu39uJS+f3l0LzLXkA6N0o5Z4i7GveOStLMhsAPJByDkm5bWdVlGwlNwFAZ3lllTJnpH4UJVcNmtwGkD+F3gAAx5iZmoh6bTy2WjtH3rxH7C9HNVnbfxPbq929dm5vhE967kHuc9Ht7rVjcXnj2OPSjv1js7i8EdcakwM9l2PVSly9fHFgj19kvbyu8nwNApCfh/v/r/3qV8bkhVfG5+6+VPrcc1rGi4h4/FWviL12O3b32kMfE1PJWVkqSmZLOROl3DYAurO71469djsef9Ur4sU/fvnYbfLMXN1kpHoB82DRslVRctNZDSPbyE8A5ZLXZ3a9Pm+Zx5+i5apBSzG3Dfv6K/P1DqRPoTcAwDHGqpVYmGvE/NJaVCIOvYk/eLu2MNfo+c1bnst7nfbcg9rnMljd3D503B7VjohmaydWN7eTm+QYBb28rkZ9iT2AUXVc///4q19x/0OZMueekzLegRf/+OV4+z/9aC5jopyVj5QzUcptA6A7x/Xlj8o7cz2ckTr5S99aL1welK3SM4xsIz8BlM9BVvmhDlmlHYPJUb18Vlj28UeuStuwr7+yX+9A+qp5NwAAIFWz0/W4cf1KTNYOLz82WRvvaymug+W9Hp0UOFjea2W9eeY2n/W5s97nsrh9r/NETj/bkZ1eXld5vgYByE+n/r/1pf1flqy9+hWHbi9j7umU8R6Vx5goZw1fypko5bYB0J1OffmjUshcs9P1eNd3TnW8/598aLNwY49slZZhZBv5CYCsdfNZ4SiMP3JVuoZ9/Y3C9Q6kzy96AwCcYHa6Htcak2dehinP5b16fe6s9rlMLp0/uSiq1+3IRi/XdvzJ/7fEHsBo6WaseNUrxuIX33ElPv/Fl0qdew4y3vO37sQP/8pavPjHLx/ZJo8xUc4arpSXHU65bQB056S+/MDjr35F/OJTV+JNly/m3p/v7rXjN/7jyUUZRRt7ZKt0DCPbyE8A5XXQx3cy6D7+pM8KR2X8kavSNOzrb1SudyB9Cr0BAE4xVq2cecmtPJf36ue5s9jnMpmZmoh6bTy2WjvHvpGvxP4vGcxMTQy7aYW1u9c+85cJerm240/+fzfbuvYByqPbsaJarcT3fdvXH7rvpLEqi3EsD2PVSlSrlWOLvA8Me0yUsw4b9LWV8rLDKbcNgO6c1pdHRLz4pZejWq3cH9++/JW9+Oc3PxWf3v5SvH7i1fFXrn5DPHZuOAsSl3Hska16N6j8NYzrq4zXMAD7eu3jzzKedfq3nT4rHJXxR67qT9nmtkblegfSp9AbAGAI8lzey9JiZzdWrcTCXCPml9aiEnFoQudgamJhrlGIAq8UrKw3Y3F549DESL02HgtzjZ6WbB7Ete11AFAu/Y4VJ41VEZHJOJaX1LKhnPVAVhnpJKmd/36eU14DSFevffnTH9iIZz68GXsPBYC//4GPxzvfPBU/9dbGIJp4bDuy2i4FslVvBpm/hnF9lfEaBmBfL338Wcazfv7tqIw/clXvyji3NSrXO5C+4XwlHgBgxOW5vJelxbIxO12PG9evxGTt8HGarI3HjetXClHYlYKV9WbML60d+fb7Vmsn5pfWYmX95CWTH9bLte11ADCa+un/TxqrfmhpLX4oo3EsLymOiXJWthnpJCme/16fU14DSFcvffnTH9iIX/rQ4SLviIi9dsQvfWgznv7AxgBaeLQdWW6XCtmqO4POX8O4vsp6DQPQfd/9qc9/qe/xrN+xcJTGH7mqe2Wd2xql6x1Im1/0BgAYgm977eOZbtcLS4tlZ3a6HtcakwNdcqzMdvfasbi8cex12I79a3FxeSOuNSa7Oqa9XtteBwCjp9ex4rSxqpN+xrG8pJoNRzlnZZ2RTpLq+Y9Iu20AdKfbvvzbXvt4vP2fPn/iYz3z4c34iT//hnjs3OB+s6rMY88oZ6tuDCN/DeP6KvM1DDDquunjX3PhlfGrq5/pazw7y1g4auOPXHW6Ms9tjdr1DqTLL3oDAJxid68dN2/diWdf+GzcvHUndh/9qaEu/MpHP93zdlk8b8SDpcUiHiwlduCsS4tl1cYDX/7KXrzvw38QP/Pserzvw38QX/7K3tCeu1tj1UpcvXwxvu/bvj6uXr5oIqcHq5vbR77J/7B2RDRbO7G6ud3V4/VybQ/ydQDA4PU77vfS/+/uteP9H9k8caw6SS/jWF45JuL0Y9KOiL8wvf/h1XHtOmvbj/v3B7f96//3jyIi4n/8754YqZyVdUY6ScqZKOW2AZRV1pmk2778Vz766SO/5P2ovXbEP7/5qTO151GP7u9Be05rb5ZjT6dj3s+5OO3fdJrDyjOLpmIY+WsY2UZ+AiiH48bmbvr4p2ZeF1t3ex/PupkDO/i3z/9JZnpYluPPabnkrPef9fkP+GzwZGWe25K3gFT4RW8AgBOsrDdjcXnj0JvTem08FuYaPS3H9entL/W0XVbPe2B2uh7v+s6peObDm9F+aI6iUol455un+nrMrNv49Ac24pkPH16y9+9/4OPxzjdPxU+9tTHQ52Y4bt/rrnCu2+0iHiyb9+j1MHnM9dDLtgCk46zjfjf9/3HP0a/TxrEUckynY1KpRLTbEf/sI5+Kf/aRTx1p11nbfty/f/zVr4iIiBe/9HJfj1kGg8hIJ0k5E6XcNoCyGVQm6aYv/8F/9tGuHqvb+bRunLS/wxp7OrXhL31rPX7jPzZ7Ohf9nr8UsmgKhpW/hpFt5CeAYjttbD6pj3/phB9LetjD41mvc2A//Ctr8Q/e9meOjCdZjD+n7ftZ7z/r89O9ss9tyVtACirtdnv0vqYNAJTS3bt3o1arRavVigsXLpz58VbWmzG/tHZkGaaD7+PeuH6l6zdu7/vwH8TP/ZuPn7rdT//Fb4mv/5pXZfa8Bzrty8Hj9vqYWR6biP0i71/60GbH+/+n73xQ7J31czM8N2/diaeeOXlp5oiIX33nm+Lq5Ys9PfbuXrvrZfN62RZIQ9ZjPGc3rHOS5bjfqf8/KSf146RxLLUcc3BMPrixFe/7yKeO3P9wuyLiTG3v5TiPWq4bZEY6ScqZKOW2wSiQvdKT8pxXJydlrx9aWuvqMX76L35LvOPN33imdkR0t7/XGpMDHXt6zZwnnYt+z19qWTRPw85fw8g28hMUk9yVnmGek27H5k59fK/jWb9zYCd9jtjv+HPavr/rO6fin3xos+/7+52nGsVclIVRmduSt6D4ipy9FHoDAKWRZSjb3WvHk+9+ruM32iux/y3d3/nb393VG7gvf2Uv3vDT//bEZWmrlYjfW5yN7/5f/+/Mnjci+33J69j855/7CzFWrWT63AzXwbWz1drp+KUD5w84TpEnXspqGOck68zRz3P04rT2DGN/+tFNu15z4ZURUem4HPBZ972fxywTGQlIjeyVnpTnvLJ87ocdzAU9dq460Occxjjbb+Y8rm397k8KxyEl8heQCrkrPcM6J1mMzb2MZxH/P3t3Hl5XWScO/HvTJV1o0wW6sbSlIhjKIgVqKQUX9oooqOz7ICIoqNNBHBTQGYsy44LsjAo/FhlRFHHBAaEspYKyiFDsANMWlIalpWnp3ub8/ugkkzQ3ybnJTe65N5/P8/SBnPue82733Pd7Tr65Jzp9D6zY62Ka2KgqFx3+3rCt18v1Hl05E1sB5aKcY6+u3R0BAKhQTyxc1u4NhiQiltSvjScWLkt1vP59q+KsGRPbLXPWjInxzKvLC653U0MS815eGnc/8/eY9/LS2LTFnY1i96XYx7tl3qJ2b9ZEbL5Zc8u8RUWvu9x0NNdZ16cqF5ccufmb2be8jdP48yVH1pbdTZ5ynxeArOqJdb+jOprLtfH/zX9uax3b1JDETXMXdmt/OrsepRnnuhXr2kzybizTXtsLGee0x8ynXNfkSo2Rulu5zjdAqZXy3kohMcFZMyYWJcm7u2OwNDoTC0Xkb1tn56+z+1Xqeiv+al+lzjtAlhQjJitkPetsPNJWW7qyVqRpS5rfGxbS3kLqL6ffNWZlzRZbbZaV+QAqU99SNwAAIIveWJnuZkfachERFx2x+QL3xkcWtrgBUZXb/Muri46ojbuf+XtB9d773JK47J75LW5IjK0ZEJccWdv0SLFi96XY5RYvW5263NZDqotadzlJM9fl4LDJY+Pak/Zq1ZcxZdiXiMqZF4As6o54rCv7Nq5VEVHQOpZvrShWm9qrI+16VMy4qa1j9cQclfuaXGkxUncr9/kGKKWeiLG6eswP7bJN0320zio0Brt/fl1RHyPfXFfHsvn+nZ2/zuxX6eut+Cu/Sp93gKwoVkyWdj0rRmxXyO8m0xynu3X1PlXWf9eYtTW7t8dWWZsPoPJI9AYAyGPUkAFFLdfooiNq44uH7BK3zFsUi5etjvEjBsXJ0yY0fUNRIfXe+9ySOOfWp1o9Aquufm2cc+tTce1Je8Vhk8cWvS/FLjd+xKDU5bprXrIu7VyXi8Mmj42Da8fEEwuXxRsr18aoIQNi34kjyu4v+SttXgCypifW/bT7fmXme+K06ROb1qq061hba0Ux2tRRHWnXo2LGTW0dq7vnqFLW5EqJkbpbpcw3QKmU8t5K2mP+w4xJXaqnMzHYD+Yuin0mjuiWNaSrY9l8/87OX6H79Zb1VvzVUm+Zd4AsKGZMlmY9K0Zst+itVUVZK3rqd3hdvU+V5d81ZnXN7q2xVVbnA6gsEr0BAPLYd+KIGFszIOrq1+b9pVAuNv8F8r4TRxR87D5VuagdVxNbD6mOUUMGtLi4TVvvlPHD48ArHsxbJvnfcpfdMz8Orh1T9L5MGT88qnLtPxatKre5XBonT5sQ//qbFzo83snTJkSfqly3zcumhqRkNx7aq3tTQxKX3TM/1VwX2t7u6HPaY/apynXbN2X1hO6cF3qPUn7uQFY1Py+2HlwdY4YOiNdXpFv3O3NOpY2Tmid5R6Rbx9pbK/LpTBzT2fWoxThvVR1jhlbH6yvWtTkGo4dWR0Qu9VxsqaNxzqf5MUsVK+XT3Z/dpYiRymk9EoP1nHJ6XwCFSbMuj+3kvZWI9j8/uvN+W/P6C4nBmuuuNaQzsVBE/vHo7BgWcs9x7ktvxZd+9pfMrLflFH+V8/opzipcOc83UHr7ThwRY4YOiLoV+b81utC4qKP1bMr44TFicP9Ytmp9Z5obERE/fuKViIgurxVpYqOqXESS5K+ro9e7ep8qzdh3Zg0o1rpRijW7kLZ3NbYqt/VVDFUc5TbvUAoSvQEA8uhTlYtLjqyNT9/6VN7Xk4i45Mjagi8wOnpsU2O959z6VOSi5Q2KxpouObI2nlz8druPnk0iYkn92nhi4bKYNmlkqmOm7cuTi99uNyk7YnMS+JOL3051Id+/b1WcNWNiXP/wwjbLnDVjYtO3nhezL41K+Titjup+YuGygua6WPV2R18qSXfNC71HbzpfIK1858WwQf2aboi3t+539pxKG3t15qZyR2tFc52tqzPrUWfG+dKP7BoR0elxam+c82l+zPvm15UkVsqnEj+7y61PYrCeUW7vC6AwadblNRs2xX3z6wo+54t136srv9AvJAbbUnetIYXGQhFtj0dnxzDNfh/ZY2wceMWDHY5fT6635bQmlVNb8xFnFabc5xsovfvm18XajZvyvlasuKhR42dWW0neaeOTuhXr2n097VqRJi45a8bEuOHhhZ1+vbP3qdLs35k1oJjrRk+v2T255pXj+iqG6rpynHcohapSNwAAoLdofGzTlhd7jY9tuve5JRGx+bFW1560V4ypaflIsDE1A5oe7fTGynS/sGosl+aYaRVadxoXHVEbZx8wMba8Z1KVizj7gIlx0RG1TduK2ZeI9PPSHdLU3R3j3R19LuU4lkJ3zAu9R287XyCNts6L+tUbIiKiZlC/Ftubr/tdPaeKHVs0KmQN6Gxdha5HXRnnro5TW/sPG9QvhrVRb0SUJFbKpxI/u8uxT2Kw7leO7wugcI3r8pZrf6P61RsKPueLed+rK7q6BnTXGtJWv9tSM6hfm+PR2TFsb79PHbA5WaqQJPnuXm/LaU0qp7a2RZyVXiXMN1BajZ8jy//3fsyWhrUTB3S2rvbW+DE1A+KM6RO6XFejNGtFR/HMRUfUdun1zt6n6mj/zqwBxV43enLN7sk1r1zXVzFU15TrvEMp+EZvAIA8Gh+z1JZCH7NU6GObDps8Ng6uHdPmI4pGDUn3S6Hm5To6ZlqdqTuNi46ojS8eskvcMm9RLF62OsaPGBQnT5vQ9E3ezRWrL6V8nFbauv/t43ukOl7a8e6OPvfGx5J113lA5euN5wt0JM15MaBvVdz2D1PjrXfWtVj3i3VOFSu2aC7tGvCVme+J06ZP7FRdhaxHacZqYL8+cfWZe8Vbq9blHYOujlNb+0dE3m37f/OBHo+V8qnEz+5y7ZMYrHuV6/sC6JyDa8fEpb98Pu9rhZ7zxb7v1RVdXQO6cw1p7Pcf/mdpnHvbU7F8Tf7krojNcdnBtWM6PFahY5hvvynjh8eBVzyY6ps8m+vOsSqnNamc2toecVY6lTLfQOm09znSqLpvVbtxQDHrGjG4Xzw06wPx5OK344dzF3W5zoj0a0VH8UxXX+9q/VvqzBrQHetGT63ZPbnmlfP6KobqvHKedygFid4AAHkU+zFLnTlen6pcm8fed+KIGFszIOrq1+a9+MnF5r86b0ySadTeMZvb1JC0eWOjs3Wn0b9vVZw5Y8dUZdP2pT2dmZf2xqY76o5cFHW8u+MRYr3xsWTdeR5Q2Xrj+QIdSXNe1K1YF1W5XBy157YF75v2nCpGbNFcR2tFRMSwgf1il7FDu62O5utR2rGqqmo9zs11dZza2r/5tk0NSdw0t/1vlEwbK0Vs/qVl3Yq1Me/lpZ2K3Srxs7tc+yQG617l+r4AOueJhcuibsW6Nl8v5Jwv9n2vrkgTg+XTU2tIn6pcVOVy7SZ5R6Qb+86O4Zb7zX3xrYK+ybsnxqqc1qRyamt7xFnpVMp8A6XT0edIxOb7YMX4HElT17JVG+LJxW+nXgeSJInXV6xLtVak+X1aR/FMV1/vSCH7d2YN6I51Y9+JI2LM0Oo2Y/lirdk9ueaV8/oqhuq8cp53KIXWX48IAEDRH7NU7HJ9qnJxyZG1EbH5ArG5xp8vObK2UwnI9z63JPb/5gNx/I1/iPPveCaOv/EPsf83H2h6NFJ31t3TCp2XjsamO+p+6511RR3v7niEWG98LFklnQf0rN54vkBHunJeZPmcam+taLR8zYY48T8e73Q8Uch6lOWxaq4x3vr6r19IVb69WKnRslUb4vP/2fnYrVzGrhDl2icxWPcq1/cF0DnFPOez9PnRuFYUmuQd0XNrSJbG697nlsRZt/wpdfmeGqssjVGx2pCFtrZHnJVOpcw3UDo9+TlSSF1p14FLP7Jrh2X6VOWK+vu0rOjM3HXHfN83vy7WbmzI+1ox1+ysvlezRgzVeeU871AKEr0BAPIo9mOWuuOxTYdNHhvXnrRXjKlpuc+YmgFx7Ul7xWGTx6Y+VqN7n1sS59z6VKu/nq2rXxvn3PpU0w2Y7qi7FAqZl7Rj0x11F3O8u+O92FsfS1Yp5wE9q7eeL9CerpwXWT+n2lorttTZeKK9OrZcj7I+VhFtx6LtaS9WyqczY10OY1eocu6TGKz7lPP7AihcMc/5cvv8GDaoX4ufe3oNycp43fvckvj0rU/F6vWbUu/TU2OVlTEqZhuy0NaOiLM6VknzDZRGT36OFFpXmnUgTZli/z4tKxa9tTpVuebjXuz5bhzb5avzPx2mZlC/oq3ZWX6vZo0YqnPKfd6hp/UtdQMAALKo2I9Z6q7HNh02eWwcXDumw0efpbGpIYnL7pmft33J/7bxsnvmx8G1Y6JPVa6odZdK2nmZMn54HHjFg6nHJo0p44dHVS6ioZ2vmKrKbS4XUby57o73Ym9+LFklnAf0rN58vkBbunJelMM51bhW/OHlpXHu7U/F8jWtfxHT2XhiyzraW4+yPlbtxaL5bNne5mNQV78mvv7rF2LZqvWt9uvMWGd97Dqj3PskBuse5f6+AApTzHM+S58fjTFFW3IRMbBfn7j6zL3irVXrSrKGZGG8NjUkcekv2x6nLQ0b1C+uPn6veN+kkT0yVlkYo7TKqa1piLPaV2nzDfS8nvwc6UxdadaB9soU+rvGcrGpIYkfP/FKh+XGDK1uMZ7FnO80984G9usTB9eO6fBYaWT9vZo1YqjCVcK8Q0+S6A0AkEfjY5bOufWpNsts+ZilTQ1JmxdvnTneO2s3xuf/8+l45e01scPwgfGdY98bWw3oWvi2fmND3DJvUSxetjrGjxgUJ0+bEP37bn7IyxMLl7X77YlJRCypXxtPLFwW0yaNbOrz/Nfqm443ZfzwvBesa9Zvim/8Zn4sWro6JowcFF8+ojYG9u/TbX1JW675vOT+t4+Nmj9O68nFbxc8Nh31+8nFb7eb5B2xOQn8ycVvFzze7enMezGiOONYbjcz2juntyyXZl4KOV7aG0GFlC2mUtVbLtKuB5V0vkBXFHJebHl+TRk/PI7bZ4f4zv3/3eq4HZ1Txfy87Sgu6VOVi6qqXN4k70aN8cRjL70VfftUtejjk4vfjroVa2PZO+uiZmC/+PPflkcSERNHDm6qa/3GhvjNX16LhW+tjoH9quJvy1bFdiMGN90If2Lhsjhi8pj4wdxFbdZ/xOTNv4xo/su5LfvdeKwt29fWz1seq7Efwwb1j+Wr1zf9d9mq9QV9k3e+9vapysW0SSNj3stL8yZ5bznWjfum6U9HY/eVme/p8LO7o/dR89e3HlwdkYt46511ecexq2twn6pcfGVmbXzm9tYxYdr1qNTxQON8Z6FdaersjliwmO2L6L44pZR9AtrW3jkf//vzcfts3/Rzd13nNMZRi5aujiRpiCED+kWfqqqYNmlkvG/HkXnXysZ4YsTg/jGmZmDsuf2wuP3xxbF42epIkiTVPZybHlsYazc2xISRg2K3bWviL3+vjzdWro0Rg/rHX+tWxKtvr4nxIwbFCVPHxzOvLo+6+jWxbNX6GD6of7y9en1T3R2t0W1t72jsvzLzPRERMe/lpa3jwv9ty4itqmPM0MLXlE0NSdw0d2HUrUgfe11+9G4xfaet26xjyzkptK35jtlW/FWsOL+9coWsMz11nd/8XIlIYs/thsW44YOKHic29ilfnJVWJa/TxZrvYo1RJY81VJrm5+tx+2wf37n/xTbjgC3vd7R3rI7O/bbumzXW9aXDdonHXnorfvbU32L1+o3x3u2GxavL1zTFQgfvMjp+9exrTfVsakha3ANrjJUay2zc2JD692lb3pMpJE7oKOZqHh+29TvEfPcZ893TioimeKcjO4wYHH/4n6VNcWyauC9tnNDR73Ej8o9tW/eY8tnUkMRjL70Vdz31t1i1flPst+PI+NnTf+9yjNPRe7aY49RdCo33u6u+zh5j662qI5Io+I9dC21HFuNoqBS5JEnSflEOAEC3u/rqq+OKK66Iurq62GOPPeL73/9+7Lvvvqn2XbFiRdTU1ER9fX0MHTq0KO2Z/Zv5ceMjC1sk5FblIs6aMTEuOqK2adu9zy2Jy+6Z3+ICe2zNgLjkyNoWj2M66//9Me6b/0areg6uHRU3nrJP088fueqRePZvK1qV2327ofHL82YUXG+avtz9zN/j/DueaX9AIuJ7x+0ZR+25beqxSdvnQqStu1jlCh2biI773V3jnVYh81Ls86AcpO1LscemkDEs1XhX0jx3h+6Ya7pnjWezzsZe3TEnHZ0X+V5v7+kY7Z1Txfy8TbsWfO2e5+OHbSQKN7flTe00TwDZfsTAWLx0Td7Xhw3qFxHR4pGuWx5zy5/H1gyIj+wxNn755yUt+l3MY3VFvjqaz13aOOtDu2wT85esbPc91dH4t9WGLXXm/b3l8fONY2fXjvbqS3PMrK5jpWhXmjpLGR905pjFbEdW+kRhxF7dI2v3vBoVcw0q9PzMF0c1N2xQv7j86N1SrZWl0t74dDRu7fUpTdyV75iN2pqLzsRlZ06fEF85ctdW29trfyFt7eiYHcV+He1f6Hs1Ijq1znTn+tTeuVLsOLGress63ZV7tcUao94y1pVO3NV9sn7PK81a35V4qztip0H9+8SaDZuivSyzfEm6+Zw5fUL85rm6olyrpolvtvyMLjTmSHuvqVHzOLaxvi/d9ZcW852vXHvStiHf2DbX3j3QL/7kz7Fq/aZW+wzq3ydWN9teyHpT6H3Yro5TdyjkvVeMtbgYa3ya67xix7edbbeYhp5UzrGXRG8AIDP+8z//M0455ZS47rrrYurUqfHd73437rzzzliwYEGMGjWqw/2LHZTd+9ySOOfWp1rdkGj8m9FrT9qr6ZcyacrN/s38uP7hhW3Wd/YBm28wtJXk3agx2TttvRGRqu737zw6jr/xD22WafTjs94Xcxa8nqovbSUTN+pMsnfacUxbrq1xjNg8lteetFfUDOyfemymTRqZqt9nTN+x6OOdVtqxKbRsRGV8i0yxz+lif5YU0sZiK1W95aLQ8amE86WnlPONlyzrSuzVXXPS1nnR3nqdz+cP2inO++BOec+pYn7eHlQ7qt01v/la8Ol2nqbR0xp/6fbBXbaJB/76Zqmb02Vbzt28l5emirO6ox351sKO3kefOmBi3PDwwtTv73zHKGQN7uh8uuaE98YRu48reP9SxwOlaFeaOiOi6LFgMdvX1jGLEadkrU+kJ/Yqvqzd89rSpoYkrnrgpTa/7TGfrl7ndHRN3dzZXVgrs2bLcfvNs0vyPmGjM8ftaE3prMb7Xc11pY7OxExJRJwxfUIcXDumzfdUMe6/tNWftOtMd1znF3KuNFeKtbG3rNNp7ie3l6RYjDHqLWPdG4i7ukeW7nl1dL5ecNC7o37N+rxfDtDZ68ZixwI9pb3PsGL16ewDJsZ7dxie6ljN25P294Rbuq6I1/zFut/V1j3Qju5dfnj3sXFw7eiCYpxC+53F9a3Q915X21qMMUjT5o6O19Nz5/dl9JRyjr1aP9seAKBEvv3tb8dZZ50Vp59+etTW1sZ1110XgwYNih/+8Ic93pZNDUlcds/8vBdAjdsuu2d+rN/YkKrcmvWb4sZH2r8hf+MjC2PZO+vbTfKOiHj2byuifvWGVPVuakhi/caGVHWPGTKg3TKNxgwZkOp49as3tJv4FBFx3/w3Yk2evwxvS9q+vLN2Y6pya9ZvanMcG112z/yYMn54jK0ZEG1dTuZi818W7ztxRKxZvylVv2vHDo2Ork+rchG7bVuTqi/rNza0f7D/lXYM129sKKhso8ZHux6157YxbdLIsrsIT3vupz2n23uPdeazZFNDkrqNm9J8/WgBSlVvuejM+JT7+UL5y1Ls1SjfedHe+ZVPLiLu+OOreV8r5FztqGwS0eGa33wtyJIkNo/TnAXlleTd1sfklnO378QR7cZu3SWJ1p/1ad5zNz7S+cS1Qtfgjs6nXER8/dcvtHmsrMYDpWhXmjov/eXzcekvixsLFrN97R2zq3FKd8xJVt9/kEYW464t3fHHVwoq35XrnDT3G5rrylqZNVt+/n/918WLEztaUzpjzNDq2HfiiBbbCo3P8yk0ZspFxG+fq2sz4aOY93LzSbvOFPs6v9BzpbmeXht7yzqd5v3fVj+LNUa9ZayhK7ISe6U5X+/44yvxm78sybt/Z64bix0L9KS2PsOKEXs0uvGRhXHJ3c+nOlbz9kwZPzxGD6kuuL5iXvNPGT+8w98rppHvHuilv+w4Jv31s0vi8MljU8c4ha5XWVzfOvPe60pbizEGadvc3vFKMXd+XwYdk+gNAGTC+vXr48knn4yDDjqoaVtVVVUcdNBBMW/evLz7rFu3LlasWNHiX7E8sXBZu4/4SiJiSf3auGXeolTlvvGb+R0+8r0hiTjuhsdSte+Mm55IVe8TC5fFLfMWpap75vcfTlX3zO8/nOp4Z9z0RKrjfeM36X+hlbYvn//Pp1OV+8Zv2n9sXeM4Prn47aZHt255Wdn48yVH1kafqlzq/vzjnc+kauM3730hVblb5i1KVW/aMbxl3qKCylaKtOd+2nM67Xss7WfJEwuXpW7jEwuXtd/AApWq3nJhfCg3hcZe3Rl3daSj82tL7Z1vhZyrhdabT5q1oFSSiA7XsqxojLfaa2/zuetTlYtLjqwtyS81t3zvpXnPdXUeClljurpeZXW9K0W70tRZt2Jd1K0obixYzPZ151x1R/2l7hN0VtbueeXT2bins+ddmvsNzZVLzJJW2s//Uh8zIuL4fce3SrLoapyc733TUzFKV8anFOtMoefKlnqyzb1lne5KP4s1Rr1lrKGzsnTPK+35WrdiXYdl0l43FjsW6GmdiRMK0ZBEvL6y7fFuqz1PLn47Zuy0TcH1FfOa/8nFbxctLt7yHmh79y6a71PI7wMLXa+yuL719HVSMcagkDa3dbxKmDuoRBK9AYBMeOutt2LTpk0xevToFttHjx4ddXV1efeZPXt21NTUNP3bfvvti9aeN1amuwBavGx1qnKLlqYr98bK9anKvZbyAu2NlWtTt3HNhnTfCJ22XNo2ph2biPTj/crba4pa9xsr18Zhk8fGtSftFWNqWn7z+ZiaAS0eN5X2mMVuY9qxKaRcsY9ZDtKe+2nnpdjz98bKtanbmLZcWqWqt1wYH8pNobFXd8ZdHenseZNvv0LO1WKdr4XEOuQ3pmZAnDl9QqqyjfN22OSxcUbKfYqt+XunJz/309TV1fUqq+tdKdpVzGMVEgumVeq56o76S90n6Kys3fPKp6vnTaH7V9J9hK7ojnEo9jEnbD2o1bZifc52JmbqaoxSjPHpyXWmWPPZE23uLet0V/pZrDHqLWMNnZWle16luG6slDirVPdW2vLGyrUxqLpPp/Yt1jV/d4xDofdAC3l/FbpeZXF96+nrpGKMQWfavOU+lTB3UIkkegMAZeuiiy6K+vr6pn+vvvpq0Y49asiAjgtFxPgRrX/Zkc+EkenKjRrSP1W5cTXp2jdqyIDUbRzYL11omLZc2jamHZuI9OO9w/CBRa278f1w2OSx8eiFH4wfn/W++N5xe8aPz3pfPHrhB5uSvAs5ZrHbmHZsCilX7GOWg7Tnftp5Kfb8jRoyIHUb05ZLq1T1lgvjQ6XrzrirI509b/LtV8i5WqzztZBYh5bO+8C7muKtg2rHpNqn+bwdnHKfYmvehp783E9TV1fXq6yud6VoVzGPVUgsmFap56o76i91n6An9XTs1dXzptD9K+k+Qld0xzgU+5hdiakLOXZPxSjFGJ+eXGeKNZ890ebesk53pZ/FGqPeMtbQU7Lwu8Y0etvva0p1b6Uthfy+dUvFuubvjnEo9B5oIWNQ6HqVxfWtp6+TijEGnWnzlvtUwtxBJZLoDQBkwtZbbx19+vSJ119/vcX2119/PcaMyZ+gUV1dHUOHDm3xr1j2nTgixtYMiFwbr+ciYmzNgDh52oRU5b58RG1UtVXof1XlIu741H6p2vfD0/ZNVe++E0fEydMmpKr73vMPTFX3vecfmOp4Pzxt31TH+/IRtanKRUTqvnzn2PemKvflI2pTj2OjPlW5mDZpZBy157YxbdLIVo+vTduf7xz73qK+d06eNiFVvWnH8ORpEwoqWynSnvtp5yXteyztZ8m+E0ekbmPz920xlKrecmF8KDeFxl7dGXd1pKPza0vtnW+FnKuF1ptPmrWgVHIRHa5lpTS2ZkB8/uB3N8VbnfmcLcYcFqrQNhRjHgpZY7q6XmV1vStFu9LUOWZodYwZWtxYsJjt68656o76S90n6Kys3fPKp7NrZmfPuzT3G5qrykXmYqmuSPv5X8pjdiWm7syxeypG6cr4lGKdKfRc2VJPtrm3rNNd6Wexxqi3jDV0VpbueaU9X8cMrS7adWMx44tS6O77O1W5iNFD2h7v9trTmXW5mNf8xbzHtOU90DFDO07AzUVhvw8sdL3K4vrW09dJxRiDQtrc1vEqYe6gEkn0BgAyoX///jFlypT4/e9/37StoaEhfv/738e0adN6vD19qnJxyZGbE3a3vChp/PmSI2ujf9+qVOUG9u8TZ82Y2G6dZ82YGCO26h+7b9f+TaTdtxsaNYP6paq3T1Uu+vetSlX3DlsP6vDbugf2q4odth6U6ng1g/rFwbWj2i13cO2oGNg//aPO0vZlqwF9U5Ub2L9P6nFMa2D/Pqn6vdWAvkV97/Tvmy60TzuG/ftWFVS2UqQ999POS9r3WNrPkj5VudRtLOR9m0ap6i0Xxodyk7XYqz3tnV9b6uh8K+Rc7ahsLqLDNb+jtaBUGttx1oyJTX3Jkly0nsPOfM4W8t4phs62uyvzUOga09X1KqvrXSnalabOSz+ya1z6keLGgsVsX3fOVXfUX+o+QWeVQ9zVmTWzK+ddmvsNzRVSNuvSfv53RrGOWUhM3VnFiPXaalNX19zOtqE7FHquNNfTbe4t63RX+lmsMeotYw2dlaXYK+35eulHdu2wTNrrxmLHF92pFPd3zpoxMS47Kv94t9W+Qn7fuqViXvMX6x5Tvnugjfcu2vOpAwr7fWCh61UW17eevk4qxhikbXN7x6uEuYNKVDkZGQBA2fvCF74QN954Y9x8883xwgsvxDnnnBOrVq2K008/vSTtOWzy2Lj2pL1iTE3Lv2IeUzMgrj1przhs8tiCyl10RG2cfcDEVn9NXZWLOPuAiXHR/34T9C/Pm9Fmsvfu2w2NX543o6B6C6n7ha8f3may98B+VfHC1w8v6Hg3nrJPmwlQB9eOihtP2Sfva+1JW3facoWMY1pp+13s905ahRyv2HWXg2LPS7E/SwotW0ylqrdcGB/KTdZir/a0dX5t+Rmc5nwr5uftjafs06W1YPigfjFsUL92+5TmCRLjRw5s8/VheepobP9FR9TmbdfYmgFx9gETY2wR2tvWsdoytp057MznbFv7tNWujvrT1nx0pd1tzUOa9nZmjenqepXV9a4U7UpTZ3fEgsVsX3eqxD5BZ5VD3FXomtnV866ta+rmhg/qF9c1WyvTxhM9qa3xSTtuXYkTm9eV5php459CYuq25qQ7YqZixSjtlbvupL3iuoytMx2dK911jnZGb1mnu9LPYo1Rbxlr6KwsxV6luG5sq9yg/n0i14U8y8Ep9u/oPlZjfFfoeltofJOvXY336rpynzFNDNu8n8W+5i/GPaa27oFed9JeMTjPl3PlovO/Dyy031lc33r6OqkYY9DWMQo5XiXMHVSaXJIkSakbAQDQ6Kqrroorrrgi6urqYs8994wrr7wypk6dmmrfFStWRE1NTdTX1xf10WqbGpJ4YuGyeGPl2hg1ZPNjhfL9xWnacus3NsQt8xbF4mWrY/yIQXHytAl5/wL6nbUb4/P/+XS88vaa2GH4wPjOse+NrQb07XS9hdRdt3xtfPj7D8eKtRtj6IC+8avPHhBjhrW+GEx7vDXrN8U3fjM/Fi1dHRNGDoovH1Fb0Dd5d6UvacsVMo5ppe13sd87aRVyvGLXXQ6KPS/F/iwptGwxlarecmF8iq+71ng6H3uVak62PL+mjB8eTy5+u1PnWzE/b7uyFkREu31q/LluxdpY9s66qBnYL/78t+WRRMTEkYOb6mqMOxa+tToG9quKQ2pHx3YjBuetY8v2t9W/rrS3rWM19mPYoP6xfPX6pv+OGNw/xtQMTDWHnfmcTdvHjvqz5XwUs93NX996cHVELuKtd9Z1OCedXWO6eqysrnelaFeaOrsjFixm+7pTJfap0om9ukcW73nlU0hcUIzzrjGOWrR0dSRJQwwZ0C/6VFXFtEkj4307jsy7Vm65Du+5/bC4/fHFTbHYCVPHxzOvLo+6+jWxbFWzeGOr6hgzdEDstm1NfPPeF5ru11x42HviL3+vjzdWro0Rg/rHX+tWxKtvr8l7rOGD+sfbeWKXro5bIXFXY1sa+1PomtIdMfWWc1JoW9O0O61irLlZXGeanysRSey53bAYN3xQt5+jnZGltnSnrvSzWGPUW8a6kom7uk/W7nmV4roxX7lNDUmLe1gnTB0ff1q0LH721N9i9fqN8d7thsWry9c0xUIH7zI6lq/b0O7+z7y6PO99k7dWroulq9ZFXf3a2HbYwNjvXVu3iO+68/7OlvFhvnt1XYmJmt8L3H74oHj3NlvFH19ZFhG5vHFsoXPXkWLcY2rruI+99Fbc9dTfYtX6TbHPhOFx6n5df7Jvof3O4vrW09dJxThui/fBVtURScRbqzp+H3SlHVmcO2iunGMvid4AQMUo56AMAGibNT57zAkAVC7rfPaYEwCoTNb47DEnAFC5ynmdr+yv4AMAAAAAAAAAAAAAKEMSvQEAAAAAAAAAAAAAMkaiNwAAAAAAAAAAAABAxkj0BgAAAAAAAAAAAADIGIneAAAAAAAAAAAAAAAZI9EbAAAAAAAAAAAAACBjJHoDAAAAAAAAAAAAAGSMRG8AAAAAAAAAAAAAgIyR6A0AAAAAAAAAAAAAkDESvQEAAAAAAAAAAAAAMkaiNwAAAAAAAAAAAABAxkj0BgAAAAAAAAAAAADIGIneAAAAAAAAAAAAAAAZI9EbAAAAAAAAAAAAACBjJHoDAAAAAAAAAAAAAGSMRG8AAAAAAAAAAAAAgIyR6A0AAAAAAAAAAAAAkDESvQEAAAAAAAAAAAAAMkaiNwAAAAAAAAAAAABAxkj0BgAAAAAAAAAAAADIGIneAAAAAAAAAAAAAAAZI9EbAAAAAAAAAAAAACBjJHoDAAAAAAAAAAAAAGSMRG8AAAAAAAAAAAAAgIyR6A0AAAAAAAAAAAAAkDESvQEAAAAAAAAAAAAAMkaiNwAAAAAAAAAAAABAxkj0BgAAAAAAAAAAAADIGIneAAAAAAAAAAAAAAAZI9EbAAAAAAAAAAAAACBjJHoDAAAAAAAAAAAAAGSMRG8AAAAAAAAAAAAAgIyR6A0AAAAAAAAAAAAAkDF9S90AAIBiSZIkIiJWrFhR4pYAAMXUuLY3rvWUnrgLACqX2Ct7xF4AUJnEXdkj7gKAylXOsZdEbwCgYqxcuTIiIrbffvsStwQA6A4rV66MmpqaUjeDEHcBQG8g9soOsRcAVDZxV3aIuwCg8pVj7JVLyjE9HQAgj4aGhnjttddiyJAhkcvlOiy/YsWK2H777ePVV1+NoUOH9kALScO8ZJe5ySbzkk3mpbiSJImVK1fGuHHjoqqqqtTNIQqPu7qT8610jH1pGf/SMv6lZfy7l9gre7IUe3Un53ZpGf/SMwelZw5Kr7fNgbgre8ox7upN542+ViZ9rUz6WpnKva/lHHv5Rm8AoGJUVVXFdtttV/B+Q4cOLcsgtNKZl+wyN9lkXrLJvBRPuf1lfaXrbNzVnZxvpWPsS8v4l5bxLy3j333EXtmSxdirOzm3S8v4l545KD1zUHq9aQ7EXdlSznFXbzpv9LUy6Wtl0tfKVM59LdfYq7zS0gEAAAAAAAAAAAAAegGJ3gAAAAAAAAAAAAAAGSPRGwDotaqrq+OSSy6J6urqUjeFZsxLdpmbbDIv2WReoOc430rH2JeW8S8t419axh8qk3O7tIx/6ZmD0jMHpWcOoHC96bzR18qkr5VJXytTb+pr1uSSJElK3QgAAAAAAAAAAAAAAP6Pb/QGAAAAAAAAAAAAAMgYid4AAAAAAAAAAAAAABkj0RsAAAAAAAAAAAAAIGMkegMAAAAAAAAAAAAAZIxEbwCg4l166aWRy+Va/Ntll12aXl+7dm2ce+65MXLkyNhqq63imGOOiddff72ELa5MDz/8cBx55JExbty4yOVy8Ytf/KLF60mSxFe/+tUYO3ZsDBw4MA466KB48cUXW5RZtmxZnHjiiTF06NAYNmxYnHnmmfHOO+/0YC8qT0fzctppp7U6fw477LAWZcxL8c2ePTv22WefGDJkSIwaNSo++tGPxoIFC1qUSfPZ9corr8TMmTNj0KBBMWrUqJg1a1Zs3LixJ7tSUdLMy/vf//5W58ynP/3pFmXMCxROPNezxG2lIzYrLTFY6YizoPcQ1/U8sV3pifFKS4xXemI9KFxvOm+KER+WQz8jIiZMmNCqr7lcLs4999yIKO857amY89lnn40ZM2bEgAEDYvvtt49vfetb3d21Vtrr64YNG+LCCy+M3XbbLQYPHhzjxo2LU045JV577bUWx8j3Xrj88stblMl6XyOKF8eWQ1/znbu5XC6uuOKKpjLlMK89GRvPmTMn9tprr6iuro53vetdcdNNN3V39yqaRG8AoFfYddddY8mSJU3/Hn300abXPv/5z8c999wTd955Zzz00EPx2muvxdFHH13C1lamVatWxR577BFXX3113te/9a1vxZVXXhnXXXddPP744zF48OA49NBDY+3atU1lTjzxxHj++efjvvvui1/96lfx8MMPx6c+9ame6kJF6mheIiIOO+ywFufPj3/84xavm5fie+ihh+Lcc8+NP/zhD3HffffFhg0b4pBDDolVq1Y1lenos2vTpk0xc+bMWL9+fTz22GNx8803x0033RRf/epXS9GlipBmXiIizjrrrBbnTPObNOYFOk8813PEbaUjNistMVjpiLOgdxHX9SyxXemJ8UpLjFd6Yj0oXG87b7oSH5ZTP//4xz+26Od9990XERGf+MQnmsqU65z2RMy5YsWKOOSQQ2L8+PHx5JNPxhVXXBGXXnpp3HDDDd3ev+ba6+vq1avjqaeeiq985Svx1FNPxV133RULFiyIj3zkI63Kfu1rX2sx15/97GebXiuHvjbqahxbLn1t3sclS5bED3/4w8jlcnHMMce0KJf1ee2p2HjhwoUxc+bM+MAHPhDPPPNMXHDBBfEP//AP8bvf/a7H+lpxEgCACnfJJZcke+yxR97Xli9fnvTr1y+58847m7a98MILSUQk8+bN66EW9j4Rkfz85z9v+rmhoSEZM2ZMcsUVVzRtW758eVJdXZ38+Mc/TpIkSebPn59ERPLHP/6xqcxvf/vbJJfLJX//+997rO2VbMt5SZIkOfXUU5OjjjqqzX3MS8944403kohIHnrooSRJ0n12/eY3v0mqqqqSurq6pjLXXnttMnTo0GTdunU924EKteW8JEmSHHjggcn555/f5j7mBTpHPFc64rbSEZuVnhisdMRZULnEdaUltis9MV7pifFKT6wHhavk86ar8WG59DOf888/P5k0aVLS0NCQJEnlzGl3xZzXXHNNMnz48BZ9vfDCC5Odd965m3vUtnyx3ZaeeOKJJCKSxYsXN20bP3588p3vfKfNfcqlr8WIY8ulr1s66qijkg9+8IMttpXjvHZXbPxP//RPya677tqirmOPPTY59NBDu7tLFcs3egMAvcKLL74Y48aNix133DFOPPHEeOWVVyIi4sknn4wNGzbEQQcd1FR2l112iR122CHmzZtXqub2OgsXLoy6uroW81BTUxNTp05tmod58+bFsGHDYu+9924qc9BBB0VVVVU8/vjjPd7m3mTOnDkxatSo2HnnneOcc86JpUuXNr1mXnpGfX19RESMGDEiItJ9ds2bNy922223GD16dFOZQw89NFasWBHPP/98D7a+cm05L41uu+222HrrrWPy5Mlx0UUXxerVq5teMy/QeeK5bBC3lZ7YrOeIwUpHnAWVTVyXHWK77BDj9RwxXumJ9aBwlX7edCU+LKd+Nrd+/fq49dZb44wzzohcLte0vVLmtLlixZzz5s2LAw44IPr3799U5tBDD40FCxbE22+/3UO9KVx9fX3kcrkYNmxYi+2XX355jBw5Mt773vfGFVdcERs3bmx6rZz62tU4tpz62uj111+PX//613HmmWe2eq3c5rW7YuN58+a1OEZjGdf2nde31A0AAOhuU6dOjZtuuil23nnnWLJkSVx22WUxY8aMeO6556Kuri769+/f6sJq9OjRUVdXV5oG90KNY938YqDx58bX6urqYtSoUS1e79u3b4wYMcJcdaPDDjssjj766Jg4cWK8/PLL8eUvfzkOP/zwmDdvXvTp08e89ICGhoa44IILYvr06TF58uSIiFSfXXV1dXnPqcbX6Jp88xIRccIJJ8T48eNj3Lhx8eyzz8aFF14YCxYsiLvuuisizAt0lnguO8RtpSU26zlisNIRZ0FlE9dli9guG8R4PUeMV3piPShcpZ83XY0Py6WfW/rFL34Ry5cvj9NOO61pW6XM6ZaKFXPW1dXFxIkTWx2j8bXhw4d3S/u7Yu3atXHhhRfG8ccfH0OHDm3a/rnPfS722muvGDFiRDz22GNx0UUXxZIlS+Lb3/52RJRPX4sRx5ZLX5u7+eabY8iQIXH00Ue32F5u89qdsXFbZVasWBFr1qyJgQMHdkeXKppEbwCg4h1++OFN/7/77rvH1KlTY/z48fGTn/xEAAkdOO6445r+f7fddovdd989Jk2aFHPmzIkPfehDJWxZ73HuuefGc889F48++mipm0Izbc3Lpz71qab/32233WLs2LHxoQ99KF5++eWYNGlSTzcTKoZ4DjYTm/UcMVjpiLOgsonroDUxXs8R45WeWA8KV+nnTW+ND3/wgx/E4YcfHuPGjWvaVilzymYbNmyIT37yk5EkSVx77bUtXvvCF77Q9P+777579O/fP84+++yYPXt2VFdX93RTO623xrE//OEP48QTT4wBAwa02F5u8yo2Li9VpW4AAEBPGzZsWLz73e+Ol156KcaMGRPr16+P5cuXtyjz+uuvx5gxY0rTwF6ocaxff/31Ftubz8OYMWPijTfeaPH6xo0bY9myZeaqB+24446x9dZbx0svvRQR5qW7nXfeefGrX/0qHnzwwdhuu+2atqf57BozZkzec6rxNTqvrXnJZ+rUqRERLc4Z8wJdJ54rHXFbtojNuocYrHTEWdD7iOtKS2yXTWK87iHGKz2xHhSuN543hcaH5djPxYsXx/333x//8A//0G65SpnTYsWc5dT/xiTvxYsXx3333dfi27zzmTp1amzcuDEWLVoUEeXV1+Y6E8eWW18feeSRWLBgQYfnb0S257W7Y+O2ygwdOrSi/4inO0n0BgB6nXfeeSdefvnlGDt2bEyZMiX69esXv//975teX7BgQbzyyisxbdq0Erayd5k4cWKMGTOmxTysWLEiHn/88aZ5mDZtWixfvjyefPLJpjIPPPBANDQ0NN3ooPv97W9/i6VLl8bYsWMjwrx0lyRJ4rzzzouf//zn8cADD7R6jFeaz65p06bFX/7ylxY3UBpvJtXW1vZMRypMR/OSzzPPPBMR0eKcMS/QdeK50hG3ZYvYrLjEYKUjzoLeS1xXWmK7bBLjFZcYr/TEelC43nzeFBoflmM/f/SjH8WoUaNi5syZ7ZarlDktVsw5bdq0ePjhh2PDhg1NZe67777YeeedY/jw4T3Um441Jnm/+OKLcf/998fIkSM73OeZZ56JqqqqGDVqVESUT1+31Jk4ttz6+oMf/CCmTJkSe+yxR4dlszivPRUbT5s2rcUxGsu4tu+CBACgwn3xi19M5syZkyxcuDCZO3ductBBByVbb7118sYbbyRJkiSf/vSnkx122CF54IEHkj/96U/JtGnTkmnTppW41ZVn5cqVydNPP508/fTTSUQk3/72t5Onn346Wbx4cZIkSXL55Zcnw4YNS+6+++7k2WefTY466qhk4sSJyZo1a5qOcdhhhyXvfe97k8cffzx59NFHk5122ik5/vjjS9WlitDevKxcuTL5x3/8x2TevHnJwoULk/vvvz/Za6+9kp122ilZu3Zt0zHMS/Gdc845SU1NTTJnzpxkyZIlTf9Wr17dVKajz66NGzcmkydPTg455JDkmWeeSe69995km222SS666KJSdKkidDQvL730UvK1r30t+dOf/pQsXLgwufvuu5Mdd9wxOeCAA5qOYV6gc8RzPUvcVjpis9ISg5WOOAt6D3FdzxPblZ4Yr7TEeKUn1oPC9abzpqvxYbn0s9GmTZuSHXbYIbnwwgtbbC/3Oe2JmHP58uXJ6NGjk5NPPjl57rnnkjvuuCMZNGhQcv3112emr+vXr08+8pGPJNttt13yzDPPtDh/161blyRJkjz22GPJd77zneSZZ55JXn755eTWW29Nttlmm+SUU04pq74WK44th742qq+vTwYNGpRce+21rfYvl3ntqdj4f/7nf5JBgwYls2bNSl544YXk6quvTvr06ZPce++9PdbXSiPRGwCoeMcee2wyduzYpH///sm2226bHHvssclLL73U9PqaNWuSz3zmM8nw4cOTQYMGJR/72MeSJUuWlLDFlenBBx9MIqLVv1NPPTVJkiRpaGhIvvKVrySjR49Oqqurkw996EPJggULWhxj6dKlyfHHH59stdVWydChQ5PTTz89WblyZQl6Uznam5fVq1cnhxxySLLNNtsk/fr1S8aPH5+cddZZSV1dXYtjmJfiyzcnEZH86Ec/aiqT5rNr0aJFyeGHH54MHDgw2XrrrZMvfvGLyYYNG3q4N5Wjo3l55ZVXkgMOOCAZMWJEUl1dnbzrXe9KZs2aldTX17c4jnmBwonnepa4rXTEZqUlBisdcRb0HuK6nie2Kz0xXmmJ8UpPrAeF603nTTHiw3LoZ6Pf/e53SUS0irfKfU57Kub885//nOy///5JdXV1su222yaXX355T3WxSXt9XbhwYZvn74MPPpgkSZI8+eSTydSpU5OamppkwIAByXve857kG9/4Rovk6HLoazHj2Kz3tdH111+fDBw4MFm+fHmr/ctlXnsyNn7wwQeTPffcM+nfv3+y4447tqiDwuWSJEkCAAAAAAAAAAAAAIDMqCp1AwAAAAAAAAAAAAAAaEmiNwAAAAAAAAAAAABAxkj0BgAAAAAAAAAAAADIGIneAAAAAAAAAAAAAAAZI9EbAAAAAAAAAAAAACBjJHoDAAAAAAAAAAAAAGSMRG8AAAAAAAAAAAAAgIyR6A0AAAAAAAAAAAAAkDESvQEAAAAAAAAAAAAAMkaiNwAAAAAAAAAAAABAxkj0BgAAAAAAAAAAAADIGIneAAAAAAAAAAAAAAAZI9EbAAAAAAAAAAAAACBjJHoDAAAAAAAAAAAAAGSMRG8AAAAAAAAAAAAAgIyR6A0AAAAAAAAAAAAAkDESvQEAAAAAAAAAAAAAMkaiNwAAAAAAAAAAAABAxkj0BgAAAAAAAAAAAADIGIneAAAAAAAAAAAAAAAZI9EbAAAAAAAAAAAAACBjJHoDAAAAAAAAAAAAAGSMRG8AAAAAAAAAAAAAgIyR6A0AAAAAAAAAAAAAkDESvQEAAAAAAAAAAAAAMkaiNwAAAAAAAAAAAABAxkj0BgAAAAAAAAAAAADIGIneAAAAAAAAAAAAAAAZI9EbAAAAAAAAAAAAACBjJHoDAAAAAAAAAAAAAGSMRG8AAAAAAAAAAAAAgIyR6A0AAAAAAAAAAAAAkDESvQEAAAAAAAAAAAAAMkaiNwAAAAAAAAAAAABAxkj0BgAAAAAAAAAAAADIGIneAAAAAAAAAAAAAAAZI9EbAAAAAAAAAAAAACBjJHoDAAAAAAAAAAAAAGSMRG8AAAAAAAAAAAAAgIyR6A0AAAAAAAAAAAAAkDESvQEAAAAAAAAAAAAAMkaiNwAAAAAAAAAAAABAxkj0BgAAAAAAAAAAAADIGIneAAAAAAAAAAAAAAAZI9EbAAAAAAAAAAAAACBjJHoDAAAAAAAAAAAAAGSMRG8AAAAAAAAAAAAAgIyR6A0AAAAAAAAAAAAAkDESvQEAAAAAAAAAAAAAMkaiNwAAAAAAAAAAAABAxkj0BgAAAAAAAAAAAADIGIneAAAAAAAAAAAAAAAZI9EbAAAAAAAAAAAAACBjJHoDAAAAAAAAAAAAAGSMRG8AAAAAAAAAAAAAgIyR6A0AAAAAAAAAAAAAkDESvQEAAAAAAAAAAAAAMkaiNwAAAAAAAAAAAABAxkj0BgAAAAAAAAAAAADIGIneAAAAAAAAAAAAAAAZI9EbAAAAAAAAAAAAACBjJHoDAAAAAAAAAAAAAGSMRG8AAAAAAAAAAAAAgIyR6A0AAAAAAAAAAAAAkDESvQEAAAAAAAAAAAAAMkaiNwAAAAAAAAAAAABAxkj0BgAAAAAAAAAAAADIGIneAAAAAAAAAAAAAAAZI9EbAAAAAAAAAAAAACBjJHoDAAAAAAAAAAAAAGSMRG8AAAAAAAAAAAAAgIyR6A0AAAAAAAAAAAAAkDESvQEAAAAAAAAAAAAAMkaiNwAAAAAAAAAAAABAxkj0BgAAAAAAAAAAAADIGIneAAAAAAAAAAAAAAAZI9EbAAAAAAAAAAAAACBjJHoDAAAAAAAAAAAAAGSMRG8AAAAAAAAAAAAAgIyR6A0AAAAAAAAAAAAAkDESvQEAAAAAAAAAAAAAMkaiNwAAAAAAAAAAAABAxkj0BgAAAAAAAAAAAADIGIneAAAAAAAAAAAAAAAZI9EbAAAAAAAAAAAAACBjJHoDAAAAAAAAAAAAAGSMRG8AAAAAAAAAAAAAgIyR6A0AAAAAAAAAAAAAkDESvQEAAAAAAAAAAAAAMkaiNwAAAAAAAAAAAABAxkj0BgAAAAAAAAAAAADIGIneAAAAAAAAAAAAAAAZI9EbAAAAAAAAAAAAACBjJHoDAAAAAAAAAAAAAGSMRG8AAAAAAAAAAAAAgIyR6A0AAAAAAAAAAAAAkDESvQEAAAAAAAAAAAAAMkaiNwAAAAAAAAAAAABAxkj0BgAAAAAAAAAAAADIGIneAAAAAAAAAAAAAAAZI9EbAAAAAAAAAAAAACBjJHoDAAAAAAAAAAAAAGSMRG8AAAAAAAAAAAAAgIyR6A0AAAAAAAAAAAAAkDESvQEAAAAAAAAAAAAAMkaiNwAAAAAAAAAAAABAxkj0BgAAAAAAAAAAAADIGIneAAAAAAAAAAAAAAAZI9EbAAAAAAAAAAAAACBjJHoDAAAAAAAAAAAAAGSMRG8AAAAAAAAAAAAAgIyR6A0AAAAAAAAAAAAAkDESvQEAAAAAAAAAAAAAMkaiNwAAAAAAAAAAAABAxkj0BgAAAAAAAAAAAADIGIneAAAAAAAAAAAAAAAZI9EbAAAAAAAAAAAAACBjJHoDAAAAAAAAAAAAAGSMRG8AAAAAAAAAAAAAgIyR6A0AAAAAAAAAAAAAkDESvQEAAAAAAAAAAAAAMkaiNwAAAAAAAAAAAABAxkj0BgAAAAAAAAAAAADIGIneAAAAAAAAAAAAAAAZI9EbAAAAAAAAAAAAACBjJHoDAAAAAAAAAAAAAGSMRG8AAAAAAAAAAAAAgIyR6A0AAAAAAAAAAAAAkDESvQEAAAAAAAAAAAAAMkaiNwAAAAAAAAAAAABAxkj0BgAAAAAAAAAAAADIGIneAAAAAAAAAAAAAAAZI9EbAAAAAAAAAAAAACBjJHoDAAAAAAAAAAAAAGSMRG8AAAAAAAAAAAAAgIyR6A0AAAAAAAAAAAAAkDESvQEAAAAAAAAAAAAAMkaiNwAAZMRNN90UuVwuFi1aFBER73//++P9739/SdvU6LTTTosJEyZ0at8s9aOzLr300sjlcqVuBgDQjcRilWfLOS1EV8YcAAAAAACKRaI3AABARnzjG9+IX/ziF6VuBgAAAECv1vgHY/n+felLX4qIiAkTJsSHP/zhLtUzZ86cpuPeeuutectMnz49crlcTJ48udVrGzZsiCuvvDL22WefGDJkSGy11Vaxzz77xJVXXhkbNmxoVX7ChAmRy+Xis5/9bJtt+elPf9qlPgEApFWKmCuXy0V1dXWMHj063v/+98c3vvGNePPNN9vc9/nnn4+TTjoptt1226iuro5x48bFiSeeGM8//3yLcj/5yU8il8vFz3/+81bH2GOPPSKXy8WDDz7Y6rUddtgh9ttvvy71D6h8fUvdAAAAgKy7+OKLm24odadvfOMb8fGPfzw++tGPdntdAAC07cYbb4yGhoZSNwMAKLGvfe1rMXHixBbb8iVcd9WAAQPi9ttvj5NOOqnF9kWLFsVjjz0WAwYMaLXPqlWrYubMmfHQQw/Fhz/84TjttNOiqqoq7r333jj//PPjrrvuil//+tcxePDgVvveeOONcdFFF8W4ceOK3hcAgEL1VMz1uc99LvbZZ5/YtGlTvPnmm/HYY4/FJZdcEt/+9rfjJz/5SXzwgx9sUf6uu+6K448/PkaMGBFnnnlmTJw4MRYtWhQ/+MEP4qc//Wnccccd8bGPfSwiIvbff/+IiHj00UebtkVErFixIp577rno27dvzJ07Nz7wgQ80vfbqq6/Gq6++Gscdd1zR+wpUFoneAAAAHejbt2/07evyCQCgt+jXr1+pmwAAZMDhhx8ee++9d7fXc8QRR8Qvf/nLeOutt2Lrrbdu2n777bfH6NGjY6eddoq33367xT5f+MIX4qGHHorvf//7cd555zVtP+ecc+Lqq6+O8847L/7xH/8xrr322hb77brrrrFgwYK4/PLL48orr+zejgEApNBTMdeMGTPi4x//eIttf/7zn+OQQw6JY445JubPnx9jx46NiIiXX345Tj755Nhxxx3j4Ycfjm222aZpn/PPPz9mzJgRJ598cjz77LOx4447xrhx42LixInx6KOPtjj+vHnzIkmS+MQnPtHqtcafG5PEAdpSVeoGAAAA6TQ+VuwnP/lJXHbZZbHtttvGkCFD4uMf/3jU19fHunXr4oILLohRo0bFVlttFaeffnqsW7eu4Hp+8YtfxOTJk2PAgAExefLkvI8Yi4hoaGiI7373u7HrrrvGgAEDYvTo0XH22We3+qXTltavXx9f/epXY8qUKVFTUxODBw+OGTNmtHhcWZIkMWHChDjqqKNa7b927dqoqamJs88+O3WfGh/rNmfOnNh7771j4MCBsdtuu8WcOXMiYvNf5O+2224xYMCAmDJlSjz99NMt9r/00ksjl8u12JbL5eK8885rGq/q6urYdddd4957721R7rTTTosJEya0atOWx8zlcrFq1aq4+eabmx4dd9pppzW9/ve//z3OOOOMGD16dFNdP/zhD1sd9/vf/37suuuuMWjQoBg+fHjsvffecfvtt6ceKwAgP7HYZp2JxSIifvvb38aMGTNi8ODBMWTIkJg5c2aLR9w+8MADUVVVFV/96ldb7Hf77bdHLpdrkaDUGIfddtttsfPOOzfFcA8//HCH7bj77rtj5syZMW7cuKiuro5JkybF17/+9di0aVOLclvGcIsWLYpcLhf/9m//FjfccENMmjQpqqurY5999ok//vGPBY0FAMCWjjrqqKiuro4777yzxfbbb789PvnJT0afPn1abP/b3/4WP/jBD+KDH/xgiyTvRueee2584AMfiP/4j/+Iv/3tby1emzBhQpxyyilx4403xmuvvVb8zgAAlJE99tgjvvvd78by5cvjqquuatp+xRVXxOrVq+OGG25okeQdEbH11lvH9ddfH6tWrYpvfetbTdv333//ePrpp2PNmjVN2+bOnRu77rprHH744fGHP/yhxRPk5s6dG7lcLqZPn96NPQQqgURvAAAoM7Nnz47f/e538aUvfSnOOOOMuOuuu+LTn/50nHHGGfHf//3fcemll8bRRx8dN910U3zzm98s6Nj/9V//Fcccc0zkcrmYPXt2fPSjH43TTz89/vSnP7Uqe/bZZ8esWbNi+vTp8b3vfS9OP/30uO222+LQQw+NDRs2tFnHihUr4j/+4z/i/e9/f3zzm9+MSy+9NN5888049NBD45lnnomIzck7J510Uvz2t7+NZcuWtdj/nnvuiRUrVrR6lG1HXnrppTjhhBPiyCOPjNmzZ8fbb78dRx55ZNx2223x+c9/Pk466aS47LLL4uWXX45PfvKTLW60tOXRRx+Nz3zmM3HcccfFt771rVi7dm0cc8wxsXTp0oLaFhFxyy23RHV1dcyYMSNuueWWuOWWW5oSqF5//fV43/veF/fff3+cd9558b3vfS/e9a53xZlnnhnf/e53m45x4403xuc+97mora2N7373u3HZZZfFnnvuGY8//njB7QEA8hOLFR6L3XLLLTFz5szYaqut4pvf/GZ85Stfifnz58f+++8fixYtioiID37wg/GZz3wmZs+eHU899VRERCxZsiQ++9nPxkEHHRSf/vSnWxzzoYceigsuuCBOOumk+NrXvhZLly6Nww47LJ577rl223LTTTfFVlttFV/4whfie9/7XkyZMiW++tWvxpe+9KVUfbn99tvjiiuuiLPPPjv+5V/+JRYtWhRHH310u2MOAJSv+vr6eOutt1r86w6DBg2Ko446Kn784x83bfvzn/8czz//fJxwwgmtyv/2t7+NTZs2xSmnnNLmMU855ZTYuHFjqy8liIj453/+59i4cWNcfvnlxekAAEAX9FTM1ZaPf/zjMXDgwPiv//qvpm333HNPTJgwIWbMmJF3nwMOOCAmTJgQv/71r5u27b///rFhw4YWv5ebO3du7LfffrHffvtFfX19i3tXc+fOjV122SVGjhzZDb0CKkoCAABkwo9+9KMkIpKFCxcmSZIkBx54YHLggQc2vf7ggw8mEZFMnjw5Wb9+fdP2448/Psnlcsnhhx/e4njTpk1Lxo8fX1Ab9txzz2Ts2LHJ8uXLm7b913/9VxIRLY71yCOPJBGR3HbbbS32v/fee1tt37IfGzduTNatW9div7fffjsZPXp0csYZZzRtW7BgQRIRybXXXtui7Ec+8pFkwoQJSUNDQ+p+jR8/PomI5LHHHmva9rvf/S6JiGTgwIHJ4sWLm7Zff/31SUQkDz74YNO2Sy65JNny8ikikv79+ycvvfRS07Y///nPSUQk3//+95u2nXrqqXnnId8xBw8enJx66qmtyp555pnJ2LFjk7feeqvF9uOOOy6pqalJVq9enSRJkhx11FHJrrvu2vZAAABtEot1Tyy2cuXKZNiwYclZZ53VYntdXV1SU1PTYvuqVauSd73rXcmuu+6arF27Npk5c2YydOjQFrFakmyOwyIi+dOf/tS0bfHixcmAAQOSj33sY03btpzTJEma4qbmzj777GTQoEHJ2rVrm7ZtGcMtXLgwiYhk5MiRybJly5q233333UlEJPfcc0+q8QAAykNjHJHvX6Px48cnM2fO7FI9jTHmnXfemfzqV79Kcrlc8sorryRJkiSzZs1KdtxxxyRJNsd0ze/5XHDBBUlEJE8//XSbx37qqaeSiEi+8IUv5G3z6aefngwYMCB57bXXWrUFAKAnlCLmassee+yRDB8+PEmSJFm+fHkSEclRRx3V7nE/8pGPJBGRrFixIkmSJHn++eeTiEi+/vWvJ0mSJBs2bEgGDx6c3HzzzUmSJMno0aOTq6++OkmSJFmxYkXSp0+fVvfMAPLxjd4AAFBmTjnllOjXr1/Tz1OnTo0kSeKMM85oUW7q1Knx6quvxsaNG1Mdd8mSJfHMM8/EqaeeGjU1NU3bDz744KitrW1R9s4774yampo4+OCDW/x1/ZQpU2KrrbaKBx98sM16+vTpE/3794+IiIaGhli2bFls3Lgx9t5776Zvb4yIePe73x1Tp06N2267rWnbsmXL4re//W2ceOKJkcvlUvWrUW1tbUybNq3p56lTp0bE5m+P3GGHHVpt/5//+Z8Oj3nQQQfFpEmTmn7efffdY+jQoan2TStJkvjZz34WRx55ZCRJ0mK8Dz300Kivr28at2HDhsXf/va3+OMf/1i0+gGAlsRihcVi9913XyxfvjyOP/74Fm3t06dPTJ06tUVbBw0aFDfddFO88MILccABB8Svf/3r+M53vtMiVms0bdq0mDJlStPPO+ywQxx11FHxu9/9LjZt2tRmewYOHNj0/ytXroy33norZsyYEatXr46//vWvHfbn2GOPjeHDhzf93PitTsWM/wCA7Lj66qvjvvvua/GvuxxyyCExYsSIuOOOOyJJkrjjjjvi+OOPz1t25cqVERExZMiQNo/X+NqKFSvyvn7xxRf7Vm8AIBN6MuZqy1ZbbdUUY6WJtZq/3hhvvec974mRI0fGo48+GhGbn9CyatWq2G+//SIiYr/99ou5c+dGRMS8efNi06ZNsf/++xe/M0DF6VvqBgAAAIXZMtGlMRFo++23b7W9oaEh6uvrUz3ya/HixRERsdNOO7V6beedd26R+PPiiy9GfX19jBo1Ku+x3njjjXbruvnmm+Pf//3f469//WuLx9xPnDixRblTTjklzjvvvFi8eHGMHz8+7rzzztiwYUOcfPLJHfZnS4WMW0TE22+/XfAxIyKGDx+eat+03nzzzVi+fHnccMMNccMNN+Qt0zjeF154Ydx///2x7777xrve9a445JBD4oQTTojp06cXrT0A0NuJxQqLxV588cWI2PzHdfkMHTq0xc/Tp0+Pc845J66++uo49NBDWyXQN8o3Tu9+97tj9erV8eabb8aYMWPy7vf888/HxRdfHA888ECrpKf6+voO+7Pl/DcmfRcz/gMAsmPfffeNvffeu0fq6tevX3ziE5+I22+/Pfbdd9949dVX44QTTshbtjGpqDEJKZ+OEpR23HHHOPnkk+OGG26IL33pS11sPQBA5/VkzNWWd955pyluShNrNX+9sXwul4v99tsvHn744WhoaIi5c+fGqFGj4l3veldEbE70vuqqqyIimhK+JXoDaUj0BgCAMtOnT5+CtidJUvQ2NDQ0xKhRo1p8w2Nz22yzTZv73nrrrXHaaafFRz/60Zg1a1aMGjUq+vTpE7Nnz46XX365RdnjjjsuPv/5z8dtt90WX/7yl+PWW2+NvffeO3beeeeC29wd45Zm37a+7bK9b5psrqGhISIiTjrppDj11FPzltl9990jYvM3BSxYsCB+9atfxb333hs/+9nP4pprromvfvWrcdlll6WqDwBon1issFisMZa55ZZb8iZf9+3b8hb1unXrYs6cORER8fLLL8fq1atj0KBBqetrz/Lly+PAAw+MoUOHxte+9rWYNGlSDBgwIJ566qm48MILm9ranp6cZwCg9znhhBPiuuuui0svvTT22GOPVk92afSe97wnIiKeffbZ2HPPPfOWefbZZyMi2jxGRMQ///M/xy233BLf/OY346Mf/WiX2g4AUK42bNgQ//3f/x2TJ0+OiM1f4DB27NimeKotzz77bGy77bYtvshg//33j3vuuSf+8pe/xNy5c5u+zTtic6L3rFmz4u9//3s8+uijMW7cuNhxxx27p1NARZHoDQAARETE+PHjI+L/vnWxuQULFrT4edKkSXH//ffH9OnTY+DAgQXV89Of/jR23HHHuOuuu1okQV9yySWtyo4YMSJmzpwZt912W5x44okxd+7c+O53v1tQfaU2fPjwWL58eavtjd/a2Vy+pPBtttkmhgwZEps2bYqDDjqow/oGDx4cxx57bBx77LGxfv36OProo+Nf//Vf46KLLooBAwZ0qg8AQPer1Fhs0qRJERExatSoVLHMJZdcEi+88EL827/9W1x44YXxpS99Ka688spW5fKN03//93/HoEGD2kx0nzNnTixdujTuuuuuOOCAA5q2L1y4MG13AAC61f777x877LBDzJkzJ775zW+2We7www+PPn36xC233BKnnHJK3jL/7//9v+jbt28cdthhbR5n0qRJcdJJJ8X1118fU6dO7XL7AQDK0U9/+tNYs2ZNHHrooU3bPvzhD8eNN94Yjz76aN5v3X7kkUdi0aJFcfbZZ7fY3lj20Ucfjblz58YFF1zQ9NqUKVOiuro65syZE48//ngcccQR3dMhoOJUlboBAABANowdOzb23HPPuPnmm1s8tv6+++6L+fPntyj7yU9+MjZt2hRf//rXWx1n48aNeRObGzV+C2Lzbz18/PHHY968eXnLn3zyyTF//vyYNWtW9OnTJ4477rhCulVykyZNivr6+hZ/9b9kyZL4+c9/3qrs4MGDW41dnz594phjjomf/exn8dxzz7Xa580332z6/6VLl7Z4rX///lFbWxtJksSGDRu62BMAoDtVaix26KGHxtChQ+Mb3/hG3nikeSzz+OOPx7/927/FBRdcEF/84hdj1qxZcdVVV8VDDz3Uar958+bFU0891fTzq6++GnfffXcccsghHX7revO+r1+/Pq655pqC+gQA0F1yuVxceeWVcckll8TJJ5/cZrntt98+Tj/99Lj//vvj2muvbfX6ddddFw888ECceeaZsd1227Vb58UXXxwbNmyIb33rW11uPwBAufnzn/8cF1xwQQwfPjzOPffcpu2zZs2KgQMHxtlnn93q92/Lli2LT3/60zFo0KCYNWtWi9f23nvvGDBgQNx2223x97//vcU3eldXV8dee+0VV199daxatSpvAjlAPr7RGwAAaDJ79uyYOXNm7L///nHGGWfEsmXL4vvf/37suuuu8c477zSVO/DAA+Pss8+O2bNnxzPPPBOHHHJI9OvXL1588cW4884743vf+158/OMfz1vHhz/84bjrrrviYx/7WMycOTMWLlwY1113XdTW1raoo9HMmTNj5MiRceedd8bhhx8eo0aN6rb+d4fjjjsuLrzwwvjYxz4Wn/vc52L16tVx7bXXxrvf/e4WyUkRm/+S//77749vf/vbMW7cuJg4cWJMnTo1Lr/88njwwQdj6tSpcdZZZ0VtbW0sW7Ysnnrqqbj//vtj2bJlERFxyCGHxJgxY2L69OkxevToeOGFF+Kqq66KmTNnxpAhQ0rRfQCgAJUYiw0dOjSuvfbaOPnkk2OvvfaK4447LrbZZpt45ZVX4te//nVMnz49rrrqqli7dm2ceuqpsdNOO8W//uu/RkTEZZddFvfcc0+cfvrp8Ze//CUGDx7cdNzJkyfHoYceGp/73Oeiurq6KVn7sssua7Mt++23XwwfPjxOPfXU+NznPhe5XC5uueWWFonfAACFeOmll+Jf/uVfWm1/73vfGzNnzuzUMY866qg46qijOiz3ne98J/7617/GZz7zmbj33nubvrn7d7/7Xdx9991x4IEHxr//+793eJzGb/W++eabO9VeAIDuVqyY65FHHom1a9fGpk2bYunSpTF37tz45S9/GTU1NfHzn/88xowZ01R2p512iptvvjlOPPHE2G233eLMM8+MiRMnxqJFi+IHP/hBvPXWW/HjH/+46Wl2jfr37x/77LNPPPLII1FdXR1Tpkxp8fp+++3XFKNJ9AbSkugNAAA0Oeyww+LOO++Miy++OC666KKYNGlS/OhHP4q777475syZ06LsddddF1OmTInrr78+vvzlL0ffvn1jwoQJcdJJJ8X06dPbrOO0006Lurq6uP766+N3v/td1NbWxq233hp33nlnqzoiNt8QOfbYY+Oaa65p95uMsmrkyJHx85//PL7whS/EP/3TP8XEiRNj9uzZ8eKLL7ZK9P72t78dn/rUp+Liiy+ONWvWxKmnnhpTp06N0aNHxxNPPBFf+9rX4q677oprrrkmRo4cGbvuumuLx/ieffbZcdttt8W3v/3teOedd2K77baLz33uc3HxxRf3dLcBgE6o1FjshBNOiHHjxsXll18eV1xxRaxbty623XbbmDFjRpx++ukREfHlL385XnrppXjsscdiwIABTXXffPPN8b73vS9mzZrV4pu3DzzwwJg2bVpcdtll8corr0RtbW3cdNNNsfvuu7fZjpEjR8avfvWr+OIXvxgXX3xxDB8+PE466aT40Ic+1OLRvAAAaS1YsCC+8pWvtNp+5plndjrRO62tttoqfv/738c111wTt956a8yaNSuSJIlddtklvvvd78ZnPvOZ6NevX6pjXXzxxXHrrbfGpk2burXNAACdUayY68orr4yIiH79+sWwYcPiPe95T1x22WVx1llnxTbbbNOq/Cc+8YnYZZddYvbs2U3J3SNHjowPfOAD8eUvfzkmT56ct579998/HnnkkZgyZUpUV1e3eG369Onx7//+7zFkyJDYY489Urcd6N1yia8rAQAAMu7zn/98/OAHP4i6uroYNGhQqZsDANCrZC0Wy+Vyce6558ZVV11V6qYAAAAAAEC3qip1AwAAANqzdu3auPXWW+OYY47JRGIRAEBvIhYDAAAAAIDS6VvqBgAAAN2vvr4+1qxZ026ZMWPG9FBr0nnjjTfi/vvvj5/+9KexdOnSOP/881uVefPNN9t9pGz//v1jxIgR3dlMAIAOicUAAHqXNWvWRH19fbtlRowYEf379++hFgEAVB4xF9BbSPQGAIBe4Pzzz4+bb7653TJJkvRQa9KZP39+nHjiiTFq1Ki48sorY88992xVZp999onFixe3eYwDDzww5syZ032NBABIQSwGANC7/Od//mecfvrp7ZZ58MEH4/3vf3/PNAgAoAKJuYDeIpdk7TcIAABA0c2fPz9ee+21dsscdNBBPdSa4pk7d2673445fPjwmDJlSg+2CACgNbEYAEDvsmTJknj++efbLTNlypQYPnx4D7UIAKDyiLmA3kKiNwAAAAAAAAAAAABAxlSVugEAAAAAAAAAAAAAALTUt9QNAAAoloaGhnjttddiyJAhkcvlSt0cAKBIkiSJlStXxrhx46Kqyt+sZ4G4CwAql9gre8ReAFCZxF3ZI+4CgMpVzrGXRG8AoGK89tprsf3225e6GQBAN3n11Vdju+22K3UzCHEXAPQGYq/sEHsBQGUTd2WHuAsAKl85xl4SvQGAijFkyJCI2ByUDR06tMStAQCKZcWKFbH99ts3rfWUnrgLACqX2Ct7xF4AUJnEXdkj7gKAylXOsZdEbwCgYjQ+Qm3o0KFuvgBABfK41OwQdwFA5RN7ZYfYCwAqm7grO8RdAFD5yjH2qip1AwAAAAAAAAAAAAAAaEmiNwAAAAAAAAAAAABAxkj0BgAAAAAAAAAAAADIGIneAAAAAAAAAAAAAAAZI9EbAAAAAAAAAAAAACBjJHoDAAAAAAAAAAAAAGSMRG8AAAAAAAAAAAAAgIyR6A0AAAAAAAAAAAAAkDESvQEAAAAAAAAAAAAAMkaiNwAAAAAAAAAAAABAxkj0BgAAAAAAAAAAAADIGIneAAAAAAAAAAAAAAAZI9EbAAAAAAAAAAAAACBjJHoDAAAAAAAAAAAAAGSMRG8AAAAAAAAAAAAAgIyR6A0AAAAAAAAAAAAAkDESvQEAAAAAAAAAAAAAMkaiNwAAAAAAAAAAAABAxkj0BgAAAAAAAAAAAADIGIneAAAAAAAAAAAAAAAZI9EbAAAAAAAAAAAAACBjJHoDAAAAAAAAAAAAAGSMRG8AAAAAAAAAAAAAgIyR6A0AAAAAAAAAAAAAkDESvQEAAAAAAAAAAAAAMkaiNwAAAAAAAAAAAABAxkj0BgAAAAAAAAAAAADIGIneAAAAAAAAAAAAAAAZI9EbAAAAAAAAAAAAACBjJHoDAAAAAAAAAAAAAGSMRG8AAAAAAAAAAAAAgIyR6A0AAAAAAAAAAAAAkDESvQEAAAAAAAAAAAAAMkaiNwAAAAAAAAAAAABAxvQtdQMAALJuU0MSTyxcFm+sXBujhgyIfSeOiD5VuVI3CwAAACiQa3wAgNITkwEd8TkBAP9HojcAQDvufW5JXHbP/FhSv7Zp29iaAXHJkbVx2OSxJWwZAAAAUAjX+AAApScmAzricwIAWqoqdQMAALLq3ueWxDm3PtXiJkJERF392jjn1qfi3ueWlKhlAAAAQCFc4wMAlJ6YDOiIzwkAaE2iNwBAHpsakrjsnvmR5Hmtcdtl98yPTQ35SgAAAABZ4RofAKD0xGRAR3xOAEB+Er0BAPJ4YuGyVn8p3lwSEUvq18YTC5f1XKMAAACAgrnGBwAoPTEZ0BGfEwCQn0RvAIA83ljZ9k2EzpQDAAAASsM1PgBA6YnJgI74nACA/CR6AwDkMWrIgKKWAwAAAErDNT4AQOmJyYCO+JwAgPwkegMA5LHvxBExtmZA5Np4PRcRY2sGxL4TR/RkswAAAIACucYHACg9MRnQEZ8TAJCfRG8AgDz6VOXikiNrIyJa3Uxo/PmSI2ujT1VbtxoAAACALHCNDwBQemIyoCM+JwAgP4neAABtOGzy2Lj2pL1iTE3Lx3+NqRkQ1560Vxw2eWyJWgYAAAAUwjU+AEDpicmAjvicAIDW+pa6AQAAWXbY5LFxcO2YeGLhsnhj5doYNWTz48D8pTgAAACUF9f4AAClJyYDOuJzAgBakugNANCBPlW5mDZpZKmbAQAAAHSRa3wAgNITkwEd8TkBAP+nqtQNAAAAAAAAAAAAAACgJYneAAAAAAAAAAAAAAAZI9EbAAAAAAAAAAAAACBjJHoDAAAAAAAAAAAAAGSMRG8AAAAAAAAAAAAAgIyR6A0AAAAAAAAAAAAAkDESvQEAAAAAAAAAAAAAMkaiNwAAAAAAAAAAAABAxkj0BgAAAAAAAAAAAADIGIneAAAAAAAAAAAAAAAZI9EbAAAAAAAAAAAAACBjJHoDAAAAAAAAAAAAAGSMRG8AAAAAAAAAAAAAgIyR6A0AAAAAAAAAAAAAkDESvQEAAAAAAAAAAAAAMkaiNwAAAAAAAAAAAABAxkj0BgAAAAAAAAAAAADIGIneAAAAAAAAAAAAAAAZI9EbAAAAAAAAAAAAACBjJHoDAAAAAAAAAAAAAGSMRG8AAAAAAAAAAAAAgIyR6A0AAAAAAAAAAAAAkDESvQEAAAAAAAAAAAAAMkaiNwAAAAAAAAAAAABAxkj0BgAAAAAAAAAAAADIGIneAAAAAAAAAAAAAAAZI9EbAAAAAAAAAAAAACBjJHoDAAAAAAAAAAAAAGSMRG8AAAAAAAAAAAAAgIyR6A0AAAAAAAAAAAAAkDESvQEAAAAAAAAAAAAAMkaiNwAAAAAAAAAAAABAxkj0BgAAAAAAAAAAAADIGIneAAAAAAAAAAAAAAAZI9EbAAAAAAAAAAAAACBjJHoDAAAAAAAAAAAAAGSMRG8AAAAAAAAAAAAAgIyR6A0AAAAAAAAAAAAAkDESvQEAAAAAAAAAAAAAMkaiNwAAAAAAAAAAAABAxkj0BgAAAAAAAAAAAADIGIneAAAAAAAAAAAAAAAZI9EbAAAAAAAAAAAAACBjJHoDAAAAAAAAAAAAAGSMRG8AAAAAAAAAAAAAgIyR6A0AAAAAAAAAAAAAkDESvQEAAAAAAAAAAAAAMkaiNwAAAAAAAAAAAABAxkj0BgAAAAAAAAAAAADIGIneAAAAAAAAAAAAAAAZI9EbAAAAAAAAAAAAACBjJHoDAAAAAAAAAAAAAGSMRG8AAAAAAAAAAAAAgIyR6A0AAAAAAAAAAAAAkDESvQEAAAAAAAAAAAAAMkaiNwAAAAAAAAAAAABAxkj0BgC6bPbs2bHPPvvEkCFDYtSoUfHRj340FixY0KLM2rVr49xzz42RI0fGVlttFcccc0y8/vrrLcq88sorMXPmzBg0aFCMGjUqZs2aFRs3buzJrgAAZJq4CwCg54i9AAB6hrgLAKBtEr0BgC576KGH4txzz40//OEPcd9998WGDRvikEMOiVWrVjWV+fznPx/33HNP3HnnnfHQQw/Fa6+9FkcffXTT65s2bYqZM2fG+vXr47HHHoubb745brrppvjqV79aii4BAGSSuAsAoOeIvQAAeoa4CwCgbbkkSZJSNwIAqCxvvvlmjBo1Kh566KE44IADor6+PrbZZpu4/fbb4+Mf/3hERPz1r3+N97znPTFv3rx43/veF7/97W/jwx/+cLz22msxevToiIi47rrr4sILL4w333wz+vfv32G9K1asiJqamqivr4+hQ4d2ax8BgJ5jjW+buAsAKDbrfNvEXgBAMVnj2ybuAgCKrZzXed/oDQAUXX19fUREjBgxIiIinnzyydiwYUMcdNBBTWV22WWX2GGHHWLevHkRETFv3rzYbbfdmm68REQceuihsWLFinj++ed7sPUAAOVD3AUA0HPEXgAAPUPcBQDwf/qWugEAQGVpaGiICy64IKZPnx6TJ0+OiIi6urro379/DBs2rEXZ0aNHR11dXVOZ5jdeGl9vfC2fdevWxbp165p+XrFiRbG6AQCQeeIuAICeI/YCAOgZ4i4AgJZ8ozcAUFTnnntuPPfcc3HHHXd0e12zZ8+Ompqapn/bb799t9cJAJAV4i4AgJ4j9gIA6BniLgCAliR6AwBFc95558WvfvWrePDBB2O77bZr2j5mzJhYv359LF++vEX5119/PcaMGdNU5vXXX2/1euNr+Vx00UVRX1/f9O/VV18tYm8AALJL3AUA0HPEXgAAPUPcBQDQmkRvAKDLkiSJ8847L37+85/HAw88EBMnTmzx+pQpU6Jfv37x+9//vmnbggUL4pVXXolp06ZFRMS0adPiL3/5S7zxxhtNZe67774YOnRo1NbW5q23uro6hg4d2uIfAEAlE3cBAPQcsRcAQM8QdwEAtK1vqRsAAJS/c889N26//fa4++67Y8iQIVFXVxcRETU1NTFw4MCoqamJM888M77whS/EiBEjYujQofHZz342pk2bFu973/siIuKQQw6J2traOPnkk+Nb3/pW1NXVxcUXXxznnntuVFdXl7J7AACZIe4CAOg5Yi8AgJ4h7gIAaFsuSZKk1I0AAMpbLpfLu/1HP/pRnHbaaRERsXbt2vjiF78YP/7xj2PdunVx6KGHxjXXXNPiUWmLFy+Oc845J+bMmRODBw+OU089NS6//PLo2zfd36atWLEiampqor6+3l/cA0AFscb/H3EXANDdrPP/R+wFAHQna/z/EXcBAN2tnNd5id4AQMUo56AMAGibNT57zAkAVC7rfPaYEwCoTNb47DEnAFC5ynmdryp1AwAAAAAAAAAAAAAAaEmiNwAAAAAAAAAAAABAxkj0BgAAAAAAAAAAAADIGIneAAAAAAAAAAAAAAAZI9EbAAAAAAAAAAAAACBjJHoDAAAAAAAAAAAAAGSMRG8AAAAAAAAAAAAAgIyR6A0AAAAAAAAAAAAAkDESvQEAAAAAAAAAAAAAMkaiNwAAAAAAAAAAAABAxkj0BgAAAAAAAAAAAADIGIneAAAAAAAAAAAAAAAZI9EbAAAAAAAAAAAAACBjJHoDAAAAAAAAAAAAAGSMRG8AAAAAAAAAAAAAgIyR6A0AAAAAAAAAAAAAkDESvQEAAAAAAAAAAAAAMkaiNwAAAAAAAAAAAABAxkj0BgAAAAAAAAAAAADIGIneAAAAAAAAAAAAAAAZI9EbAAAAAAAAAAAAACBjJHoDAAAAAAAAAAAAAGSMRG8AAAAAAAAAAAAAgIyR6A0AAAAAAAAAAAAAkDESvQEAAAAAAAAAAAAAMkaiNwAAAAAAAAAAAABAxkj0BgAAAAAAAAAAAADIGIneAAAAAAAAAAAAAAAZI9EbAAAAAAAAAAAAACBjJHoDAAAAAAAAAAAAAGSMRG8AAAAAAAAAAAAAgIyR6A0AAAAAAAAAAAAAkDESvQEAAAAAAAAAAAAAMkaiNwAAAAAAAAAAAABAxkj0BgAAAAAAAAAAAADIGIneAAAAAAAAAAAAAAAZI9EbAAAAAAAAAAAAACBjJHoDAAAAAAAAAAAAAGSMRG8AAAAAAAAAAAAAgIyR6A0AAAAAAAAAAAAAkDESvQEAAAAAAAAAAAAAMkaiNwAAAAAAAAAAAABAxkj0BgAAAAAAAAAAAADIGIneAAAAAAAAAAAAAAAZI9EbAAAAAAAAAAAAACBjJHoDAAAAAAAAAAAAAGSMRG8AAAAAAAAAAAAAgIyR6A0AAAAAAAAAAAAAkDESvQEAAAAAAAAAAAAAMkaiNwAAAAAAAAAAAABAxkj0BgAAAAAAAACA/8/eHYZGdt/3wv/NSK0nNNrZq23kmX1wgrJtE6tq8zzbIGchfcCNXY8D4pr6jYMX0mJirqgLrRvykBetKlowKaUFl3TNfSg1RW1f9EUTlBeC4OD4BjZWatUvFIUSL4LUycjirthZ2TBbR5r7YitlJxrteqWZOf8z8/mAiDXnrPJbhPT//s9+zxwAAEiMojcAAAAAAAAAAAAAQGIUvQEAAAAAAAAAAAAAEqPoDQAAAAAAAAAAAACQGEVvAAAAAAAAAAAAAIDEKHoDAAAAAAAAAAAAACRG0RsAAAAAAAAAAAAAIDGK3gAAAAAAAAAAAAAAiVH0BgAAAAAAAAAAAABIjKI3AAAAAAAAAAAAAEBiFL0BAAAAAAAAAAAAABKj6A0AAAAAAAAAAAAAkBhFbwAAAAAAAAAAAACAxCh6AwAAAAAAAAAAAAAkRtEbAAAAAAAAAAAAACAxit4AAAAAAAAAAAAAAIlR9AYAAAAAAAAAAAAASIyiNwAAAAAAAAAAAABAYhS9AQAAAAAAAAAAAAASo+gNAAAAAAAAAAAAAJAYRW8AAAAAAAAAAAAAgMQoegMAAAAAAAAAAAAAJEbRGwAAAAAAAAAAAAAgMYreAAAAAAAAAAAAAACJUfQGAAAAAAAAAAAAAEiMojcAAAAAAAAAAAAAQGIUvQEAAAAAAAAAAAAAEqPoDQAAAAAAAAAAAACQGEVvAAAAAAAAAAAAAIDEKHoDAAAAAAAAAAAAACRG0RsAAAAAAAAAAAAAIDGK3gAAAAAAAAAAAAAAiVH0BgAAAAAAAAAAAABIjKI3AAAAAAAAAAAAAEBiFL0BAAAAAAAAAAAAABKj6A0AAAAAAAAAAAAAkBhFbwAAAAAAAAAAAACAxCh6AwAAAAAAAAAAAAAkRtEbAAAAAAAAAAAAACAxit4AAAAAAAAAAAAAAIlR9AYAAAAAAAAAAAAASIyiNwAAAAAAAAAAAABAYhS9AQAAAAAAAAAAAAASo+gNAAAAAAAAAAAAAJAYRW8AAAAAAAAAAAAAgMQoegMAAAAAAAAAAAAAJEbRGwAAAAAAAAAAAAAgMYreAAAAAAAAAAAAAACJUfQGAAAAAAAAAAAAAEiMojcAAAAAAAAAAAAAQGIUvQEAAAAAAAAAAAAAEqPoDQAAAAAAAAAAAACQGEVvAAAAAAAAAAAAAIDEKHoDAAAAAAAAAAAAACRG0RsAAAAAAAAAAAAAIDGK3gAAAAAAAAAAAAAAiVH0BgAAAAAAAAAAAABIjKI3AAAAAAAAAAAAAEBiFL0BAAAAAAAAAAAAABKj6A0AAAAAAAAAAAAAkBhFbwAAAAAAAAAAAACAxCh6AwAAAAAAAAAAAAAkRtEbAAAAAAAAAAAAACAxit4AAAAAAAAAAAAAAIlR9AYAAAAAAAAAAAAASIyiNwAAAAAAAAAAAABAYhS9AQAAAAAAAAAAAAASo+gNAAAAAAAAAAAAAJAYRW8AAAAAAAAAAAAAgMQoegMAAAAAAAAAAAAAJEbRGwAAAAAAAAAAAAAgMYreAAAAAAAAAAAAAACJUfQGAAAAAAAAAAAAAEiMojcAAAAAAAAAAAAAQGIUvQEAAAAAAAAAAAAAEqPoDQAAAAAAAAAAAACQGEVvAAAAAAAAAAAAAIDEKHoDAAAAAAAAAAAAACRG0RsAAAAAAAAAAAAAIDGK3gAAAAAAAAAAAAAAiVH0BgAAAAAAAAAAAABIjKI3AAAAAAAAAAAAAEBiFL0BAAAAAAAAAAAAABKj6A0AAAAAAAAAAAAAkBhFbwAAAAAAAAAAAACAxCh6AwAAAAAAAAAAAAAkRtEbAAAAAAAAAAAAACAxit4AAAAAAAAAAAAAAIlR9AYAAAAAAAAAAAAASIyiNwAAAAAAAAAAAABAYhS9AQAAAAAAAAAAAAASo+gNAAAAAAAAAAAAAJAYRW8AAAAAAAAAAAAAgMQoegMAAAAAAAAAAAAAJEbRGwAAAAAAAAAAAAAgMYreAAAAAAAAAAAAAACJUfQGAAAAAAAAAAAAAEiMojcAAAAAAAAAAAAAQGIUvQEAAAAAAAAAAAAAEqPoDQAAAAAAAAAAAACQGEVvAAAAAAAAAAAAAIDEKHoDAAAAAAAAAAAAACRG0RsAAAAAAAAAAAAAIDGK3gAAAAAAAAAAAAAAiVH0BgAAAAAAAAAAAABIjKI3AAAAAAAAAAAAAEBiFL0BAAAAAAAAAAAAABKj6A0AAAAAAAAAAAAAkBhFbwAAAAAAAAAAAACAxCh6AwAAAAAAAAAAAAAkRtEbAAAAAAAAAAAAACAxit4AAAAAAAAAAAAAAIlR9AYAAAAAAAAAAAAASIyiNwAAAAAAAAAAAABAYhS9AQAAAAAAAAAAAAASo+gNAAAAAAAAAAAAAJAYRW8AAAAAAAAAAAAAgMQoegMAAAAAAAAAAAAAJEbRGwAAAAAAAAAAAAAgMYreAAAAAAAAAAAAAACJUfQGAAAAAAAAAAAAAEiMojcAAAAAAAAAAAAAQGIUvQEAAAAAAAAAAAAAEqPoDQAAAAAAAAAAAACQGEVvAAAAAAAAAAAAAIDEKHoDAAAAAAAAAAAAACRG0RsAAAAAAAAAAAAAIDGK3gAAAAAAAAAAAAAAiVH0BgBO7JVXXonZ2dk4e/ZsFAqF+MpXvtJ2/Ld/+7ejUCi0fdRqtbZztre348knn4xTp07F6dOn46mnnoq33367j38LAIB8kL0AAPpD7gIA6B/ZCwCgM0VvAODE3nnnnfjYxz4WX/7yl488p1arRb1eP/j4p3/6p7bjTz75ZHz3u9+Nr3/96/G1r30tXnnllXj66ad7PToAQO7IXgAA/SF3AQD0j+wFANDZaNYDAAD59+ijj8ajjz5623PuueeeqFQqHY9973vfi+Xl5fjOd74TH//4xyMi4q//+q/j05/+dPzFX/xFnD17tuszAwDklewFANAfchcAQP/IXgAAnXlHbwCgL15++eWYmJiIj3zkIzE3NxdXr149OHb58uU4ffr0wUWXiIiHHnooisVivPrqq0d+zRs3bsT169fbPgAA6H72krsAADpzzQsAoH9c8wIAhpGiNwDQc7VaLf7+7/8+XnrppfjSl74U3/zmN+PRRx+N3d3diIjY3NyMiYmJtj8zOjoa4+Pjsbm5eeTXfe6556JcLh983HfffT39ewAA5EEvspfcBQBwmGteAAD945oXADCsRrMeAAAYfE888cTBf//Kr/xK/Oqv/mqcO3cuXn755fjUpz517K/7xS9+MZ599tmDz69fv+4CDAAw9HqRveQuAIDDXPMCAOgf17wAgGHlHb0BgL778Ic/HD//8z8fb7zxRkREVCqV2Nraajvnxz/+cWxvb0elUjny69xzzz1x6tSptg8AANp1I3vJXQAAd+aaFwBA/7jmBQAMC0VvAKDv3nzzzbh69WpUq9WIiLhw4UJcu3YtXnvttYNzvvGNb8Te3l488MADWY0JADAQZC8AgP6QuwAA+kf2AgCGxWjWAwAA+ff2228f3C0fEbGxsRGvv/56jI+Px/j4eCwsLMTjjz8elUolrly5El/4whfiF37hF+KRRx6JiIj7778/arVafO5zn4sXXngh3n333XjmmWfiiSeeiLNnz2b11wIASJLsBQDQH3IXAED/yF4AAJ0VWq1WK+shAIB8e/nll+PBBx889PpnP/vZuHTpUjz22GPxb//2b3Ht2rU4e/Zs/OZv/mb86Z/+adx7770H525vb8czzzwTS0tLUSwW4/HHH4/nn38+3v/+97/nOa5fvx7lcjkajYZHqwHAALHGt0she/meAMDgss7/RAq5K8L3BAAGlTW+XQrZy/cEAAZXntd5RW8AYGDkOZQBAEezxqfH9wQABpd1Pj2+JwAwmKzx6fE9AYDBled1vpj1AAAAAAAAAAAAAAAAtFP0BgAAAAAAAAAAAABIjKI3AAAAAAAAAAAAAEBiFL0BAAAAAAAAAAAAABKj6A0AAAAAAAAAAAAAkBhFbwAAAAAAAAAAAACAxCh6AwAAAAAAAAAAAAAkRtEbAAAAAAAAAAAAACAxit4AAAAAAAAAAAAAAIlR9AYAAAAAAAAAAAAASIyiNwAAAAAAAAAAAABAYhS9AQAAAAAAAAAAAAASo+gNAAAAAAAAAAAAAJAYRW8AAAAAAAAAAAAAgMQoegMAAAAAAAAAAAAAJEbRGwAAAAAAAAAAAAAgMYreAAAAAAAAAAAAAACJUfQGAAAAAAAAAAAAAEiMojcAAAAAAAAAAAAAQGIUvQEAAAAAAAAAAAAAEqPoDQAAAAAAAAAAAACQGEVvAAAAAAAAAAAAAIDEKHoDAAAAAAAAAAAAACRG0RsAAAAAAAAAAAAAIDGK3gAAAAAAAAAAAAAAiVH0BgAAAAAAAAAAAABIjKI3AAAAAAAAAAAAAEBiFL0BAAAAAAAAAAAAABKj6A0AAAAAAAAAAAAAkBhFbwAAAAAAAAAAAACAxCh6AwAAAAAAAAAAAAAkRtEbAAAAAAAAAAAAACAxit4AAAAAAAAAAAAAAIlR9AYAAAAAAAAAAAAASIyiNwAAAAAAAAAAAABAYhS9AQAAAAAAAAAAAAASo+gNAAAAAAAAAAAAAJAYRW8AAAAAAAAAAAAAgMQoegMAAAAAAAAAAAAAJEbRGwAAAAAAAAAAAAAgMYreAAAAAAAAAAAAAACJUfQGAAAAAAAAAAAAAEiMojcAAAAAAAAAAAAAQGIUvQEAAAAAAAAAAAAAEqPoDQAAAAAAAAAAAACQGEVvAAAAAAAAAAAAAIDEKHoDAAAAAAAAAAAAACRG0RsAAAAAAAAAAAAAIDGK3gAAAAAAAAAAAAAAiVH0BgAAAAAAAAAAAABIjKI3AAAAAAAAAAAAAEBiFL0BAAAAAAAAAAAAABKj6A0AAAAAAAAAAAAAkBhFbwAAAAAAAAAAAACAxCh6AwAAAAAAAAAAAAAkRtEbAAAAAAAAAAAAACAxit4AAAAAAAAAAAAAAIlR9AYAAAAAAAAAAAAASIyiNwAAAAAAAAAAAABAYhS9AQAAAAAAAAAAAAASo+gNAAAAAAAAAAAAAJAYRW8AAAAAAAAAAAAAgMQoegMAAAAAAAAAAAAAJEbRGwAAAAAAAAAAAAAgMYreAAAAAAAAAAAAAACJUfQGAAAAAAAAAAAAAEiMojcAAAAAAAAAAAAAQGIUvQEAAAAAAAAAAAAAEqPoDQAAAAAAAAAAAACQGEVvAAAAAAAAAAAAAIDEKHoDAAAAAAAAAAAAACRG0RsAAAAAAAAAAAAAIDGK3gAAAAAAAAAAAAAAiVH0BgAAAAAAAAAAAABIjKI3AAAAAAAAAAAAAEBiFL0BAAAAAAAAAAAAABKj6A0AAAAAAAAAAAAAkBhFbwAAAAAAAAAAAACAxCh6AwAAAAAAAAAAAAAkRtEbAAAAAAAAAAAAACAxit4AAAAAAAAAAAAAAIlR9AYAAAAAAAAAAAAASIyiNwAAAAAAAAAAAABAYhS9AQAAAAAAAAAAAAASo+gNAAAAAAAAAAAAAJAYRW8AAAAAAAAAAAAAgMQoegMAAAAAAAAAAAAAJEbRGwAAAAAAAAAAAAAgMYreAAAAAAAAAAAAAACJUfQGAAAAAAAAAAAAAEiMojcAAAAAAAAAAAAAQGIUvQEAAAAAAAAAAAAAEqPoDQAAAAAAAAAAAACQGEVvAAAAAAAAAAAAAIDEKHoDAAAAAAAAAAAAACRG0RsAAAAAAAAAAAAAIDGK3gAAAAAAAAAAAAAAiVH0BgAAAAAAAAAAAABIjKI3AAAAAAAAAAAAAEBiFL0BAAAAAAAAAAAAABKj6A0AAAAAAAAAAAAAkBhFbwAAAAAAAAAAAACAxCh6AwAAAAAAAAAAAAAkRtEbAAAAAAAAAAAAACAxit4AAAAAAAAAAAAAAIlR9AYAAAAAAAAAAAAASIyiNwAAAAAAAAAAAABAYhS9AQAAAAAAAAAAAAASo+gNAAAAAAAAAAAAAJAYRW8AAAAAAAAAAAAAgMQoegMAAAAAAAAAAAAAJEbRGwAAAAAAAAAAAAAgMYreAAAAAAAAAAAAAACJUfQGAAAAAAAAAAAAAEiMojcAAAAAAAAAAAAAQGIUvQEAAAAAAAAAAAAAEqPoDQAAAAAAAAAAAACQGEVvAAAAAAAAAAAAAIDEKHoDAAAAAAAAAAAAACRG0RsAAAAAAAAAAAAAIDGK3gAAAAAAAAAAAAAAiVH0BgAAAAAAAAAAAABIjKI3AAAAAAAAAAAAAEBiFL0BAAAAAAAAAAAAABKj6A0AAAAAAAAAAAAAkBhFbwAAAAAAAAAAAACAxCh6AwAAAAAAAAAAAAAkRtEbAAAAAAAAAAAAACAxit4AAAAAAAAAAAAAAIlR9AYAAAAAAAAAAAAASIyiNwAAAAAAAAAAAABAYhS9AQAAAAAAAAAAAAASo+gNAAAAAAAAAAAAAJAYRW8AAAAAAAAAAAAAgMQoegMAAAAAAAAAAAAAJEbRGwAAAAAAAAAAAAAgMYreAAAAAAAAAAAAAACJUfQGAAAAAAAAAAAAAEiMojcAAAAAAAAAAAAAQGIUvQEAAAAAAAAAAAAAEqPoDQAAAAAAAAAAAACQGEVvAAAAAAAAAAAAAIDEKHoDAAAAAAAAAAAAACRG0RsAAAAAAAAAAAAAIDGK3gAAAAAAAAAAAAAAiVH0BgAAAAAAAAAAAABIjKI3AAAAAAAAAAAAAEBiFL0BAAAAAAAAAAAAABKj6A0AAAAAAAAAAAAAkBhFbwAAAAAAAAAAAACAxCh6AwAAAAAAAAAAAAAkRtEbAAAAAAAAAAAAACAxit4AAAAAAAAAAAAAAIlR9AYAAAAAAAAAAAAASIyiNwAAAAAAAAAAAABAYhS9AQAAAAAAAAAAAAASo+gNAAAAAAAAAAAAAJAYRW8AAAAAAAAAAAAAgMQoegMAAAAAAAAAAAAAJEbRGwAAAAAAAAAAAAAgMYreAAAAAAAAAAAAAACJUfQGAAAAAAAAAAAAAEiMojcAAAAAAAAAAAAAQGIUvQEAAAAAAAAAAAAAEqPoDQAAAAAAAAAAAACQGEVvAAAAAAAAAAAAAIDEjGY9AAAAg2V3rxUrG9uxtdOMibFSzEyOx0ixkPVYAABAwuwjAIA8kV0AgJTIJgCDTdEbAICuWV6rx8LSetQbzYPXquVSzM9ORW26muFkAABAquwjAIA8kV0AgJTIJgCDr5j1AAAADIbltXrMLa62XUSIiNhsNGNucTWW1+oZTQYAAKTKPgIAyBPZBQBIiWwCMBwUvQEAOLHdvVYsLK1Hq8Ox/dcWltZjd6/TGQAAwDCyjwAA8kR2AQBSIpsADA9FbwAATmxlY/vQneK3akVEvdGMlY3t/g0FAAAkzT4CAMgT2QUASIlsAjA8FL0BADixrZ2jLyIc5zwAAGDw2UcAAHkiuwAAKZFNAIaHojcAACc2MVbq6nkAAMDgs48AAPJEdgEAUiKbAAwPRW8AAE5sZnI8quVSFI44XoiIarkUM5Pj/RwLAABImH0EAJAnsgsAkBLZBGB4KHoDAHBiI8VCzM9ORUQcupiw//n87FSMFI+61AAAAAwb+wgAIE9kFwAgJbIJwPBQ9AYAoCtq09W4dPF8VMrtj/+qlEtx6eL5qE1XM5oMAABIlX0EAJAnsgsAkBLZBGA4jGY9AAAAg6M2XY2HpyqxsrEdWzvNmBi7+Tgwd4oDAABHsY8AAPJEdgEAUiKbAAw+RW8AALpqpFiIC+fOZD0GAACQI/YRAECeyC4AQEpkE4DBVsx6AAAg/1555ZWYnZ2Ns2fPRqFQiK985Sttx1utVvzxH/9xVKvVeN/73hcPPfRQfP/73287Z3t7O5588sk4depUnD59Op566ql4++23+/i3AADIB9kLAKA/5C4AgP6RvQAAOlP0BgBO7J133omPfexj8eUvf7nj8T//8z+P559/Pl544YV49dVX4+d+7ufikUceiWazeXDOk08+Gd/97nfj61//enzta1+LV155JZ5++ul+/RUAAHJD9gIA6A+5CwCgf2QvAIDOCq1Wq5X1EADA4CgUCvEv//Iv8dhjj0XEzbvrz549G3/4h38Yn//85yMiotFoxL333hsvvvhiPPHEE/G9730vpqam4jvf+U58/OMfj4iI5eXl+PSnPx1vvvlmnD179j39f1+/fj3K5XI0Go04depUT/5+AED/WeOPllX28j0BgMFlne/MNS8AoNus8UdzzQsA6LY8r/Pe0RsA6KmNjY3Y3NyMhx566OC1crkcDzzwQFy+fDkiIi5fvhynT58+uOgSEfHQQw9FsViMV1999civfePGjbh+/XrbBwDAMOtV9pK7AADaueYFANA/rnkBAMNM0RsA6KnNzc2IiLj33nvbXr/33nsPjm1ubsbExETb8dHR0RgfHz84p5PnnnsuyuXywcd9993X5ekBAPKlV9lL7gIAaOeaFwBA/7jmBQAMM0VvACC3vvjFL0aj0Tj4+I//+I+sRwIAGEhyFwBA/8heAAD9IXcBAHmg6A0A9FSlUomIiLfeeqvt9bfeeuvgWKVSia2trbbjP/7xj2N7e/vgnE7uueeeOHXqVNsHAMAw61X2krsAANq55gUA0D+ueQEAw0zRGwDoqcnJyahUKvHSSy8dvHb9+vV49dVX48KFCxERceHChbh27Vq89tprB+d84xvfiL29vXjggQf6PjMAQF7JXgAA/SF3AQD0j+wFAAyz0awHAADy7+2334433njj4PONjY14/fXXY3x8PD74wQ/G7//+78ef/dmfxS/+4i/G5ORk/NEf/VGcPXs2HnvssYiIuP/++6NWq8XnPve5eOGFF+Ldd9+NZ555Jp544ok4e/ZsRn8rAIA0yV4AAP0hdwEA9I/sBQDQmaI3AHBi//qv/xoPPvjgwefPPvtsRER89rOfjRdffDG+8IUvxDvvvBNPP/10XLt2LT75yU/G8vJylEqlgz/zD//wD/HMM8/Epz71qSgWi/H444/H888/3/e/CwBA6mQvAID+kLsAAPpH9gIA6KzQarVaWQ8BANAN169fj3K5HI1GI06dOpX1OABAl1jj0+N7AgCDyzqfHt8TABhM1vj0+J4AwODK8zpfzHoAAAAAAAAAAAAAAADaKXoDAAAAAAAAAAAAACRG0RsAAAAAAAAAAAAAIDGK3gAAAAAAAAAAAAAAiVH0BgAAAAAAAAAAAABIjKI3AAAAAAAAAAAAAEBiFL0BAAAAAAAAAAAAABKj6A0AAAAAAAAAAAAAkBhFbwAAAAAAAAAAAACAxCh6AwAAAAAAAAAAAAAkRtEbAAAAAAAAAAAAACAxit4AAAAAAAAAAAAAAIlR9AYAAAAAAAAAAAAASIyiNwAAAAAAAAAAAABAYhS9AQAAAAAAAAAAAAASo+gNAAAAAAAAAAAAAJAYRW8AAAAAAAAAAAAAgMQoegMAAAAAAAAAAAAAJEbRGwAAAAAAAAAAAAAgMaNZDwAAAMNud68VKxvbsbXTjImxUsxMjsdIsZD1WAAwMKy1AACHyUgAAP0hdwEAJ6HoDQAAGVpeq8fC0nrUG82D16rlUszPTkVtuprhZAAwGKy1AACHyUgAAP0hdwEAJ1XMegAAABhWy2v1mFtcbbu4FxGx2WjG3OJqLK/VM5oMAAaDtRYA4DAZCQCgP+QuAKAbFL0BACADu3utWFhaj1aHY/uvLSytx+5epzMAgDux1gIAHCYjAQD0h9wFAHSLojcAAGRgZWP70Ds43KoVEfVGM1Y2tvs3FAAMEGstAMBhMhIAQH/IXQBAtyh6AwBABrZ2jr64d5zzAIB21loAgMNkJACA/pC7AIBuUfQGAIAMTIyVunoeANDOWgsAcJiMBADQH3IXANAtit4AAJCBmcnxqJZLUTjieCEiquVSzEyO93MsABgY1loAgMNkJACA/pC7AIBuUfQGAIAMjBQLMT87FRFx6CLf/ufzs1MxUjzqEiAAcDvWWgCAw2QkAID+kLsAgG5R9AYAgIzUpqtx6eL5qJTbH8tXKZfi0sXzUZuuZjQZAAwGay0AwGEyEgBAf8hdAEA3jGY9AAAADLPadDUenqrEysZ2bO00Y2Ls5mP6vIMDAHSHtRYA4DAZCQCgP+QuAOCkFL0BACBjI8VCXDh3JusxAGBgWWsBAA6TkQAA+kPuAgBOopj1AAAAAAAAAAAAAAAAtFP0BgAAAAAAAAAAAABIjKI3AAAAAAAAAAAAAEBiFL0BAAAAAAAAAAAAABKj6A0AAAAAAAAAAAAAkBhFbwAAAAAAAAAAAACAxCh6AwAAAAAAAAAAAAAkRtEbAAAAAAAAAAAAACAxit4AAAAAAAAAAAAAAIlR9AYAAAAAAAAAAAAASIyiNwAAAAAAAAAAAABAYhS9AQAAAAAAAAAAAAASo+gNAAAAAAAAAAAAAJAYRW8AAAAAAAAAAAAAgMQoegMAAAAAAAAAAAAAJEbRGwAAAAAAAAAAAAAgMYreAAAAAAAAAAAAAACJUfQGAAAAAAAAAAAAAEiMojcAAAAAAAAAAAAAQGIUvQEAAAAAAAAAAAAAEqPoDQAAAAAAAAAAAACQGEVvAAAAAAAAAAAAAIDEKHoDAAAAAAAAAAAAACRG0RsAAAAAAAAAAAAAIDGK3gAAAAAAAAAAAAAAiVH0BgAAAAAAAAAAAABIjKI3AAAAAAAAAAAAAEBiFL0BAAAAAAAAAAAAABKj6A0AAAAAAAAAAAAAkBhFbwAAAAAAAAAAAACAxCh6AwAAAAAAAAAAAAAkRtEbAAAAAAAAAAAAACAxit4AAAAAAAAAAAAAAIlR9AYAAAAAAAAAAAAASIyiNwAAAAAAAAAAAABAYhS9AQAAAAAAAAAAAAASo+gNAAAAAAAAAAAAAJAYRW8AAAAAAAAAAAAAgMQoegMAAAAAAAAAAAAAJEbRGwAAAAAAAAAAAAAgMYreAAAAAAAAAAAAAACJUfQGAAAAAAAAAAAAAEiMojcAAAAAAAAAAAAAQGIUvQEAAAAAAAAAAAAAEqPoDQAAAAAAAAAAAACQGEVvAAAAAAAAAAAAAIDEKHoDAAAAAAAAAAAAACRG0RsAAAAAAAAAAAAAIDGK3gAAAAAAAAAAAAAAiVH0BgAAAAAAAAAAAABIjKI3AAAAAAAAAAAAAEBiFL0BAAAAAAAAAAAAABKj6A0AAAAAAAAAAAAAkBhFbwAAAAAAAAAAAACAxCh6AwAAAAAAAAAAAAAkRtEbAAAAAAAAAAAAACAxit4AAAAAAAAAAAAAAIlR9AYAAAAAAAAAAAAASIyiNwAAAAAAAAAAAABAYhS9AQAAAAAAAAAAAAASo+gNAAAAAAAAAAAAAJAYRW8AAAAAAAAAAAAAgMQoegMAAAAAAAAAAAAAJEbRGwAAAAAAAAAAAAAgMYreAAAAAAAAAAAAAACJUfQGAAAAAAAAAAAAAEiMojcAAAAAAAAAAAAAQGIUvQEAAAAAAAAAAAAAEqPoDQAAAAAAAAAAAACQGEVvAAAAAAAAAAAAAIDEKHoDAAAAAAAAAAAAACRG0RsAAAAAAAAAAAAAIDGK3gAAAAAAAAAAAAAAiVH0BgAAAAAAAAAAAABIjKI3AAAAAAAAAAAAAEBiFL0BAAAAAAAAAAAAABKj6A0AAAAAAAAAAAAAkBhFbwAAAAAAAAAAAACAxCh6AwAAAAAAAAAAAAAkRtEbAAAAAAAAAAAAACAxit4AAAAAAAAAAAAAAIlR9AYAAAAAAAAAAAAASMxo1gMAAAAMit29VqxsbMfWTjMmxkoxMzkeI8VC1mMBADCEZFMA6B3rLAAAw0T+hWwpegMAAHTB8lo9FpbWo95oHrxWLZdifnYqatPVDCcDAGDYyKYA0DvWWQAAhon8C9krZj0AAABA3i2v1WNucbXtAkdExGajGXOLq7G8Vs9oMgAAho1sCgC9Y50FAGCYyL+QBkVvAACAE9jda8XC0nq0Ohzbf21haT129zqdAQAA3SObAkDvWGcBABgm8i+kQ9EbAADgBFY2tg/dxX6rVkTUG81Y2dju31AAAAwl2RQAesc6CwDAMJF/IR2K3gAAACewtXP0BY7jnAcAAMclmwJA71hnAQAYJvIvpEPRGwAA4AQmxkpdPQ8AAI5LNgWA3rHOAgAwTORfSIeiNwAAwAnMTI5HtVyKwhHHCxFRLZdiZnK8n2MBADCEZFMA6B3rLAAAw0T+hXQoegMAAJzASLEQ87NTERGHLnTsfz4/OxUjxaMugwAAQHfIpgDQO9ZZAACGifwL6VD0BgAAOKHadDUuXTwflXL7o8kq5VJcung+atPVjCYDAGDYyKYA0DvWWQAAhon8C2kYzXoAAACAQVCbrsbDU5VY2diOrZ1mTIzdfFSZu9gBAOg32RQAesc6CwDAMJF/IXuK3gAAAF0yUizEhXNnsh4DAABkUwDoIessAADDRP6FbBWzHgAAAAAAAAAAAAAAgHaK3gAAAAAAAAAAAAAAiVH0BgAAAAAAAAAAAABIjKI3AAAAAAAAAAAAAEBiFL0BAAAAAAAAAAAAABKj6A0AAAAAAAAAAAAAkBhFbwAAAAAAAAAAAACAxIxmPQAAAINld68VKxvbsbXTjImxUsxMjsdIsZD1WAAA0DUyLwAAdI98DQDAoJFx6SZFbwAAumZ5rR4LS+tRbzQPXquWSzE/OxW16WqGkwEAQHfIvAAA0D3yNQAAg0bGpduKWQ8AAMBgWF6rx9ziattmJSJis9GMucXVWF6rZzQZAAB0h8wLAADdI18DADBoZFx6QdEbAIAT291rxcLSerQ6HNt/bWFpPXb3Op0BAADpk3kBAKB75GsAAAaNjEuvKHoDAHBiKxvbh+5IvVUrIuqNZqxsbPdvKAAA6CKZFwAAuke+BgBg0Mi49IqiNwAAJ7a1c/Rm5TjnAQBAamReAADoHvkaAIBBI+PSK4reAACc2MRYqavnAQBAamReAADoHvkaAIBBI+PSK6NZDwAAQP7NTI5HtVyKzUYzWh2OFyKiUi7FzOR4v0fjBHb3WrGysR1bO82YGLv5/RspFrIeCwAgEzIv3SJnAwD9knLukK8BuJ2U1zCAo8i49IqiNwAAJzZSLMT87FTMLa5GIaJt07J/yWV+dsoFmBxZXqvHwtJ61Bs/eWxUtVyK+dmpqE1XM5wMACAbMi/dIGcDAP2Seu6QrwE4SuprGMBRZFx6pZj1AAAADIbadDUuXTwflXL7Y4Yq5VJcunjehZccWV6rx9ziatsFtIiIzUYz5hZXY3mtntFkAADZknk5CTkbAOiXvOQO+RqAn5aXNQzgKDIuveAdvQEA6JradDUenqp4lFqO7e61YmFpveOjpFpx807jhaX1eHiq4vsKAAwlmZfjkLMBgH7JW+6QrwHYl7c1DOAoMi7dpugNAEBXjRQLceHcmazH4JhWNrYPvUvCrVoRUW80Y2Vj2/cZABhaMi93S84GAPolj7lDvgYgIp9rGMBRZFy6qZj1AAAAQDq2do6+gHac8wAAADkbAOgfuQOAvLKGAUBnit4AAMCBibFSV88DAADkbACgf+QOAPLKGgYAnSl6AwAAB2Ymx6NaLkXhiOOFiKiWSzEzOd7PsQAAINfkbACgX+QOAPLKGgYAnSl6AwAAB0aKhZifnYqIOHQhbf/z+dmpGCkedZkNAAD4aXI2ANAvcgcAeWUNA4DOFL0BAIA2telqXLp4Pirl9kffVcqluHTxfNSmqxlNBgAA+SVnAwD9IncAkFfWMAA4bDTrAQAAgPTUpqvx8FQlVja2Y2unGRNjNx+F510SAADg+ORsAKBf5A4A8soaBgDtFL0BAICORoqFuHDuTNZjAADAQJGzAYB+kTsAyCtrGAD8hKI3AADQ0e5ey7slAADkkBwHAECEXAgAcBQ5CcgTRW8AAOCQ5bV6LCytR73RPHitWi7F/OxU1KarGU4GAMDtyHEAAETIhQAAR5GTgLwpZj0AAACQluW1eswtrrZd3IiI2Gw0Y25xNZbX6hlNBgDA7chxAABEyIUAAEeRk4A8UvQGAAAO7O61YmFpPVodju2/trC0Hrt7nc4AACArchwAABFyIQDAUeQkIK8UvQEA7mB3rxWXr1yNr77+w7h85aqNHQNtZWP70B3st2pFRL3RjJWN7f4NBQDIpNyRHAcADArZ92TkQgAGgTxAL8hJQF6NZj0AAEDKltfqsbC03rbhq5ZLMT87FbXpaoaTQW9s7Rx9ceM45wEAJyeT8l7IcQDAIJB9T04uBCDv5AF6RU4C8so7egMAHGF5rR5zi6uH7urdbDRjbnE1ltfqGU0GvTMxVurqeQDAycikvFdyHACQd7Jvd8iFAOSZPEAvyUlAXil6AwB0sLvXioWl9ej0ELD91xaW1j0mjIEzMzke1XIpCkccL8TNd02YmRzv51gAMJRkUu6GHAcA5Jns2z1yIQB5JQ/Qa3ISkFeK3gAAHaxsbB+6U/xWrYioN5qxsrHdv6GgD0aKhZifnYqIOHSRY//z+dmpGCkedQkEAOgWmZS7IccBAHkm+3aPXAhAXskD9JqcBOSVojcAQAdbO0dfRDjOeZAntelqXLp4Pirl9seSVcqluHTxfNSmqxlNBgDDRSblbslxAEBeyb7dJRcCkEfyAP0gJwF5NJr1AAAAKZoYK935pLs4D/KmNl2Nh6cqsbKxHVs7zZgYu/mYMnewA0D/yKQchxwHAOSR7Nt9ciEAeSMP0C9yEpA3it4AAB3MTI5HtVyKzUYzWh2OF+LmXb0zk+P9Hg36ZqRYiAvnzmQ9BgAMLZmU45LjAIC8kX17Qy4EIE/kAfpJTgLypJj1AAAAKRopFmJ+dioibl40uNX+5/OzU+7qBQCgZ2RSAACGhewLAMgDANCZojcAwBFq09W4dPF8VMrtj/+qlEtx6eL5qE1XM5oMAIBhIZMCADAsZF8AQB4AgMNGsx4AACBltelqPDxViZWN7djaacbE2M3HgblTHACAfpFJAQAYFrIvACAPAEA7RW8AgDsYKRbiwrkzWY8BAMAQk0kBABgWsi8AIA8AwE8Usx4AAAAAAAAAAAAAAIB2it4AAAAAAAAAAAAAAIlR9AYAAAAAAAAAAAAASIyiNwAAAAAAAAAAAABAYhS9AQAAAAAAAAAAAAASo+gNAAAAAAAAAAAAAJAYRW8AAAAAAAAAAAAAgMQoegMAAAAAAAAAAAAAJEbRGwAAAAAAAAAAAAAgMYreAAAAAAAAAAAAAACJUfQGAAAAAAAAAAAAAEiMojcA0HN/8id/EoVCoe3jox/96MHxZrMZv/u7vxtnzpyJ97///fH444/HW2+9leHEAAD5JXsBAPSP7AUA0B9yFwAwrBS9AYC++OVf/uWo1+sHH9/61rcOjv3BH/xBLC0txT//8z/HN7/5zfjRj34Uv/Vbv5XhtAAA+SZ7AQD0j+wFANAfchcAMIxGsx4AABgOo6OjUalUDr3eaDTib//2b+Mf//Ef4zd+4zciIuLv/u7v4v77749vf/vb8YlPfKLfowIA5J7sBQDQP7IXAEB/yF0AwDDyjt4AQF98//vfj7Nnz8aHP/zhePLJJ+MHP/hBRES89tpr8e6778ZDDz10cO5HP/rR+OAHPxiXL1++7de8ceNGXL9+ve0DIEu7e624fOVqfPX1H8blK1djd6+V9UjAkOp29pK7juZ3PwAge5EXsisAeSd3AWTDXgKy5R29AYCee+CBB+LFF1+Mj3zkI1Gv12NhYSF+/dd/PdbW1mJzczN+9md/Nk6fPt32Z+69997Y3Ny87dd97rnnYmFhoYeTA7x3y2v1WFhaj3qjefBatVyK+dmpqE1XM5wMGDa9yF5yV2d+9wMAshd5IbsCkHdyF0A27CUge4VWq+X2CgCgr65duxYf+tCH4i//8i/jfe97X/zO7/xO3Lhxo+2cmZmZePDBB+NLX/rSkV/nxo0bbX/u+vXrcd9990Wj0YhTp071bH6An7a8Vo+5xdX46c1V4b/+99LF8y50wAlcv349yuWyNf6YupG95K7D/O4HYFDJXicje5Ei2RUgTXLXychdAL1nL8EgyXP2KmY9AAAwfE6fPh2/9Eu/FG+88UZUKpX4z//8z7h27VrbOW+99VZUKpXbfp177rknTp061fYB0G+7e61YWFo/dIEjIg5eW1ha9wgzIDPdyF5yVzu/+wGAo8hepEZ2BWBQyV0AvWUvAelQ9AYA+u7tt9+OK1euRLVajV/7tV+Ln/mZn4mXXnrp4Pi///u/xw9+8IO4cOFChlMCvDcrG9ttjyr7aa2IqDeasbKx3b+hAG4he3Wf3/0AwFFkL1IjuwIwqOQugN6yl4B0jGY9AAAw+D7/+c/H7OxsfOhDH4of/ehHMT8/HyMjI/GZz3wmyuVyPPXUU/Hss8/G+Ph4nDp1Kn7v934vLly4EJ/4xCeyHh3gjrZ2jr7AcZzzAE5K9uo9v/sBgH2yF6mTXQEYFHIXQH/ZS0A6FL0BgJ5788034zOf+UxcvXo1PvCBD8QnP/nJ+Pa3vx0f+MAHIiLir/7qr6JYLMbjjz8eN27ciEceeST+5m/+JuOpAd6bibFSV88DOCnZq/f87gcA9slepE52BWBQyF0A/WUvAekotFqtVtZDAAB0w/Xr16NcLkej0YhTp05lPQ4wJHb3WvHJL30jNhvN6LS5KkREpVyKb/1/vxEjxUK/x4OBYI1Pz7B/T/zuB2CQDfs6nyLfE05CdgVIlzU+Pb4nAD9hL8GgyfM6X8x6AAAAgDwbKRZifnYqIm5e0LjV/ufzs1MucAAMEL/7AQDIC9kVAAA4DnsJSIeiNwAAwAnVpqtx6eL5qJTbH01WKZfi0sXzUZuuZjQZAL3idz8AAHkhuwIAAMdhLwFpGM16AAAAgEFQm67Gw1OVWNnYjq2dZkyMlWJmctxd7AADzO9+AADyQnYFAACOw14CsqfoDQAA0CUjxUJcOHcm6zEA6CO/+wEAyAvZFQAAOA57CchWMesBAAAAAAAAAAAAAABop+gNAAAAAAAAAAAAAJAYRW8AAAAAAAAAAAAAgMSMZj0AAEDqdvdasbKxHVs7zZgYK8XM5HiMFAtZjwUAwG3IcAAAkE+yPADA3ZGfAAabojcAwG0sr9VjYWk96o3mwWvVcinmZ6eiNl3NcDIAAI4iwwEAQD7J8gAAd0d+Ahh8xawHAABI1fJaPeYWV9s2xRERm41mzC2uxvJaPaPJAAA4igwHAAD5JMsDANwd+QlgOCh6AwB0sLvXioWl9Wh1OLb/2sLSeuzudToDAIAsyHAAAJBPsjwAwN2RnwCGh6I3AEAHKxvbh+58vlUrIuqNZqxsbPdvqJzY3WvF5StX46uv/zAuX7nq4gEA0DcyHHQmowMAqZPloXvkf4DhID/RT/IFZGs06wEAAFK0tXP0pvg45w2L5bV6LCytt11UqJZLMT87FbXpaoaTAQDDQIaDw2R0ACAPZHnoDvkfYHjIT/SLfAHZ847eAAAdTIyVunreMFheq8fc4uqhO8c3G82YW1yN5bV6RpMBAMNChoN2MjoAkBeyPJyc/A8wXOQn+kG+gDQoegMAdDAzOR7VcikKRxwvxM27VGcmx/s5VrJ291qxsLQenR7QtP/awtK6RzgBAD0lw8FPyOgAQJ7I8nAy8j/A8JGf6DX5AtKh6A0A0MFIsRDzs1MREYc2x/ufz89OxUjxqK3zcFnZ2D50F++tWhFRbzRjZWO7f0MBAANtd68Vl69cja++/sO4fOVq7O61ZDi4hYwOAOSJLA8nI/8DDB/5iV6TL06m079hwHGNZj0AAECqatPVePr/nYz//39tROuWzF0oRHzu1yejNl3NbrjEbO0cvcE7znkAALezvFaPhaX1tovM1XIp5menojZdjUsXzx86XrnlOAwDGR0AyBvXY+H45H+A4eRaKL0kXxzfnf4NA+6WojcAwBGW1+rxP1/ZOPQoor1WxP98ZSP+nw/+NyH8v0yMlbp6HgDAUZbX6jG3uHooo202mjG3uBqXLp6P2nQ1Hp6qxMrGdmztNGNi7OYjSr17DcNERgcA8sb1WDg++R9geLkWSq/IF8fzXv8NA+5GMesBAABStLvXioWl9UPh+1YLS+ser/NfZibHo1ouHXos2L5C3LxDdWZyvJ9jAQAD5nYZbf+1/Yw2UizEhXNn4r//3/9XXDh3xj9sMHRkdAAgT1yPhZOR/wGGm2uh9IJ8cffu5t8w4G4oegMAdLCysd32GJ2f1oqIeqMZKxvb/RsqYSPFQszPTkVEHNro7X8+PzvlogIAcCIyGrx3MjoAkCeyPpyM/A8AdJt8cffsa+gVRW8AgA62do4O38c5bxjUpqtx6eL5qJTbH81UKZc8fggA6AoZDe6OjA4A5IWsDycn/wMA3SZf3B37GnplNOsBAABSNDFWuvNJd3HesKhNV+PhqUqsbGzH1k4zJsZuPqrJXbwAQDfIaHD3ZHQAIA9kfegO+R8A6Db54r2zr6FXFL0BADqYmRyParkUm41mtDocL8TNu1RnJsf7PVryRoqFuHDuTNZjAAADSEaD45HRAYDUyfrQPfI/ANBt8sV7Y19DrxSzHgAAIEUjxULMz05FxM2wfav9z+dnp9ylCgDQRzIaAAAMJlkfAADIO/saekXRGwDgCLXpaly6eD4q5fbH5lTKpbh08XzUpqsZTQYAMLxkNAAAGEyyPgAAkHf2NfTCaNYDAACkrDZdjYenKrGysR1bO82YGLv5GB13WAIAZEdGAwCAwSTrAwAAeWdfQ7cpegMA3MFIsRAXzp3JegwAAG4howEAwGCS9QEAgLyzr6GbilkPAAAAAAAAAAAAAABAO0VvAAAAAAAAAAAAAIDEKHoDAAAAAAAAAAAAACRmNOsBAABSt7vXipWN7djaacbEWClmJsdjpFjIeiwAAAAg7NsB4CjWSACAzuQkIE8UvQEAbmN5rR4LS+tRbzQPXquWSzE/OxW16WqGkwEAAAD27QDQmTUSAKAzOQnIm2LWAwAApGp5rR5zi6ttG7yIiM1GM+YWV2N5rZ7RZAAAAIB9OwB0Zo0EAOhMTgLySNEbAKCD3b1WLCytR6vDsf3XFpbWY3ev0xkAAABAL9m3A0Bn1kgAgM7kJCCvFL0BADpY2dg+dBfvrVoRUW80Y2Vju39DcSK7e624fOVqfPX1H8blK1dt0AEAgNyxr/kJ+3YA6MwaicwI6fFzCWmQk4C8Gs16AACAFG3tHL3BO855ZGt5rR4LS+ttG/dquRTzs1NRm65mOBkAAMB7Y1/Tzr4dADqzRg43mRHS4+cS0iEnAXnlHb0BADqYGCt19Tyys7xWj7nF1UN3Z282mjG3uBrLa/WMJgMAAHhv7GsOs28HgM6skcNLZoT0+LmEtMhJQF4pegMAdDAzOR7VcikKRxwvxM277Wcmx/s5Fndpd68VC0vr0ekBePuvLSyte0QeAACQLPuazuzbAaAza+RwkhkhPX4uIT1yEpBXit4AAB2MFAsxPzsVEXFoo7f/+fzsVIwUj9oGkoKVje1D75Jwq1ZE1BvNWNnY7t9QAAAAd8G+pjP7dgDozBo5nGRGSI+fS0iPnATklaI3AMARatPVuHTxfFTK7Y9mqpRLceni+ahNVzOajPdqa+foC2jHOQ8AAKDf7GuOZt8OAJ1ZI4ePzAjp8XMJaZKTgDwazXoAAICU1aar8fBUJVY2tmNrpxkTYzcf1eQu3nyYGCvd+aS7OA8AAKDf7Gtuz74dADqzRg4XmRHS4+cS0iUnAXmj6A0AcAcjxUJcOHcm6zE4hpnJ8aiWS7HZaEarw/FC3Lw7e2ZyvN+jAQAAvCf2NXdm3w4AnVkjh4fMCOnxcwlpk5OAPClmPQAAAPTKSLEQ87NTEXHzgtmt9j+fn51ydzYAAJAs+xoAAO5EZoT0+LkEALpF0RsAgIFWm67GpYvno1Juf/RdpVyKSxfPR226mtFkAAAA7419DQAAdyIzQnr8XAIA3TCa9QAAANBrtelqPDxViZWN7djaacbE2M1H4XmXBAAAIC/sawAAuBOZEdLj5xIAOClFbwAAhsJIsRAXzp3Jeoxc2d1rufAIAAB9dKcMbl8DwEm41gPDQWYEAIDBougNAAAcsrxWj4Wl9ag3mgevVculmJ+d8ihBAADoARkcgF6yzgBANqzBAMBJFbMeAAAASMvyWj3mFlfbLjpGRGw2mjG3uBrLa/WMJgMAgMEkgwPQS9YZAMiGNRgA6OSMtdwAALtESURBVAZFbwAA4MDuXisWltaj1eHY/msLS+uxu9fpDAAA4G7J4AD0knUGALJhDQYAukXRGwAAOLCysX3onSVu1YqIeqMZKxvb/RsKAAAGmAwOQC9ZZwAgG9ZgAKBbFL0BAIADWztHX3Q8znkAAMDtyeAA9JJ1BgCyYQ0GALpF0RsAADgwMVbq6nkAAMDtyeAA9JJ1BgCyYQ0GALpF0RsAADgwMzke1XIpCkccL0REtVyKmcnxfo4FAAADSwYHoJesMwCQDWswANAtit4AAMCBkWIh5menIiIOXXzc/3x+dipGikddmgQAAO6GDA5AL1lnACAb1mAAoFsUvQEAgDa16Wpcung+KuX2xwVWyqW4dPF81KarGU0GAACDSQYHoJesMwCQDWswANANo1kPAAAApKc2XY2HpyqxsrEdWzvNmBi7+fhA7ywBAAC9IYMD0EvWGQDIhjUYADgpRW8AgDvY3Wu5+MJQGikW4sK5M1mPAQD8FPkUBpcMDvSTTDF8rDMAkA1rMKTHfgjIE0VvAIDbWF6rx8LSetQbzYPXquVSzM9OeZwaAAB9J58CAN0gUwAAAMPKfgjIm2LWAwAApGp5rR5zi6ttG7yIiM1GM+YWV2N5rZ7RZAAADCP5FADoBpkCAAAYVvZDQB4pegMAdLC714qFpfVodTi2/9rC0nrs7nU6AwAAuks+BQC6QaYAAACGlf0QkFeK3gAAHaxsbB+6i/dWrYioN5qxsrHdv6EAABha8ikA0A0yBQAAMKzsh4C8UvQGAOhga+foDd5xzgMAgJOQTwGAbpApAACAYWU/BOSVojcAQAcTY6WungcAACchnwIA3SBTAAAAw8p+CMgrRW8AgA5mJsejWi5F4YjjhYiolksxMznez7EAABhS8ikA0A0yBQAAMKzsh4C8UvQGAOhgpFiI+dmpiIhDG739z+dnp2KkeNQ2EAAAukc+BQC6QaYAAACGlf0QkFeK3gAAR6hNV+PSxfNRKbc/mqlSLsWli+ejNl3NaDIAAIaRfAoAdINMAQAADCv7ISCPRrMeAAAgZbXpajw8VYmVje3Y2mnGxNjNRzW5ixcAgCzIpwBAN8gUAADAsLIfAvJG0RsA4A5GioW4cO5M1mMAAEBEyKcAQHfIFAAAwLCyHwLyRNEbAOAOdvda7uYFAAC4A3snAIaVNRAAABhk9jyQLUVvAIDbWF6rx8LSetQbzYPXquVSzM9ORW26muFkAAAA6bB3AmBYWQMBAIBBZs8D2StmPQAAQKqW1+oxt7jatmGJiNhsNGNucTWW1+oZTQYAAJAOeycAhpU1EAAAGGT2PJAGRW8AgA5291qxsLQerQ7H9l9bWFqP3b1OZwAAAAyHfuyddvdacfnK1fjq6z+My1eu2ocBkATXD8kDOQqAvLKGQfbseSAdo1kPAACQopWN7UN3pd6qFRH1RjNWNrbjwrkz/RsMAAAgIb3eO3k0LACpcv2Q1MlRAOSVNQzSYM8D6fCO3gAAHWztHL1hOc55AAAAg6iXeyePhgUgZa4fkjI5CoC8soZBOux5IB2K3gAAHfz8z93T1fMAAAAG0cRYqavn7fNoWABS16s1EE5KjgIgr6xhkBZ7HkiHojcAQCeFLp8HAACQA7t7rbh85Wp89fUfxuUrV+/4j6czk+NRLZeO3BoV4ubjlWcmx+9qjrt5NCwAZKFXayCcVB5z1N1mUAAGUx7XMBhk9jyQjtGsBwAASNH/fvtGV88DAABI3fJaPRaW1tv+UbVaLsX87FTUpqsd/8xIsRDzs1Mxt7gahYi2d93a/0eg+dmpGCne3V2yHg0LQOp6tQbCSeUtRx0ngwIwmPK2hsGg29/z/I/F1Y7HW2HPA/3iHb0BADrwGCIAAGCYLK/VY25x9dA7Z202mjG3uBrLa/Uj/2xtuhqXLp6PSrl9f1Qpl+LSxfPHKujYkwGQB71YA+Gk8pSjTpJBARg8eVrDAKCfvKM3AEAHv/ah/xbFQsTtnhBZLNw8DwAAIM9291qxsLQenbY/rfg/7N17fBTV3T/wz+xmk811SUJuQAghCBLCLSAQroogiEa81hs+tCoqWkpb9fGntaYUr7VKtVqqWLFKWy+1VlHES60PqChUQMWgIga8BaIEQ7iEQPb7+2M7487eN5ndncl+3q/XvGB3T2bOnDlzzpmZ78x4nkq6aGU9plcWB31Cz8yqEkyvLMb6hmY0tbahMNvz2tbOPtFHfTXsrpa2gPlS4Ami46thiYgo0YzuA4m6yirjKCPGoERE1L1YpQ8jShbqeC0YjteI4odP9CYiIiIK4N2de0MGeQOeIPB3d+6NT4aIiIiIiIhiZH1Ds99TFL0JgMaWNqxvaA45H7tNQU1FPmaP6I2aivwuXeBRXw0LeC4aeVM/89WwRERkFkb2gURdZZVxlFFjUCIi6j6s0ocRJQuO14jMg4HeRERERAE0tQY/YOlMOiIiIiIiIrMy6/HPzKoSLJ1TjWKX/pXMxS4nls6pxsyqkrjmh4iIiMgqrDCOMusYlIiIEssKfRhRsuB4jcg8UhKdASIiIiIzKsx2hk8URToiIiIiIiKzMvPxz8yqEkyvLMb6hmY0tbahMNvzimY+vYuIiIgoNLOPo8w8BiUiosQyex9GlCw4XiMyDwZ6ExEREQUwpjwPJS4ndrW0QQL8rsBz5/iY8rx4Z42IiIiIiMhQZj/+sdsU1FTkJ2TZRERERFZm5nGU2cegRESUWGbuw4iSBcdrRObBQG8iIiKiAOw2BXW1lZi/YmPQNHW1lbxznLq1DrfwaQlERERJLNxYgGOF7sP7+EcBdBdu1C3K4x/r4z4bGMuFiIzAtsRYLE/jmLksOQYlKzDzPkRE5I3tVfTaj7rx2Lod2Nl8EGV5Gbioph9SU2yJzpapcLxG8ca2LDgGehMREREFMbOqBEP75OD9L/f5/Ta0Tw5mVpUkIFdE8bF6SyMWraxHY0ub9l2Jy4m62krWfSIioiQQbizAsUL3M7OqBEvnVPtt12Ju126B+2xgLBciMgLbEmOxPI1jhbLkGJTMzAr7EBERwPaqM25bVY9laxvg9opcvmXVVsybVI7rZ1UmLmMmxPEaxQvbstAUEQn0ZH0iIiIiy9m3bx9cLhdaWlqQk5PT5fnNe3QDXqlvCvr79MpCLPuf47q8HCKzWb2lEfNXbPR7BZd6r+zSOdU8mCKiuDK6j6eu4zbp3sKNBS6bXI4H1zRwrNBN8akp3Q/H94GxXIJjP28+3CbmxbbEWCxP41itLDkGJbOJ1z7EPt58uE3IaqzW55vBbavq8cCahqC/Xz6Zwd6BcLxGscSxV3h83wARERFRAIfaO0IGeQPAK/VNONTeEaccEcVHh1uwaGW930EU8P3ruBatrEeHm/eLEhERdUfhxgICYNla/yBv9XeAYwWrs9sU1FTkY/aI3qipyOcFG4vj+D4wlgsRGYFtibFYnsaxYllyDEpmYsV9iIiSE9ur6LUfdWPZ2uBB3oDn3Gf7UXeccmQdHK9RrLAtiwwDvYmIiIgCuHVVvaHpiKxifUOz7nVIvgRAY0sb1jc0xy9TREREFDfhxgIAEOp8KscKRObC8X1gLBciMgLbEmOxPI3DsiTqGu5DRGQVbK+i99i6HSHPbQKec5+PrdsRl/wQEduySDHQm4iIiCiAHXsOGpqOyCqaWkMHdkWbjoiIiKzFqD6eYwUic+D4PjCWCxEZgW2JsViexmFZEnUN9yEisgq2V9Hb2RzZtf1I0xFR17EtiwwDvYmIiIgC6JefYWg6IqsozHYamo6IiIisxag+nmMFInPg+D4wlgsRGYFtibFYnsZhWRJ1DfchIrIKtlfRK8uL7Np+pOmIqOvYlkWGgd5EREREAdwwq9LQdERWMaY8DyUuJ5QgvysASlxOjCnPi2e2iIiIKE7CjQUAwKaAY4VO6nAL1m3fg2c3f4V12/egI9y7Yom6iOP7wFguRGQEtiXGYnkax4plyXEymYkV9yEyP7ZzFAtsr6J3UU0/2EKd+ITn3OdFNf3ikh8iYlsWKQZ6ExEREQWQnmrH9MrCkGmmVxYiPdUepxwRxYfdpqCu1nMDg+/BlPq5rrYS9nBnQYiIiMiSwo0FFADzJpUH/R3gWCGY1VsaMfGO13D+srex8PHNOH/Z25h4x2tYvaUx0Vmjbozj+8BYLkRkBLYlxmJ5GsdqZclxMpmN1fYhMj+2cxQrbK+il5pi085tBjNvUjlSUxhSSRQvbMsiw1aJiIiIKIizqvt06Xciq5pZVYKlc6pR7NK//qjY5cTSOdWYWVWSoJwRERFRPIQbC1w/q5JjhSit3tKI+Ss2orGlTff9rpY2zF+xkRd3KaY4vg+M5UJERmBbYiyWp3GsUpYcJ5NZWWUfIvNjO0exxvYqetfPqsTlk8v9nuxtU4DLJ5fjer7Rmyju2JaFp4gI3wdCRERE3cK+ffvgcrnQ0tKCnJycLs2rwy2YeMdrfideVAo8g8o3rpua9HcOUvfV4Rasb2hGU2sbCrM9r0NifSeiRDCyjydjcJskh3BjAY4VIsNjCzIL7rOBsVz8sZ83H24T82NbYiyWp3HMXJYcJ5MVxHofYh9vPrzWSFZl5j7frNqPuvHYuh3Y2XwQZXkZuKimH5/kTZRgHHsFl5LoDBARERGZ0fqG5qAnXgBAADS2tGF9QzNqKvLjlzGiOLLbFNZvIiKiJBZuLMCxgke4k888tiCz4D4bGMuFiIxglbbEKgFAVilPKzBzWXKcTFZg5n2IzI/tHMUT26vopabYcMmk/onOBnVjVjn+MhO2ZcEx0JuIiIgogKbW4CdeOpOOiIiIiIi6n9VbGrFoZb3uwm2Jy4m62krtdZI8tiAiIiIziGTcQhRPHCcTUXfHdo6IKHnx+IuMxvcNEBEREQVQmO00NB0REREREXUvq7c0Yv6KjX5P59rV0ob5KzZi9ZZGADy2ICIiosSLdNxCFE8cJxNRd8d2jogoOfH4i2KBgd5EREREAYwqy0W4t+bYFE86IiIiIiJKLh1uwaKV9ZAAv6nfLVpZjw63YEx5HkpcTgQ7vFDgeZrLmPK82GSWiIiIklo04xaieOI4mYi6O7ZzRETJh8dfFCsM9CYiIiIK4N2dexFubO0WTzrS63AL1m3fg2c3f4V12/fwIMXC2o+68ae1n+GmZ7fgT2s/Q/tRd6KzRERERGQK6xua/Z7I4k0ANLa0YX1DM+w2BXW1lQDgd3FX/VxXWwl7uDtNqdtK5mMornvn1j2Zy42SD+t710UzbiGKJ46TY8cK53XZvlMyYDtH8cR2lWKNdSwyPP6iWElJdAaIiIiIzKipNfjguzPpksXqLY1YtLJed/BS4nKirrYSM6tKEpgzitZtq+qxbG2D7oaHW1ZtxbxJ5bh+VmXiMkZERERkAtEeL8ysKsHSOdV+Y+VijpWTXjIfQ3HdO7fuyVxulHxY343B85xkZhwnG88K53XZvlMyYTtH8cB2lWKNdSxyPP6iWGGgNxEREVEAhdlOQ9Mlg9VbGjF/xUa/1xDtamnD/BUbsXRONQ/0LOK2VfV4YE2D3/dugfa9WS4KEBERESVCZ44XZlaVYHplMdY3NKOptQ2F2Z7XM/PJXckrmY+huO6dW/dkLjdKPqzvxuF5TjI7jpONY4XzumzfKRmxnaNYYrtKscY6Fh0ef1Gs2BKdASIiIiIzGlWWi3DnV2yKJx15XtW0aGW93wEeAO27RSvr+QonC2g/6saytf4XA7wtW9tgytd9EhEREcXLmPI8lLicfq9eVinwPNVmTHme7nu7TUFNRT5mj+iNmop8XtRNYsl8DMV179y6J3O5UfJhfTdWZ8ctRPHEcXLXWeG8Ltt3SmZs5ygW2K5SrLGORW9EaQ9D0xGpGOhNREREFMC7O/ci3PGIWzzpCFjf0Kx7VZMvAdDY0ob1Dc3xyxR1ymPrdkRU9x9btyMu+SEiIiIyI7tNQV2t50l4vpdm1c91tZW8cNsFHW7Buu178Ozmr7Bu+55ud8EomY+huO6dW/dkLjdKPqzvxuK4hSg5WOG8Ltt3IiJjsV2lWGMdi95f39lpaDoiVUqiM0BERERkRk2twQ9YOpOuu2N5dR87mw8amo6IiIiou5pZVYKlc6qxaGW97oJHscuJutpKvrK0C1ZvafQr15JuVq7JfAzFde9cumQuN0o+rO/G47iFqPuzwnldtu9ERMZiu0qxxjoWPSuMyciaGOhNREREFEBhttPQdN0dy6v7KMvLMDQdERERUXc2s6oE0yuLsb6hGU2tbSjMdmJMeR6fiNkFq7c0Yv6KjX6vhN3V0ob5KzZi6ZzqbhGMlszHUFz3zqVL5nKj5MP6HhsctxB1b1Y4r8v2nYjIWGxXKdZYx6JnhTEZWZMt0RkgIiIiMqNRZbkId43DpnjSETCmPA8lLqff619VCjxP4BtTnhfPbOl091e/G+Wimn4R1f2LavrFJT9EREREZme3KaipyMfsEb1RU5HPYKku6HALFq2s9wvyBqB9t2hlfbcYy5vtGCqex0tmW/d46sq6J3O5UfJhfY8djluIui8rnNfldRciImNx3Eyxxr47elYYk5E1MdCbiIiIKIB3d+5FuOvabvGkI89ForraSgDwO5mgfq6rrUzYxaPVWxox8Y7XcP6yt7Hw8c04f9nbmHjHa1i9pTEh+TGz1BQb5k0qD5lm3qRypKbwUIKIiIiIjLW+oRmNLcFf9SoAGlvasL6hOX6ZihEzHUPF+3jJTOseb11Z92QuN0o+an0PdmpOwPpOROTLCud1ed2FiMhYHDdTrLHvjp4VxmRkTawxRERERAE0tQYPLuhMumQws6oES+dUo9ilfzVTscuZ0Nerq69+9w0YUV/9zmBvf9fPqsTlk8v97ja2KcDlk8tx/azKxGSMiIiIiLq1ZDsOM8MxVKKOl8yw7onSlXVP5nIjIiKi8Mx+XjfZxvtERERWx767c8w+JiNrSkl0BoiIiIjMqDDbGT5RFOmSxcyqEkyvLMb6hmY0tbahMNvzOrBE3Ske7tXvCjyvfp9eWcy72X1cP6sSV590LB5btwM7mw+iLC8DF9X0493FRERERBQzyXgclshjqEQfL5nt+DGeurLuyVxulDzU9ikYns8hIgrOzOd1k3G8T0QUSxw3U6yx7+48M4/JyJoY6E1EREQUwJjyPJS4nNjV0hbworcCzxOzxpTnxTtrpme3KaipyE90NgBE9+p3s+TZTFJTbLhkUv9EZ4OIiIiSTIdbGMCYpJL1OCxRx1BmOF4y0/FjvHVl3ZO53Cg5mKF9IuouOLZOTmY9r5us430ioljhuJlijX1319htCip7udAzOw2F2U6Ow6lLGOhNREREFIDdpqCuthLzV2yEAugOXNThd11tJQfjJsfXSRERERFZy+otjVi0sl53karE5URdbSVmVpUkMGcUDzwOiy8eLxGRWbF9IjIGx9ZkNhzvExEZi+NmijX23Z3HsTgZjc+CJyIiIgpiZlUJls6pRrFL/6qhYpcTS+dUcwBuAXydFBEREZF1rN7SiPkrNvo9iWhXSxvmr9iI1VsaE5Qziiceh8UPj5eIyKzYPhF1HcfWZFYc7xMRGYfjZooH9t3R41icYoFP9CYiIiIKYWZVCaZXFvP1lhY1qiwXNgVwB3qX1H/ZFE86IiIiIkqcDrdg0cr6gK8AFXieELNoZT2mVxZzLJ4EeBwWH3z9LhGZFdsnoq7h2JrMjuN9IiJjcNxM8cK+O3Ici1Os8IneRERERGHYbQpqKvIxe0Rv1FTkc8BtIe/u3BsyyBvwBIG/u3NvfDJERERERAGtb2j2e8KJNwHQ2NKG9Q3N8csUJRSPw2JPff0u8P3rdlV8/S4RJRLbJ6Ku4diarIDjfSKiruO4meKJfXdkOBanWGGgNxERERF1W02twQ+iOpOOiIiIiGKD4zaixODrd4nIrNg+EXUex9ZERETJg+NmInPhWJxiJSXRGSAiIiIiipXCbGf4RFGkIyIiIqLY4LiNKHH4+l0iMiu2T0Sdw7E1ERFRcuG4mcg8OBanWGGgNxERERF1W2PK81DicmJXSxskwO8KPHe0jynPi3fWiIiIiMgLx21EiaW+fpeIyGzYPhFFj2NrIiKi5MNxM5E5cCxOsWJLdAaIiIiIzK7DLVi3fQ+e3fwV1m3fgw53oCE5qcxUXnabgrraSgCegyZv6ue62kre0U5ERESGMNM4yGo4biNKDmwniYiIYs97bB0Mx9aUaBwXEhERUXfEsXjXcIwYHJ/oTURERBTC6i2NWLSyHo0tbdp3JS4n6morMbOqJIE5MyczltfMqhIsnVPtl69ibkciIiIykBnHQVbDcRtR98Z2koiIKH5mVpXgssnlWLa2Ad6xETYFmDepnH0vJRTHhURERNSdcSzeORwjhqaICMPeiYiIqFvYt28fXC4XWlpakJOT0+X5rd7SiPkrNvq9Uke9t3LpnGoOKL2Yvbw63IL1Dc1oam1DYbbndUi8U5aIyBqM7uOp67hN9Mw+DrIajtuIuh+2k9bCft58uE2IKFrse8msWDf12MebD7cJERF1Fcc70YtXmVm5n7clOgNEREREZtThFixaWe83kASgfbdoZT1fFfNfVigvu01BTUU+Zo/ojZqKfAYLERERkSGsMA6yGo7biLoXM7STfO0rEREZzcx9ixn6XqJAWDeJiIiou+N4J3oss8ikJDoDRERERGa0vqFZ90oYXwKgsaUN6xuaUVORH7+MmRTLi4iIiJIVx0FERKElup3ka1+JiMhoZu9bEt33EgXDuklERETdHcc70WOZRYZP9CYiIiIKoKk1+ECyM+m6O5YXERERJSuOg4iIQktkO6m+9tX3YtGuljbMX7ERq7c0Gr5MIiLq3qzQt/AYhcyKdZOIiIi6O453oscyiwwDvYmIiIgC6JmZZmi67q4w22loOiIiIiKr4DiIiCi0RLWTfO0rEREZzSp9C49RyKxYN4mIiKi7Y5xJ9DhGjAwDvYmIiIgCUQxO182NKc9DicsZtDgUeF5fOqY8L57ZIiIiIoo5joOIiEJLVDsZzWtfiYiIImGVvoXHKGRWrJtERETU7THOJGocI0aGgd5EREREAXy7/7Ch6bo7u01BXW0lAP9jEvVzXW0l7DYesRAREVH3wnEQEVFoiWon+dpXIiIymlX6Fh6jkFmxbhIREVF3xziT6HGMGBkGehMREREFwNfDRG9mVQmWzqlGsUtfJsUuJ5bOqcbMqpIE5YyIiIgotjgOIiIKLRHtJI/riYjIaFbqW3iMQmbFuklERETdmZWOGcyEY8TwUhKdASIiIiIzUl8Ps6ulDRLgdwWeQWWyvx7G18yqEkyvLMb6hmY0tbahMNtTRsl+dyURERF1fxwHERGFFu92ksf1RERkNKv1LTxGIbNi3SQiIqLuymrHDGbCMWJoDPQmIiIiCkB9Pcz8FRuDpuHrYQKz2xTUVOQnOht+OtzCgwIiIiKKKbOOg4jMiONzazFqe8WznfQ+rlcA3cW1WL32lfWaiMyO7VTXJKJv6aoOt6D+6xbsbD6IsrwMjCrLNVX+KHnx+JmIiMhaeCwRGSseM5A1MNCbiIiIKIiZVSWYVlmIV+qb/H6bVlnI18NYyOotjVi0sh6NLW3adyUuJ+pqK7kdiYiIiIjijONza7Hy9lJf++qb/+IY5N/K5UREyYHtlDHi2bd01W2r6rFsbQPcXtElt6zainmTynH9rMrEZYyIiIiILIXHEtGZWVWCyyaXY9naBojXWFxRgHmTyllmQbCehaaISKCnxBMRERFZzr59++ByudDS0oKcnJwuz++2VfV4YE1D0N8vn8wT4laweksj5q/Y6PdqJPUe2aVzqnlgQERkckb38dR13CZE1Fkcn1tLd9lesX7qVHcpJxX7efPhNqGu6m7tlBmY/YmGPLdNZA3s482H24SISI/HEtELVmaAp9xYZv7iVc+s3M/bEp0BIiIiIjNqP+rGsrXBT4QDwLK1DWg/6o5TjqgzOtyCRSvrAx5Eqd8tWlmPDjfvfSQiIiIiijWOz62lO20vu01BTUU+Zo/ojZqKfEMD8bpTORFR98R2KjZi2bd0Fc9tExEREZEReCwRvVBlpmKZ6bGeRYaB3kREREQBPLZuB8KNE93iSZcoHW7Buu178Ozmr7Bu+56kH9gGsr6hWfdqH18CoLGlDesbmuOXKSIiIiKLssL40wp5DMXq+Q+H43Nr4faKDMuJrKy79zvkwXYq+Vjh3DbFlhXadyvkkYgSi+0EUeLxWCJ6LLPoscwik5LoDBARERGZ0c7mg4amM9rqLY1YtLJeN+AtcTlRV1vJ1/x4aWoNfkDQmXREREREycoK408r5DEUq+c/EhyfWwu3V2RYTmRVydDvkAfbqeRj9nPbFFtWaN+tkEciSiy2E0TmwGOJ6LHMoscyiwyf6E1EREQUQFlehqHpjLR6SyPmr9jod1fjrpY2zF+xEau3NMY9T2ZVmO00NB0RERFRMrLC+NMKeQzF6vmPFMfn1sLtFRmWE1lRsvQ75MF2KvmY+dw2xZYV2ncr5JGIEovtBJF58Fgieiyz6LHMIsNAbyIiIqIAzj2ur6HpjNLhFixaWY9ALydTv1u0sp6vL/uvMeV5KHE5oQT5XYHnCQBjyvPimS0iIiIiy7DC+NMKeQzF6vmPBsfn1sLtFRmWE1lNMvU75MF2KvlcVNMPtmAb/L9siicddR9WaN+tkEciSiy2E0TmMqK0h6HpkgGPv6LHMosMA72JiIiIAnhiw+eGpjPK+oZmvzvYvQmAxpY2rG9ojl+mTMxuU1BXWwkAfgcG6ue62krYw135ICIiIrKoDrdg3fY9eHbzV1i3fU/UF8KsMP60Qh5DsXr+I9XhFqxvaMbJVcUQcHxuBZEeTwHoUjtjdTzuJKuxWr/T1bEMWbOd4nbvmtQUG+ZNKg+ZZt6kcqSmMFSgO7FC+26FPPpie0QUX1ZsJ4i6s7++s9PQdMnAisdficYyi0xKojNAREREZEY7mw8ams4oTa3BT250Jl0ymFlVgqVzqrFoZb3u5FCxy4m62krMrCpJYO6IiIiIYmf1lka/MVBJlGMgK4w/rZDHUKye/0gEqouKAohXjATH5+YU7ngKACbe8VqX2pnugMedZCVW6neMGMuQh5XaKW53Y1w/y9NPL1vbAO+4VJviCfJWf6fuwwrtuxXy6I3tEVH8Wa2dIOruzBozYXYzq0pw2eRyLFvboDv/qfx3LM5xhD8rHbMmCgO9iYiIiAIoy8swNJ1RCrOdhqZLFjOrSjC9shjrG5rR1NqGwmzPq32S/a5PIiIi6r5Wb2nE/BUb/V51u6ulDfNXbMTSOdURnRy1wvjTCnkMxer5DydYXVQDji6Z0A/TKos5PjexYMdTr9TvMqSd6S543ElWYZV+x6ixDH3PCu0Ut7uxrp9ViatPOhaPrduBnc0HUZaXgYtq+vFJ3t2UFdp3K+RRxfaIKDGs1E4QJQOzxkyY3eotjXhwTUPA86EPrmnAyL65HEcEYIVj1kRioDcRERFRAOce1xeLX9gaUbp4GlWWC5sChHo7oE3xpCM9u01BTUV+orNBREREFHMdbsGilfV+J5IBzytuFQCLVtZjemUxAIQ8cTqmPA8lLid2tbQFnJ8Cz1M1xpTnxWBNImOFPIZi9fyHEqouAp51W7VlF244JTGv3uxwCy8cRMj3eCqadiaZypTHnWQFVuh32MbEjpnbKW732EhNseGSSf0TnY1uw8zjRyu071bII8D2iGLDzO2HmVilnaDugftleGaNmTCzcOdDAY4jQjHzMWuiMdCbiIiIKIAnNnwecbp4nih/d+fekEHegCcI/N2dezkAJiIiIkpS6xuada839CUAGlvacN9rn+LxDZ+HfA213aagrrYS81dshPLfv1Wpp6HrahMTpKuyQh5DsXr+Q4m0Lq5vaI778Qtfw941Zt62RBSaFfodtjHJidudzM7s40crtO9qHq9YsTHg74LE5xFge0TGM3v7YSZWaMuoe+B+GRmzxkyYGccRFCt8LxMRERFRADubDxqazihNrcEPCjqTjoiIiIi6n0jHgkte/cTvpLP6GurVWxq172ZWlWDpnGoUu/SvxS12OU3zumor5DEUq+c/GLMev6ivYY+k/lNgZt22RBQZs/c7bGOSE7c7mZlVxo9mb9+tgu0RGckq7YeZsC2jWON+GTmzxkyYGccRFCt8ojcRERFRAH16pBuaziiF2c7wiaJIR0RERETdT1fGgsFeQz2zqgTTK4tN/TpTK+QxFKvnPxAzHr/wNezGMOO2JaLomLnfYRuTnLjdyaysNn40c/uulmUwZilLtkdkFKu1H2Zi5raMrI37ZXTK8jIMTZcMOI6gWGGgNxEREVEAgQ7uupLOKGPK81DicmJXS1vAZSvw3NE+pjwvzjn7XodbeOKFiIiIKIHCjRnDCfb6SLtN6fTrJOM1RuxKHs3A6vn3ZcbjF74+1Rhm3LZE1H2wjUlO3O5kVlYcP5r1uMIqZcn2iIxilTpvVmZty8jauF9G56Kafrhl1Va4Q5xktimedOTBcQTFii3RGSAiIiIyo6++O2RoOqPYbQrqaisBeA4CvKmf62orExZYvXpLIybe8RrOX/Y2Fj6+GecvexsT73iNr7giIiIiiqNIxoyRMOr1kRwjJi8zHr/w9anGMOO2JaLomLl/ZhuTnLjdyaw4fjSOVcqS7REZxSp1niiZcL+MTmqKDfMmlYdMM29SOVJTGIKq4jiCYoV7GREREVEAZn4N0cyqEiydU41il/51PsUuJ5bOqcbMqpK45wnwXCCcv2Kj313Qu1raMH/FRlNcKCQiIiJKFqHGjD+bdkxE8zDi9ZEcI5LZjl/4+lTjmG3bElHkrNA/s41JTtzuZEYcPxrHSmXJ9oiMYKU6T5QsuF9Gb2Tf3C79now4jqBYSEl0BoiIiIjMyOyvIZpZVYLplcVY39CMptY2FGZ7Xu+TqDs/O9yCRSvrA75+SOC5O3XRynpMryzm3alEREREcRJszAgAj2/4Iuavj+QYkVRmOn7h61ONZaZtS0SRsVL/zDYmOXG7k9lw/Ggcq5Ul2yPqKqvVeaJkwP0yOurxYzBmOn40G44jyGgM9CYiIiIKQH0N0QNrGoKm4WuIvre+odnvKVDeBEBjSxvWNzSjpiI/fhmjLulwCw8+iYiILCiSPryuthLzV2yEAuguahj5+kiOEcmb3aaYYjurr0+Ndf1PJmbZtrHC4yLqbqzWP3f3NoYC43Y3jlX6MTPnk+NH41ixLNkeUVdYsc4TdXfe+2Uw3C+/Z7XjR7PhOIKMxEBvIiIioiCun1UJAFi2tkH3ZG+b4gnyVn9PhNVbGrFoZb3uwKrE5URdbWVCXvXT1Br8AK8z6SjxzFbHiIiIKDKR9uHq6yN90xYb2N9zjEhmFY/6T90Dj4uoO2L/TJQ8rNKPWSGfHD8ah2VJyWZmVQkum1yOZWsbIF7XGpX/XmtknSeKP+/9MlAMAPfL7/H4kcg8GOhNREREFML1sypx9UnH4rF1O7Cz+SDK8jJwUU2/hD7Je/WWRsxfsdHvdVK7Wtowf8VGLJ1THfcD0MJsp6HpKLHMWMeIiIgovGj78Fi/PpJjRDIzvj6VwuFxEXVX7J+JkoNV+jGr5BPg+NFILEtKJqu3NOLBNQ1+7ZxbgAfXNGBk31zTtHNEySLYfincL/3w+JHIPBjoTURERBRGaooNl0zqn+hsAPC8wnLRynq/A0/A82okBcCilfWYXlkc15OiY8rzUOJyYldLW8C8KfA8kWNMeV7c8kSdY9Y6RkRERKF1tg+P5esjOUYks+PrUykYHhdRd8b+maj7s0o/ZpV8euP40TgsS0oGodo5ldnaOaLuzorjj0Ti8SOReSTuUZREREREFLX1Dc261xn6EgCNLW1Y39Acv0zBc1K2rrYSgOeAzpv6ua62MuEXDtZt34NnN3+Fddv3oMMd6tRa8jJrHSMiIqLQzNiHW2GMSMmHxwUUCTO2qURGYf+c3NgPJger9GNWyScRUWexnSMyH+6X0eHxI5F58IneRERERBbS1Br8wLMz6Yw0s6oES+dUY9HKet0BcrHLibrayoS+4mr1lka/fJWYIF9mZOY6RkRERMGZtQ838xiRkg+PCyhSZm1TiYzC/jk5sR9MHlbpx6ySTyKizmI7R2Q+3C+jx+NHInNgoDcRERGRhRRmOw1NZ7SZVSWYXlmM9Q3NaGptQ2G251VNibyLd/WWRsxfsdHvdVK7Wtowf8VGLJ1TzQNQL2avY0RERBSYmftwM44RKfnwuICiYeY2lcgo7J+TC/vB5GKVfswq+SQi6iy2c0Tmw/2yc3j8SJR4DPQmIiIiCqPDLaY5aBlTnocSlxO7Wtr8LswAnlckFbs8eSTPtlu0sj5gWQk85bVoZT2mVxbzQPS/WMeIiIisyex9uN2moKYiv1N/a6bxeCKxHDqPxwX+WJ9CS3Sbyu1D8dKV/pmsw4r9INvBrkl0PxYpq+TTirgPEZnDqLJc2BTAHaiR+y+b4klH/tiWRYflFRmOP4jIqhjoTURERBSC2V5parcpqKutxBUrNgb8XQDU1VYm7MDdbOW1vqFZlxdfAqCxpQ3rG5p5YfO/zF7HiIiIKDC1D5+/YiMUQHehQu21rdiHm218mSgsh67hcYEe61N4iWxTuX2IyGhW6wfZDnadVc7vWSWfVsN9iMg83t25N2SQN+AJAn93515T9MFmwrYsOiyvyHXXc6ixxjpGlHi2RGeAiIiIyKzUV5r6XghRX2m6ektjgnJmTmYsr6bW4BexOpOOiIiIyMxmVpVg6ZxqFLv0rxYtdjmxdE615U66m3F8mQgsh67jccH3WJ8il4g2lduHiGLBSv0g20GiruE+RGQuVuqDzYRtWXRYXtHrbudQY411jMgc+ERvIiIiogDM+kpTNV/BJDpfZiuvwmxn+ERRpEsGZq1jREREFJmZVSWYXlls+Ve1mnV8GW8sB2PwuMCD9Sl68WxTuX2IKFas0g+yHTSOVc7vWSWfVsF9iMh8emalGZouGbAtiw7Lq/O6yznUWGMdIzIPPtGbiIiIKIBoXmkaT8xXdMaU56HE5USww0oFntdKjSnPi2e2TM2s29IqOtyCddv34NnNX2Hd9j3oCPdeRiIiSlqx7DPsNgU1FfmYPaI3airyLXmSnWMSD5aDMZLluCBcu8L61Dmh2lQj23JuH0oEHsMax8xlaZV+kO2gcaxSllbJpzcz7+tWLE+ibi/SJsI8TUnCsS2LDsurazrcgvqvW/Duzr2o/7rFVP26WbCOEZkHn+hNREREFIBZX6fGfEXHblNQV1uJ+Ss2QoH+XJl6cauuttKSwU+xYtZtaQWrtzRi0cp63QmPEpcTdbWVfM0bERHpsM8Ij2MSD5aDMZLhuCCSdoX1yVhGt+XcPhRvHI8Yx+xlaZV+kO2gcaxSllbJp8rs+7rVypMoGXx74LCh6ZIB27LosLw677ZV9Vi2tgHesd23rNqKeZPKcf2sysRlzGRYx4jMg0/0JiIiIgrArK80Zb6iN7OqBEvnVKPYpV92scuJpXOqTXES3kzMvC3NbPWWRsxfsdHvrvZdLW2Yv2IjVm9pTFDOiIjIbNhnRIZjEg+Wg3G683FBpO0K65NxYtGWc/tQPHE8YhyrlKUV+kG2g8axSllaJZ+ANfZ1K5UnUbLgfhk9lll0WF6dc9uqejywRh/kDQBuAR5Y04DbVtUnJmMmxDpGZB58ojcRERFRAKPKcmFT4HeA582meNLFk/qq1V0tbQHf5KbAc4Em3q9aNWu+VDOrSjC9shjrG5rR1NqGwmxPXhL9pCIzMmvdN7MOt2DRyvqAdV/gqf+LVtZjemUx6xwRUZJjnxE5s48v44XlYKzueFwQTbvC+mSMWLXl3D4ULxyPGMdqZWn2fpDtoHGsUpZWyadV9nWrlCdRMuH1luixLYsOyyt67UfdWLa2IWSaZWsbcPVJxyI1hc/PZR0jMg+2SEREREQBvLtzb8gTL4DnxMy7O/fGJ0P/pb5qFfj+1aqqRL5q1TtfwST6FbB2m4KainzMHtEbNRX5prmIZTZmrftmtr6h2e9pPt4EQGNLG9Y3NMcvU9QlHW7Buu178Ozmr7Bu+x50hNspiChmutv+yD4jcvEY91qhfpl1/B8pM5ZxV44LolmfeK17NO2KUfUp3LqZcbsbKVZtudX3d7IOjkeMY8WyNPP5MSucX7QKq/QpVsmnVfZ1q5Sn1exvO4p5f96AGb9bg3l/3oD9bUcTnSWyEF5viR7bsuiwvKL32LodEe2Xj63bEZf8mB3rWNd093NkscAyC45P9CYiIiIKoKk1+InbzqQz0syqElw2uRzL1jZAvMa1igLMm1SesFeteufLe7xtS3C+KDpmrvtmxTLrXlZvacSilfW6C3glLifqaivZjhHFWXfcH9lnRGdmVQmWzqn2qwfFBtQDK9WvWJZDLFmpjCMRzfrEc92jbVe6Wp/CrVt32+6BxLItt+r+TtbC8YhxWJbG4/lF41ilTzHruW5vVtrXrbLdreK0+9bi/S/3aZ8/3tWKql+9hGF9cvDcjyclMGdkFVZqP8yEbVl0rNCXmsnO5oOGpksGM6tKMK2yEK/UN+m+FwDTKwtZx4JIhnNkRmOZhcZAbyIiIqIACrOdhqYz0uotjXhwTYPf65HcAjy4pgEj++YmZKAbLF+S4HxRdMxc982KZdZ9rN7SiPkrNvq1Y7ta2jB/xUYsnVPNdowoTrrr/sg+I3ozq0owvbIY6xua0dTahsJsz6tAu/KUGCvWr1iUQyxZsYxDiWZ94r3unWlXOlufwq3bZZPLAx4TWnW7BxPrttxq+ztZD8cjxmFZGo/nF41lhT7FrOe6vVltX7fCdrcC3yBvb+9/uQ+n3beWwd4UltXaDzNhWxY5K/SlZlKWl2FoumRw26p6vyBv1Sv1TbhtVT2unxX6zTzJprudG40Hlll4tkRngIiIiMiMhvZ2GZrOKB1uwaKV9X4DXG+LVtbH/RU2ofKlfpeIfFH0RpXlItx5MpviSUceY8rzUOJy+r2yTKXAc7fxmPK8eGaLosR2jMg8uvP+yD6jc+w2BTUV+Zg9ojdqKvK7dFHPyvXLyHKIJSuXcSDRrE8i1r2z7Uq09SncugngeXpYkN8Ba233UOLRlltlfydr4njEOCxLY3W3MYRZmLlPMeu5bl9WPF9q5u1uBfvbjgYN8la9/+U+7G87GqcckVVZsf0wE7Zl4VmlLzWTC8aWGZquu2s/6saytQ0h0yxb24D2o+445cj8eFwTPZZZZBjoTURERBTAHau3GprOKOsbmnWvqvElABpb2rC+oTl+mYJ580XRe3fnXoQ7RnKLJx152G0K6mo9d6r7nmZUP9fVVib0JGSHW7Bu+x48u/krrNu+J+kPhANhO0ZkHmbfH6NpU33TAjB9n2F2Xe3TIq1fb2/fw76zk8y+D0crmvVJxLrHaywabt0AhDyOsNp2D8UK43+iUFiHjcOyNFZ3G0OYhZnPCVllm1vxfKmZt7sV/OyJTYamo+RlxfbDTNiWhWeVvtRMNn/xnaHpurvH1u2IqB17bN2OuOTHCrhfRo9lFpmURGeAiIiIyIx27DloaDqjNLWGvrAebTqjmDVfFD1uy86ZWVWCpXOqsWhlve5AtNjlRF1tZUJfJbV6S6NfvkpMkC+zYd0nMg8z74/RtKmh0pq1zzA7I/q0SOvNVX/diO8OHen0cpKZmffhzojF+hi97vEYixqVZ6ts93DMPP4nigTrsHFYlsbpbmMIMzD7OSGrbHOr5FNl9u1uBZ/vPWRoOkpeVms/zIRtWWRYx6LHMovOzubIYiEiTZcMWMeixzKLDAO9iYiIiALol5+BtdsiSxdPhdlOQ9MZxaz5ouhxW3bezKoSTK8sxvqGZjS1tqEw2/N65kQ+uWv1lkbMX7HR71VXu1raMH/FRiydU82Tov/Fuk9kHmbdH6NpUyNJ+8Z1U03VZ5idUX1apPXGO8i7M8tJZmbdhzsrFusTi3WP9VjUqDxbZbtHwozjf6JosA4bh2VpjO42hkg0K5wTsso2t0o+AWtsdyvom5uOj3e1RpSOKBQrtR9mwrYscqxj0WOZRacsL7JYiEjTJQPWseixzCJjS3QGiIiIiMzoupmDDU1nlDHleShxOf1eB6tS4LmjfUx5XjyzhRGlPQxNR4lj1jpmFXabgpqKfMwe0Rs1FfkJvajb4RYsWlnvdzIUgPbdopX1fN3hf7HuE5mHGffHaNrUSNMCME2fYXZG9mnh6lcw7DsjZ8Z9uCuiWZ9Er3ssx6KR7Ds2Bd1mu0fKTON/os5gHTYOy7LrRpXlIlyx2RRPOgrNKueErLLNEz3Gi5RVtrsVLDl3pKHpKHlZpf0wE7Zl0WEdix6vaUfngrFlhqZLBtwvo8cyiwwDvYmIiIgC+OCrFkPTGcVuU1BXWwnA/wK6+rmutjLuF5P++s5OQ9NR4pi1jlH01jc0615r6EsANLa0YX1Dc/wy5aPDLVi3fQ+e3fwV1m3fk9CTs6z7ROaRiP0xXHsUTZva2fbXTG2iEYxcn0jL9JE3G8IuJ1T9CscMfacVdLc+NZr1MWP7ZdR8AYRcNwXAvEnlQX9X/z5e2727talEycwq+zPz2XXv7tyLcNlxiycdhWaFc0KAdba5Vca3VtnuKjO3R1nOFAzrkxMyzbA+OchypsQpR2RVVmk/zMRqbVmiedexYFjH9HhNOzqbv/jO0HTJgG1/9FhmkeHIk4iIiCiAptbgJxE6k85IM6tKsHRONRatrNed7Ch2OVFXW5mQ15XtbD5oaDpKrJlVJZhWWYhX6pt03wuA6ZWFfCWeRZi5HQM8r1/0bcdKEtiOAeZsX4mSVTz3x0jao1i0qd5pzdgmdoXR6xNpuS5+YSseeqMh7HKC1a8e6Q58d+iIYflJZt2tT41mfczWfhk933DrNrJvbsK3e3drU4mSmVX2Z+bTGGY/j2ElVilLq+QTsMb41krlafb2CACe+/EknHbfWrz/5T6/34b1ycFzP56UgFyRFfF6S3Ss1JaZRbA6BgDTWMf88Jp2dLhPdo4Vxo5mwzILj4HeRERERAEUZjsNTWe0mVUlmF5ZjPUNzWhqbUNhtudVNYm6i7EsL8PQdJRYt62qD3hCCABeqW/Cbavqcf2s0E8IoMQzczu2eksj5q/Y6Pf6xV0tbZi/YiOWzqlOaLC3mdpXomQWj/0x0vYoFm2qmtbMbWJnxGJ9oinXSJcTqH65RXDhQ+8Ymp9k1t361GjWx0ztVyzm+8Z1U4OuW6K3e3drU4mSmVX2Z+bTOGY+j2E1VilLq+RTlehxTjhWKU8rtEeq5348CfvbjuJnT2zC53sPoW9uOpacO5JP8qao8HpLdKzSlpkJ61h0eE07OtwnO8/sY0czYpmFxhEoERERUQCVJaFfyxdtuliw2xTUVOQnbPneLqrph1tWbQ35qk2b4klH5tZ+1I1laxtCplm2tgFXn3QsUlNsccoVdcaY8jyUuJzY1dLmd+EE8LzqqtjlOUCOpw63YNHK+oB5kv/ma9HKekyvLE7YgbuZ2leiZBfL/TGa9ijaNjXStFZoE6MRq/UJV/6dXY5v/epwS9z7zg63WPrEdbj8d7c+NZr18U5r9HaO1b4WzXxDlUOitnt3a1OJkplV9mfm01gjSnsYmi6ZmfWckK9RZbmwKQh7TnlUWW78MhWGmce3VtjuVmmPvKWn2nHxxP7aWD491Z7oLJGF8HpL9KzYNyQS61j0LhhbhsUvbI0oHXGf7Cozjx3NimUWHFtxIiIiogCueWqzoem6u9QUG+ZNKg+ZZt6kcp5EsIDH1u0IebAOeA7mH1u3Iy75oc6z2xTU1Xqe0uB7WUT9XFdbGfeLJusbmnWv3PIlABpb2rC+oTl+mSKipBRNexRNmxpN2u7WJsZqfUKVabyWE4u+c/WWRky84zWcv+xtLHx8M85f9jYm3vEaVm9pNGT+sWb1/MdLLMopVvua1dskq+efiL5nlf2Z+TTWX9/ZaWi6ZGbWc0K+3t25N6LzkO/u3BufDFmcFba7VdojFY95qKt4vSV67BuiwzoWvc1ffGdouu6O+ySReTDShoiIiCiAz/ceMjRdMrh+ViUun1wO3/PENgW4fHI5XwtmETubDxqajhJrZlUJls6pRrFL/8q0YpczYa9BbWoNfjGnM+mIiDor2vYomjY10rTdrU2M5foEK9N4LcfovlN9XblvkIP6unKzBw5YPf/xEqtyitW+ZvU2yer5J6LvWWV/Zj6NxXNSxjLjOSFfVqmbVmL27W6lbc5jHjIC+7boWamdMAPWseixjkWH5UVkHimJzgARERGRGZW6nPh4V2tE6eh718+qxNUnHYvH1u3AzuaDKMvLwEU1/fgkbwspzU03NB0l3syqEkyvLMb6hmbtFaNjyvMS9vSewuzI2s1I0xERdVZn2qNo2tRI0na3NjHW66OW6SNvNkT0itWuLidWfacVX1fuzer5j5dYllOs9jWrt0lWzz8Rfa9nZpqh6WLFKu1Oz6wIyzPCdLFSlpdhaDoy3zkhX1bZh6zGzNvdKtucxzxkFF5viZ5V2gmz4PgpelYZG5sFy4vIPBjoTURERBTAyH65ePXjbyJKlygtB4/g4kfW4+uWNvRyOfHwD8fAleFIWH6887X8zQY0HziCvEwHThveGwU5iT+4O9TegVtX1WPHnoPol5+BG2ZVIj3Vnuhsmc6xxTmGpouFDreY8kKFmdltCmoq8hOdDQDAmPI8lLic2NXSFvBiiQLPU4bGlOfFO2uWYNb6b9Z8kfWEq0uhfo+mHna4BW63oEe6A98dOhI0P3mZDowo7YF12/fo5htpm+rb/na4RTevUWW5IdtEAOiR7oBbBB1uCbk+0ay7EWUYaL7hylRt40eV5fqVw7s790a0XLtNwQ8nlOOhNxrC9iXRLCfQuofadtGUse9y3SIRv658THlexNsrmnL0/tuemWmAAny7/3BE+93RDnfE+Y/V+CPUuvuuT2fLJdo605XtHKqcAtXNWI2nYjHfrrRPvmUayWcj8m9kX9PZ+hRN/0fUFaY9VxJp9U7wbmCZ49swr1qPOl2MXFTTD7es2hry1fA2xZPODNqPui3xsItD7R14+I3P8PneQ+ibm46hvV3IcpojRMAy+5CX/W1H8bMnNmnlueTckaYpT28dbkH91y1a/RxVlmuKsYNVtvn6huaEH/NQ92CF6y1mY5V2wiysNn4yBYuMjU2D5dUlZo3nMLNd37Xh1N+vwb62o8hxpuD5BZNR3IM39wAM9CYiIiKTuf/++3HnnXdi165dGD58OH7/+99jzJgxcc/H7n2HDU1ntCl3voadew5pnxtb2jD81y+jLD8d/3ft1ITkCQCG/eol7Gs7qn0++F0Hjrv1VeQ4U/D+r2YkLF/zHt2AV+qbtM9rtwGPvf05plcWYtn/HJewfJlR88F2Q9MZbfWWRixaWa870V7icqKutjLhrx6lyNhtCupqK3HFio0BfxcAdbWVprj4ZDZmrf9mzRdFxixjLyB8XQr1O4CI62Gg+QTTfOAIhtSt1l0s6Wz9Dpb/04aX4ME1DVAQ+Hz4d4eO4MKH3olqfTqTFoi8DCNZN19qq37a8BJMufPfurQ2BVGVsdqXzF+x0a/cOrMcIPS6d7WMfZfbIz2yk/mv1O/Cz5/cHPH2irQcw22vcOseaQ8dq1e2RlLG3rpSLtHUmc5u51DlFKruhdsHOjOeimTfima+Ru874T6HalMjzX8s+5p4tEFkbmYadwHmPlfy7f7IzrdFmi5WrHJ8++2BCMszwnSxkppiw7xJ5XhgTUPQNPMmlZsimPq2VfVYtrZB167fsmor5k0qx/WzKhOXMR+n3bcW73+5T/v88a5WVP3qJQzrk4PnfjwpgTnzsMo+pDJ7earMXD+tss0jPZaJ1TEPGcMMYy+zX28xI6u0E2ZhpfGTWVhlbGwWLK/OM2s8h5kN/uWLOHTErX3+9sARjLv9X0h32LB18ckJzJk5sCUnIiIi03jiiSfw85//HHV1ddi4cSOGDx+OGTNmoKmpKfwfG8zMr7ryPSjwtnPPIUy587U458jDN8jb2762oxj2q5finCMP3wuX3l6pb8K8RzfEOUfmZubX4q3e0oj5Kzb6BSXtamnD/BUbsXpLY9zzRBQvZq3/Zs0XRcZMY69wdem2VfVBf79ixUZcEWE9DLacUHyDRztTv0Ot34NrGnDZ5HIUu0L3rdGsT7RpoynDSNfNV7HLicsml+PBNQ1+aTtTxjOrSrB0TrVfuUW7nHDrHqruRVrGvssN9RR5bw+/uSOq7RVJOUayvcKte6QP6InFeDHSMg71W1e2XTTlH+l2DlZO4fZvAEH3gaVzqjsdABxq34pmvka0T75lGu5zqDY1kvwb1U4aUZ860waRuZlp3AWY/1yJmc9N+PrD65926fd4sFJ5rvtsT5d+j4fbVtXjgTUNAfulB9Y04LZV9YnJmA/foGRv73+5D6fdtzbOOQrMCvsQYJ3ytEL9vO3FrV36PR6s1G5SYGYZe7Eudc4v/7mlS78nm0fX7ezS78mG+2V0WF6dY9Z4DjPzDfL2duiIG4N/+WKcc2Q+DPQmIiIi07j77rsxb948/OhHP0JlZSX++Mc/IiMjAw8//HDc8zKkyGVoOqO0HDwS9KBAtXPPIbQcjCyowCjf7DscNMhbta/tKL6J8xPQD7V3BL1wqXqlvgmH2jvilCPzK8hMMzSdUTrcgkUr6wMGFqnfLVpZj45QUT5kCuq2DEYBt6Uvs9Z/s+aLImeWsVe4uiQAlq1tCFnXAvGth6GWE41o63ck+8pz7zXi/649AX+5ZGzQpwBHsz6dSRvJMn1FUqY90h34y6Vj8X/XnoDn3muMqPwjLeOZVSV447qp+Nu8cbjnvBH427xxnVpOsN8iqXtG1y9VsAdTRTP/zuYx3LqHo8DztGGjX6Mcq304mvka2aOFKqdI9+/plcV++8Ab103t8lOeA+1b0czXqPYpWr5tajT5N6qdNKo+RdsGkfmZZdwFWONcyaCibEPTxcr+tqNBAz9V73+5D/vDnDOLNZancdqPurFsbfAnZgKetrv9aOAAhXixQlkCzKfRrFA/zXp9w5dV2k0KzixjL9al6DXvb8c3+0M/4fyb/e1oDpMmWez6ri1oYKTq0BE3dn3HNxCoKktyDE3X3Zn1urGZWWW8YyZsyyLDQG8iIiIyhfb2drz77ruYNm2a9p3NZsO0adOwbt26gH9z+PBh7Nu3TzcZ5byH3zY0nVEufmS9oemMcsYf3jA0nVFujfAJJZGmSwan/H6NoemMsr6hOeSTJwWeV16tb2iOX6aoU7gto2fWMjNrvigy0Y69YjnuCleXgNBP6w3Fux5GspzOzDecSPeVd3fuhc2mhHwKcDTrY9S6h1rXSOb73aEjsCkK3t25N6o8RFrGdpuCmop8zB7RGzUV+VEvJ5xQdS8W9UuN7zYqbrMreexKHmLxGuVY7cNGzjdSaskEK6do9m/ffcCocu/KfOPVPoWa97s790aVf6PaSaPXJ9I2iMzNbOe8rHCuJNIniif6yeM/e2KToeliheVpnMfW7Qg7RnKLJ10iWaEso1k+8xkZK9RPs17f8GWVdpMCM9M5L9al6J334FuGpuvuTo3wWl2k6ZLBNU9tNjRdd2fW68ZmZpXxjpmwLYsMA72JiIjIFL799lt0dHSgqKhI931RURF27doV8G9uu+02uFwubSotLY1HVhPq6wgvGEeazijNByK74zTSdEbZseegoemSweGOyCJ6Ik1nlKbWyOp0pOkocbgto2fWMjNrvigy0Y69YjnuikcdaWpti8lyIplnNPtKotOGm08k3xmdh2j/LhFtTlfWz/cJ7sUuJy6Z0M+AXOnFah/w1SPDgaVzqrv8ROlAYrUPx6VcAmznUOVk9T423u1TV/LQ2fTB5pGoNojMzWznvKxwrsSs5798fb439FPaok0XKyxP4+xsjmy/iDRdrFihLKNZPvMZGSvUT6u0R1bJJwVmpnNerEvRa2qN7Endkabr7sK9bTnadMnAKv26WZj1urGZse2PHtuyyDDQm4iIiCzr+uuvR0tLizZ98cUXic5SzPVyOQ1NZ5S8TEf4RFGkM0q//AxD0yWDNHtkT+qLNJ1RCrMjq9ORpqPE4baMnlnLzKz5otiI5bgrHnWkMNsZk+VEMs9o9pVEpw03n0i+MzoP0f5dItqcrqzf/RdU42/zxuGe80bgb/PG4Y3rpmJaZbHBOYzdPuDr/vNjE+QNxGbbxq1cAmznUOVk9T423u1TV/LQ2fTB5pGoNoi6n1iOvaxwrsSs57989c1NNzRdrLA8jVOWF9l+EWm6WLFCWUazfOYzMlaon1Zpj6ySTzJGLMddrEvRK8xONTRdd5fjTDE0XTKwSr9uFma9bmxmbPujx7YsMgz0JiIiIlPo2bMn7HY7du/erft+9+7dKC4OHOiQlpaGnJwc3WSUpy8bb2g6ozz8wzGGpjPKM1dONDSdUW6YVWloumSweuEUQ9MZZUx5HkpcTgQ7TaAAKHE5MaY8L57Zok7gtoyeWcvMrPmiyEQ79orluCtcXQIAm4KQvwfjXQ8jWU5n5htONPtKotKGEmpdY5mHzrYhRm5nIHTdM2L9xlXko6YiH7NH9EZNRT7sNiVmdTXa+Uaz33mvT6yYpVw6s5xA2zkUq/ex8Wqfws07Gka1k4lqg8jczHbOywrnSsx6/svXknNHGpouVliexrmoph/CdOOwKZ50iWSFsoxm+cxnZKxQP63SHlklnxSYmc55sS5F7/EIr7tGmq67e37BZEPTJQOr9OtmYdbrxmbGtj96bMsiw0BvIiIiMoXU1FSMGjUK//rXv7Tv3G43/vWvf6Gmpibu+RnVP9fQdEZxZThQlh/6DuKy/HS4MuL75OyCnLSwd1DmOFNQkJMWpxx5pKfaMb2yMGSa6ZWFSE+1xylH5ldemBnRBYHywsz4ZOi/7DYFdbWei8y+2VM/19VWhg2aocTjtoyeWcvMrPmiyJhp7BWuLikA5k0qD/p7oP97f1brYSR1NtBvvqKt39HsK4lMG8l8YrVuvrrShnRmOYHSRlr3YrF+saqrkeYx3LqHW06sRFPGoRix7aJJa3Q9tkIfG6u2IZxYl3mo34yuT9G2QWRuZhp3AdY4V2LW81++spwpGNYndDDYsD45yErwU8dYnsZJTbFpbXMw8yaVIzUlsZfgrVCWAPNpNCvUT6u0R1bJJwVmprEX61L08rJSUZAV+mndBVmpyAuTJlkU93Ai3RG6XU932FDcg08OVlmlXzcLs143NjO2/dFjWxYZBnoTERGRafz85z/HsmXL8Oc//xlbt27F/PnzceDAAfzoRz9KSH523H5Kl36Plf+7dmrQg4Oy/HT837VT45wjj/d/NSNosHeOMwXv/2pGnHPksex/jgt6AXN6ZSGW/c9xcc6R+X122ylBD9ptiuf3RJhZVYKlc6pR7PMqq2KXE0vnVGNmVUlC8kXR47aMnlnLzKz5osiYaewVri5dP6sy6O9/nFONP0ZYD0MtJ9h8fPvEztTvaPaVRKSNpgxjsW5GlHEkeQq0nHDrHqruxXL9YlVXg803mnU3entFI9IyDvVbV7ddLNsKb1bvY2PRNoT7HMsyN6KviXUbROZmpnEXYI1zJWY9/+XruR9PChooMqxPDp778aQ45ygwlqdxrp9Vicsnlwfsly6fXI7rTfLmQCuUJcB8Gs0K9dMq7ZFV8kmBmWnsxboUvQ03Tg8a7F2QlYoNN06Pc47Mbevik4MGSKY7bNi6+OQ458j8rNKvm4VZrxubGdv+6LEtC08REUl0JoiIiIhU9913H+68807s2rULI0aMwL333ouxY8dG9Lf79u2Dy+VCS0uLoa9We/ezvTjrwbe0z09fNj7uT/IOpOXgEVz8yHp83dKGXi4nHv7hGFPc+fnNvsM44w9voPnAEeRlOvDMlRPj/iTvQA61d+DWVfXYsecg+uVn4IZZlXySdxgNTQcw857/w+EOQZpdweqFU0xxR3aHW7C+oRlNrW0ozPa8qpxPsbMmbsvombXMYp2vWPXx1PmxV6y2Sbi6FOr3aOphNPMZVZaLd3fuNaR+G5XHWKXtyr7clTwYWcadXU5X6l4s1y9WddX7b3tmpgEK8O3+wxGte6y2VzRC5cl3fTpbLtHWmXjVY7P0/ZEyct8J9zkeZR6rtsDINsgIHHvFhhnPeVnhXIlZz3/52t92FD97YhM+33sIfXPTseTckaZ8CiDL0zjtR914bN0O7Gw+iLK8DFxU0y/hT/IOxAplCTCfRrNC/bRKexTrfHLcFTtmO+dllTpvJs3723Heg2+hqbUdhdmpePyy8XySdwi7vmvDqb9fg31tR5HjTMHzCyYn/dNvw7FKv24WZr1ubGZs+6MX67bMymMvBnoTERFRt2HlQRkREREFxz7efLhNiIiIui/28+bDbUJERNQ9sY83H24TIiKi7svK/by5btskIiIiIiIiIiIiIiIiIiIiIiIiIiIiIgZ6ExEREREREREREREREREREREREREREZkNA72JiIiIiIiIiIiIiIiIiIiIiIiIiIiITIaB3kREREREREREREREREREREREREREREQmw0BvIiIiIiIiIiIiIiIiIiIiIiIiIiIiIpNhoDcRERERERERERERERERERERERERERGRyTDQm4iIiIiIiIiIiIiIiIiIiIiIiIiIiMhkGOhNREREREREREREREREREREREREREREZDIM9CYiIiIiIiIiIiIiIiIiIiIiIiIiIiIyGQZ6ExEREREREREREREREREREREREREREZkMA72JiIiIiIiIiIiIiIiIiIiIiIiIiIiITIaB3kREREREREREREREREREREREREREREQmw0BvIiIiIiIiIiIiIiIiIiIiIiIiIiIiIpNhoDcRERERERERERERERERERERERERERGRyTDQm4iIiIiIiIiIiIiIiIiIiIiIiIiIiMhkGOhNREREREREREREREREREREREREREREZDIM9CYiIiIiIiIiIiIiIiIiIiIiIiIiIiIyGQZ6ExEREREREREREREREREREREREREREZkMA72JiIiIiIiIiIiIiIiIiIiIiIiIiIiITIaB3kREREREREREREREREREREREREREREQmw0BvIiIiIiIiIiIiIiIiIiIiIiIiIiIiIpNhoDcRERERERERERERERERERERERERERGRyTDQm4iIiIiIiIiIiIiIiIiIiIiIiIiIiMhkGOhNREREREREREREREREREREREREREREZDIM9CYiIiIiIiIiIiIiIiIiIiIiIiIiIiIyGQZ6ExEREREREREREREREREREREREREREZkMA72JiIiIiIiIiIiIiIiIiIiIiIiIiIiITIaB3kREREREREREREREREREREREREREREQmw0BvIiIiIiIiIiIiIiIiIiIiIiIiIiIiIpNhoDcRERERERERERERERERERERERERERGRyTDQm4iIiIiIiIiIiIiIiIiIiIiIiIiIiMhkGOhNREREREREREREREREREREREREREREZDIM9CYiIiIiIiIiIiIiIiIiIiIiIiIiIiIymZREZ4CIiIjIKCICANi3b1+Cc0JERERGUvt2ta+nxOO4i4iIqPvi2Mt8OPYiIiLqnjjuMh+Ou4iIiLovK4+9GOhNRERE3UZraysAoLS0NME5ISIiolhobW2Fy+VKdDYIHHcRERElA469zINjLyIiou6N4y7z4LiLiIio+7Pi2EsRK4anExEREQXgdrvx9ddfIzs7G4qiGDrvffv2obS0FF988QVycnIMnXdXMF/RMWu+APPmjfmKnlnzxnxFx6z5Asybt1jmS0TQ2tqKXr16wWazGTpv6px4jrtCfQaQ8LTdbTlmzBPXneuebOtuxjxx3c297hx7dX+xHHtZgVmPgayK5WkclqWxWJ7GYnkah+Ou5JKM1xrNjGUWHZZX9Fhm0WF5RY9lFj2OvQLjE72JiIio27DZbOjTp09Ml5GTk2PKATjzFR2z5gswb96Yr+iZNW/MV3TMmi/AvHmLVb6sdmd9d5eIcVegz2ZI292WY8Y8cd257mZJm8x54rqbe929PxuFYy9zicfYywpiVd+TFcvTOCxLY7E8jcXyNA7HXckhma81mhnLLDosr+ixzKLD8ooeyyx6HHvpWSssnYiIiIiIiIiIiIiIiIiIiIiIiIiIiCgJMNCbiIiIiIiIiIiIiIiIiIiIiIiIiIiIyGRSEp0BIiIiIitIS0tDXV0d0tLSEp0VHeYrOmbNF2DevDFf0TNr3piv6Jg1X4B582bWfJH1+NalcJ/NkLa7LceMeeK6c92Tbd3NmCeuu7nXnag7Y303FsvTOCxLY7E8jcXyNA7LkozCuhQ9lll0WF7RY5lFh+UVPZZZ9FhmgSkiIonOBBERERERERERERERERERERERERERERF9z5boDBARERERERERERERERERERERERERERGRHgO9iYiIiIiIiIiIiIiIiIiIiIiIiIiIiEyGgd5EREREREREREREREREREREREREREREZiMG+ve//y0AZO/evUHT1NXVyfDhwzu9jK1bt8rYsWMlLS1Nhg8fLg0NDQJANm3aFHEejM6Tt7KyMlmyZIkh84qUFctdTV9VVRU0DQBZvHhx2PkCELvdHrLcQ+UvmnULNp+5c+fK7NmzRcRT1kVFRQHLG4A888wzQfMZLj9z584VAAJAJkyYIAsXLvTL7xtvvCH9+vUTADJr1iwtzy6XSwDI/fffLy6XS5fncHzTetdzdf6lpaUBt4H6e0ZGhmRkZOjKb/bs2WKz2SQ/P18GDx6srZs6PfPMMzJ37lxxOp3St29fSUtLE4fDoa3L448/LnPnzpUhQ4YIAElNTZWcnBzt7x9//HGZMmWK9vm6666TlJQUycrKksLCQsnNzZXZs2fLt99+KwUFBdLQ0KDlu6KiQgCIoigCQCZNmiTDhw+XnJwcbRsBEJvNps3f6XSKy+XS1nnFihUiIpKdnS0A5LLLLhMA4nA4tL8ZMmSIDB48WAYNGqQtc8KECTJ9+nRxuVwiIvLqq69qfzd8+HD529/+JgBk+PDh0rt3bznrrLMEgIwaNUrKysokNzdXlixZom235cuX6/K1d+9euemmmyQvL0/Lv1p/li9frtU9322tzkf18ccfa/lSlxlo2wOQ888/X2bPnq1ri9R9RV1vADJgwACtLlRVVYndbpfTTz9d6urqpH///n51BICUlJRo/1+7dq1ue6j/V5fhcrl0ZeJyucThcGh5nzt3rtjtdr/tpE4Oh0OuuuoqASC33nqr1NXVic1m07VlZWVlMmPGDG37qNtZraPqvHbs2KHbp9X/b9q0Sa666iqx2Wxit9slJSUl4Hp7T95lCECuuOIKSU1NlaysLMnMzJTBgwdLaWmpAJC8vDzdPI877jjt/wsWLJD09HStbHr16iVFRUVhlw9ABg4cGFG6QJOiKKIoikydOjVkOu9t6rvtI5n69u2r/T8/P18rh9zc3JB/F8k2CFRX1HXz/j4tLa3T5aTON1x+jZ4URdHVXXUqKCgwdDk5OTkB5xltmeXn54dNs3fvXgE8+2afPn06nWe1Xws19ezZM2z5BvvNbreL3W6XhQsXyrBhwyLKU2Fhodb2RLOsSMosUF9t1PzjNUWyP/ft2zfounSmPQi2bQH9OCJRU35+flzzoY6LzDINHz5chg8fHnH6AQMGRLWNzTr5bnPvMXRnplDtYaBtro5LujLFuz/kFHyKpr7Hq72JpE8KNL7JysoKeBzQlclmsxk+z1DrGGi9jCy3aKZI89KVY4nuNpl5PBVuXJssk3c7pvZn6jFtoPQlJSV+bUC4cbVR+TNi8j0O5/T9pO4TkbbxkW6bUaNGCQDp0aOH7vuhQ4f61bPObm/1uEbtw83c9qjTiSeeaOj8QvVR6thWLV/fcrZCeVl56my7E+iYJNg+oiiKZGVlRb0P+bbfiqKEnEewupKVlRVRumCTzWaTnj17ateGgK6dc4xkPB9pHoOViXpNJ9gUzfkW7/z26tWr0+vd1SnU+Y1w5TVv3rwu578z27wrxwqh8qEen3flWF/tVwOVXUpKStBz0ddee23UywpU39TrbIGmcePGBf3NiLGXmp8xY8ZEtI337t2ruxamzmPhwoVSV1fnV4ben4cMGaLbH9XfbDabTJ06VVum7zVSdfJuo733gd69e+uuH6rXlYJdX5o9e7Y2hlKvGS9fvlwASHFxcURlnZ2dLSeccELAvHmv79ixY+XYY4/VfT906NCAyzj11FPl888/l7S0NG156jV373V+7733dMtVr3dXVFT49UcVFRVSUFAQ8LqFWt7e7Vp5ebluG1VWVoqiKEHHnDfeeKMAnmuLy5cv1+pTeXm5lmf1b2tra4NeawUgmZmZ2v/VvmrSpEna31933XXa7/n5+ZKRkeFXT33rTFZWlrZtcnJy/K41q9eyAU9frpZxRkaG3HnnnQJALr/8cnE4HJKeni4ApKamRoDvx+GzZs3ym696jVq9Pi0ikpmZKVVVVQJ42t/09HQt/0uWLJGysjI555xztPbI5XJJbm6upKWlyaBBg3T1RES0WIGKigrtun6gc6zNzc0yb948rRxSU1P9+suPPvpIqqur/er6M888o9vXvPcXtZ6ceuqpMmXKFHE6nfLGG29o21EdLwCQr776Ss4880ytrql1+IILLpCysjLt2rdal6ZMmSJXXnmlnHnmmVqd2rt3r7ZNAM918kC8Y118r8H7xqZ4r2dNTY2UlpZKRkaGLq5hypQp2nfq3zzzzDN+2zwU7zGTGhOh8o7t8Y0F8o4zGTJkiCxcuFDLwwMPPBBwfr7rFyw2yDuOwjv2KNDfBIpXOv7447V+XeT72BbvvKv5FfGPY/NdzjPPPCMVFRXaNWHv7wBPfMH06dN19VGtAxMmTND2W0VRtOU88MAD0qdPH+27aGPWAtWZ/Px8cTqdujS+Zegrklg237yKfF9vLrjgAi2dd71Tfy8oKNB+V8shmLS0NJk8ebIuve/2DhXHpa5LTk5OwN99Y8eC/Z6VlRXw92hiyLzzE2mcYKziKdX6rtaxUPuer2jSRitW8/bdv8MJVy9iyTev0ead/EUc6B1swKdOdXV1Ee3Era2t8u2333Y6wz/4wQ9k6tSpsmPHDvn222/9KuThw4elsbFR3G53xPOMpEOJtLI1NTXJgQMHIl52OGYq95EjRwoA2b59e6fKvampSa644gopLS2N+AS4elKgd+/ekpqaKkVFRXLSSSfJG2+8oSuj++67Tyv3QNtKLaNvv/1WbrvtNhk0aJA4nU7Jzc2VvLw8vwO8QNNNN92kzedHP/qRlJaWannq1auXTJw4USvr8ePHS1pamra+ajrAc6CuDvIzMjL81ket42PHjpXLL79cC+q12+3agP2jjz6Sb7/9Vvbt2yeTJ0+WSy+9VI4cOSIiImPGjNEuBOzYscMv0Pvrr7+W3bt3y8qVK0MO9tSyNXJSD+6Ki4vlpptuksrKSqmsrJSHHnpIdu/eLZdccomW9uGHH5a2tjZdIGw0y1C3mXowdN5558lNN92kBdyGmjIzM8OeeFQHQN4H3z/5yU8EgEyfPl0AyD/+8Q8R+f5A79JLL9XS5ubmyjHHHCMAtEDvYcOGydNPPy0A5K677tIGiaeccooA3x+U/+c//xHAM6B2Op3y4x//WKtbZWVlsnjxYjlw4IAu0Nv74Hzv3r1ywQUXCAB5/vnnZfv27XLkyBEBPMHx11xzjQwZMkRKSkpEURSx2+1SVFQkDodDUlNTpampKWzZ2O32iIJvHA6HdpIs3ElG3wtcq1at0g5e1aCrzZs3CwAtv4DnYF39PSUlRWw2m9a2qCcFOlO/Ro0aJQsXLtTWI1C7pq5bYWGh3zzUAP5ETEYEmkQadKpOkexT8ZwiDaLnFN8pFhcbEpkX7xPN8ZqysrJk0aJFUllZqfveDAHFnDyT3W7X+qVYbRe2b5yinWIZgG/2oHdOndte3hfyjGxz2F8l18RAOU7RTN43KXPixIkTJ06czDlFMp43cgyY7MebkTyEwujJ+1oH4LlOFe88eJ+3nTVrVtR/7319JNT5kNGjR8v8+fP9bs7wniJ9UE6ofcNms4nNZtMeJhXJfjRlyhQZMWJE0N/79OnjNx+HwxHx8fs///lP3Wd1X3vyySe162qh5qWm79Gjhy5Iv7S0VCorK7UHsaiT9/VE72vFgabTTz/dr0xzc3P9HgyUn58vubm5Ac/zB2qHbDabfPPNN1o8hDp/7/yrQcLp6enidDq7dA5DfchLoO9dLpdcffXVoiiKtl4pKSkBy1wN9C4qKpKRI0fq0qh1V41LUIOVvR+K5FsuK1as0O0jo0aN8rvRwnv7en8/efJk7f/qeaOePXtKjx49tODRn//857o03oHevXr10pblHeitTunp6dLY2CgbNmzQrceOHTuCBnqr63X++eeLw+GQU089VftbRVGkvLxc5s6dKwcOHJC+ffuKzWaTJUuWSElJiaSlpUlqaqoW7K/WGzUIVr3+//LLL8vu3bt1N2Ccd955cuyxx8oXX3whL7zwgm67eNe/gQMHyp///Ge59tprZfDgwXLyySfL6NGjBYC8+OKLWlkAkFdeeUWLxTl48KDs3r1bgO+vRR977LEyZswYOeecc+Tll1+W0aNHS21trQCQ/v37S3p6upxyyily/PHHy2effSbA9zdT7tixQ9avXy+AJ/5nz549cvfdd0tBQYGcdtppMmPGDHG73bJ161Yt7z169NACNr2DN3/wgx9odaNnz55agG9ubq6UlpbqgkgbGxsF8ARClpaWSn5+vnzyySeye/dubRtmZmZqfU9GRoY0NjZKW1tb0EDvQDEvR48elS+//FIAyN///nfdb62trXLttddKUVGR1hZ5x89ceumlsmPHDvn666/lhRde0NY/2kDvQDc5AJ64H+8YK3X9vNfFOx7s8OHD2o0jb7zxhmzZskXq6urE5XJJ//79ZfTo0ZKVlSU9e/aUU045RT766CO/baTetKE+tFDEcyNEQUGBfPrpp7J9+3YRESksLJTrrrtONm3aJOPHj5errrpK2/+eeuop2b9/v4iI3HXXXVpd/Prrr+XAgQPS0tIiDodDfv/732vfecesBYrR8912kQR6qzdqrVmzRkQ8Ae/qA+1UoWLZ/vCHP2gxDE6nU0aNGqXF+AQK9Fb3Pe/fvQO9f/e73wUNwhbxD/RWt7f39vnuu+90sX/e5eId6B2ofH75y19KQUGBDBs2TObOnSvp6em6wOqjR4/KZ599Jl999VXA/EUb6K3evHjFFVcE/N13m3rHU3bmIb7evPevPXv2yL59+7Q65v1bNPPpikDzASDnnnuuX387aNCgLi3LyoHe6rYK5csvv5QLL7xQi4erqqqSDRs2BExr1PYzSjwC2W2IUGNjozb97ne/Q05Oju67a665JqL5ZGVlIT8/P9LF+tm+fTsmTpyIsrKygPNJTU1FcXExFEXp9DK6oqCgABkZGYbNLx7l3t7eHvbvt2/fjqFDhwIA8vLy/H6PpNzPOussbNq0CX/+85/x6KOPAgB69uyJRx55JOC6AUBTUxMAYOnSpfjkk0/w3HPP4fjjj8eePXt08+7du3dE5X7HHXdgyZIlWLx4Merr6/Hvf/8b2dnZ6NOnj7bc9evXAwAyMzMBAA8//DAaGxtx7bXXavP54IMP8Oc//1nLU3FxsVaOWVlZcDgcaG9v19ZXTQcAX375JU4//XSkp6ejtrbWb33UOu50OuF0OrXvp06diiNHjgAAioqKkJ+fj+zsbCiKgszMTKSkpGh/n52dDQBwuVwQEV0ZpKeno7CwEFlZWWHLSy2T0aNHa9t2+vTpyMrKwtlnn43Ro0ejrKwMAJCTk4O0tDQ89NBDAIBbb70VZ5xxBkaMGAEAGDhwoLY+u3fvxsMPP4zDhw/jq6++woUXXuiXp9zcXKSlpWnrbLfbMWnSJGRlZaGkpERL9+abb2LYsGGorKzUykBlt9u1/zudTiiKgpSUFNx6660oKipCZWUlfvOb32hpPvroIzQ2NmLmzJk4ePCgVl7e1HWYM2cOcnNz0dHRof2Wn5+PlJQUvPbaawAARVHw+eef48MPPwQAvPPOO1ra/v3747PPPtPlU1EUbf9Sl9Pe3o6dO3cCABwOh+5fdZt4r6f6t+H2h71798LhcGD69Ono37+/VnZpaWnIzMzEjh07sH//fqSnp+OGG27Ac889B4fDARHRtmthYSEAoE+fPlpZpaWl4W9/+xvef/993HLLLVr+jj/+eNx0001wOBwoLCxESkoKiouL4XA4tGV3dHQgJSUF55xzji6vNpsNO3fuxOjRo3Xfl5SUoLGxEVOmTNH2V7VMvvvuOxQVFQEADh06hO3btwPw1N/jjz8eixcv1qVPTU3FySefjJUrV2LYsGEAgGOPPVa3vPT0dEyZMkX77Ha78cwzzwDwtEGVlZVafnNycmC321FRUQEAaGtr0/5u5MiRAIDVq1cH3DZZWVna9vOtf5Hq168fAM/2BICMjAwtL4qiIDU1VUvbs2fPgPNITU3V6logvn2Bug3U+gDo66a6T3kLtH42W8RDE51o+321vsVKZ8YhocrbbLzXz2azYcSIEbp61VnebWqipaWlRbwdg9Xb3NzcsH8bSZpouN1uZGRkaPuk9/eBRLqOvn2NVUTapnivX05OjqF58C1jm80WtO2N1TKJwlHH3LEQq/7N6H01HhRF6fT4LlqdHVNF2p/HarvGcnymUvP+wx/+MGiazpZfZ3XHdnvChAlh18v3fAWF1h3ricr7/Fcw+/fvj0NOjNfZ9rKgoMDgnPhTzxmQuQQb4xjZBlj1+C7efI+rKbkZNU7tzv15pKZOnWrYvIKd77KKrrbHRhyXRXtO13f8cOjQIb/vqqqqgv59Z4+1vMeL3ucwvvnmm07NT+V93cI3b+p1sFB5DrQNA12fi6QNaW9vR1ZWVsB5jhs3Tvf56NGjIfupQOO8vn37YsGCBdrns846S8vb2LFjAQCDBg3C9OnT/dZBbbvUWIBAbVmgdbTZbLrvy8rK4HA40KNHj6B5D7dfq9elfZftu/yUlJSA205RFN11LG+HDh3CBx98ACBwPMTWrVuRlZWFw4cP4/nnn/c7xxtNDExqaiqqq6u1PHlzu93IysqCzWbDt99+q8u7r1Dl5Xa7oSiK7rqy92dfiqJg7969uuvwoY7bfX9T4xOA7+ugb30J1W7Z7XZdWt91S01NRV5enlbu6r7icrm0NAcOHAg6f++/UfNfWFiIHj16ICMjA0ePHoXb7cbs2bORmpqq5eXo0aMh59mzZ0+kpqbiu+++A+Cp9wMGDEBqair69OmDTz75RFef1HJzOByYMmUKFi5ciPr6ehx33HHIz8/X2uVevXr5LUdRFLS3t2vX272lpKRg+/btOPnkkzF9+nRkZmZq82pra9PKLjs72+9csMvl0h2D5uXl4auvvsLgwYPhcrngdDrhdrvD9hnt7e3Ytm2btk0URQlZh4qLi7X/Hzp0CIWFhTjmmGN061ZWVoY//vGPur/xricdHR1h242Ojg707t0bgH+7nZWVhfT09KD5zMzMRFlZGUpKSiKKRwoUexXq3HtRUZFufYqLi7X9RzwPbvX7G7VODhkyBEOGDAHgqXf79+/HVVddhbfffhuvvvoqjhw5gpNOOinsfrF//34cOHAA2dnZqKioQP/+/bF//340NTVhxowZGDFihBbToW7bAQMGaP2Q2peWlpZq5fT555/jyJEjOOWUU7Tvuhor2BkHDx4MGMumbpM+ffpoMSHPP/88ZsyYgXPPPVeL7/F25MgRLdYqGJfLFdV433t7e88jVD8Zis1mg81mC5oHu92O8vJyv/alMzZs2ICVK1dG9TdGx1Oq8vLykJ2dHbSORRIT2Vne8w7WXwwZMkQXC/nGG2/ELD9mp26rYPbu3YsJEybA4XDgxRdfRH19Pe666y7D4yksrTPR4cHujlLvuHj11Vdl1KhRkp6eLjU1NdpdQiL+d+b8+9//luOOO0573cb48eNlx44dAZcLn7sc6urq/O48CHTXx4MPPih9+vSR9PR0Of3003VPyvXO06OPPiplZWWSk5Mj5557rnYXQaAnCjc0NATMo/edNm63W+rq6rQnOpeUlMiCBQtClu0f/vAH6d+/vzgcDhk4cKA8+uij2m/qK4v+8Ic/yMyZM8XpdEp5ebn86le/0pW70+mU/Px8ycrKktzcXDnttNNk4cKFWrnPnTtXJkyYIL1799ZeLTp+/Hi5++67ZdSoUZKVlSVFRUVy/vnna3cCBps2bdokHR0d2pOK09LSZNiwYfLUU0/pyt37qTvHH3+8ti5VVVXy6KOPaned1dbWyqxZs3RPH/aebDab5ObmykcffSQnnHCC7jUyVVVVAe98dTgcuuXbbDZJSUkJ+qqtYE8TyMjI0N1t6b0s9W8ieTK4UVO8nnyViLvxOXHixIkTJ06cOHHixIkTJ06cOHHixIkTJ06cOHHixIkTJ06cOHFKlmngwIEJz4PRU1feomy322MSGxUqDsr7bZbqpChKwBgxNY+B/ibQVFBQEPJtIfGannrqKfnZz34WsGynT58ugOcp58G2XVpamlx44YUByyLY9nK5XJKRkSErV64MWL4DBgyQZ599VqZMmSILFiyQa6+9VjIyMrT52Ww26d27d8C8LFy4UIv9BCCzZ8/W3ryiKIo4nU4BILfeeqvU1NSIw+HQ3lKSm5sr1113nRw5ckRef/11Lb4wOztbZs+eLUOGDBGn06lt58suu0wWLlwogOdtN77rm5GRIT179tTy7J3P3/72t7oY0Q8++EBmzpypvb1gzpw58s0332i/79+/Xy666CLJzMyU4uJi+e1vf+v31GjA/6nWLpdLli9fLiKBn+gdbrm+vv32WznvvPOkV69ekp6eLlVVVfLXv/5VlyaSvIbL+3XXXSd2u13L++HDh+Wqq66S4uJiSUtLk759+8qtt94qIp74XO9yLysrE5HvY4D/9Kc/SWlpqWRmZsr8+fPl6NGjcscdd0hRUZEUFBTIzTffrMv/3r175ZJLLpGePXtKdna2nHDCCbJ582bt987GFjc3N8sFF1wgPXv2FKfTKQMGDJCHH344aFmHE5NA77Fjx8rrr78uH374oUyaNEnGjx+vpfEO9D5y5Ii4XC655ppr5NNPP5X6+np55JFHZOfOnQGX29jYKEOGDJGrr75aGhsbpbW1NWyg9xtvvCE2m03uvPNO+fjjj+X++++XvLw8v0DvrKwsOfPMM+WDDz6QNWvWSHFxsdxwww0i4nk1Qk1NjcybN08aGxulsbFRjh49GjCP3oHeTz31lOTk5MiqVatk586d8s4778iDDz4YtFz/8Y9/iMPhkPvvv18+/vhjueuuu8Rut8trr72mlTvgedXQsmXL5OOPP5Ybb7xRaxjGjh0rr776qvTv31+KiopkxIgRUl9fLxdccIHk5+fLsGHDRETkoosuEgBSWVkpq1atkmeffVYeeeQR+c1vfiOrVq2S7du3y7p166SmpkZOPvlkrdxPO+00ASAbN27Uvbrl5ptvltLSUu3z8uXLxeFwaOX++uuvax2ew+GQ5cuXaw2qWu6LFy+WzMxMSUlJkT59+sh//vMfXeUfPHiwnH322VrjP378ePnLX/6ie5XTRRddJD/96U+1z4sXL5Ynn3xSFi5cqC0/KytLysrKxOVySd++fWX06NFa3gFIdXW19tol72WrefcN5K6pqdH9vcPhkDPOOEOXxuFwaK9EUhty9VVgNptNFEWRa665RoYOHaqlSU1N1ZarTk8++aQubyUlJdKnTx9dpxHJ66fUZQbr0NPT00VRFF2HE+ug8kD59n0NVCST+lqVUBNfBc6JEydOnDhx4sSJEydOnDhx4sSJEydOnDhx4sSJEydOnDhx4hS7KV6xGV0JJI506tGjR8jfOxtT4/2wSe/J4XCE/Dv1YZrRTOPHj/d7eGZ1dbXfeqgBsN7l6/uwzmOPPVYURdHlf8SIEVJYWKh9rqiokAEDBvjVCe8ATYfDIaNGjdIty/dvjjnmGF35DhgwQCZOnKh9vvXWW+W+++7TrUNqaqoWsKxOGRkZfnVSDRxWA7V9yyc3N9dv26pBw+qkxn+pU3l5uV9Zef9NRkaGLj7MZrP5xaldeeWVujL58Y9/rNsGZWVlWt7VgGx1W5aWlsoJJ5wgqampYrfbJTU1VTIyMmTOnDm6MvIOOHc6nVqcn/e28d631AfJ+tb5lJQUGTZsmACewOf58+fL+eefr6W7++67ZfTo0eJ0OiUtLU2ys7PlzDPPFOD7gPuBAwfKT37yE8nKypLx48dLTk6OLFy4UFJSUmTQoEECQObPn6+LCVu+fLk0NjbK+PHj/QK9FUWRE088Uf7f//t/cvrpp2t12mazyT333CPp6elaTN5PfvIT6dmzp/zsZz+TjIwMufLKK6VXr15y3nnnCQA56aSTpKGhQQYNGiR5eXmSlZUl1157rZYPNUZw4cKFMmbMGKmqqpINGzZo9SklJUXy8vIkPT1d7Ha7vPfeeyLiCSwuKCiQ66+/XrZu3SobN26U6dOnywknnKDFkc6fP1/69u0rr776qrz//vty6qmnSnZ2dpcCvSNZrq8vv/xS7rzzTtm0aZNs375d7r33XrHb7fLOO+9Elddwgd6DBw+W1NRUGT16tBQUFEivXr0kNzdX1qxZIzt27JC1a9dqAeZNTU26etDU1CQi38cAn3322fLhhx/Kc889J6mpqTJjxgxZsGCBfPTRR/Lwww8LAHn77be1ZU+bNk1qa2tlw4YN8sknn8jVV18t+fn5smfPHt18o40tvuqqq2TEiBGyYcMGaWhokFdeeUWee+65oGUdTsye6K164YUXBIAcOnRIRPSB3nv27BEA8vrrr0e87OHDh0tdXZ32OVyg97nnniunnHKKbh4XXnihX6B3RkaGFmUvInLttdfK2LFjtc++lS0Y70Dvu+66SwYOHCjt7e0Rrdv48eNl3rx5uu/OOeccmTVrloh8H+h9xRVX6NKojc+rr74qjz32mAwaNEief/55rdwPHz4sKSkp0r9/fxERrTF65ZVXQuZHbXhaW1tl+PDh2t0He/fu1cr9nXfekYyMDK3TVMu9vLxcevXqJSIi119/vVRWVsqkSZO0O2W8O5x9+/bJ8uXLJTMzUxRFkZEjR4qIaB2c2oGMHz9e0tPTtYZ+7969ukDvJUuWSGVlpfZ55cqVIiJyww03aMHYf/rTn2Tw4MG6DigtLU2ysrKksLBQZs6c6TeQUu9CSk1Nlauvvlr3W1FRkfzgBz/QPqelpcmJJ56oS6MONLzT+A4EXnzxRb9BxsiRI3Wd6AMPPKCbz+jRo0VRFF1nPmfOHL+O1XeA53K5xOFw6NINGzZMW+9jjjnGb3AT6I4ydWAZbsAabgAKwG+gCMAv0N13sKR2wt6fS0pK/H5PZGC3b9kEG6QD/oM/Nd+B7vyLpEzDTd77TqCyDTUFK9NAT9SPpnw4ceLEiRMnTpw4ceLEiRMnTpw4ceLEiRMnTpw4ceLEiRMnTvopkmvx3g8gNHIKFeegToGu/RcXFxsS2xAqP+HKxfd377iMQH/rHRTqPY0YMSKqeauTGvMUbDrjjDN0QbHq1KtXL12Z3nTTTQEf8hhq3oMGDdKWb7PZJC0tTRe4W11dLb/4xS90f5Oeni7HHHOM7js1yN07rqS0tFQuvPBCLbC2pKRERET69u2rpenTp4+4XC7dMhcsWCATJkzQ1qW0tFT3EMjPPvtMPvzwQ93yZ86cqf1fnddLL72kfbdmzRothk2dbrnlFrnmmmt035155pkybtw43fbzjjGz2WzSq1cvXblecMEFulgu9cneffr00b676qqrQsa+zJo1SxYtWqR9Li8v18pU/ffss8/W6rXL5ZLZs2fr6ruIyJIlS3T11OFwaPFil19+uVRUVAjgCZqeO3eupKSkaHVy/fr1fmVUXFwsNptNXC6XZGVlSa9evbSAbbV8Ro4cKYAnILt3797Sv39/v3rncrnkoosukry8PMnMzJSOjg4RESkoKJCMjAy5+uqrtfjDPn36SM+ePbXYzuOPP16rM5s2bRIAMnToUJk4caJcd911UlVVJSIixx13nFx33XW6+qoGCKvxnN6B3gMHDtRiH/fv36+rP+ecc44MGjRI2tvbBYD8z//8j9x///2SmpoqAwcOFLfbLWVlZVp8oLpOw4cPl7KyMl1M45gxY7T/P/PMM1JbWys/+tGPdL8/+eST8t5778k///lPATzB8Pv27ZPFixfLSSedpIvT/OKLLwSAfPzxx9La2iqpqany5JNPar/v2bNH0tPTuxToHW65kTrllFPk6quvFhGJOK/hAr3V+LhTTjlFNm7cKCeccILYbDZtXXwFWvdAMcAzZsyQfv36aXVTRGTQoEFy2223iYjI2rVrJScnR9ra2nTzqqiokAceeCDofCOJLfauE0awIQaGDRum/b+kpAQA0NTU5JcuLy8PP/zhDzFjxgzU1tbinnvuQWNjo6F5+fjjjzFmzBjdd76fAaBfv37Izs7W5TtQnqNxzjnn4NChQ+jfvz/mzZuHZ555BkePHg2afuvWrZgwYYLuuwkTJmDr1q2672pqanSfKysrAXjK/b333sOnn36Ks88+G4CnjPPy8nD06FG0t7cDANLS0lBSUoJTTz1VV+7vvvsuamtr0bdvX2RnZ2PKlCkAgM8//zxonr/44gscPHgQ11xzDQCgd+/eyMrKQkNDAxRF0dZr7NixOPvss5GTk4PnnnsOkydPBgC0tbXh6aefBgC43W706NED3333nTb//Px8AMBll12GmTNnAgCam5sBAPv27cNFF12kpf3yyy/x0UcfIS8vDwBw5plnoqamBi+++CIGDx4MAKitrcWWLVvw2GOPQUQAAIcPH8aRI0cwfPhwvPnmm37baOfOnQCA9vZ29OnTR/fb7t278fe//137fPjwYbz22mu6NJmZmdi+fbv22Wbz3+0uu+wyrFmzRvfdnj17kJqaqn3esWMHdu/erX0+cOAARAQHDhzQvnviiSe09QKA1NRU7NmzRzfflpYWANCle//997X13rZtG9xut/b3ALB//36/PB85csRvPr7sdruWztuxxx6r+6wuz5tvvQ/E9+98249A840n37IJtf/7lrGa98OHD/ul9S5TdT+L1t69e7X/t7W1RfW3wcq1o6MjqvmEqjtEREREREREREREREREREQU2bX4ffv2xWTZoeIcVMGu/aenpxudHV1+wpWL7++tra0h/3bXrl1abJW3zZs3RzVv1cGDB0Pm75lnnsHf/vY3v+8bGxt1ZXrHHXf4lbHv56ysLN3n7777Tkvjdru12CjVe++9h9tvv133N4cOHcKnn36q+06NMfKOK/nyyy+RkpKilUFbWxtGjRqFL774QpempaVFV55Tp07Ftm3btHx98cUX+Oabb7Tf+/fvjyFDhuiW/9JLL2n/V+f15ptvIpQJEybg66+/1n3X3Nysi9cqLi7WlUdVVRW+/vprXTzMq6++qovlEhF0dHToYpO++eabgHFgqn/961+48847tc87duzQ4uLUf//+979r9bqtrQ2rVq3S0h89ehSKouBnP/uZ9t3zzz8P4Pv69eCDD+Lbb7/VLVdE4HQ6AQAnnHCCX7nu378fIoKRI0fC4XCgV69eWrwd4Knf7733HgBP2X311Vf47LPP/OKFjh49iqeffhoOhwMHDhzAsccei5ycHHzzzTc4ePAg7rnnHi3+0G6349tvv9Xi/15//XXs2rULgKfO5+TkoL29HcOGDcPHH3+M0aNHY/Hixfjoo4+wZMkS/Pa3vw1azt6qq6uxe/duzJs3DyNGjNC+b29vxyeffIKamho4HA4Anno6YcIEbblqDFavXr0wZswYHDhwALW1tdizZw/cbjdGjRqlxZNOmzZNt9z58+fj8ccf15b5n//8Bw888ABWrVqFqqoqZGdno7W1FU8++STee+89/Pvf/0ZWVpY2qbF027dvx/bt29He3o6xY8dq88/Ly8OgQYMiKoNgwi03kI6ODixevBhDhw5FXl4esrKy8NJLL2nxpEbl1e12w2634+yzz8bIkSPx29/+Fg6HA/Pnz8dPfvITvPzyyxHNxzcGuKioCJWVlbr9tKioSNuO7733Hvbv34/8/HxduTQ0NOjKpDOxxd514n//93/x1ltvRbQOwcQk0FvdGYDvgxCDBQYuX74c69atw/jx4/HEE09g4MCBePvtt2ORrZC88wx48t3VINHS0lJ8/PHH+MMf/oD09HRceeWVmDx5csDAVyM4HA7s378fo0aNwhNPPAEAWLVqFTZv3owFCxagR48eWtoxY8b4lfvUqVORk5ODv/zlL9iwYQOeeeYZAAg4iFGpncZtt90GAFi7di02b96MwYMH49xzzw34N9OnT9d+y83NRV1dne73QOU+ZMgQ/PKXv0R5ebm2rdxuNy699FItzTvvvIOpU6di6NChSElJwXHHHYcdO3Zg06ZN2o7icDhgs9lQVVWl/Z2iKDh8+DAKCgp0QdOqhoYG7W+HDh0KwBOs3bNnT4waNUorJ8DTydfU1EBRFNjtdgwZMgRXX321rsM8dOgQ+vbtqwvQ3b17N4YMGaL7bt++fbrPt912m25g2NbWBkVRdMHg1157rW6gfOTIEZx00km69UlNTYWiKEhLS9N953Q6UVBQAAAYOXIkAMDpdIYNJM7MzNR97tWrl/b/jo4Ov30L8NyA4S1QMLM64FAFCkb2zZv3Oqki2Y87GyxtpHgHPfft2zeq9N5lNGDAgKiXl5ubG/XfEBERERERERERERERERERJbtIYhpiFfeQkpISNk2gQFdFUcIGOvtSHyYainfsk7qczrDZbH5/+/bbbweMOyktLfX7zjs2J9D6Bys33xiaHj16aDFMTqcTgwcP9osf+fWvfx1kLb7nnW+n04mbb77ZLxbHe33POussXWCmatGiRbrPal4yMjK07+x2O1599VV89NFHADwPGrzkkkt02yY7O1sXXGm32zF58mRdYGRFRYVuWS+99JJu+ampqXjyySd167ht2za/oOVA6xeI7zbxTn/cccf5bccePXrguOOO85vPjBkzAHiC6++55x5dfn0NGDAA999/v/a5uLhYW07v3r21f9UA0ry8PPTq1UuXl5ycHO3/DodDC/6+++67AQDHHHOMdqOHd91R46XeffddvPDCC7p8FRYWavM7++yz8eWXX/rlXY2R69evn98DPVUHDx7EoUOHtH29ra0NNpsNTqcTDocDkydP1uLqFEVBjx49MHv2bO3vX331VWzbtg2TJ0/Wtoe6j3zwwQe45557cMwxx2DGjBm6sg4lIyMDc+fOxebNm3HPPfdocW0ulyuiGDK1bXjggQcAeMr3m2++wVdffYWjR49q+75vXNvJJ5+MnTt3akH5drsdHR0deO2111BZWYmOjg4UFRXh008/xf79+1FbW4vNmzfrJrUsIqUoil97ESoutTPLvfPOO3HPPffguuuuw7///W9s3rwZM2bMCBlP2pm8+7b/1dXVuPXWW5Geno5Dhw7hBz/4gfbg41ACxQCHigvev38/SkpK/Mrk448/xrXXXhtyvuHqk3ed+Prrr3HiiSdqD1PujJgEekdr5MiRuP766/HWW2+hqqoKf/3rXw2b96BBg7Bhwwbdd76fI5Gamhr102oBT8deW1uLe++9F6+//jrWrVuHDz74IGDawYMH+9119Oabb2pP7Fb5BsLX19dr/6+ursa2bdu0u2z69euHAQMGIC8vD3a7Xfd33uVeXl6Offv24fbbb8ekSZNw7LHH+t11oP69dzn0798faWlpWtr+/ftjwIABGDZsGD755BNtvdavX68rd3Ud0tLStOBqm82G7777Tjd/9SnHaoexd+9eXcerdioAsHHjRlx88cVITU2FzWbDvHnz0NjYiMLCQr+nJb/55ptaQ652tGoAuNpx2O12OBwO7U6srKwsrQzcbjf27t2LESNG6AJmjzvuOPTv3x8iAhFBz549sWjRItx0001aGpvNhvb2dl1jlZKSgkOHDum+279/v65RHDp0qG5QcPDgQYiI7ruCggJdZ68oSsCBcKAnbaenp6OwsBCKomh1KjU1NWgAsjqQ8F2e9/YJ1qiNHj064Dy9+Q44MzMzwx5AdGYfBYwPslbrkO8BQKi7+DpLROISqO5dz3zvfIxEoED9WJQHERERERERERERERERERFRdxJJTIP3k0aNFMkTvaurq/2+y8rKiuhvvXkHEwejPgVZ1dl4D7fb7RdrUVRUFPBBhepDE715r5vb7dYF4wKe+JVwsRx9+/bF/v37tbiwtrY29O/fH4A+CPmdd97x+1vfeXvHRR05cgS5ubm6mIyMjAxd/I7L5cK4ceN087DZbFiwYIHuOzW40bucS0tLtac0A56A1yuvvBIul0v7LjU11e/BlHl5ebq4n969e6Nnz57a5++++w5nnXWW9tntduP000/X1lVRFAwYMADHHHOMlsY7TkjN45tvvql7SKW6bO+4l127dukC019//XW/GJ9Ro0b5PZXebrdrTzI+cOAA3G637snpvjIyMrSnogOeJ7+r9fzEE0+Eoig4cuSI9uDPgQMHYsKECbq8eAeGdnR0oKSkBPn5+ViyZAkAT/1U1+XQoUNa3Jxalz/44AP069fPrzwURcHXX3+N8847D7t27dLFAtntdu3vv/32W7S0tOBnP/sZTjjhBCiKotX3c845B7W1tQA8sW9ffPEFWlpakJeXB7fbjezsbC2msKioCGlpadrDWocMGYJJkyZhwIABfg8ZHTRoED755BPMnj0bpaWlyMvL0z0xPlx82Jtvvomf/OQnmDVrlrYftLS0oKioCOvWrdNi5vr06YM333wTqampeP/99yEiKCgoQGNjI9566y1kZ2fjV7/6lTaP7du3a23t+++/D8Czj6j5KSgowNy5cwEAl1xyCd599128/PLLOPPMM3H48GF88803KCkpQXV1NT788EMtrtN7yszMREVFBRwOh27f37t3rxaLqVLzqtq2bVvIG2zCLTdYWc6ePRtz5szB8OHD0b9/f10+Is2rL9+8Dxs2zG+7fvHFFzj22GOxbNkyPPHEE3j66afR3NwMQF/uXVFdXY1du3YhJSXFr0y826dwgsUWq3VixYoV+N3vfocHH3yw03lNaJRdQ0MDrr/+eqxbtw47d+7Eyy+/jG3btmHw4MGGLWPBggVYtWoV7r77bmzbtg0PPPAAXnzxxagDI/v164d33nkHO3bswLfffhvRHR6PPPII/vSnP2HLli347LPPsGLFCqSnp6OsrCxg+muvvRaPPPIIli5dim3btuHuu+/GP/7xD79I/qeeegoPP/wwPvnkE9TV1Wl3SAHAhRdeiJ49e+KnP/0pAE+Ff/311/Hiiy9qjVRrayvq6+t15f7VV1/Bbrfj97//PT777DM899xzWLx4sW65LpcLiqLg+eefx549ewB4gm+vueYa7e6jhoYGbNy4ESUlJXjhhRdw9913Y8aMGdi6dSv++te/or29HbfffjseeughAJ7OQL1TJyUlBSUlJfjmm2+wceNGAJ4dH/A0jmrg9qFDh7RleT8NXH2lxEcffYT29na89dZbuO+++3SvpznjjDNwySWX4Be/+IW2XHVbfvnllxg5cqTWAdtsNvTq1UsL7m5ra8PTTz+tzUu96+b888/XvqusrNQCWt1uN95++22MHTsWV111la4sfQfYbrdbe3K493feDcAHH3yguxuoqakJffr00T2F/J133tHKRy2TDz/8UDdfm82mTar29nYcPHgQ27ZtQ0pKCg4fPhw2CFddjvdTxkVEG9ConwM1YoFutvBdnu9g/OjRo34HAb5BzpEcJPje8BALat59DwC6+pYAI3311VdRpfdel2jvugWgq5cqM5UHERERERERERERERERERGRVXnHxsTbf/7zH7/vPv3006jns337diOyEzHfmIXdu3cHjHEJ9DA874cregfFqtLS0vziXnwfyvj555/j6NGjWuArALzyyisA9DEzzz33XNi8ey+/o6MDl19+uS6GxvfN7Vu2bPF7orfb7cbJJ5/st54Oh0MX85GZmYm//vWv2vzb2tpQW1urC04+evQo9u3bp+Wzo6MDF154oS426NNPP9UFyJ933nmYNWuWbh6FhYVacHhbWxtqamp0eXz44Yf9Hqq6ePFiv232xhtvaA8ltdls6Ojo0K3T9u3b/eJaXnnlFbz66qu671JSUnRxWCNHjtTW8ejRo37lvGnTJt0T2Q8dOqQFqv/tb3+DiOgexPrZZ58hKytLlxfv2DjAU0+bmpq0ddy4caNWr5qamrSbGA4cOACHw4ELLrhAF3uYm5uLrVu3wu1248MPP9R+8w7MzczM1D63tbVh9+7d2L9/P3bv3g2bzabFijU0NGDXrl04cOAAbDYbUlNT4XA4sGfPHnR0dOD//u//8Ktf/QoAMGLECHR0dGj5zsvLwxNPPIGZM2di0KBBujp/+eWX48CBA3jqqafw5Zdf4sMPP8Tvfvc7AJ7g+X/961/YtWtX0DixY445Bo899hi2bt2q7dOKoiAvLw+ff/45RowYoZVFXV0drrrqKnz55ZdYsGABhg8fjj/+8Y/4+c9/jpNOOgnnnXceRARut1t78C4APPvss7j33nvRu3dvPP744zjhhBPwl7/8BVu2bAEAPPHEEygsLMTf//53rF27Fh0dHTh69CiOP/54PPHEE9i9ezfOP/98bNiwAdu3b8dLL72EH/3oR+jo6EBWVhYuueQSXHvttXjttdewZcsW/PCHP/SLrZs6dSruu+8+bNq0Cf/5z39wxRVX+D152ttVV12F5ubmoMsNVpavvPIK3nrrLWzduhWXX345du/erf0eaV59+eZ9165dAIDnn38en376KebMmYOlS5fijDPOwCeffIKnnnoKxcXF2k0N/fr10+qBGl/aGdOmTUNNTQ1OP/10vPzyy9ixYwfeeust/OIXvwjYtwUTKLb4pptuwrPPPotPP/0UH374IZ5//nldXPSJJ56I++67L/LMSicsX75cXC6X3/f//ve/BYDs3btX+27Tpk0CQBoaGkREpK6uToYPHy4iIrt27ZLTTz9dSkpKJDU1VcrKyuSmm26Sjo6OoMsePny41NXVaZ8bGhoEgGzatCloHh588EHp3bu3pKeny+mnny4333yzFBcXa79750m1ZMkSKSsr0z5//PHHMm7cOElPT9etj6+ysjJZsmSJiIg888wzMnbsWMnJyZHMzEwZN26cvPrqq0HXTUTkD3/4g/Tv318cDocMHDhQHn30Ue235cuXCwC5//77Zfr06ZKWlib9+vWTm266SbfOjY2NcuqppwoASU1Nlf79+0t1dbUMHTpURER+8IMfSHFxsV+5r1ixQvr16ydpaWlSU1Mjzz33nFa2arn/+te/luLiYgGg/eZ2u+Wqq64SAJKSkiIFBQUyY8YMueaaa7RyHzNmjDidTgEgdrtdUlNTBYAUFBTIwYMHtTp10003SXp6umRmZgoAycnJ0ZYFQAoLC2XkyJECQLKzs+VnP/uZ9tuECRNk165dMnz4cN3fFBcXyxVXXKFbdnp6utjtdgEgLpdLm1JSUnR/m5KSIjabTctLdXW1ANC+852OOeYYrY6EmtRlR/p9qMk3z+GmvLw8ARA2n2lpaX7lH8spIyMjbsvKysqK27I6MymKkvA8cOLEiRMnTpw4ceLEiRMnTpw4ceLEiRMnTpw4ceLEiRMnTpw4WXVSY5PMNIWLC4o2XiTSmKGsrCwttquzy4okz95lHun8Q6UL9FtqamqXtm1xcXHA7eBwOALGE6WkpIjD4Qg4r8LCwqjKMS0tLaI6oMbY+U5Op1MKCgoCzte3PgTL18yZM+XCCy8MGPvWs2dPASB/+ctftHmqZeNwOLR5VlRU+OW5R48e4nQ6JScnJ2B5XXPNNfLJJ59IaWmp7vuysjIBPHGAgwYNkoULF4qIyIoVK7T4QZvNJieffLIAkOOOO04GDBggKSkpkpaWJgsXLtRiPwHIxRdfLBs3bpTRo0eL0+nU8tyzZ0/p27evpKSkaOWbm5sr1113nRw5ckRef/11Oe6448ThcEhqaqooiiI2m01bTm5urpY3AHLFFVfIoEGDxG63i91uF0VRxOFwaPF43uWrrse0adO0WNfHHntMzjjjDOnRo4ekp6fLscceKz/96U/F7XaLiEhra6vMmTNHMjIypKioSH7zm9/IlClTtDyIiHz11Vdy0kknSWZmphxzzDGyatUqcblcsnz58oBxtSIin3zyScjl+tqzZ4/Mnj1bsrKypLCwUG688Ub5n//5H5k9e7aWJpK8RpL3jIwM6d27t6SlpUlxcbGUlpZKZmam5OTkyIknnigbN27U/v65557T6oEa4xsoBnju3Lm6vAbKy759+2TBggXSq1cvcTgcUlpaKhdeeKF8/vnnQecbSWzx4sWLZfDgwZKeni55eXkye/Zs+eyzz7S/KSsr08VBh9OpQG+ru/TSS2XixImJzkanAJBnnnkm0dnolFiVe0NDg9hsNnn33XcNn7cqXLkbtW4HDhwQp9Mp//73v7s0HwAyePDgsOlWrFghDodDDh48qPt+2rRpMmfOnC7lIVLXXHONXHbZZRGlDZTfL774QgBoN1GonwsLC7WbLkS+30bffPON5OXl6RrO559/Xnr06CETJ06UN954QwDIp59+2uV1882b93cul0sGDhwobrdbKioq5OSTT5acnByZMmWK7oaRSOfry7uTaW1tFYfDEVGdCEW9IaOiokLuuusuee+996SwsFBaW1t16dT8qzfe5OTkRLWcNWvWiMPhkF27dvn99oMf/EBuueUWATw3BwQTTVsZbP/13Q9aW1slJydHnn766aDzUuvPE088EXU9evTRRyU/P18OHz4cNM3UqVNlwYIFIeezZs0aASCjRo2SiRMnanXsrrvuEpHv1xeAnHDCCTJ79mzZv3+/uFwueeihh4Iu9+KLLxYAsmHDBnn00UclNzdXG5w2Nzf7LUf15JNPCgD55z//Kf369dNuILHb7bp0N998s/Tp00dERJvX2LFjpaysTBuchzN37lwpKyuTiRMn6tbTbreLw+HQ7fci32+vnJwccblc4nQ65a677vIbpAUa+G3atEnsdrvk5ubKjTfeqH2v7p8AJD8/X2vjRo0aJQBkyZIlfnVp6tSp2g1cEyZMkLPPPltGjx6t3Vh18skny8SJE7X6rw7GN27cKBUVFXL88cdr7ajaxr3wwgva/qkOUi+99FLtoOrw4cPaAdOiRYvE6XTKqFGjtJvI1Budpk+fLiKefaqgoEA7QFHb0f/3//6fTJgwQUREBg4cKADkrbfe0uqT9/7lW8/UsmloaBBFUaSoqEgURZGUlBRRFEVqa2tl0qRJ2jZU2yC1LjocDrHZbFo5ApBhw4ZJz549dTcPFRQUyMKFC3Xtv3f9+OlPfyoOh0M++eQTrW1Vy6yurk4URdHmt2LFCgEgV111lVY3xowZox3MOp1OsdlsuoNm9QD4uOOOE5vNJr169ZK0tDS/en/ppZdK3759pUePHlp9U9uhe++9VwDIiy++KABk7Nixcumll8rQoUO1g8j8/Hxpa2uTXr16act+7733tAPIrKwsmTZtmgwfPlzbf9Xvjz/+eOnTp492QFteXq4d8Hn3OY8++qjuJrD09HStrfeeqqqqtH1izJgxkp6eLo2NjdqJkU2bNslXX30lNptNTjjhBJk2bZq2DABy6623avPKyMiQ4447TmvXJk+eLDabTXfT6c033yw2m00KCgpE5Pv29Ec/+pFkZ2drZXD11VfL6NGjBfDcnKcuIycnR37/+98L8P3JJ6fTKcXFxXLKKadoy1Hz4719r732Wt1NsOq6qPXY+2SKehKoqqpKcnJytJMw+fn5WppBgwZpZbFq1SoBIPfee6+IiHaz3vjx48XlcmnjPQAyefJkv7bFe/9T/z9lyhRt2w0dOlTXV3ufbOjVq5e4XC5tv9+6davuJAwA2bZtm5YPdR3Uvtm7TK6++mptndTlKYoiWVlZUlRUJLm5uTJ79mytvo8dO1auvPJKcTgcMnz4cLHZbNrJE4fDodVfh8MhM2bMEAAyf/58rX4VFBRIYWGhDB06VEaMGKHl++yzz5aHH35YOznmvf/l5+dLZmam5OXlyZw5c6Rv377a36nrMmjQIJk5c6b2NyIi6enpoiiK/PrXv5aFCxdqJ61eeOEF7e/Vk3U2m01ERD744ANtO6pjhQ8++EBXr0444QQZMGCAPPLII9r3drtdTjnlFNmyZYv07NlTsrKyxOl0SkpKisyZM0eqq6u1GzVTU1O1duvMM8+UoUOHysUXXywjRozQnVjzPpF4zDHHyEknnaS1i4DnhNeUKVPkoosu0vYh1eTJk/32/eLiYpk4caKUlZXJuHHjtDq3cOFCrUx3796t3ai8ZcsWEfGMsdT2x3ecpfZ5Y8eO1ZbTv39/ERHtZl11n7399tt1bZt6cs07j2o9UU+oqdPAgQNl4MCB8otf/EI7iemdLtBJ0+LiYqmoqJDf/OY34nA4JC0tTTup88tf/lJr71RlZWVy9913S58+fXTbQN3GS5culYsvvlhqa2tF5PsxcU1NjQwfPlxSUlKkublZKxP1RONTTz0lAwYMkLS0NK3t8e7X8vLyJC8vT1wul9YXFxQUSHp6ugwfPlzrv202m/Ts2VOys7P9TpB7fz548KB2XHbzzTcL4LkZ3WazSW5urtbvlZWVSc+ePUVEtDJV+xd1PG+z2aS0tFQbA+fk5IiiKNrN3QBk7ty52r6itt1qW6mWncvlkgEDBggA+eEPfyiTJ0/2uwF89uzZcs899wgAee2117Q2Wh1vrVixQtdeqn+n1s309HTp37+/9OjRQ+sL1OMrdZt4T+eff75unK1uGwBSXV0tp512mjYW864PavlNnDhRbDab3H///WK32yUlJUV+/OMf6/aPWbNmaX+bm5srGRkZ4na7/S4AnH/++Vqa/Px86d+/v8yYMUMcDoecdtppWvv/4x//WCvX0tJSGT58uLYfLViwQObOnav1r4BnDJmdnS2AZwym/j8tLU0qKipk8ODBcsopp2jtUZ8+feSss86SvLw82bFjh1Y2arnYbDbJz8/XbujPzMyUqqoqvzZLPQ6+5JJLBPj+oQdut1t69+6tzatXr14yefJkqaur027aV/tSu90uTz/9tNb3eJ9r6NGjh7bfq8cgCxcu1PLhcDjEbrfL8OHD5YYbbtC+T0tL08b86tSnTx+5/PLLBYBMnz5d2w7XX3+9AJDevXvLBRdcIABk1qxZsnbtWgEgPXr0kN69e2vrXFxcrJ0jaGlp8atvan4HDRokmZmZMn78eJkwYYLs379fK9+cnBztARIOh0M++ugjLT/nnnuuVk/Vemm323X96Mknn6yNu9SLHOo2V+u19zhMvWiotjFq+7F//36/dsV7ys7OlmOPPVbKysqkpqZG1147HA5tbDNt2jTp3bu3tn5VVVW6cWlJSYnuGEOts2pfMGzYMK2+AJA77rhD8vPz5eKLL5aioiJJS0uTsWPHam22+kCNrKwsmTBhgq59VMspJydHnE6npKeni8vlkvvvv19cLpecfvrpuvGDN7W9VNsZEdHWWR0Dq+c7vfum4uJicblcuvNHvg9mmTBhgjYW9R7Dq/u8uq+pxzi9evWSwsJC3TEtAJkyZYo2T9/zFh0dHTJw4ECZN2+eFBYWypYtW7S/e/vtt3Xreu655woAOeecc2TixIlSVFSku3Cqnn85++yzBYCsXLlSNz4dP368DB8+XDt3arfbtX5h0aJFIiIyYsQIycnJ0Zalbiu1XVSPn9S6m56ero2NFEXRjbvU9sa7ngQ69/zNN99IZmamtt3U80DqcWJeXp44HA4ZPXq0dkx67rnnSo8ePeT000/X8p+TkyNFRUUCeM5pAp4xttofPPTQQ9o2VuuM97Ged1uUmpqqtZ/eD8NR95GCggLt2HXevHna2FVRFO0cgHr+YPDgwaIoitbmqmOvfv36aWMVddlnnXWWiIjMnj1bK0u1zKurq0VRFO0Yx+FwyKRJk7T6NmLECDnllFN0xzOA/rjt2GOPlZycHK3PLy0t1fpXtU5OmzZNTjzxRAH048qpU6dq5XvZZZcJ4Dl28e6LA11k79Wrlyxfvlzbz9VtY7fbZdy4cTJv3jwBIOvWrZOUlBRZuHChNk52uVza8Zp6gS8lJUWys7Pl6aefFsAz7i8tLZW5c+dqeV2xYoUuL2VlZZKSkiJr1qyRrKwsSUlJkUGDBomI6Nr5zMxMURRFbrnlFrntttukoKBASkpKtN8uvfRS3bGJoihy6aWXCgCZOnWqNv7Jzs6WJUuWaMtOS0vT6prNZtMuFKvbrrS0VBRFkXPOOUcAz3F7amqqtk3OOussbd9XzwmtWLFCOyYM1BcoiiLnnXee3HTTTTJ27FjdsZLvuVa1HVLPzanjlIEDB0peXp50dHRo/f2BAwe0dvHpp5+WyspKbb5XXnmlPP/881rARXp6utx4441y8803a3/To0cPrf34xS9+IYDn/ND27dsFgFx66aUydepUbeyTkZEhubm5oiiKXHfdddp5SHUdvY87+vXrp61Tjx49tH0tLy9PZsyYoasT3vu1uq8MGTJEFi5cKJ999pmkpKTIu+++KzabTSZPnqyVtXqus6ysTKvL3pPaVz388MNis9nkrrvu0vpxNb13m6i2k2rboq73qaeeKrNnz5a6ujopLi6WnJwc6dOnj9aHHDp0SAYOHCi1tbXicrl0/Y46FrbZbH59+65du6S1tVVXH1JSUrRrReoxht1ul8rKShHx9I3qMbPa36n1XG1f1e8cDofceOONuu2UnZ2tnY+fNm2aVFRU6M4XqNtX/b/6YK0lS5Zo81HHd/Pnz5e6ujqtTUhLS5Pbb79dbDabrF27VhRF0QXRjBkzRrtG4p1Hdcw+duxYre9Ux69Op1Pr+3r27Ck2m007dlK3r9qXqMcww4cP19qoZcuWadt12rRp2jku73JSx+LqcdrevXvl17/+tfagMXV7VlVVybRp0+T888+XoqIibR4pKSkybtw4WbBggdaGZmZmaud5Acjvfvc7ATxBLz169JAhQ4YIADnjjDO0/cK7Tdi/f7+kp6drYyk1f+r5VfVaw3nnnaf1rxkZGVJQUKA9pM13PSdOnCgOh0Oys7N151rVOqYoilRUVMiNN94okydPlilTpkheXp7U1tbKmjVrtH3W+1yF3W6X0047Tddm+Vq+fLnWDqnH0751Sq1vajurHm+oy8zLy9Pmp47Nfvvb38rNN9+sa3fUc+Aul0u7pjNs2DBtf/O91rN8+XJRFEXGjRsnGRkZWnkpiiKzZ8/2u66p5jcrK0t69eql9Q2lpaXidDrloYce0gK11P3z1ltvFRGRv//97wJAnnrqKe18pzqWnzJlilb3A11TU681ANDOc3mf487MzJTBgweL3W7XzhO///77kpaWJr1799a1Seo5j23btvmVh/c1JO+2yvs8kMj3Y3IRkYsvvljy8/N117qmTZsm55xzjjbWePzxx7Vyqa+v18Yv3m2/uv9ecMEFumWpdT03N1fOO+88rS0X+f6aqdpfZ2VliYhn3GGz2WTcuHFaHk888URd3MX+/fvFbrfLiSeeGLDees8/2HVU3wAztZzV8/kq32txgebnfU7Xl/d1SrXssrKyJD09XXf9c+7cudrY54477tAdR6l5CHfdNBKBYliCzdd7XUOto/ff33jjjdq+EmicFO66trpd/vSnP+muy0+bNk077/7pp59q50wURdHVCzUfwa5dB4pn8A2q8+X9UE91Hz/mmGMCtpu+MR3efxvqenqw69kigYP4IuW9vuqY7JNPPhGR0PXWiuIZS2QWvscdgQR7YK4qWGyWiD42wjtuRf2bV155JWj8TCwECgw2WiRxL4F0dn+KxzpReOPGjZNf/OIXic6GpSVFoPedd94pmzdvlm3btsm9994rDodDli1bluhsdYo6ULaCWJd7e3u7NDY2yoUXXijjx483bL6B+JZ7rNbt+eefl1mzZkX9d775UU9O+vrzn/8sa9eulc8++0yeeeYZ6d27t5x77rly1113yZYtW2Tr1q1a4MUrr7zS5fWJxN69e+WWW24J+CT/QPk98cQT5dlnn5XPPvtM3nzzTRkyZIgUFhbKxx9/LG+++aZMmDBB+vXrJy6XS6655hq/bbRhwwZ5/PHHtTK7//775corrxSbzSaXXnqpVFZWakGL0frXv/6ly9uECROkqKhInn76abn++uvlkUcekVGjRmkBSgsXLpSbbrpJUlNTJScnR0pKSuSdd97xOyESaL79+vWT9vb2oHmZPn26DBw4UN5++23tAscf//jHTq2X6t5779WeuN/c3CwingHr+++/r0vX2UDvtrY2+eKLL2Tq1Kl+JyhERA4fPiyLFy+WgwcPaiePgwnVVgbaf++7776g+0FHR4fs3r1b/vd//1f69u0rR44c0eb1j3/8Q15++WX54x//KLfffrscc8wxMmTIkKjq0YEDB+TTTz+VyspKueGGGwKmaW5uln/84x9is9nko48+Cpjmtttuk5deeknGjRsnqampYrfb5e6775bZs2eL0+mU//znP9r6qsFH48aNkylTpsjs2bPF5XLJN99847fcp59+WhRFkQsuuECysrLk6aeflgEDBmgnQaZNmyZNTU1y7733SmZmpvzzn//U6uvVV18t/fv3F8Bz0Rb4/kJ/fn6+vP3227J9+3Z59NFHxeVyyYknnigLFy6USy65RDu5m56eLn379g164K9uz+uuu067kHneeefp1lNRFLnhhhvkH//4hzz33HPyi1/8Qs466yzp06ePdtEL8Fykb25uDhjoPX36dLnttttk8eLF8txzz8nZZ5+t3cF53333yaJFi+Shhx6SUaNGaSdMx4wZI88++6x2ki49PV1+/etfa3Wprq5Obr/9di2QWFEUufDCC2XixImiKIr06dNHu/C8dOlSrf6rByL/+7//K5mZmdLQ0KC1o2obJ+K5MeKpp56SMWPGaBcv7Ha79O7dWzvJqSiKFrQwfvx4LWhFvbiivl1ELR8AMnr0aPnb3/4mv/rVr2Tw4MEyY8YMufzyy3W/Z2VlyY9//P/bO/fgqM7yj5+z92s2u9lkN8nu5samJCGEJpSSC03IhaZATEJJRoyBdESaWqZQbEpQkTZAKY3aGidmwMqlCla0oOIFS7XjOGpbR2w7WrzglKk6XoYZ/3BwnM4w398fO8/T9+yeTdJqf9Df7/nMnGmz7J7z3s/7vs/3ed6tsFqt2L9/P37xi18Y2tnk5CS2bduG/v5+g6GUNmF9Pp9BVFdUVIRdu3bB4/GwgY3Emi+//DIbnTXtLUMwbW7X1NSgpaUFJ06cwBNPPIEPfvCDsFqt/Jvc3FysWrXKMLbW1dWhp6eHN8o1LWXM+vWvfw1NSxlxX3jhBZSUlMDj8bCRXN30p818+ry0tBQWiwU+nw8+nw/vf//74fP5cM8992BycpI9gevq6lBbW8t9ZtOmTWxQKC8vh67r6Ovrg91uZ9ERia7uvfde6LqOhQsXQtM0VFdXIxgMwuv1cjpoQ47Kce3atbBYLPjZz37GdUH/PXr0KJqbm5FIJDA2NoaysjJuO2RUIOEU3ZveNzRuUf+76667OB+HDh3C/fffj/b2djgcDsTjcQQCAc4zGXspL5R2qjtqy9PT03jggQc4L83NzTh79iy8Xq9B1EMXiS9UAZyu66ivr+d+qxqa/X4/7rzzTrz00ktsuFXzabVaceDAAezbtw8ejydDVJh+P01LGbQeeeQRuFwug6gkPd8vvPAC3++73/2uQWCm9hUqm8ceewxtbW2IRqO4ePEient7YbPZ0N3djZ07d8Jms3Ffp/Lq7OxkAVH6tWvXLvj9fjidTnR0dODs2bP8b5s3b4bX68XY2Bh/RkI3j8eDH/zgB7jvvvvg9/vxpS99CRaLBS6XC6dOncLGjRs5DWVlZcjLy0NOTg4LLQcHB7F69WpEIhEsW7bMYMx2Op0Go6eu61ynqnMHOfeQqIKu7du38wY1CbA6Ozvxq1/9CjabjccwtY2Hw2F89KMf5Tbj8/nw8Y9/HFevXsU3v/lNjk4wNjaG+vp6Lltq66pgyOPx4JFHHkFDQwP3w0gkgqmpKU4XXbW1tdi8eTPy8vL42bqu44EHHsDExARWr17NXvaNjY2ora1lsYbT6TSIlMLhMPr6+mC1Wlloo5Yhfffmm29mY+maNWugaSmRXGVlJd/zy1/+MoaHhzPKli6LxYL9+/cjGAzCarXiC1/4AlasWMEGNE3TMD4+zqdAXbt2DX/5y1+wdetWzifNs6anpzE9Pc2GPCpDu92OgoIC7N692yAsstvtLJYyuygP9Jz0MZtEizR+qmWU7Z7k4EPvnfz8/Ayh93e+8x0cPnwYL7/8MnJycth5QW2vlL7nn38eLpcL3/72tw1z4tbWVsRiMSxfvhyvvPIKduzYwb+nSAtq39Y0DY2Njaivr2chCkVa6O7uNvQrVXRO91CN5ulXXV0dzpw5g2AwiNbWVs673+83/I7yGAqFWLBH5ZkexSMWi+FjH/sY9u7dy/1QFXYGg0FUVFRgcHCQ007rKbUtBgIB5OTkoKWlBeFwGG1tbYZyXrRoEae3trYWNpvNIED91Kc+hQcffBAWiwVDQ0OGNJJTB/VtGotGRkbwrW99i0W71BYpXyUlJUgmk9yOVKF3PB7PKAv1ZDOHw4GlS5ciEokgEAggkUigpaUFhw8fxmc/+9mMtqppKTGFKlInoyYJImhuvXDhQng8HixdutRg6FdP/erp6UFdXR3C4TBCoRC2bduGTZs2ITc3lx1V1Kgr6vhisVhY1KOKXzQttU+xbNkylJWV8bxGbR/t7e38ricHCjWPkUgEv/nNb/DUU09xeZ0+fRo7d+7kfJIAdGRkBC6XC93d3YZ7WK1W+Hw+fictWbIELpcLjY2NLHjTtNQccdmyZfjQhz7EZaleCxcu5DZJ+VAjwdDfFNGH1h3RaJTzFQgEuB3MzMwYTtCj+ZjL5YLP58PQ0BBOnjxpWL+kO63Q7ysrK7Fu3ToWCHi9XrjdbhaiV1RUoLCwEBaLBQ6HA52dnXA6nUgkEtwPS0tLDffu7e3F7bffzmug9DFyenoaly5dYqcfVQSlaal3444dOwwOh+kX3U8dV9MjUpE4hv6mspyZmTHMl6gtklBO095yHKmvr0dFRQWP/ZqWmus3Nzdz+/P7/YY5Fwn109Oj3p+csGh9d9ttt8Hj8cDv95saMK5du2aoR6/Xi9OnT/P9PB4P4vE471Woz62vrzcVeufk5ODAgQM8d89W1vn5+SzWP3DgAH9+//33o6mpiddi4XAYvb29vG+RTCZxxx134Le//S1effVVbNmyBTabDU8++ST27NnD46fX6zWs1UdHR6HrOvcHagfqO2liYoLXlRaLJWOc6+rqQjgcRnd3N3Jzc7l+SKw6NDQEq9VqcEAg8T3N2aidpUecSm+H4XAYpaWl+MMf/gC32w2LxYLCwkJD/dF+0NNPP81rvYqKCt5LIQdlSk9/fz+eeOIJ9Pf3cx8aHx+HpmlIJBKmcw4aC3Vdx/r16xGNRucdIYzEbCQKunDhAgtBaFyx2Ww4evQoC3U1LSWCnpqags1m41NHb7/9dhw6dMjQXnNzc1FdXW0o74cffhgzMzMGcbbD4eA5QllZGaqqqrjfDA8PsyCxqakJCxYsMOy7pfex9vZ2xGIxHh/tdjsikQhKS0tx8eJFXpOUlZWhqKiI6+LUqVMcfctut7OAcLboaVSfN910Ex5//HH+vXpKaG9vLywWC2KxGCYmJpCTk4ORkRH+d3qfq++I6upqzqOmpYTedrsdY2NjOH78OA4dOoRQKGR4J3d0dKC7u9vgfDM0NISpqSl2uNV1HXV1ddz3ysrKEIlEZo3ipjqhNTY2cr2Oj49zf1m4cCG/A3VdRyAQwKVLl/CTn/yE+yjt+wWDQTQ0NCAQCCCZTOLFF1/E5z//ecTjcXbAcrvduPvuuw31mu1dsGbNGhQXF7NIlcauy5cv4/DhwzwOdXV1wWaz4fz58zh//jzy8vJ4HrV06VKeEx46dIgdMGw2G/cRuj7wgQ/gIx/5iKEN9Pf3w+fzGcqZ/p/KZd++fSyao7kFXbQes9lsvE6gecKGDRsM+16FhYW8R6ppb0XGi0aj8Hg8hjmbmdA7mUyio6MD4+PjqKmp4XKj+3R0dKC4uBgvvfQSCgsLuY1RXWuaxsEvaP5Ap+TSXhb9P33f5XLhzTffxPnz57l8ioqKUFNTg1tuuQVdXV3QdR0OhwOtra2oqKjA5s2bsWbNGlitVgwPD3PACSpXdX00PT2NgwcP8ufd3d0ZUf8qKyvx3HPP4fHHH+c5jN1ux+joKA4cOMDt88Mf/rBhP7GhocF0PKXoc/R3W1sbdF3n+aTZHIj+jkQisNvt/K5asGABamtreX4xMDDAjprk0N7W1oaioiKe25DIVtNSa6m6ujrDmljXdXzxi1/kv7u6ugwOC2oa4/E4KioqeK5Je+u7d++Gy+XC+973PmjaW/MXdfwkh5X29nbDs1WbFM2rpqam4HK5cPfdd2N4eJjXmLRf+IlPfAKxWIznLd3d3bBYLGhtbTU4dNPl9/tRVVWF5uZmLF68GD09PaaOCfRd2nN2u90GOxQJNf/+97/joYcegtPp5LU07Z/QfO+ee+7JuLfdbufTus3qPJFIwG6348UXX0RhYSHvad57771Yvnw5r4+cTqfhZGqKDvnaa69xWqenp3nvUR1HiouL8eyzz6K4uBijo6OG9e+OHTtw5MgR3HTTTdxmVWe+a9eu4dFHH+U10oYNG+D3+3n/KR6P489//jNHP7x48SKefvppvv+jjz7KdsD9+/eju7ub58Nq+VNZ9fb2Ij8/H3feeScmJyexYcMGxGIx5OTkcN/r6enB5OQkHA4HnE4nvv71ryMQCCAUCuHTn/40p/3MmTMIBALwer343e9+h5UrVyIajeLIkSP87LNnz2bY1N5880188pOfxOrVq7lfUL0tXrwYsViM95TV9EciEa6v1atXo6amhttxNBrFsmXL2PZFdlHg7Qu9f/zjH8PpdHJ7Ue2Qe/bsYXH7xo0buVx+//vfc/uZS+it2uiKiop47Udp1rSU0z3l3+Px4PTp04hEIgiFQhgZGcHzzz8Pp9OJW265BclkEpcuXeI+ZrVaZw3apmkpW4KZHRUATpw4AU3T8JnPfAanTp3ivZLx8XHD96jvqnbZYDCIn/70pwZbotn66ujRoxgcHITdbsddd90Fq9XKQTL8fj+OHTuGZ599Fq+//jq6urrg9/vR3NzMwswLFy7g5MmTWLdu3ax20/mgalgWL16MkydPGspTvS/11+HhYXYyVPNI6bp06RIefvhhtLS0wOVyYXR0FA6HA5FIJMMmPZtdW4UcwOPxOOrr6/Hkk0/ivvvu477R0NCAr33taygsLERhYWFGu8jJycGxY8fYdj0fPcNcQu+vfOUr0LSUjb+iooIDl7z22mu8Bnv99ddx/vz5jHxTXySbhJk9Xe0rap8m3o7Qe7b8Dg4OYv369XO22/cCV69eva5aoutF+rpjy5YtGe/wdNKF3mZap6GhIcNvJicn8cMf/hC7d+9mfceDDz7IvykqKkJ/f39W/cy7xbspip6P7kVFnSv9J/1JhN7Xl3//+9/4+c9/Dr/fj5MnT17v5Lyn+X8h9B4YGOBIFdXV1ZiZmbneSXrH0MTmvcC7Xe40WausrMwQmv63SS/3G61NpacnWzs5ePAgR+IoLS3F9u3bceXKFXR0dCAUCsHj8eDmm2+eNWLx/yZm6f3GN76BmpoauN1uFBQUoLGxEZWVlfx3X18fLl++DI/Hw5tUZnVEZUaR8Gw2G4qLi7Fp0yZcuXLlHaX33LlzhrT19fXh+PHjqKmpYQOUxWLBggULDJtk0WgUExMTvNBKF3qb3ffy5cuzpqW6upoX7BRR5j+FNkZOnDgx6/feqdD76NGjsFgsqK+vx5/+9Kc50/JOhd5m/fdf//pX1n5Ak75YLJYRRf348eNIJpOw2+0cATkajb6tdrRnzx7YbDa0t7dnREcnSkpKkJOTg8nJyaz3IbEeCThJVEOOBGp+L1y4wJt/drsdnZ2dpuNoSUkJb3jW1dUZokaRoeCXv/wlNC1lAD5x4oShvarRseiiTfe1a9eisLAQTqcTyWQSExMTHOWHroKCAkxMTOC2227L2oapPmmDVtd1VFdXs0hN096KPnf8+HFUVFRkCEqon1DbNhN6r1q1Cg0NDdyvrFYrampqMDk5yX3cYrHAYrFkGNQdDgd6eno46g21pXRhonpsEI0XyWQyY/yiNpmbmztrf1TLRjUSpl80PpE4MpFIwOPxYMWKFQgEAhnRba5evYp//OMf3H5IhEN1TYLlsrIyPkonGAwa2tnAwMC8jtMiUd7ixYu57Ol3FD0vFAqZGmipvTY3NyOZTHK/Lygo4Khq1J7z8/MNY2ttba1BsOZ0OnH58mXDIvChhx6aNe2qwZvuEQgE2Ijm8/ng8Xj4c4vFgoKCAjYEU9QsGlvU+qqqqsLMzAwbVdS8rFixAnv37jWUoZkBSk0njS3UB+l+oVAIfX192LZtm0EcTmN7ulDS6/Vi3759hnGLxG+xWIyjs0xPTxsiXKlC69mu8vJybNy4MaO+bTYbO2vNdY/0K9txdl6vF1u2bMHWrVt5rFLbn6aljFUdHR1s9JnrmDUqWxKvmDkHUHqCwSAbcLIdBUftg/52u92GI9F8Ph8bMOhZVG9mz1avnTt3cjtNFxZR+yQxma7r+Oc//8n1ee7cOUO0I7fbnRFddmxsDKWlpdwW6Zg5OtqMrtnSmO3IOrOLTgdQBfK7d+/GypUrs4paXS4Xtm7dymWVn5/P8zV6d9M9g8EgampqMqI80RWNRjNEsEuWLGGDeHoboX6r1u/g4CDXi6alNtuTyWTWcqAxOj8/n9vcbH3A4XAY6lT9jtvtRktLy6wCYKfTyXNvu92O9evX81igfo/GsDfeeMMQBdnn88Hr9fI7bPv27Ybn6bqOVatWGQSO6r9dz+M3fT4fpqameA6sCr2/973voampiSOpqkZF9Vq0aBHcbje2b9+eMSdubW3FkiVLeCyaq/9SmVgsFiQSCcTjcYMDgNlFc9m57kvrMopuZvad+YyFajppDqw6baV/Z7Y8qu2qqakJS5YsMYiHqC+YpY2ikFMZlJeXmwrWzZ69bds2HDx4MKPtqVFzzfoaRcXLdqnOHXQqRWtrK1paWpBMJg0RsM3uT9fy5cvZOJb+PafTmdVhQ9NSRnCaD7e2tqK4uNgg9M4mtKD7pzsQaFrqHT45OYlFixbNKVI0cwigSJT5+fm8fqCInemCTYfDgUQigWAwOOvYR/sA6fNkalvZ6nK2dJt9TnlR57BqushBwey3DocDZ86cmVe/stlshrEmJycHnZ2dKC8vz1oOfr8fo6OjBse02dq9WR7tdjv279/P78Z4PJ41QuvbvdKfZ1YO6vxTdSxRy/exxx6Dpml8QoU6N0pfG0ajUYNIVY0+OZ90pv9/IpEw7PeYrevUMld/7/F48Nxzz/FeBX0ej8fR1dWVVejd1tY255hutVrh8XhYiEp5LCgoMLTHO+64g6Oy2mw2NDU14dZbb0VOTg78fj8aGxuxa9cuQ5lpmoZTp04Z1qOqKNusDcVisazHFlOfNJsD2O12fP/73zd1fsmW5/n0pbVr1xrGUJvNlmGMpf0g1bH3b3/7G89/1DkaHflK+YnH43jmmWdw7NixOdMTiUSyzjHNLpfLhWeeecYQzQ5ICUSonmjupDoH0vuFxMgkNMvPz+c9OmqXZmmk76ri4fQrFAoZnuvz+QyOei6Xy7DvpmkaR1mlciSHXhLvu91u+P1+eDweJBKJjH3FkpISXq85nU643e45xyhdT50uUl5eDqfTmXWtSicf/PWvf8XAwACvGc3yT58VFRVxHjUtJfSurq5GXl5ehmMYlbfaL7L1I7r3mjVruM+9nTkZ9Q/1mG/1/Wi32zE4OIjq6mrenyYRJ6UnHA7DarXyyViHDx/OeMZ85psOhwOf+9znDO2e1lxbtmzBG2+8wfNrv9+PBQsW8BhSXFyM2tpaeL1e2Gw2djCl06HmWx5UBi6XyzD/VkXRVFYul8sgwjfrk2q9OZ1OHDlyBAAMjmQk/E0fT+nZ6tzNTOhdWVmJwsLCjPat66kAD3v27EE4HDYdS+m6cuWKoU51XUdra2vWuQFFf6UI8FarlR301XqnfkzOOFVVVSgrKzOsqdX9WU1LCUJVQbPZRYEX1LzS3hrt+83XOSbbWED7pbPdR9d1nDt3zuCwR/2Q9htpv4P+PV3YPtvz1c/sdjvnOdtvs9UXCVpGRkYM9azuLVE0+4KCgoz7rFy50mCToj1Js75Np8TQusxut2NgYADxeJxtHGZrBpqLkW1lxYoVWfOp6zrcbjfvOe/du9c0Iq+mpd4/at8Kh8MGp8r5jE3pz25oaMCPfvQjACnRojpuqnvxahARTUvNF+h36v5H+nq/o6MDiUSC0x0IBAwBJv74xz+ari03btxoOs+kNT/VySuvvMJ11d3dzXs35IASCoXY7rBu3TrTdkXOkU6nE729vcjLy8tw6lT3/egEFOpXxcXFfNoxOXXQcwKBADtAOp1Ofo6maXjqqadMbWo097FarTy/Td+fN8uDetoFifvp9ytXruQ2k26HeTtCb01L7a1t3boVubm5cDqdBjskzStpfKByUe89l9BbTSeVmxrlXtM0doSitNLcafny5bj11ls534lEAlVVVQa7TkNDw6x2ZrqnmR0VQMa81+v1YseOHRnrJOq7ql123bp1GbZEs/WV2Rio66ko9K+++iqXM5V/PB7HlStXDEJvCuQxm910Pqgalq9+9auor683tZMBxv5qt9sz8kjpIgfu9KBDBQUFGTbp2ezaKpOTk9C01DuVglHR+Ep9gd5v8Xg8o10UFhYabNfz0TPMJfSmE7OpPy9btozHTbUOzTQdVO6qzSudbH2aeDtC79nyq47ts7Xb9wKzaSj+L5O+7mhsbMx4h6eTLvQ20zpdvXrV8BtyGtW0lJNXf3+/4TddXV3z1s/8N3k3RdHz0b2o/Lf6kwi9ry9nzpyB3+/H0NDQrAFNhbnRAUATBEEQBEEQBEEQBEEQBEEQBEEQBEEQBEEQBEEQBEEQBEEQbhgs1zsBgiAIgiAIgiAIgiAIgiAIgiAIgiAIgiAIgiAIgiAIgiAIghEReguCIAiCIAiCIAiCIAiCIAiCIAiCIAiCIAiCIAiCIAiCINxgiNBbEARBEARBEARBEARBEARBEARBEARBEARBEARBEARBEAThBkOE3oIgCIIgCIIgCIIgCIIgCIIgCIIgCIIgCIIgCIIgCIIgCDcYIvQWBEEQBEEQBEEQBEEQBEEQBEEQBEEQBEEQBEEQBEEQBEG4wRChtyAIgiAIgiAIgiAIgiAIgiAIgiAIgiAIgiAIgiAIgiAIwg2GCL0FQRAEQRAEQRAEQRAEQRAEQRAEQRAEQRAEQRAEQRAEQRBuMEToLQiCIAiCIAiCIAiCIAiCIAiCIAiCIAiCIAiCIAiCIAiCcIMhQm9BEARBEARBEARBEARBEARBEARBEARBEARBEARBEARBEIQbjP8Bi+VGSotcT8cAAAAASUVORK5CYII=",
      "text/plain": [
       "<Figure size 3000x4000 with 12 Axes>"
      ]
     },
     "metadata": {},
     "output_type": "display_data"
    }
   ],
   "source": [
    "target = \"CARRIER_DELAY\"\n",
    "plt.figure(figsize=(30, 40))\n",
    "for i, col in enumerate(df.drop(columns=[\"index\", \"CARRIER_DELAY\"]).columns):\n",
    "    try:\n",
    "        plt.subplot(3, 4, i + 1)\n",
    "        plt.scatter(df[col], df[target])\n",
    "        plt.title(col)\n",
    "    except ValueError:\n",
    "        break"
   ]
  },
  {
   "cell_type": "code",
   "execution_count": 97,
   "metadata": {},
   "outputs": [
    {
     "data": {
      "text/html": [
       "<div>\n",
       "<style scoped>\n",
       "    .dataframe tbody tr th:only-of-type {\n",
       "        vertical-align: middle;\n",
       "    }\n",
       "\n",
       "    .dataframe tbody tr th {\n",
       "        vertical-align: top;\n",
       "    }\n",
       "\n",
       "    .dataframe thead th {\n",
       "        text-align: right;\n",
       "    }\n",
       "</style>\n",
       "<table border=\"1\" class=\"dataframe\">\n",
       "  <thead>\n",
       "    <tr style=\"text-align: right;\">\n",
       "      <th></th>\n",
       "      <th>TAXI_OUT</th>\n",
       "      <th>TAXI_IN</th>\n",
       "      <th>CRS_ELAPSED_TIME</th>\n",
       "      <th>ACTUAL_ELAPSED_TIME</th>\n",
       "      <th>AIR_TIME</th>\n",
       "      <th>DISTANCE</th>\n",
       "      <th>CARRIER_DELAY</th>\n",
       "      <th>llm_delay_minutes</th>\n",
       "      <th>llm_delay_explain</th>\n",
       "      <th>FL_MON</th>\n",
       "      <th>FL_DOW</th>\n",
       "      <th>ORIGIN_HUB</th>\n",
       "      <th>DEST_HUB</th>\n",
       "    </tr>\n",
       "  </thead>\n",
       "  <tbody>\n",
       "    <tr>\n",
       "      <th>2</th>\n",
       "      <td>23.0</td>\n",
       "      <td>5.0</td>\n",
       "      <td>85.0</td>\n",
       "      <td>86.0</td>\n",
       "      <td>58.0</td>\n",
       "      <td>417.0</td>\n",
       "      <td>0.0</td>\n",
       "      <td>30</td>\n",
       "      <td>This flight could potentially experience delay...</td>\n",
       "      <td>7</td>\n",
       "      <td>3</td>\n",
       "      <td>0</td>\n",
       "      <td>1</td>\n",
       "    </tr>\n",
       "    <tr>\n",
       "      <th>3</th>\n",
       "      <td>7.0</td>\n",
       "      <td>4.0</td>\n",
       "      <td>90.0</td>\n",
       "      <td>94.0</td>\n",
       "      <td>83.0</td>\n",
       "      <td>453.0</td>\n",
       "      <td>4.0</td>\n",
       "      <td>15</td>\n",
       "      <td>This flight is scheduled late in the day, whic...</td>\n",
       "      <td>12</td>\n",
       "      <td>5</td>\n",
       "      <td>0</td>\n",
       "      <td>1</td>\n",
       "    </tr>\n",
       "    <tr>\n",
       "      <th>8</th>\n",
       "      <td>15.0</td>\n",
       "      <td>3.0</td>\n",
       "      <td>85.0</td>\n",
       "      <td>78.0</td>\n",
       "      <td>60.0</td>\n",
       "      <td>371.0</td>\n",
       "      <td>0.0</td>\n",
       "      <td>45</td>\n",
       "      <td>This flight appears to typically experience s...</td>\n",
       "      <td>5</td>\n",
       "      <td>3</td>\n",
       "      <td>1</td>\n",
       "      <td>0</td>\n",
       "    </tr>\n",
       "    <tr>\n",
       "      <th>9</th>\n",
       "      <td>10.0</td>\n",
       "      <td>3.0</td>\n",
       "      <td>130.0</td>\n",
       "      <td>122.0</td>\n",
       "      <td>109.0</td>\n",
       "      <td>849.0</td>\n",
       "      <td>43.0</td>\n",
       "      <td>30</td>\n",
       "      <td>This flight is a relatively long-haul evening ...</td>\n",
       "      <td>5</td>\n",
       "      <td>5</td>\n",
       "      <td>1</td>\n",
       "      <td>1</td>\n",
       "    </tr>\n",
       "    <tr>\n",
       "      <th>27</th>\n",
       "      <td>29.0</td>\n",
       "      <td>4.0</td>\n",
       "      <td>85.0</td>\n",
       "      <td>103.0</td>\n",
       "      <td>70.0</td>\n",
       "      <td>349.0</td>\n",
       "      <td>0.0</td>\n",
       "      <td>20</td>\n",
       "      <td>Southwest Airlines (WN) flights often experien...</td>\n",
       "      <td>9</td>\n",
       "      <td>0</td>\n",
       "      <td>0</td>\n",
       "      <td>1</td>\n",
       "    </tr>\n",
       "    <tr>\n",
       "      <th>...</th>\n",
       "      <td>...</td>\n",
       "      <td>...</td>\n",
       "      <td>...</td>\n",
       "      <td>...</td>\n",
       "      <td>...</td>\n",
       "      <td>...</td>\n",
       "      <td>...</td>\n",
       "      <td>...</td>\n",
       "      <td>...</td>\n",
       "      <td>...</td>\n",
       "      <td>...</td>\n",
       "      <td>...</td>\n",
       "      <td>...</td>\n",
       "    </tr>\n",
       "    <tr>\n",
       "      <th>566</th>\n",
       "      <td>8.0</td>\n",
       "      <td>4.0</td>\n",
       "      <td>65.0</td>\n",
       "      <td>61.0</td>\n",
       "      <td>49.0</td>\n",
       "      <td>328.0</td>\n",
       "      <td>21.0</td>\n",
       "      <td>60</td>\n",
       "      <td>This flight is operated by Southwest Airlines ...</td>\n",
       "      <td>11</td>\n",
       "      <td>5</td>\n",
       "      <td>1</td>\n",
       "      <td>0</td>\n",
       "    </tr>\n",
       "    <tr>\n",
       "      <th>567</th>\n",
       "      <td>11.0</td>\n",
       "      <td>2.0</td>\n",
       "      <td>185.0</td>\n",
       "      <td>167.0</td>\n",
       "      <td>154.0</td>\n",
       "      <td>1371.0</td>\n",
       "      <td>0.0</td>\n",
       "      <td>120</td>\n",
       "      <td>This flight departs in the late afternoon and ...</td>\n",
       "      <td>4</td>\n",
       "      <td>2</td>\n",
       "      <td>1</td>\n",
       "      <td>0</td>\n",
       "    </tr>\n",
       "    <tr>\n",
       "      <th>568</th>\n",
       "      <td>18.0</td>\n",
       "      <td>7.0</td>\n",
       "      <td>80.0</td>\n",
       "      <td>92.0</td>\n",
       "      <td>67.0</td>\n",
       "      <td>386.0</td>\n",
       "      <td>6.0</td>\n",
       "      <td>30</td>\n",
       "      <td>This flight operates during a busy travel peri...</td>\n",
       "      <td>10</td>\n",
       "      <td>4</td>\n",
       "      <td>1</td>\n",
       "      <td>1</td>\n",
       "    </tr>\n",
       "    <tr>\n",
       "      <th>571</th>\n",
       "      <td>20.0</td>\n",
       "      <td>3.0</td>\n",
       "      <td>65.0</td>\n",
       "      <td>89.0</td>\n",
       "      <td>66.0</td>\n",
       "      <td>239.0</td>\n",
       "      <td>0.0</td>\n",
       "      <td>15</td>\n",
       "      <td>This flight is relatively short and operates b...</td>\n",
       "      <td>9</td>\n",
       "      <td>2</td>\n",
       "      <td>1</td>\n",
       "      <td>1</td>\n",
       "    </tr>\n",
       "    <tr>\n",
       "      <th>579</th>\n",
       "      <td>26.0</td>\n",
       "      <td>2.0</td>\n",
       "      <td>200.0</td>\n",
       "      <td>191.0</td>\n",
       "      <td>163.0</td>\n",
       "      <td>1491.0</td>\n",
       "      <td>21.0</td>\n",
       "      <td>30</td>\n",
       "      <td>This flight is originating from Denver (DEN) a...</td>\n",
       "      <td>10</td>\n",
       "      <td>4</td>\n",
       "      <td>1</td>\n",
       "      <td>1</td>\n",
       "    </tr>\n",
       "  </tbody>\n",
       "</table>\n",
       "<p>125 rows × 13 columns</p>\n",
       "</div>"
      ],
      "text/plain": [
       "     TAXI_OUT  TAXI_IN  CRS_ELAPSED_TIME  ACTUAL_ELAPSED_TIME  AIR_TIME  \\\n",
       "2        23.0      5.0              85.0                 86.0      58.0   \n",
       "3         7.0      4.0              90.0                 94.0      83.0   \n",
       "8        15.0      3.0              85.0                 78.0      60.0   \n",
       "9        10.0      3.0             130.0                122.0     109.0   \n",
       "27       29.0      4.0              85.0                103.0      70.0   \n",
       "..        ...      ...               ...                  ...       ...   \n",
       "566       8.0      4.0              65.0                 61.0      49.0   \n",
       "567      11.0      2.0             185.0                167.0     154.0   \n",
       "568      18.0      7.0              80.0                 92.0      67.0   \n",
       "571      20.0      3.0              65.0                 89.0      66.0   \n",
       "579      26.0      2.0             200.0                191.0     163.0   \n",
       "\n",
       "     DISTANCE  CARRIER_DELAY llm_delay_minutes  \\\n",
       "2       417.0            0.0                30   \n",
       "3       453.0            4.0                15   \n",
       "8       371.0            0.0                45   \n",
       "9       849.0           43.0                30   \n",
       "27      349.0            0.0                20   \n",
       "..        ...            ...               ...   \n",
       "566     328.0           21.0                60   \n",
       "567    1371.0            0.0               120   \n",
       "568     386.0            6.0                30   \n",
       "571     239.0            0.0                15   \n",
       "579    1491.0           21.0                30   \n",
       "\n",
       "                                     llm_delay_explain  FL_MON  FL_DOW  \\\n",
       "2    This flight could potentially experience delay...       7       3   \n",
       "3    This flight is scheduled late in the day, whic...      12       5   \n",
       "8     This flight appears to typically experience s...       5       3   \n",
       "9    This flight is a relatively long-haul evening ...       5       5   \n",
       "27   Southwest Airlines (WN) flights often experien...       9       0   \n",
       "..                                                 ...     ...     ...   \n",
       "566  This flight is operated by Southwest Airlines ...      11       5   \n",
       "567  This flight departs in the late afternoon and ...       4       2   \n",
       "568  This flight operates during a busy travel peri...      10       4   \n",
       "571  This flight is relatively short and operates b...       9       2   \n",
       "579  This flight is originating from Denver (DEN) a...      10       4   \n",
       "\n",
       "     ORIGIN_HUB  DEST_HUB  \n",
       "2             0         1  \n",
       "3             0         1  \n",
       "8             1         0  \n",
       "9             1         1  \n",
       "27            0         1  \n",
       "..          ...       ...  \n",
       "566           1         0  \n",
       "567           1         0  \n",
       "568           1         1  \n",
       "571           1         1  \n",
       "579           1         1  \n",
       "\n",
       "[125 rows x 13 columns]"
      ]
     },
     "execution_count": 97,
     "metadata": {},
     "output_type": "execute_result"
    }
   ],
   "source": [
    "df.drop(columns=[\"CANCELLED\", \"DIVERTED\", \"index\"], inplace=True)\n",
    "df"
   ]
  },
  {
   "cell_type": "code",
   "execution_count": 98,
   "metadata": {},
   "outputs": [
    {
     "data": {
      "text/html": [
       "<div>\n",
       "<style scoped>\n",
       "    .dataframe tbody tr th:only-of-type {\n",
       "        vertical-align: middle;\n",
       "    }\n",
       "\n",
       "    .dataframe tbody tr th {\n",
       "        vertical-align: top;\n",
       "    }\n",
       "\n",
       "    .dataframe thead th {\n",
       "        text-align: right;\n",
       "    }\n",
       "</style>\n",
       "<table border=\"1\" class=\"dataframe\">\n",
       "  <thead>\n",
       "    <tr style=\"text-align: right;\">\n",
       "      <th></th>\n",
       "      <th>TAXI_OUT</th>\n",
       "      <th>TAXI_IN</th>\n",
       "      <th>CRS_ELAPSED_TIME</th>\n",
       "      <th>ACTUAL_ELAPSED_TIME</th>\n",
       "      <th>AIR_TIME</th>\n",
       "      <th>DISTANCE</th>\n",
       "      <th>CARRIER_DELAY</th>\n",
       "      <th>llm_delay_minutes</th>\n",
       "      <th>llm_delay_explain</th>\n",
       "      <th>FL_MON</th>\n",
       "      <th>FL_DOW</th>\n",
       "      <th>ORIGIN_HUB</th>\n",
       "      <th>DEST_HUB</th>\n",
       "    </tr>\n",
       "  </thead>\n",
       "  <tbody>\n",
       "    <tr>\n",
       "      <th>0</th>\n",
       "      <td>23.0</td>\n",
       "      <td>5.0</td>\n",
       "      <td>85.0</td>\n",
       "      <td>86.0</td>\n",
       "      <td>58.0</td>\n",
       "      <td>417.0</td>\n",
       "      <td>0.0</td>\n",
       "      <td>30</td>\n",
       "      <td>This flight could potentially experience delay...</td>\n",
       "      <td>7</td>\n",
       "      <td>3</td>\n",
       "      <td>0</td>\n",
       "      <td>1</td>\n",
       "    </tr>\n",
       "    <tr>\n",
       "      <th>1</th>\n",
       "      <td>7.0</td>\n",
       "      <td>4.0</td>\n",
       "      <td>90.0</td>\n",
       "      <td>94.0</td>\n",
       "      <td>83.0</td>\n",
       "      <td>453.0</td>\n",
       "      <td>4.0</td>\n",
       "      <td>15</td>\n",
       "      <td>This flight is scheduled late in the day, whic...</td>\n",
       "      <td>12</td>\n",
       "      <td>5</td>\n",
       "      <td>0</td>\n",
       "      <td>1</td>\n",
       "    </tr>\n",
       "    <tr>\n",
       "      <th>2</th>\n",
       "      <td>15.0</td>\n",
       "      <td>3.0</td>\n",
       "      <td>85.0</td>\n",
       "      <td>78.0</td>\n",
       "      <td>60.0</td>\n",
       "      <td>371.0</td>\n",
       "      <td>0.0</td>\n",
       "      <td>45</td>\n",
       "      <td>This flight appears to typically experience s...</td>\n",
       "      <td>5</td>\n",
       "      <td>3</td>\n",
       "      <td>1</td>\n",
       "      <td>0</td>\n",
       "    </tr>\n",
       "    <tr>\n",
       "      <th>3</th>\n",
       "      <td>10.0</td>\n",
       "      <td>3.0</td>\n",
       "      <td>130.0</td>\n",
       "      <td>122.0</td>\n",
       "      <td>109.0</td>\n",
       "      <td>849.0</td>\n",
       "      <td>43.0</td>\n",
       "      <td>30</td>\n",
       "      <td>This flight is a relatively long-haul evening ...</td>\n",
       "      <td>5</td>\n",
       "      <td>5</td>\n",
       "      <td>1</td>\n",
       "      <td>1</td>\n",
       "    </tr>\n",
       "    <tr>\n",
       "      <th>4</th>\n",
       "      <td>29.0</td>\n",
       "      <td>4.0</td>\n",
       "      <td>85.0</td>\n",
       "      <td>103.0</td>\n",
       "      <td>70.0</td>\n",
       "      <td>349.0</td>\n",
       "      <td>0.0</td>\n",
       "      <td>20</td>\n",
       "      <td>Southwest Airlines (WN) flights often experien...</td>\n",
       "      <td>9</td>\n",
       "      <td>0</td>\n",
       "      <td>0</td>\n",
       "      <td>1</td>\n",
       "    </tr>\n",
       "    <tr>\n",
       "      <th>...</th>\n",
       "      <td>...</td>\n",
       "      <td>...</td>\n",
       "      <td>...</td>\n",
       "      <td>...</td>\n",
       "      <td>...</td>\n",
       "      <td>...</td>\n",
       "      <td>...</td>\n",
       "      <td>...</td>\n",
       "      <td>...</td>\n",
       "      <td>...</td>\n",
       "      <td>...</td>\n",
       "      <td>...</td>\n",
       "      <td>...</td>\n",
       "    </tr>\n",
       "    <tr>\n",
       "      <th>120</th>\n",
       "      <td>8.0</td>\n",
       "      <td>4.0</td>\n",
       "      <td>65.0</td>\n",
       "      <td>61.0</td>\n",
       "      <td>49.0</td>\n",
       "      <td>328.0</td>\n",
       "      <td>21.0</td>\n",
       "      <td>60</td>\n",
       "      <td>This flight is operated by Southwest Airlines ...</td>\n",
       "      <td>11</td>\n",
       "      <td>5</td>\n",
       "      <td>1</td>\n",
       "      <td>0</td>\n",
       "    </tr>\n",
       "    <tr>\n",
       "      <th>121</th>\n",
       "      <td>11.0</td>\n",
       "      <td>2.0</td>\n",
       "      <td>185.0</td>\n",
       "      <td>167.0</td>\n",
       "      <td>154.0</td>\n",
       "      <td>1371.0</td>\n",
       "      <td>0.0</td>\n",
       "      <td>120</td>\n",
       "      <td>This flight departs in the late afternoon and ...</td>\n",
       "      <td>4</td>\n",
       "      <td>2</td>\n",
       "      <td>1</td>\n",
       "      <td>0</td>\n",
       "    </tr>\n",
       "    <tr>\n",
       "      <th>122</th>\n",
       "      <td>18.0</td>\n",
       "      <td>7.0</td>\n",
       "      <td>80.0</td>\n",
       "      <td>92.0</td>\n",
       "      <td>67.0</td>\n",
       "      <td>386.0</td>\n",
       "      <td>6.0</td>\n",
       "      <td>30</td>\n",
       "      <td>This flight operates during a busy travel peri...</td>\n",
       "      <td>10</td>\n",
       "      <td>4</td>\n",
       "      <td>1</td>\n",
       "      <td>1</td>\n",
       "    </tr>\n",
       "    <tr>\n",
       "      <th>123</th>\n",
       "      <td>20.0</td>\n",
       "      <td>3.0</td>\n",
       "      <td>65.0</td>\n",
       "      <td>89.0</td>\n",
       "      <td>66.0</td>\n",
       "      <td>239.0</td>\n",
       "      <td>0.0</td>\n",
       "      <td>15</td>\n",
       "      <td>This flight is relatively short and operates b...</td>\n",
       "      <td>9</td>\n",
       "      <td>2</td>\n",
       "      <td>1</td>\n",
       "      <td>1</td>\n",
       "    </tr>\n",
       "    <tr>\n",
       "      <th>124</th>\n",
       "      <td>26.0</td>\n",
       "      <td>2.0</td>\n",
       "      <td>200.0</td>\n",
       "      <td>191.0</td>\n",
       "      <td>163.0</td>\n",
       "      <td>1491.0</td>\n",
       "      <td>21.0</td>\n",
       "      <td>30</td>\n",
       "      <td>This flight is originating from Denver (DEN) a...</td>\n",
       "      <td>10</td>\n",
       "      <td>4</td>\n",
       "      <td>1</td>\n",
       "      <td>1</td>\n",
       "    </tr>\n",
       "  </tbody>\n",
       "</table>\n",
       "<p>125 rows × 13 columns</p>\n",
       "</div>"
      ],
      "text/plain": [
       "     TAXI_OUT  TAXI_IN  CRS_ELAPSED_TIME  ACTUAL_ELAPSED_TIME  AIR_TIME  \\\n",
       "0        23.0      5.0              85.0                 86.0      58.0   \n",
       "1         7.0      4.0              90.0                 94.0      83.0   \n",
       "2        15.0      3.0              85.0                 78.0      60.0   \n",
       "3        10.0      3.0             130.0                122.0     109.0   \n",
       "4        29.0      4.0              85.0                103.0      70.0   \n",
       "..        ...      ...               ...                  ...       ...   \n",
       "120       8.0      4.0              65.0                 61.0      49.0   \n",
       "121      11.0      2.0             185.0                167.0     154.0   \n",
       "122      18.0      7.0              80.0                 92.0      67.0   \n",
       "123      20.0      3.0              65.0                 89.0      66.0   \n",
       "124      26.0      2.0             200.0                191.0     163.0   \n",
       "\n",
       "     DISTANCE  CARRIER_DELAY llm_delay_minutes  \\\n",
       "0       417.0            0.0                30   \n",
       "1       453.0            4.0                15   \n",
       "2       371.0            0.0                45   \n",
       "3       849.0           43.0                30   \n",
       "4       349.0            0.0                20   \n",
       "..        ...            ...               ...   \n",
       "120     328.0           21.0                60   \n",
       "121    1371.0            0.0               120   \n",
       "122     386.0            6.0                30   \n",
       "123     239.0            0.0                15   \n",
       "124    1491.0           21.0                30   \n",
       "\n",
       "                                     llm_delay_explain  FL_MON  FL_DOW  \\\n",
       "0    This flight could potentially experience delay...       7       3   \n",
       "1    This flight is scheduled late in the day, whic...      12       5   \n",
       "2     This flight appears to typically experience s...       5       3   \n",
       "3    This flight is a relatively long-haul evening ...       5       5   \n",
       "4    Southwest Airlines (WN) flights often experien...       9       0   \n",
       "..                                                 ...     ...     ...   \n",
       "120  This flight is operated by Southwest Airlines ...      11       5   \n",
       "121  This flight departs in the late afternoon and ...       4       2   \n",
       "122  This flight operates during a busy travel peri...      10       4   \n",
       "123  This flight is relatively short and operates b...       9       2   \n",
       "124  This flight is originating from Denver (DEN) a...      10       4   \n",
       "\n",
       "     ORIGIN_HUB  DEST_HUB  \n",
       "0             0         1  \n",
       "1             0         1  \n",
       "2             1         0  \n",
       "3             1         1  \n",
       "4             0         1  \n",
       "..          ...       ...  \n",
       "120           1         0  \n",
       "121           1         0  \n",
       "122           1         1  \n",
       "123           1         1  \n",
       "124           1         1  \n",
       "\n",
       "[125 rows x 13 columns]"
      ]
     },
     "execution_count": 98,
     "metadata": {},
     "output_type": "execute_result"
    }
   ],
   "source": [
    "df = df.reset_index().drop(columns=[\"index\"])\n",
    "df"
   ]
  },
  {
   "cell_type": "code",
   "execution_count": 99,
   "metadata": {},
   "outputs": [],
   "source": [
    "df = df.sample(int(df.shape[0] * 0.3))"
   ]
  },
  {
   "cell_type": "markdown",
   "metadata": {},
   "source": [
    "##### Split the df data into train and test"
   ]
  },
  {
   "cell_type": "code",
   "execution_count": 100,
   "metadata": {},
   "outputs": [],
   "source": [
    "df = df.drop(columns=[\"llm_delay_explain\"])\n",
    "X = df.copy()\n",
    "y = X.pop(target)\n",
    "X = StandardScaler().fit_transform(X.to_numpy())\n",
    "X_train, X_test, y_train, y_test = train_test_split(X, y, test_size=0.2)"
   ]
  },
  {
   "cell_type": "code",
   "execution_count": 101,
   "metadata": {},
   "outputs": [],
   "source": [
    "y_train_labels, y_test_labels = y_train.apply(lambda y: y > 15), y_test.apply(lambda y: y > 15)"
   ]
  },
  {
   "cell_type": "markdown",
   "metadata": {},
   "source": [
    "### Fitting models"
   ]
  },
  {
   "cell_type": "markdown",
   "metadata": {},
   "source": [
    "##### Generalized Regression Models"
   ]
  },
  {
   "cell_type": "code",
   "execution_count": 102,
   "metadata": {},
   "outputs": [],
   "source": [
    "regression_models = {}"
   ]
  },
  {
   "cell_type": "markdown",
   "metadata": {},
   "source": [
    "**Linear Regression**"
   ]
  },
  {
   "cell_type": "code",
   "execution_count": 103,
   "metadata": {},
   "outputs": [],
   "source": [
    "regression_models[\"linear\"] = {\"model\": LinearRegression()}"
   ]
  },
  {
   "cell_type": "markdown",
   "metadata": {},
   "source": [
    "**Ridge Regression**"
   ]
  },
  {
   "cell_type": "code",
   "execution_count": 104,
   "metadata": {},
   "outputs": [],
   "source": [
    "regression_models[\"ridge\"] = {\"model\": RidgeCV()}"
   ]
  },
  {
   "cell_type": "markdown",
   "metadata": {},
   "source": [
    "**Decision Tree Regression**"
   ]
  },
  {
   "cell_type": "code",
   "execution_count": 105,
   "metadata": {},
   "outputs": [],
   "source": [
    "regression_models[\"decision_tree\"] = {\"model\": DecisionTreeRegressor()}"
   ]
  },
  {
   "cell_type": "markdown",
   "metadata": {},
   "source": [
    "**K-Nearest Neighbors Regression**"
   ]
  },
  {
   "cell_type": "code",
   "execution_count": 106,
   "metadata": {},
   "outputs": [],
   "source": [
    "regression_models[\"knn\"] = {\"model\": KNeighborsRegressor()}"
   ]
  },
  {
   "cell_type": "markdown",
   "metadata": {},
   "source": [
    "**Random Forest Regression**"
   ]
  },
  {
   "cell_type": "code",
   "execution_count": 107,
   "metadata": {},
   "outputs": [],
   "source": [
    "regression_models[\"random_forest\"] = {\"model\": RandomForestRegressor()}"
   ]
  },
  {
   "cell_type": "markdown",
   "metadata": {},
   "source": [
    "**Gradient Boosting**"
   ]
  },
  {
   "cell_type": "code",
   "execution_count": 108,
   "metadata": {},
   "outputs": [],
   "source": [
    "regression_models[\"gradient_boosting\"] = {\"model\": GradientBoostingRegressor()}"
   ]
  },
  {
   "cell_type": "markdown",
   "metadata": {},
   "source": [
    "##### Generalized Classification Models"
   ]
  },
  {
   "cell_type": "code",
   "execution_count": 109,
   "metadata": {},
   "outputs": [],
   "source": [
    "classification_models = {}"
   ]
  },
  {
   "cell_type": "markdown",
   "metadata": {},
   "source": [
    "**Logistic Regression**"
   ]
  },
  {
   "cell_type": "code",
   "execution_count": 110,
   "metadata": {},
   "outputs": [],
   "source": [
    "classification_models[\"logistic\"] = {\"model\": LogisticRegression()}"
   ]
  },
  {
   "cell_type": "markdown",
   "metadata": {},
   "source": [
    "**Decision Tree**"
   ]
  },
  {
   "cell_type": "code",
   "execution_count": 111,
   "metadata": {},
   "outputs": [],
   "source": [
    "classification_models[\"decision_tree\"] = {\"model\": DecisionTreeClassifier()}"
   ]
  },
  {
   "cell_type": "markdown",
   "metadata": {},
   "source": [
    "**KNN Classifier**"
   ]
  },
  {
   "cell_type": "code",
   "execution_count": 112,
   "metadata": {},
   "outputs": [],
   "source": [
    "classification_models[\"knn\"] = {\"model\": KNeighborsClassifier()}"
   ]
  },
  {
   "cell_type": "markdown",
   "metadata": {},
   "source": [
    "**Naive Bayes**"
   ]
  },
  {
   "cell_type": "code",
   "execution_count": 113,
   "metadata": {},
   "outputs": [],
   "source": [
    "classification_models[\"naive_bayes\"] = {\"model\": GaussianNB()}"
   ]
  },
  {
   "cell_type": "markdown",
   "metadata": {},
   "source": [
    "**Random Forest**"
   ]
  },
  {
   "cell_type": "code",
   "execution_count": 114,
   "metadata": {},
   "outputs": [],
   "source": [
    "classification_models[\"random_forest\"] = {\"model\": RandomForestClassifier()}"
   ]
  },
  {
   "cell_type": "markdown",
   "metadata": {},
   "source": [
    "**Gradient Boosting**"
   ]
  },
  {
   "cell_type": "code",
   "execution_count": 115,
   "metadata": {},
   "outputs": [],
   "source": [
    "classification_models[\"gradient_boosting\"] = {\"model\": GradientBoostingClassifier()}"
   ]
  },
  {
   "cell_type": "markdown",
   "metadata": {},
   "source": [
    "##### Fit all models and make predictions\n",
    "\n",
    "**Regression**"
   ]
  },
  {
   "cell_type": "code",
   "execution_count": 116,
   "metadata": {},
   "outputs": [],
   "source": [
    "for model in regression_models.keys():\n",
    "    regression_models[model][\"model\"] = regression_models[model][\"model\"].fit(X_train, y_train)\n",
    "    y_pred = regression_models[model][\"model\"].predict(X_test)\n",
    "    regression_models[model][\"mse\"] = MSE(y_test, y_pred)\n",
    "    regression_models[model][\"r2\"] = R2(y_test, y_pred)"
   ]
  },
  {
   "cell_type": "markdown",
   "metadata": {},
   "source": [
    "**Classification**"
   ]
  },
  {
   "cell_type": "code",
   "execution_count": 117,
   "metadata": {},
   "outputs": [],
   "source": [
    "for model in classification_models.keys():\n",
    "    classification_models[model][\"model\"] = classification_models[model][\"model\"].fit(X_train, y_train_labels)\n",
    "    y_pred = classification_models[model][\"model\"].predict(X_test)\n",
    "    classification_models[model][\"precision\"] = precision_score(y_pred, y_test_labels, zero_division=0)\n",
    "    classification_models[model][\"recall\"] = recall_score(y_pred, y_test_labels)\n",
    "    classification_models[model][\"f1\"] = f1_score(y_pred, y_test_labels)"
   ]
  },
  {
   "cell_type": "markdown",
   "metadata": {},
   "source": [
    "##### Visualize regression model metrics"
   ]
  },
  {
   "cell_type": "code",
   "execution_count": 118,
   "metadata": {},
   "outputs": [
    {
     "data": {
      "text/html": [
       "<div>\n",
       "<style scoped>\n",
       "    .dataframe tbody tr th:only-of-type {\n",
       "        vertical-align: middle;\n",
       "    }\n",
       "\n",
       "    .dataframe tbody tr th {\n",
       "        vertical-align: top;\n",
       "    }\n",
       "\n",
       "    .dataframe thead th {\n",
       "        text-align: right;\n",
       "    }\n",
       "</style>\n",
       "<table border=\"1\" class=\"dataframe\">\n",
       "  <thead>\n",
       "    <tr style=\"text-align: right;\">\n",
       "      <th></th>\n",
       "      <th>linear</th>\n",
       "      <th>ridge</th>\n",
       "      <th>decision_tree</th>\n",
       "      <th>knn</th>\n",
       "      <th>random_forest</th>\n",
       "      <th>gradient_boosting</th>\n",
       "    </tr>\n",
       "  </thead>\n",
       "  <tbody>\n",
       "    <tr>\n",
       "      <th>model</th>\n",
       "      <td>LinearRegression()</td>\n",
       "      <td>RidgeCV()</td>\n",
       "      <td>DecisionTreeRegressor()</td>\n",
       "      <td>KNeighborsRegressor()</td>\n",
       "      <td>(DecisionTreeRegressor(max_features=1.0, rando...</td>\n",
       "      <td>([DecisionTreeRegressor(criterion='friedman_ms...</td>\n",
       "    </tr>\n",
       "    <tr>\n",
       "      <th>mse</th>\n",
       "      <td>101.442188</td>\n",
       "      <td>104.601815</td>\n",
       "      <td>623.125</td>\n",
       "      <td>104.825</td>\n",
       "      <td>132.541162</td>\n",
       "      <td>266.871758</td>\n",
       "    </tr>\n",
       "    <tr>\n",
       "      <th>r2</th>\n",
       "      <td>-6.126564</td>\n",
       "      <td>-6.348536</td>\n",
       "      <td>-42.77607</td>\n",
       "      <td>-6.364215</td>\n",
       "      <td>-8.311344</td>\n",
       "      <td>-17.7484</td>\n",
       "    </tr>\n",
       "  </tbody>\n",
       "</table>\n",
       "</div>"
      ],
      "text/plain": [
       "                   linear       ridge            decision_tree  \\\n",
       "model  LinearRegression()   RidgeCV()  DecisionTreeRegressor()   \n",
       "mse            101.442188  104.601815                  623.125   \n",
       "r2              -6.126564   -6.348536                -42.77607   \n",
       "\n",
       "                         knn  \\\n",
       "model  KNeighborsRegressor()   \n",
       "mse                  104.825   \n",
       "r2                 -6.364215   \n",
       "\n",
       "                                           random_forest  \\\n",
       "model  (DecisionTreeRegressor(max_features=1.0, rando...   \n",
       "mse                                           132.541162   \n",
       "r2                                             -8.311344   \n",
       "\n",
       "                                       gradient_boosting  \n",
       "model  ([DecisionTreeRegressor(criterion='friedman_ms...  \n",
       "mse                                           266.871758  \n",
       "r2                                              -17.7484  "
      ]
     },
     "execution_count": 118,
     "metadata": {},
     "output_type": "execute_result"
    }
   ],
   "source": [
    "regression_models = pd.DataFrame(regression_models)\n",
    "regression_models"
   ]
  },
  {
   "cell_type": "code",
   "execution_count": 119,
   "metadata": {},
   "outputs": [
    {
     "data": {
      "application/vnd.plotly.v1+json": {
       "config": {
        "plotlyServerURL": "https://plot.ly"
       },
       "data": [
        {
         "coloraxis": "coloraxis",
         "hovertemplate": "x: %{x}<br>y: %{y}<br>color: %{z}<extra></extra>",
         "name": "0",
         "type": "heatmap",
         "x": [
          "linear",
          "ridge",
          "decision_tree",
          "knn",
          "random_forest",
          "gradient_boosting"
         ],
         "xaxis": "x",
         "y": [
          "mse",
          "r2"
         ],
         "yaxis": "y",
         "z": [
          [
           101.44218824048605,
           104.6018147350108,
           623.125,
           104.82499999999999,
           132.54116249999998,
           266.8717584576639
          ],
          [
           -6.1265642671691625,
           -6.348535832097356,
           -42.776070252469815,
           -6.364215148188802,
           -8.311344017563117,
           -17.74840015509384
          ]
         ]
        }
       ],
       "layout": {
        "coloraxis": {
         "colorscale": [
          [
           0,
           "#0d0887"
          ],
          [
           0.1111111111111111,
           "#46039f"
          ],
          [
           0.2222222222222222,
           "#7201a8"
          ],
          [
           0.3333333333333333,
           "#9c179e"
          ],
          [
           0.4444444444444444,
           "#bd3786"
          ],
          [
           0.5555555555555556,
           "#d8576b"
          ],
          [
           0.6666666666666666,
           "#ed7953"
          ],
          [
           0.7777777777777778,
           "#fb9f3a"
          ],
          [
           0.8888888888888888,
           "#fdca26"
          ],
          [
           1,
           "#f0f921"
          ]
         ]
        },
        "margin": {
         "t": 60
        },
        "template": {
         "data": {
          "bar": [
           {
            "error_x": {
             "color": "#2a3f5f"
            },
            "error_y": {
             "color": "#2a3f5f"
            },
            "marker": {
             "line": {
              "color": "#E5ECF6",
              "width": 0.5
             },
             "pattern": {
              "fillmode": "overlay",
              "size": 10,
              "solidity": 0.2
             }
            },
            "type": "bar"
           }
          ],
          "barpolar": [
           {
            "marker": {
             "line": {
              "color": "#E5ECF6",
              "width": 0.5
             },
             "pattern": {
              "fillmode": "overlay",
              "size": 10,
              "solidity": 0.2
             }
            },
            "type": "barpolar"
           }
          ],
          "carpet": [
           {
            "aaxis": {
             "endlinecolor": "#2a3f5f",
             "gridcolor": "white",
             "linecolor": "white",
             "minorgridcolor": "white",
             "startlinecolor": "#2a3f5f"
            },
            "baxis": {
             "endlinecolor": "#2a3f5f",
             "gridcolor": "white",
             "linecolor": "white",
             "minorgridcolor": "white",
             "startlinecolor": "#2a3f5f"
            },
            "type": "carpet"
           }
          ],
          "choropleth": [
           {
            "colorbar": {
             "outlinewidth": 0,
             "ticks": ""
            },
            "type": "choropleth"
           }
          ],
          "contour": [
           {
            "colorbar": {
             "outlinewidth": 0,
             "ticks": ""
            },
            "colorscale": [
             [
              0,
              "#0d0887"
             ],
             [
              0.1111111111111111,
              "#46039f"
             ],
             [
              0.2222222222222222,
              "#7201a8"
             ],
             [
              0.3333333333333333,
              "#9c179e"
             ],
             [
              0.4444444444444444,
              "#bd3786"
             ],
             [
              0.5555555555555556,
              "#d8576b"
             ],
             [
              0.6666666666666666,
              "#ed7953"
             ],
             [
              0.7777777777777778,
              "#fb9f3a"
             ],
             [
              0.8888888888888888,
              "#fdca26"
             ],
             [
              1,
              "#f0f921"
             ]
            ],
            "type": "contour"
           }
          ],
          "contourcarpet": [
           {
            "colorbar": {
             "outlinewidth": 0,
             "ticks": ""
            },
            "type": "contourcarpet"
           }
          ],
          "heatmap": [
           {
            "colorbar": {
             "outlinewidth": 0,
             "ticks": ""
            },
            "colorscale": [
             [
              0,
              "#0d0887"
             ],
             [
              0.1111111111111111,
              "#46039f"
             ],
             [
              0.2222222222222222,
              "#7201a8"
             ],
             [
              0.3333333333333333,
              "#9c179e"
             ],
             [
              0.4444444444444444,
              "#bd3786"
             ],
             [
              0.5555555555555556,
              "#d8576b"
             ],
             [
              0.6666666666666666,
              "#ed7953"
             ],
             [
              0.7777777777777778,
              "#fb9f3a"
             ],
             [
              0.8888888888888888,
              "#fdca26"
             ],
             [
              1,
              "#f0f921"
             ]
            ],
            "type": "heatmap"
           }
          ],
          "heatmapgl": [
           {
            "colorbar": {
             "outlinewidth": 0,
             "ticks": ""
            },
            "colorscale": [
             [
              0,
              "#0d0887"
             ],
             [
              0.1111111111111111,
              "#46039f"
             ],
             [
              0.2222222222222222,
              "#7201a8"
             ],
             [
              0.3333333333333333,
              "#9c179e"
             ],
             [
              0.4444444444444444,
              "#bd3786"
             ],
             [
              0.5555555555555556,
              "#d8576b"
             ],
             [
              0.6666666666666666,
              "#ed7953"
             ],
             [
              0.7777777777777778,
              "#fb9f3a"
             ],
             [
              0.8888888888888888,
              "#fdca26"
             ],
             [
              1,
              "#f0f921"
             ]
            ],
            "type": "heatmapgl"
           }
          ],
          "histogram": [
           {
            "marker": {
             "pattern": {
              "fillmode": "overlay",
              "size": 10,
              "solidity": 0.2
             }
            },
            "type": "histogram"
           }
          ],
          "histogram2d": [
           {
            "colorbar": {
             "outlinewidth": 0,
             "ticks": ""
            },
            "colorscale": [
             [
              0,
              "#0d0887"
             ],
             [
              0.1111111111111111,
              "#46039f"
             ],
             [
              0.2222222222222222,
              "#7201a8"
             ],
             [
              0.3333333333333333,
              "#9c179e"
             ],
             [
              0.4444444444444444,
              "#bd3786"
             ],
             [
              0.5555555555555556,
              "#d8576b"
             ],
             [
              0.6666666666666666,
              "#ed7953"
             ],
             [
              0.7777777777777778,
              "#fb9f3a"
             ],
             [
              0.8888888888888888,
              "#fdca26"
             ],
             [
              1,
              "#f0f921"
             ]
            ],
            "type": "histogram2d"
           }
          ],
          "histogram2dcontour": [
           {
            "colorbar": {
             "outlinewidth": 0,
             "ticks": ""
            },
            "colorscale": [
             [
              0,
              "#0d0887"
             ],
             [
              0.1111111111111111,
              "#46039f"
             ],
             [
              0.2222222222222222,
              "#7201a8"
             ],
             [
              0.3333333333333333,
              "#9c179e"
             ],
             [
              0.4444444444444444,
              "#bd3786"
             ],
             [
              0.5555555555555556,
              "#d8576b"
             ],
             [
              0.6666666666666666,
              "#ed7953"
             ],
             [
              0.7777777777777778,
              "#fb9f3a"
             ],
             [
              0.8888888888888888,
              "#fdca26"
             ],
             [
              1,
              "#f0f921"
             ]
            ],
            "type": "histogram2dcontour"
           }
          ],
          "mesh3d": [
           {
            "colorbar": {
             "outlinewidth": 0,
             "ticks": ""
            },
            "type": "mesh3d"
           }
          ],
          "parcoords": [
           {
            "line": {
             "colorbar": {
              "outlinewidth": 0,
              "ticks": ""
             }
            },
            "type": "parcoords"
           }
          ],
          "pie": [
           {
            "automargin": true,
            "type": "pie"
           }
          ],
          "scatter": [
           {
            "fillpattern": {
             "fillmode": "overlay",
             "size": 10,
             "solidity": 0.2
            },
            "type": "scatter"
           }
          ],
          "scatter3d": [
           {
            "line": {
             "colorbar": {
              "outlinewidth": 0,
              "ticks": ""
             }
            },
            "marker": {
             "colorbar": {
              "outlinewidth": 0,
              "ticks": ""
             }
            },
            "type": "scatter3d"
           }
          ],
          "scattercarpet": [
           {
            "marker": {
             "colorbar": {
              "outlinewidth": 0,
              "ticks": ""
             }
            },
            "type": "scattercarpet"
           }
          ],
          "scattergeo": [
           {
            "marker": {
             "colorbar": {
              "outlinewidth": 0,
              "ticks": ""
             }
            },
            "type": "scattergeo"
           }
          ],
          "scattergl": [
           {
            "marker": {
             "colorbar": {
              "outlinewidth": 0,
              "ticks": ""
             }
            },
            "type": "scattergl"
           }
          ],
          "scattermapbox": [
           {
            "marker": {
             "colorbar": {
              "outlinewidth": 0,
              "ticks": ""
             }
            },
            "type": "scattermapbox"
           }
          ],
          "scatterpolar": [
           {
            "marker": {
             "colorbar": {
              "outlinewidth": 0,
              "ticks": ""
             }
            },
            "type": "scatterpolar"
           }
          ],
          "scatterpolargl": [
           {
            "marker": {
             "colorbar": {
              "outlinewidth": 0,
              "ticks": ""
             }
            },
            "type": "scatterpolargl"
           }
          ],
          "scatterternary": [
           {
            "marker": {
             "colorbar": {
              "outlinewidth": 0,
              "ticks": ""
             }
            },
            "type": "scatterternary"
           }
          ],
          "surface": [
           {
            "colorbar": {
             "outlinewidth": 0,
             "ticks": ""
            },
            "colorscale": [
             [
              0,
              "#0d0887"
             ],
             [
              0.1111111111111111,
              "#46039f"
             ],
             [
              0.2222222222222222,
              "#7201a8"
             ],
             [
              0.3333333333333333,
              "#9c179e"
             ],
             [
              0.4444444444444444,
              "#bd3786"
             ],
             [
              0.5555555555555556,
              "#d8576b"
             ],
             [
              0.6666666666666666,
              "#ed7953"
             ],
             [
              0.7777777777777778,
              "#fb9f3a"
             ],
             [
              0.8888888888888888,
              "#fdca26"
             ],
             [
              1,
              "#f0f921"
             ]
            ],
            "type": "surface"
           }
          ],
          "table": [
           {
            "cells": {
             "fill": {
              "color": "#EBF0F8"
             },
             "line": {
              "color": "white"
             }
            },
            "header": {
             "fill": {
              "color": "#C8D4E3"
             },
             "line": {
              "color": "white"
             }
            },
            "type": "table"
           }
          ]
         },
         "layout": {
          "annotationdefaults": {
           "arrowcolor": "#2a3f5f",
           "arrowhead": 0,
           "arrowwidth": 1
          },
          "autotypenumbers": "strict",
          "coloraxis": {
           "colorbar": {
            "outlinewidth": 0,
            "ticks": ""
           }
          },
          "colorscale": {
           "diverging": [
            [
             0,
             "#8e0152"
            ],
            [
             0.1,
             "#c51b7d"
            ],
            [
             0.2,
             "#de77ae"
            ],
            [
             0.3,
             "#f1b6da"
            ],
            [
             0.4,
             "#fde0ef"
            ],
            [
             0.5,
             "#f7f7f7"
            ],
            [
             0.6,
             "#e6f5d0"
            ],
            [
             0.7,
             "#b8e186"
            ],
            [
             0.8,
             "#7fbc41"
            ],
            [
             0.9,
             "#4d9221"
            ],
            [
             1,
             "#276419"
            ]
           ],
           "sequential": [
            [
             0,
             "#0d0887"
            ],
            [
             0.1111111111111111,
             "#46039f"
            ],
            [
             0.2222222222222222,
             "#7201a8"
            ],
            [
             0.3333333333333333,
             "#9c179e"
            ],
            [
             0.4444444444444444,
             "#bd3786"
            ],
            [
             0.5555555555555556,
             "#d8576b"
            ],
            [
             0.6666666666666666,
             "#ed7953"
            ],
            [
             0.7777777777777778,
             "#fb9f3a"
            ],
            [
             0.8888888888888888,
             "#fdca26"
            ],
            [
             1,
             "#f0f921"
            ]
           ],
           "sequentialminus": [
            [
             0,
             "#0d0887"
            ],
            [
             0.1111111111111111,
             "#46039f"
            ],
            [
             0.2222222222222222,
             "#7201a8"
            ],
            [
             0.3333333333333333,
             "#9c179e"
            ],
            [
             0.4444444444444444,
             "#bd3786"
            ],
            [
             0.5555555555555556,
             "#d8576b"
            ],
            [
             0.6666666666666666,
             "#ed7953"
            ],
            [
             0.7777777777777778,
             "#fb9f3a"
            ],
            [
             0.8888888888888888,
             "#fdca26"
            ],
            [
             1,
             "#f0f921"
            ]
           ]
          },
          "colorway": [
           "#636efa",
           "#EF553B",
           "#00cc96",
           "#ab63fa",
           "#FFA15A",
           "#19d3f3",
           "#FF6692",
           "#B6E880",
           "#FF97FF",
           "#FECB52"
          ],
          "font": {
           "color": "#2a3f5f"
          },
          "geo": {
           "bgcolor": "white",
           "lakecolor": "white",
           "landcolor": "#E5ECF6",
           "showlakes": true,
           "showland": true,
           "subunitcolor": "white"
          },
          "hoverlabel": {
           "align": "left"
          },
          "hovermode": "closest",
          "mapbox": {
           "style": "light"
          },
          "paper_bgcolor": "white",
          "plot_bgcolor": "#E5ECF6",
          "polar": {
           "angularaxis": {
            "gridcolor": "white",
            "linecolor": "white",
            "ticks": ""
           },
           "bgcolor": "#E5ECF6",
           "radialaxis": {
            "gridcolor": "white",
            "linecolor": "white",
            "ticks": ""
           }
          },
          "scene": {
           "xaxis": {
            "backgroundcolor": "#E5ECF6",
            "gridcolor": "white",
            "gridwidth": 2,
            "linecolor": "white",
            "showbackground": true,
            "ticks": "",
            "zerolinecolor": "white"
           },
           "yaxis": {
            "backgroundcolor": "#E5ECF6",
            "gridcolor": "white",
            "gridwidth": 2,
            "linecolor": "white",
            "showbackground": true,
            "ticks": "",
            "zerolinecolor": "white"
           },
           "zaxis": {
            "backgroundcolor": "#E5ECF6",
            "gridcolor": "white",
            "gridwidth": 2,
            "linecolor": "white",
            "showbackground": true,
            "ticks": "",
            "zerolinecolor": "white"
           }
          },
          "shapedefaults": {
           "line": {
            "color": "#2a3f5f"
           }
          },
          "ternary": {
           "aaxis": {
            "gridcolor": "white",
            "linecolor": "white",
            "ticks": ""
           },
           "baxis": {
            "gridcolor": "white",
            "linecolor": "white",
            "ticks": ""
           },
           "bgcolor": "#E5ECF6",
           "caxis": {
            "gridcolor": "white",
            "linecolor": "white",
            "ticks": ""
           }
          },
          "title": {
           "x": 0.05
          },
          "xaxis": {
           "automargin": true,
           "gridcolor": "white",
           "linecolor": "white",
           "ticks": "",
           "title": {
            "standoff": 15
           },
           "zerolinecolor": "white",
           "zerolinewidth": 2
          },
          "yaxis": {
           "automargin": true,
           "gridcolor": "white",
           "linecolor": "white",
           "ticks": "",
           "title": {
            "standoff": 15
           },
           "zerolinecolor": "white",
           "zerolinewidth": 2
          }
         }
        },
        "xaxis": {
         "anchor": "y",
         "constrain": "domain",
         "domain": [
          0,
          1
         ],
         "scaleanchor": "y"
        },
        "yaxis": {
         "anchor": "x",
         "autorange": "reversed",
         "constrain": "domain",
         "domain": [
          0,
          1
         ]
        }
       }
      }
     },
     "metadata": {},
     "output_type": "display_data"
    }
   ],
   "source": [
    "scores = regression_models.loc[[\"mse\", \"r2\"]]\n",
    "px.imshow(scores)"
   ]
  },
  {
   "cell_type": "markdown",
   "metadata": {},
   "source": [
    "##### Visualize classification model metrics"
   ]
  },
  {
   "cell_type": "code",
   "execution_count": 120,
   "metadata": {},
   "outputs": [
    {
     "data": {
      "application/vnd.plotly.v1+json": {
       "config": {
        "plotlyServerURL": "https://plot.ly"
       },
       "data": [
        {
         "coloraxis": "coloraxis",
         "hovertemplate": "x: %{x}<br>y: %{y}<br>color: %{z}<extra></extra>",
         "name": "0",
         "type": "heatmap",
         "x": [
          "logistic",
          "decision_tree",
          "knn",
          "naive_bayes",
          "random_forest",
          "gradient_boosting"
         ],
         "xaxis": "x",
         "y": [
          "precision",
          "recall",
          "f1"
         ],
         "yaxis": "y",
         "z": [
          [
           0,
           0,
           0,
           0,
           0,
           0
          ],
          [
           0,
           0,
           0,
           0,
           0,
           0
          ],
          [
           0,
           0,
           0,
           0,
           0,
           0
          ]
         ]
        }
       ],
       "layout": {
        "coloraxis": {
         "colorscale": [
          [
           0,
           "#0d0887"
          ],
          [
           0.1111111111111111,
           "#46039f"
          ],
          [
           0.2222222222222222,
           "#7201a8"
          ],
          [
           0.3333333333333333,
           "#9c179e"
          ],
          [
           0.4444444444444444,
           "#bd3786"
          ],
          [
           0.5555555555555556,
           "#d8576b"
          ],
          [
           0.6666666666666666,
           "#ed7953"
          ],
          [
           0.7777777777777778,
           "#fb9f3a"
          ],
          [
           0.8888888888888888,
           "#fdca26"
          ],
          [
           1,
           "#f0f921"
          ]
         ]
        },
        "margin": {
         "t": 60
        },
        "template": {
         "data": {
          "bar": [
           {
            "error_x": {
             "color": "#2a3f5f"
            },
            "error_y": {
             "color": "#2a3f5f"
            },
            "marker": {
             "line": {
              "color": "#E5ECF6",
              "width": 0.5
             },
             "pattern": {
              "fillmode": "overlay",
              "size": 10,
              "solidity": 0.2
             }
            },
            "type": "bar"
           }
          ],
          "barpolar": [
           {
            "marker": {
             "line": {
              "color": "#E5ECF6",
              "width": 0.5
             },
             "pattern": {
              "fillmode": "overlay",
              "size": 10,
              "solidity": 0.2
             }
            },
            "type": "barpolar"
           }
          ],
          "carpet": [
           {
            "aaxis": {
             "endlinecolor": "#2a3f5f",
             "gridcolor": "white",
             "linecolor": "white",
             "minorgridcolor": "white",
             "startlinecolor": "#2a3f5f"
            },
            "baxis": {
             "endlinecolor": "#2a3f5f",
             "gridcolor": "white",
             "linecolor": "white",
             "minorgridcolor": "white",
             "startlinecolor": "#2a3f5f"
            },
            "type": "carpet"
           }
          ],
          "choropleth": [
           {
            "colorbar": {
             "outlinewidth": 0,
             "ticks": ""
            },
            "type": "choropleth"
           }
          ],
          "contour": [
           {
            "colorbar": {
             "outlinewidth": 0,
             "ticks": ""
            },
            "colorscale": [
             [
              0,
              "#0d0887"
             ],
             [
              0.1111111111111111,
              "#46039f"
             ],
             [
              0.2222222222222222,
              "#7201a8"
             ],
             [
              0.3333333333333333,
              "#9c179e"
             ],
             [
              0.4444444444444444,
              "#bd3786"
             ],
             [
              0.5555555555555556,
              "#d8576b"
             ],
             [
              0.6666666666666666,
              "#ed7953"
             ],
             [
              0.7777777777777778,
              "#fb9f3a"
             ],
             [
              0.8888888888888888,
              "#fdca26"
             ],
             [
              1,
              "#f0f921"
             ]
            ],
            "type": "contour"
           }
          ],
          "contourcarpet": [
           {
            "colorbar": {
             "outlinewidth": 0,
             "ticks": ""
            },
            "type": "contourcarpet"
           }
          ],
          "heatmap": [
           {
            "colorbar": {
             "outlinewidth": 0,
             "ticks": ""
            },
            "colorscale": [
             [
              0,
              "#0d0887"
             ],
             [
              0.1111111111111111,
              "#46039f"
             ],
             [
              0.2222222222222222,
              "#7201a8"
             ],
             [
              0.3333333333333333,
              "#9c179e"
             ],
             [
              0.4444444444444444,
              "#bd3786"
             ],
             [
              0.5555555555555556,
              "#d8576b"
             ],
             [
              0.6666666666666666,
              "#ed7953"
             ],
             [
              0.7777777777777778,
              "#fb9f3a"
             ],
             [
              0.8888888888888888,
              "#fdca26"
             ],
             [
              1,
              "#f0f921"
             ]
            ],
            "type": "heatmap"
           }
          ],
          "heatmapgl": [
           {
            "colorbar": {
             "outlinewidth": 0,
             "ticks": ""
            },
            "colorscale": [
             [
              0,
              "#0d0887"
             ],
             [
              0.1111111111111111,
              "#46039f"
             ],
             [
              0.2222222222222222,
              "#7201a8"
             ],
             [
              0.3333333333333333,
              "#9c179e"
             ],
             [
              0.4444444444444444,
              "#bd3786"
             ],
             [
              0.5555555555555556,
              "#d8576b"
             ],
             [
              0.6666666666666666,
              "#ed7953"
             ],
             [
              0.7777777777777778,
              "#fb9f3a"
             ],
             [
              0.8888888888888888,
              "#fdca26"
             ],
             [
              1,
              "#f0f921"
             ]
            ],
            "type": "heatmapgl"
           }
          ],
          "histogram": [
           {
            "marker": {
             "pattern": {
              "fillmode": "overlay",
              "size": 10,
              "solidity": 0.2
             }
            },
            "type": "histogram"
           }
          ],
          "histogram2d": [
           {
            "colorbar": {
             "outlinewidth": 0,
             "ticks": ""
            },
            "colorscale": [
             [
              0,
              "#0d0887"
             ],
             [
              0.1111111111111111,
              "#46039f"
             ],
             [
              0.2222222222222222,
              "#7201a8"
             ],
             [
              0.3333333333333333,
              "#9c179e"
             ],
             [
              0.4444444444444444,
              "#bd3786"
             ],
             [
              0.5555555555555556,
              "#d8576b"
             ],
             [
              0.6666666666666666,
              "#ed7953"
             ],
             [
              0.7777777777777778,
              "#fb9f3a"
             ],
             [
              0.8888888888888888,
              "#fdca26"
             ],
             [
              1,
              "#f0f921"
             ]
            ],
            "type": "histogram2d"
           }
          ],
          "histogram2dcontour": [
           {
            "colorbar": {
             "outlinewidth": 0,
             "ticks": ""
            },
            "colorscale": [
             [
              0,
              "#0d0887"
             ],
             [
              0.1111111111111111,
              "#46039f"
             ],
             [
              0.2222222222222222,
              "#7201a8"
             ],
             [
              0.3333333333333333,
              "#9c179e"
             ],
             [
              0.4444444444444444,
              "#bd3786"
             ],
             [
              0.5555555555555556,
              "#d8576b"
             ],
             [
              0.6666666666666666,
              "#ed7953"
             ],
             [
              0.7777777777777778,
              "#fb9f3a"
             ],
             [
              0.8888888888888888,
              "#fdca26"
             ],
             [
              1,
              "#f0f921"
             ]
            ],
            "type": "histogram2dcontour"
           }
          ],
          "mesh3d": [
           {
            "colorbar": {
             "outlinewidth": 0,
             "ticks": ""
            },
            "type": "mesh3d"
           }
          ],
          "parcoords": [
           {
            "line": {
             "colorbar": {
              "outlinewidth": 0,
              "ticks": ""
             }
            },
            "type": "parcoords"
           }
          ],
          "pie": [
           {
            "automargin": true,
            "type": "pie"
           }
          ],
          "scatter": [
           {
            "fillpattern": {
             "fillmode": "overlay",
             "size": 10,
             "solidity": 0.2
            },
            "type": "scatter"
           }
          ],
          "scatter3d": [
           {
            "line": {
             "colorbar": {
              "outlinewidth": 0,
              "ticks": ""
             }
            },
            "marker": {
             "colorbar": {
              "outlinewidth": 0,
              "ticks": ""
             }
            },
            "type": "scatter3d"
           }
          ],
          "scattercarpet": [
           {
            "marker": {
             "colorbar": {
              "outlinewidth": 0,
              "ticks": ""
             }
            },
            "type": "scattercarpet"
           }
          ],
          "scattergeo": [
           {
            "marker": {
             "colorbar": {
              "outlinewidth": 0,
              "ticks": ""
             }
            },
            "type": "scattergeo"
           }
          ],
          "scattergl": [
           {
            "marker": {
             "colorbar": {
              "outlinewidth": 0,
              "ticks": ""
             }
            },
            "type": "scattergl"
           }
          ],
          "scattermapbox": [
           {
            "marker": {
             "colorbar": {
              "outlinewidth": 0,
              "ticks": ""
             }
            },
            "type": "scattermapbox"
           }
          ],
          "scatterpolar": [
           {
            "marker": {
             "colorbar": {
              "outlinewidth": 0,
              "ticks": ""
             }
            },
            "type": "scatterpolar"
           }
          ],
          "scatterpolargl": [
           {
            "marker": {
             "colorbar": {
              "outlinewidth": 0,
              "ticks": ""
             }
            },
            "type": "scatterpolargl"
           }
          ],
          "scatterternary": [
           {
            "marker": {
             "colorbar": {
              "outlinewidth": 0,
              "ticks": ""
             }
            },
            "type": "scatterternary"
           }
          ],
          "surface": [
           {
            "colorbar": {
             "outlinewidth": 0,
             "ticks": ""
            },
            "colorscale": [
             [
              0,
              "#0d0887"
             ],
             [
              0.1111111111111111,
              "#46039f"
             ],
             [
              0.2222222222222222,
              "#7201a8"
             ],
             [
              0.3333333333333333,
              "#9c179e"
             ],
             [
              0.4444444444444444,
              "#bd3786"
             ],
             [
              0.5555555555555556,
              "#d8576b"
             ],
             [
              0.6666666666666666,
              "#ed7953"
             ],
             [
              0.7777777777777778,
              "#fb9f3a"
             ],
             [
              0.8888888888888888,
              "#fdca26"
             ],
             [
              1,
              "#f0f921"
             ]
            ],
            "type": "surface"
           }
          ],
          "table": [
           {
            "cells": {
             "fill": {
              "color": "#EBF0F8"
             },
             "line": {
              "color": "white"
             }
            },
            "header": {
             "fill": {
              "color": "#C8D4E3"
             },
             "line": {
              "color": "white"
             }
            },
            "type": "table"
           }
          ]
         },
         "layout": {
          "annotationdefaults": {
           "arrowcolor": "#2a3f5f",
           "arrowhead": 0,
           "arrowwidth": 1
          },
          "autotypenumbers": "strict",
          "coloraxis": {
           "colorbar": {
            "outlinewidth": 0,
            "ticks": ""
           }
          },
          "colorscale": {
           "diverging": [
            [
             0,
             "#8e0152"
            ],
            [
             0.1,
             "#c51b7d"
            ],
            [
             0.2,
             "#de77ae"
            ],
            [
             0.3,
             "#f1b6da"
            ],
            [
             0.4,
             "#fde0ef"
            ],
            [
             0.5,
             "#f7f7f7"
            ],
            [
             0.6,
             "#e6f5d0"
            ],
            [
             0.7,
             "#b8e186"
            ],
            [
             0.8,
             "#7fbc41"
            ],
            [
             0.9,
             "#4d9221"
            ],
            [
             1,
             "#276419"
            ]
           ],
           "sequential": [
            [
             0,
             "#0d0887"
            ],
            [
             0.1111111111111111,
             "#46039f"
            ],
            [
             0.2222222222222222,
             "#7201a8"
            ],
            [
             0.3333333333333333,
             "#9c179e"
            ],
            [
             0.4444444444444444,
             "#bd3786"
            ],
            [
             0.5555555555555556,
             "#d8576b"
            ],
            [
             0.6666666666666666,
             "#ed7953"
            ],
            [
             0.7777777777777778,
             "#fb9f3a"
            ],
            [
             0.8888888888888888,
             "#fdca26"
            ],
            [
             1,
             "#f0f921"
            ]
           ],
           "sequentialminus": [
            [
             0,
             "#0d0887"
            ],
            [
             0.1111111111111111,
             "#46039f"
            ],
            [
             0.2222222222222222,
             "#7201a8"
            ],
            [
             0.3333333333333333,
             "#9c179e"
            ],
            [
             0.4444444444444444,
             "#bd3786"
            ],
            [
             0.5555555555555556,
             "#d8576b"
            ],
            [
             0.6666666666666666,
             "#ed7953"
            ],
            [
             0.7777777777777778,
             "#fb9f3a"
            ],
            [
             0.8888888888888888,
             "#fdca26"
            ],
            [
             1,
             "#f0f921"
            ]
           ]
          },
          "colorway": [
           "#636efa",
           "#EF553B",
           "#00cc96",
           "#ab63fa",
           "#FFA15A",
           "#19d3f3",
           "#FF6692",
           "#B6E880",
           "#FF97FF",
           "#FECB52"
          ],
          "font": {
           "color": "#2a3f5f"
          },
          "geo": {
           "bgcolor": "white",
           "lakecolor": "white",
           "landcolor": "#E5ECF6",
           "showlakes": true,
           "showland": true,
           "subunitcolor": "white"
          },
          "hoverlabel": {
           "align": "left"
          },
          "hovermode": "closest",
          "mapbox": {
           "style": "light"
          },
          "paper_bgcolor": "white",
          "plot_bgcolor": "#E5ECF6",
          "polar": {
           "angularaxis": {
            "gridcolor": "white",
            "linecolor": "white",
            "ticks": ""
           },
           "bgcolor": "#E5ECF6",
           "radialaxis": {
            "gridcolor": "white",
            "linecolor": "white",
            "ticks": ""
           }
          },
          "scene": {
           "xaxis": {
            "backgroundcolor": "#E5ECF6",
            "gridcolor": "white",
            "gridwidth": 2,
            "linecolor": "white",
            "showbackground": true,
            "ticks": "",
            "zerolinecolor": "white"
           },
           "yaxis": {
            "backgroundcolor": "#E5ECF6",
            "gridcolor": "white",
            "gridwidth": 2,
            "linecolor": "white",
            "showbackground": true,
            "ticks": "",
            "zerolinecolor": "white"
           },
           "zaxis": {
            "backgroundcolor": "#E5ECF6",
            "gridcolor": "white",
            "gridwidth": 2,
            "linecolor": "white",
            "showbackground": true,
            "ticks": "",
            "zerolinecolor": "white"
           }
          },
          "shapedefaults": {
           "line": {
            "color": "#2a3f5f"
           }
          },
          "ternary": {
           "aaxis": {
            "gridcolor": "white",
            "linecolor": "white",
            "ticks": ""
           },
           "baxis": {
            "gridcolor": "white",
            "linecolor": "white",
            "ticks": ""
           },
           "bgcolor": "#E5ECF6",
           "caxis": {
            "gridcolor": "white",
            "linecolor": "white",
            "ticks": ""
           }
          },
          "title": {
           "x": 0.05
          },
          "xaxis": {
           "automargin": true,
           "gridcolor": "white",
           "linecolor": "white",
           "ticks": "",
           "title": {
            "standoff": 15
           },
           "zerolinecolor": "white",
           "zerolinewidth": 2
          },
          "yaxis": {
           "automargin": true,
           "gridcolor": "white",
           "linecolor": "white",
           "ticks": "",
           "title": {
            "standoff": 15
           },
           "zerolinecolor": "white",
           "zerolinewidth": 2
          }
         }
        },
        "xaxis": {
         "anchor": "y",
         "constrain": "domain",
         "domain": [
          0,
          1
         ],
         "scaleanchor": "y"
        },
        "yaxis": {
         "anchor": "x",
         "autorange": "reversed",
         "constrain": "domain",
         "domain": [
          0,
          1
         ]
        }
       }
      }
     },
     "metadata": {},
     "output_type": "display_data"
    }
   ],
   "source": [
    "classification_models = pd.DataFrame(classification_models)\n",
    "scores = classification_models.loc[[\"precision\", \"recall\", \"f1\"]]\n",
    "px.imshow(scores)"
   ]
  },
  {
   "cell_type": "markdown",
   "metadata": {},
   "source": [
    "#### Interopreting the models\n",
    "\n",
    "##### Explaining Linear Regression\n",
    "\n",
    "The method for finding optimal coefficients in linear regression, called Ordinary Least Squares (OLS), is well-studied and understood. Additionally, you can extract confidence intervals for each coefficient. The model's validity relies on several assumptions: linearity, normality, independence, lack of multicollinearity, and homoscedasticity.\n",
    "\n",
    "- **Normality**: Each feature should be normally distributed. This can be tested with a Q-Q plot, histogram, or Kolmogorov-Smirnov test. Non-normality can be corrected with non-linear transformations.\n",
    "- **Independence**: Observations (rows) should be independent, like unrelated events. This can be tested by checking for duplicate entries.\n",
    "- **Lack of Multicollinearity**: Features should not be highly correlated with each other. This can be tested using a correlation matrix, tolerance measure, or Variance Inflation Factor (VIF) and addressed by removing correlated features.\n",
    "- **Homoscedasticity**: Residuals should have constant variance across the regression line. This can be tested with the Goldfeld-Quandt test, and heteroscedasticity can be corrected with non-linear transformations."
   ]
  },
  {
   "cell_type": "code",
   "execution_count": 127,
   "metadata": {},
   "outputs": [
    {
     "name": "stdout",
     "output_type": "stream",
     "text": [
      "Intercept: 11.233016550175398\n",
      "Feature Importance:\n",
      "                Feature  Importance\n",
      "5              DISTANCE   15.322462\n",
      "10             DEST_HUB    3.636879\n",
      "9            ORIGIN_HUB    3.459474\n",
      "4              AIR_TIME    2.803691\n",
      "3   ACTUAL_ELAPSED_TIME    2.183938\n",
      "7                FL_MON    0.577681\n",
      "8                FL_DOW   -0.842881\n",
      "1               TAXI_IN   -1.666783\n",
      "6     llm_delay_minutes   -1.751223\n",
      "0              TAXI_OUT   -2.583808\n",
      "2      CRS_ELAPSED_TIME  -11.981248\n"
     ]
    }
   ],
   "source": [
    "# Get the linear regression model\n",
    "linear_regression = regression_models[\"linear\"][\"model\"]\n",
    "\n",
    "# Calculate feature importance\n",
    "feature_importance = np.std(X_train, 0) * linear_regression.coef_\n",
    "\n",
    "# Create a DataFrame to display feature importance\n",
    "feature_importance_df = pd.DataFrame({\n",
    "    'Feature': df.drop(columns=[target]).columns,\n",
    "    'Importance': feature_importance\n",
    "}).sort_values(by='Importance', ascending=False)\n",
    "\n",
    "print(\"Intercept:\", linear_regression.intercept_)\n",
    "print(\"Feature Importance:\")\n",
    "print(feature_importance_df)"
   ]
  },
  {
   "cell_type": "markdown",
   "metadata": {},
   "source": [
    "Coefficients in a regression model act as weights, influencing the prediction of the target variable. Beyond their numerical value, coefficients also convey a narrative about the impact of different features on the outcome. However, this narrative can vary based on the nature of the features being considered."
   ]
  },
  {
   "cell_type": "markdown",
   "metadata": {},
   "source": [
    "Better Linear Regression\n",
    "\n",
    "**Feature Importance**\n",
    "\n",
    "Utilizing coefficients, we can determine the importance of features in a regression model. However, scikit-learn's linear regressor lacks the capability to output the standard error of coefficients, hindering feature ranking. To overcome this, we calculate the t-statistic by dividing coefficients by their corresponding standard errors. This t-statistic enables us to rank features based on their importance."
   ]
  },
  {
   "cell_type": "code",
   "execution_count": 123,
   "metadata": {},
   "outputs": [],
   "source": [
    "from statsmodels.regression.linear_model import OLS"
   ]
  },
  {
   "cell_type": "code",
   "execution_count": 128,
   "metadata": {},
   "outputs": [
    {
     "name": "stdout",
     "output_type": "stream",
     "text": [
      "                            OLS Regression Results                            \n",
      "==============================================================================\n",
      "Dep. Variable:          CARRIER_DELAY   R-squared:                       0.370\n",
      "Model:                            OLS   Adj. R-squared:                  0.020\n",
      "Method:                 Least Squares   F-statistic:                     1.058\n",
      "Date:                Fri, 10 Jan 2025   Prob (F-statistic):              0.439\n",
      "Time:                        13:09:18   Log-Likelihood:                -114.99\n",
      "No. Observations:                  29   AIC:                             252.0\n",
      "Df Residuals:                      18   BIC:                             267.0\n",
      "Df Model:                          10                                         \n",
      "Covariance Type:            nonrobust                                         \n",
      "=======================================================================================\n",
      "                          coef    std err          t      P>|t|      [0.025      0.975]\n",
      "---------------------------------------------------------------------------------------\n",
      "const                  11.2330      3.143      3.574      0.002       4.629      17.837\n",
      "TAXI_OUT               -2.4740      4.608     -0.537      0.598     -12.155       7.207\n",
      "TAXI_IN                -1.5004      4.272     -0.351      0.730     -10.476       7.475\n",
      "CRS_ELAPSED_TIME      -11.3454     27.331     -0.415      0.683     -68.765      46.074\n",
      "ACTUAL_ELAPSED_TIME     2.0770     10.190      0.204      0.841     -19.331      23.485\n",
      "AIR_TIME                2.6936     11.005      0.245      0.809     -20.427      25.815\n",
      "DISTANCE               14.5281     21.184      0.686      0.502     -29.978      59.034\n",
      "llm_delay_minutes      -1.6292      3.486     -0.467      0.646      -8.954       5.695\n",
      "FL_MON                  0.6309      3.890      0.162      0.873      -7.541       8.803\n",
      "FL_DOW                 -0.7871      3.726     -0.211      0.835      -8.614       7.040\n",
      "ORIGIN_HUB              3.5005      4.221      0.829      0.418      -5.367      12.368\n",
      "DEST_HUB                3.6800      4.253      0.865      0.398      -5.254      12.614\n",
      "==============================================================================\n",
      "Omnibus:                        3.895   Durbin-Watson:                   2.247\n",
      "Prob(Omnibus):                  0.143   Jarque-Bera (JB):                3.290\n",
      "Skew:                           0.818   Prob(JB):                        0.193\n",
      "Kurtosis:                       2.784   Cond. No.                     1.01e+16\n",
      "==============================================================================\n",
      "\n",
      "Notes:\n",
      "[1] Standard Errors assume that the covariance matrix of the errors is correctly specified.\n",
      "[2] The smallest eigenvalue is 1.33e-30. This might indicate that there are\n",
      "strong multicollinearity problems or that the design matrix is singular.\n"
     ]
    }
   ],
   "source": [
    "import statsmodels.api as sm\n",
    "\n",
    "# Add a constant to the model (intercept)\n",
    "X_train_ols = sm.add_constant(X_train)\n",
    "\n",
    "# Build and train the OLS model\n",
    "ols_model = sm.OLS(y_train, X_train_ols).fit()\n",
    "\n",
    "# Report all stats\n",
    "ols_summary = ols_model.summary(xname=['const'] + list(df.drop(columns=[target]).columns))\n",
    "print(ols_summary)"
   ]
  },
  {
   "cell_type": "markdown",
   "metadata": {},
   "source": [
    "##### Explaining Ridge Regression\n",
    "\n",
    "Ridge regression belongs to a group of penalized regression techniques, along with LASSO and ElasticNet. It penalizes coefficients using the L2 norm, reducing the impact of irrelevant features and promoting sparsity in the model. This regularization helps filter out noise, leading to lower variance and better generalization performance by simplifying the model's complexity."
   ]
  },
  {
   "cell_type": "code",
   "execution_count": 129,
   "metadata": {},
   "outputs": [
    {
     "name": "stdout",
     "output_type": "stream",
     "text": [
      "Ridge Regression Intercept: 11.374448870870673\n",
      "Ridge Regression Feature Importance:\n",
      "                Feature  Importance\n",
      "9            ORIGIN_HUB    2.580153\n",
      "5              DISTANCE    2.555639\n",
      "4              AIR_TIME    1.841330\n",
      "2      CRS_ELAPSED_TIME    1.698686\n",
      "10             DEST_HUB    1.664860\n",
      "3   ACTUAL_ELAPSED_TIME    1.400784\n",
      "7                FL_MON    0.311926\n",
      "8                FL_DOW   -0.597783\n",
      "1               TAXI_IN   -0.903565\n",
      "6     llm_delay_minutes   -1.749460\n",
      "0              TAXI_OUT   -1.986194\n"
     ]
    }
   ],
   "source": [
    "ridge_regression = regression_models[\"ridge\"][\"model\"]\n",
    "ridge_feature_importance = np.std(X_train, 0) * ridge_regression.coef_\n",
    "\n",
    "ridge_feature_importance_df = pd.DataFrame({\n",
    "    'Feature': df.drop(columns=[target]).columns,\n",
    "    'Importance': ridge_feature_importance\n",
    "}).sort_values(by='Importance', ascending=False)\n",
    "\n",
    "print(\"Ridge Regression Intercept:\", ridge_regression.intercept_)\n",
    "print(\"Ridge Regression Feature Importance:\")\n",
    "print(ridge_feature_importance_df)"
   ]
  },
  {
   "cell_type": "markdown",
   "metadata": {},
   "source": [
    "##### Explaining Logistic Regression"
   ]
  },
  {
   "cell_type": "code",
   "execution_count": 130,
   "metadata": {},
   "outputs": [
    {
     "name": "stdout",
     "output_type": "stream",
     "text": [
      "Logistic Regression Intercept: [-1.11876495]\n",
      "Logistic Regression Feature Importance:\n",
      "                Feature  Importance\n",
      "2      CRS_ELAPSED_TIME    0.386948\n",
      "4              AIR_TIME    0.292042\n",
      "8                FL_DOW    0.261601\n",
      "5              DISTANCE    0.260896\n",
      "3   ACTUAL_ELAPSED_TIME    0.203289\n",
      "7                FL_MON    0.156273\n",
      "10             DEST_HUB   -0.056767\n",
      "9            ORIGIN_HUB   -0.117893\n",
      "6     llm_delay_minutes   -0.254204\n",
      "0              TAXI_OUT   -0.311820\n",
      "1               TAXI_IN   -0.392927\n"
     ]
    }
   ],
   "source": [
    "logistic_regression = classification_models[\"logistic\"][\"model\"]\n",
    "logistic_feature_importance = np.std(X_train, 0) * logistic_regression.coef_[0]\n",
    "\n",
    "logistic_feature_importance_df = pd.DataFrame({\n",
    "    'Feature': df.drop(columns=[target]).columns,\n",
    "    'Importance': logistic_feature_importance\n",
    "}).sort_values(by='Importance', ascending=False)\n",
    "\n",
    "print(\"Logistic Regression Intercept:\", logistic_regression.intercept_)\n",
    "print(\"Logistic Regression Feature Importance:\")\n",
    "print(logistic_feature_importance_df)"
   ]
  },
  {
   "cell_type": "markdown",
   "metadata": {},
   "source": [
    "##### Explaining with KNN\n",
    "\n",
    "KNN makes predictions by utilizing examples from the training dataset with highest similarity to input data and averaging their target values.\\ This implies that for examples with highest dissimilarity to training distribution KNN will produce predictions with highest error.\\ Therefore by predicting targets on training dataset and analyzing distances to nearest neighbors we can detect anomalies in our data."
   ]
  },
  {
   "cell_type": "code",
   "execution_count": 133,
   "metadata": {},
   "outputs": [
    {
     "data": {
      "image/png": "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",
      "text/plain": [
       "<Figure size 1000x600 with 1 Axes>"
      ]
     },
     "metadata": {},
     "output_type": "display_data"
    }
   ],
   "source": [
    "# 1. Use knn_model.kneighbors(X_train) to get distances and indexes of nearest neighbors\n",
    "knn_model = classification_models[\"knn\"][\"model\"]\n",
    "distances, indices = knn_model.kneighbors(X_train)\n",
    "\n",
    "# Calculate example-wise average neighbor distance\n",
    "distances_mean = distances.mean(axis=1)\n",
    "\n",
    "# Plot example-wise average neighbor distance to visualize anomalies\n",
    "plt.figure(figsize=(10, 6))\n",
    "plt.plot(distances_mean, marker='o', linestyle='none')\n",
    "plt.title('Example-wise Average Neighbor Distance')\n",
    "plt.xlabel('Example Index')\n",
    "plt.ylabel('Average Neighbor Distance')\n",
    "plt.show()"
   ]
  },
  {
   "cell_type": "code",
   "execution_count": 134,
   "metadata": {},
   "outputs": [],
   "source": [
    "# Calculate anomaly threshold using mu + 3*sigma rule\n",
    "mu = distances_mean.mean()\n",
    "sigma = distances_mean.std()\n",
    "thr = mu + 3 * sigma\n",
    "\n",
    "# Get the indices for anomalous examples in X_train\n",
    "anomaly_indices = np.where(distances_mean > thr)[0]"
   ]
  },
  {
   "cell_type": "code",
   "execution_count": null,
   "metadata": {
    "vscode": {
     "languageId": "r"
    }
   },
   "outputs": [],
   "source": [
    "# Select data for anomalies\n",
    "anomalies = pd.DataFrame(X_train[anomaly_indices], columns=df.drop(columns=[target]).columns)\n",
    "\n",
    "# Plot histograms for each feature of these anomalies\n",
    "anomalies.hist(bins=30, figsize=(15, 10))\n",
    "plt.suptitle('Histograms of Anomalous Examples')\n",
    "plt.show()"
   ]
  },
  {
   "cell_type": "markdown",
   "metadata": {},
   "source": [
    "##### Explaining decision trees\n",
    "\n",
    "Decision trees have a long history of use, even before being formalized into algorithms. They are easy to understand, making them highly interpretable in their simplest form. However, in practice, many types of decision trees exist, and they can become less interpretable due to the use of ensemble methods (like boosting, bagging, and stacking) or techniques like PCA. Even standalone decision trees can become complex as they grow deeper. Despite their complexity, decision trees always provide valuable insights into your data and predictions, and they can be used for both regression and classification tasks."
   ]
  },
  {
   "cell_type": "markdown",
   "metadata": {},
   "source": [
    "Interpreting decision trees can be challenging, especially as they become deeper and more complex. While visual representations are helpful, they too can become cluttered and difficult to follow as the tree expands."
   ]
<<<<<<< HEAD
  },
  {
   "cell_type": "markdown",
   "metadata": {},
   "source": [
    "##### Explaining Naive Bayes\n",
    "\n",
    "<iframe src=\"https://www.kaggle.com/embed/ruslankasimov/ai-course-task-4-students?cellIds=137&hide=output&kernelSessionId=202483457\" height=\"300\" style=\"margin: 0 auto; width: 100%; max-width: 950px;\" frameborder=\"0\" scrolling=\"auto\" title=\"AI Course: Task 4 (students)\"></iframe>"
   ]
  },
  {
   "cell_type": "markdown",
   "metadata": {},
   "source": [
    "<iframe src=\"https://www.kaggle.com/embed/ruslankasimov/ai-course-task-4-students?cellIds=138&kernelSessionId=202483457\" height=\"300\" style=\"margin: 0 auto; width: 100%; max-width: 950px;\" frameborder=\"0\" scrolling=\"auto\" title=\"AI Course: Task 4 (students)\"></iframe>"
   ]
  },
  {
   "cell_type": "code",
   "execution_count": 136,
   "metadata": {},
   "outputs": [
    {
     "name": "stdout",
     "output_type": "stream",
     "text": [
      "[[ 0.12227903  0.12079435 -0.29439549 -0.25121886 -0.29032936 -0.26476201\n",
      "   0.22499855 -0.09625516 -0.07976903  0.0498055  -0.0498055 ]\n",
      " [-0.13590251 -0.10883008  0.86079043  0.76886094  0.82560515  0.8665248\n",
      "  -0.14679517 -0.1263349   0.17035421  0.06192921 -0.06192921]]\n"
     ]
    }
   ],
   "source": [
    "naive_model = classification_models[\"naive_bayes\"][\"model\"]\n",
    "print(naive_model.theta_)"
   ]
  },
  {
   "cell_type": "markdown",
   "metadata": {},
   "source": []
  },
  {
   "cell_type": "code",
   "execution_count": 137,
   "metadata": {},
   "outputs": [
    {
     "data": {
      "application/vnd.plotly.v1+json": {
       "config": {
        "plotlyServerURL": "https://plot.ly"
       },
       "data": [
        {
         "alignmentgroup": "True",
         "hovertemplate": "Feature=%{x}<br>Theta=%{y}<extra></extra>",
         "legendgroup": "",
         "marker": {
          "color": "#636efa",
          "pattern": {
           "shape": ""
          }
         },
         "name": "",
         "offsetgroup": "",
         "orientation": "v",
         "showlegend": false,
         "textposition": "auto",
         "type": "bar",
         "x": [
          "TAXI_OUT",
          "TAXI_IN",
          "CRS_ELAPSED_TIME",
          "ACTUAL_ELAPSED_TIME",
          "AIR_TIME",
          "DISTANCE",
          "llm_delay_minutes",
          "FL_MON",
          "FL_DOW",
          "ORIGIN_HUB",
          "DEST_HUB"
         ],
         "xaxis": "x",
         "y": [
          0.12227903157322896,
          0.12079435185929295,
          -0.29439548976231494,
          -0.25121886233669977,
          -0.29032936474796583,
          -0.2647620053276256,
          0.22499854723812546,
          -0.09625515942295121,
          -0.07976903396526167,
          0.04980550366047811,
          -0.04980550366047828
         ],
         "yaxis": "y"
        }
       ],
       "layout": {
        "barmode": "relative",
        "legend": {
         "tracegroupgap": 0
        },
        "template": {
         "data": {
          "bar": [
           {
            "error_x": {
             "color": "#2a3f5f"
            },
            "error_y": {
             "color": "#2a3f5f"
            },
            "marker": {
             "line": {
              "color": "#E5ECF6",
              "width": 0.5
             },
             "pattern": {
              "fillmode": "overlay",
              "size": 10,
              "solidity": 0.2
             }
            },
            "type": "bar"
           }
          ],
          "barpolar": [
           {
            "marker": {
             "line": {
              "color": "#E5ECF6",
              "width": 0.5
             },
             "pattern": {
              "fillmode": "overlay",
              "size": 10,
              "solidity": 0.2
             }
            },
            "type": "barpolar"
           }
          ],
          "carpet": [
           {
            "aaxis": {
             "endlinecolor": "#2a3f5f",
             "gridcolor": "white",
             "linecolor": "white",
             "minorgridcolor": "white",
             "startlinecolor": "#2a3f5f"
            },
            "baxis": {
             "endlinecolor": "#2a3f5f",
             "gridcolor": "white",
             "linecolor": "white",
             "minorgridcolor": "white",
             "startlinecolor": "#2a3f5f"
            },
            "type": "carpet"
           }
          ],
          "choropleth": [
           {
            "colorbar": {
             "outlinewidth": 0,
             "ticks": ""
            },
            "type": "choropleth"
           }
          ],
          "contour": [
           {
            "colorbar": {
             "outlinewidth": 0,
             "ticks": ""
            },
            "colorscale": [
             [
              0,
              "#0d0887"
             ],
             [
              0.1111111111111111,
              "#46039f"
             ],
             [
              0.2222222222222222,
              "#7201a8"
             ],
             [
              0.3333333333333333,
              "#9c179e"
             ],
             [
              0.4444444444444444,
              "#bd3786"
             ],
             [
              0.5555555555555556,
              "#d8576b"
             ],
             [
              0.6666666666666666,
              "#ed7953"
             ],
             [
              0.7777777777777778,
              "#fb9f3a"
             ],
             [
              0.8888888888888888,
              "#fdca26"
             ],
             [
              1,
              "#f0f921"
             ]
            ],
            "type": "contour"
           }
          ],
          "contourcarpet": [
           {
            "colorbar": {
             "outlinewidth": 0,
             "ticks": ""
            },
            "type": "contourcarpet"
           }
          ],
          "heatmap": [
           {
            "colorbar": {
             "outlinewidth": 0,
             "ticks": ""
            },
            "colorscale": [
             [
              0,
              "#0d0887"
             ],
             [
              0.1111111111111111,
              "#46039f"
             ],
             [
              0.2222222222222222,
              "#7201a8"
             ],
             [
              0.3333333333333333,
              "#9c179e"
             ],
             [
              0.4444444444444444,
              "#bd3786"
             ],
             [
              0.5555555555555556,
              "#d8576b"
             ],
             [
              0.6666666666666666,
              "#ed7953"
             ],
             [
              0.7777777777777778,
              "#fb9f3a"
             ],
             [
              0.8888888888888888,
              "#fdca26"
             ],
             [
              1,
              "#f0f921"
             ]
            ],
            "type": "heatmap"
           }
          ],
          "heatmapgl": [
           {
            "colorbar": {
             "outlinewidth": 0,
             "ticks": ""
            },
            "colorscale": [
             [
              0,
              "#0d0887"
             ],
             [
              0.1111111111111111,
              "#46039f"
             ],
             [
              0.2222222222222222,
              "#7201a8"
             ],
             [
              0.3333333333333333,
              "#9c179e"
             ],
             [
              0.4444444444444444,
              "#bd3786"
             ],
             [
              0.5555555555555556,
              "#d8576b"
             ],
             [
              0.6666666666666666,
              "#ed7953"
             ],
             [
              0.7777777777777778,
              "#fb9f3a"
             ],
             [
              0.8888888888888888,
              "#fdca26"
             ],
             [
              1,
              "#f0f921"
             ]
            ],
            "type": "heatmapgl"
           }
          ],
          "histogram": [
           {
            "marker": {
             "pattern": {
              "fillmode": "overlay",
              "size": 10,
              "solidity": 0.2
             }
            },
            "type": "histogram"
           }
          ],
          "histogram2d": [
           {
            "colorbar": {
             "outlinewidth": 0,
             "ticks": ""
            },
            "colorscale": [
             [
              0,
              "#0d0887"
             ],
             [
              0.1111111111111111,
              "#46039f"
             ],
             [
              0.2222222222222222,
              "#7201a8"
             ],
             [
              0.3333333333333333,
              "#9c179e"
             ],
             [
              0.4444444444444444,
              "#bd3786"
             ],
             [
              0.5555555555555556,
              "#d8576b"
             ],
             [
              0.6666666666666666,
              "#ed7953"
             ],
             [
              0.7777777777777778,
              "#fb9f3a"
             ],
             [
              0.8888888888888888,
              "#fdca26"
             ],
             [
              1,
              "#f0f921"
             ]
            ],
            "type": "histogram2d"
           }
          ],
          "histogram2dcontour": [
           {
            "colorbar": {
             "outlinewidth": 0,
             "ticks": ""
            },
            "colorscale": [
             [
              0,
              "#0d0887"
             ],
             [
              0.1111111111111111,
              "#46039f"
             ],
             [
              0.2222222222222222,
              "#7201a8"
             ],
             [
              0.3333333333333333,
              "#9c179e"
             ],
             [
              0.4444444444444444,
              "#bd3786"
             ],
             [
              0.5555555555555556,
              "#d8576b"
             ],
             [
              0.6666666666666666,
              "#ed7953"
             ],
             [
              0.7777777777777778,
              "#fb9f3a"
             ],
             [
              0.8888888888888888,
              "#fdca26"
             ],
             [
              1,
              "#f0f921"
             ]
            ],
            "type": "histogram2dcontour"
           }
          ],
          "mesh3d": [
           {
            "colorbar": {
             "outlinewidth": 0,
             "ticks": ""
            },
            "type": "mesh3d"
           }
          ],
          "parcoords": [
           {
            "line": {
             "colorbar": {
              "outlinewidth": 0,
              "ticks": ""
             }
            },
            "type": "parcoords"
           }
          ],
          "pie": [
           {
            "automargin": true,
            "type": "pie"
           }
          ],
          "scatter": [
           {
            "fillpattern": {
             "fillmode": "overlay",
             "size": 10,
             "solidity": 0.2
            },
            "type": "scatter"
           }
          ],
          "scatter3d": [
           {
            "line": {
             "colorbar": {
              "outlinewidth": 0,
              "ticks": ""
             }
            },
            "marker": {
             "colorbar": {
              "outlinewidth": 0,
              "ticks": ""
             }
            },
            "type": "scatter3d"
           }
          ],
          "scattercarpet": [
           {
            "marker": {
             "colorbar": {
              "outlinewidth": 0,
              "ticks": ""
             }
            },
            "type": "scattercarpet"
           }
          ],
          "scattergeo": [
           {
            "marker": {
             "colorbar": {
              "outlinewidth": 0,
              "ticks": ""
             }
            },
            "type": "scattergeo"
           }
          ],
          "scattergl": [
           {
            "marker": {
             "colorbar": {
              "outlinewidth": 0,
              "ticks": ""
             }
            },
            "type": "scattergl"
           }
          ],
          "scattermapbox": [
           {
            "marker": {
             "colorbar": {
              "outlinewidth": 0,
              "ticks": ""
             }
            },
            "type": "scattermapbox"
           }
          ],
          "scatterpolar": [
           {
            "marker": {
             "colorbar": {
              "outlinewidth": 0,
              "ticks": ""
             }
            },
            "type": "scatterpolar"
           }
          ],
          "scatterpolargl": [
           {
            "marker": {
             "colorbar": {
              "outlinewidth": 0,
              "ticks": ""
             }
            },
            "type": "scatterpolargl"
           }
          ],
          "scatterternary": [
           {
            "marker": {
             "colorbar": {
              "outlinewidth": 0,
              "ticks": ""
             }
            },
            "type": "scatterternary"
           }
          ],
          "surface": [
           {
            "colorbar": {
             "outlinewidth": 0,
             "ticks": ""
            },
            "colorscale": [
             [
              0,
              "#0d0887"
             ],
             [
              0.1111111111111111,
              "#46039f"
             ],
             [
              0.2222222222222222,
              "#7201a8"
             ],
             [
              0.3333333333333333,
              "#9c179e"
             ],
             [
              0.4444444444444444,
              "#bd3786"
             ],
             [
              0.5555555555555556,
              "#d8576b"
             ],
             [
              0.6666666666666666,
              "#ed7953"
             ],
             [
              0.7777777777777778,
              "#fb9f3a"
             ],
             [
              0.8888888888888888,
              "#fdca26"
             ],
             [
              1,
              "#f0f921"
             ]
            ],
            "type": "surface"
           }
          ],
          "table": [
           {
            "cells": {
             "fill": {
              "color": "#EBF0F8"
             },
             "line": {
              "color": "white"
             }
            },
            "header": {
             "fill": {
              "color": "#C8D4E3"
             },
             "line": {
              "color": "white"
             }
            },
            "type": "table"
           }
          ]
         },
         "layout": {
          "annotationdefaults": {
           "arrowcolor": "#2a3f5f",
           "arrowhead": 0,
           "arrowwidth": 1
          },
          "autotypenumbers": "strict",
          "coloraxis": {
           "colorbar": {
            "outlinewidth": 0,
            "ticks": ""
           }
          },
          "colorscale": {
           "diverging": [
            [
             0,
             "#8e0152"
            ],
            [
             0.1,
             "#c51b7d"
            ],
            [
             0.2,
             "#de77ae"
            ],
            [
             0.3,
             "#f1b6da"
            ],
            [
             0.4,
             "#fde0ef"
            ],
            [
             0.5,
             "#f7f7f7"
            ],
            [
             0.6,
             "#e6f5d0"
            ],
            [
             0.7,
             "#b8e186"
            ],
            [
             0.8,
             "#7fbc41"
            ],
            [
             0.9,
             "#4d9221"
            ],
            [
             1,
             "#276419"
            ]
           ],
           "sequential": [
            [
             0,
             "#0d0887"
            ],
            [
             0.1111111111111111,
             "#46039f"
            ],
            [
             0.2222222222222222,
             "#7201a8"
            ],
            [
             0.3333333333333333,
             "#9c179e"
            ],
            [
             0.4444444444444444,
             "#bd3786"
            ],
            [
             0.5555555555555556,
             "#d8576b"
            ],
            [
             0.6666666666666666,
             "#ed7953"
            ],
            [
             0.7777777777777778,
             "#fb9f3a"
            ],
            [
             0.8888888888888888,
             "#fdca26"
            ],
            [
             1,
             "#f0f921"
            ]
           ],
           "sequentialminus": [
            [
             0,
             "#0d0887"
            ],
            [
             0.1111111111111111,
             "#46039f"
            ],
            [
             0.2222222222222222,
             "#7201a8"
            ],
            [
             0.3333333333333333,
             "#9c179e"
            ],
            [
             0.4444444444444444,
             "#bd3786"
            ],
            [
             0.5555555555555556,
             "#d8576b"
            ],
            [
             0.6666666666666666,
             "#ed7953"
            ],
            [
             0.7777777777777778,
             "#fb9f3a"
            ],
            [
             0.8888888888888888,
             "#fdca26"
            ],
            [
             1,
             "#f0f921"
            ]
           ]
          },
          "colorway": [
           "#636efa",
           "#EF553B",
           "#00cc96",
           "#ab63fa",
           "#FFA15A",
           "#19d3f3",
           "#FF6692",
           "#B6E880",
           "#FF97FF",
           "#FECB52"
          ],
          "font": {
           "color": "#2a3f5f"
          },
          "geo": {
           "bgcolor": "white",
           "lakecolor": "white",
           "landcolor": "#E5ECF6",
           "showlakes": true,
           "showland": true,
           "subunitcolor": "white"
          },
          "hoverlabel": {
           "align": "left"
          },
          "hovermode": "closest",
          "mapbox": {
           "style": "light"
          },
          "paper_bgcolor": "white",
          "plot_bgcolor": "#E5ECF6",
          "polar": {
           "angularaxis": {
            "gridcolor": "white",
            "linecolor": "white",
            "ticks": ""
           },
           "bgcolor": "#E5ECF6",
           "radialaxis": {
            "gridcolor": "white",
            "linecolor": "white",
            "ticks": ""
           }
          },
          "scene": {
           "xaxis": {
            "backgroundcolor": "#E5ECF6",
            "gridcolor": "white",
            "gridwidth": 2,
            "linecolor": "white",
            "showbackground": true,
            "ticks": "",
            "zerolinecolor": "white"
           },
           "yaxis": {
            "backgroundcolor": "#E5ECF6",
            "gridcolor": "white",
            "gridwidth": 2,
            "linecolor": "white",
            "showbackground": true,
            "ticks": "",
            "zerolinecolor": "white"
           },
           "zaxis": {
            "backgroundcolor": "#E5ECF6",
            "gridcolor": "white",
            "gridwidth": 2,
            "linecolor": "white",
            "showbackground": true,
            "ticks": "",
            "zerolinecolor": "white"
           }
          },
          "shapedefaults": {
           "line": {
            "color": "#2a3f5f"
           }
          },
          "ternary": {
           "aaxis": {
            "gridcolor": "white",
            "linecolor": "white",
            "ticks": ""
           },
           "baxis": {
            "gridcolor": "white",
            "linecolor": "white",
            "ticks": ""
           },
           "bgcolor": "#E5ECF6",
           "caxis": {
            "gridcolor": "white",
            "linecolor": "white",
            "ticks": ""
           }
          },
          "title": {
           "x": 0.05
          },
          "xaxis": {
           "automargin": true,
           "gridcolor": "white",
           "linecolor": "white",
           "ticks": "",
           "title": {
            "standoff": 15
           },
           "zerolinecolor": "white",
           "zerolinewidth": 2
          },
          "yaxis": {
           "automargin": true,
           "gridcolor": "white",
           "linecolor": "white",
           "ticks": "",
           "title": {
            "standoff": 15
           },
           "zerolinecolor": "white",
           "zerolinewidth": 2
          }
         }
        },
        "title": {
         "text": "Naive Bayes Theta Values"
        },
        "xaxis": {
         "anchor": "y",
         "domain": [
          0,
          1
         ],
         "title": {
          "text": "Feature"
         }
        },
        "yaxis": {
         "anchor": "x",
         "domain": [
          0,
          1
         ],
         "title": {
          "text": "Theta"
         }
        }
       }
      }
     },
     "metadata": {},
     "output_type": "display_data"
    }
   ],
   "source": [
    "# Create a DataFrame for the theta values\n",
    "theta_df = pd.DataFrame({\n",
    "    'Feature': df.drop(columns=[target]).columns,\n",
    "    'Theta': naive_model.theta_[0]\n",
    "})\n",
    "\n",
    "# Create a bar plot\n",
    "fig = px.bar(theta_df, x='Feature', y='Theta', title='Naive Bayes Theta Values')\n",
    "fig.show()"
   ]
=======
>>>>>>> 2c06da6 (What I've managed to do so far)
  }
 ],
 "metadata": {
  "kernelspec": {
   "display_name": "venv",
   "language": "python",
   "name": "python3"
  },
  "language_info": {
   "codemirror_mode": {
    "name": "ipython",
    "version": 3
   },
   "file_extension": ".py",
   "mimetype": "text/x-python",
   "name": "python",
   "nbconvert_exporter": "python",
   "pygments_lexer": "ipython3",
   "version": "3.12.2"
  }
 },
 "nbformat": 4,
 "nbformat_minor": 2
}
